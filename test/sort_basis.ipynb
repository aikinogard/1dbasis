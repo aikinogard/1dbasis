{
 "cells": [
  {
   "cell_type": "code",
   "execution_count": 1,
   "metadata": {
    "collapsed": true
   },
   "outputs": [],
   "source": [
    "import numpy as np\n",
    "import matplotlib.pyplot as plt\n",
    "from basis1d.findbasis import findbasis\n",
    "from basis1d.tools import sym_xg, sym_uniform_atoms_x\n",
    "%matplotlib inline"
   ]
  },
  {
   "cell_type": "code",
   "execution_count": 2,
   "metadata": {
    "collapsed": true
   },
   "outputs": [],
   "source": [
    "n_lib = []\n",
    "xg_lib = []\n",
    "atoms_x_lib = []\n",
    "atoms_Z_lib = []\n",
    "\n",
    "nh = 2\n",
    "dx = 0.05\n",
    "n_nh = np.loadtxt('H%d/n.txt' % nh).tolist()\n",
    "Nt = len(n_nh)\n",
    "n_lib.extend(n_nh)\n",
    "atoms_Z_nh = [[1]*nh for i in range(Nt)]\n",
    "atoms_Z_lib.extend(atoms_Z_nh)\n",
    "Para_nh = np.loadtxt('H%d/Para.txt' % nh)\n",
    "for i in range(Nt):\n",
    "    xg_i = sym_xg(dx, len(n_nh[i]))\n",
    "    xg_lib.append(xg_i.tolist())\n",
    "    atoms_x_lib.append(sym_uniform_atoms_x(xg_i, Para_nh[i], nh).tolist())\n",
    "\n",
    "nh = 4\n",
    "dx = 0.05\n",
    "n_nh = np.loadtxt('H%d/n.txt' % nh).tolist()\n",
    "Nt = len(n_nh)\n",
    "n_lib.extend(n_nh)\n",
    "atoms_Z_nh = [[1]*nh for i in range(Nt)]\n",
    "atoms_Z_lib.extend(atoms_Z_nh)\n",
    "Para_nh = np.loadtxt('H%d/Para.txt' % nh)\n",
    "for i in range(Nt):\n",
    "    xg_i = sym_xg(dx, len(n_nh[i]))\n",
    "    xg_lib.append(xg_i.tolist())\n",
    "    atoms_x_lib.append(sym_uniform_atoms_x(xg_i, Para_nh[i], nh).tolist())\n",
    "    \n",
    "nh = 8\n",
    "dx = 0.05\n",
    "n_nh = np.loadtxt('H%d/n.txt' % nh).tolist()\n",
    "Nt = len(n_nh)\n",
    "n_lib.extend(n_nh)\n",
    "atoms_Z_nh = [[1]*nh for i in range(Nt)]\n",
    "atoms_Z_lib.extend(atoms_Z_nh)\n",
    "Para_nh = np.loadtxt('H%d/Para.txt' % nh)\n",
    "for i in range(Nt):\n",
    "    xg_i = sym_xg(dx, len(n_nh[i]))\n",
    "    xg_lib.append(xg_i.tolist())\n",
    "    atoms_x_lib.append(sym_uniform_atoms_x(xg_i, Para_nh[i], nh).tolist())"
   ]
  },
  {
   "cell_type": "markdown",
   "metadata": {},
   "source": [
    "# sort basis by its importance to reduce the fitting error on H data set"
   ]
  },
  {
   "cell_type": "code",
   "execution_count": 3,
   "metadata": {
    "collapsed": true
   },
   "outputs": [],
   "source": [
    "basis_data = \\\n",
    "{1: [('s',\n",
    "   [(2.0, 0.06462908245839719),\n",
    "    (0.8, 0.4066825517248162),\n",
    "    (0.32, 0.5468171685012185)]),\n",
    "  ('s', [(0.3306625913279761, 1.0)]),\n",
    "  ('p', [(0.85113803820237643, 1.0)]),\n",
    "  ('p', [(0.39869097578953416, 1.0)]),\n",
    "  ('p', [(0.18675524655404496, 1.0)]),\n",
    "  ('d', [(3.5696988468260646, 1.0)]),\n",
    "  ('d', [(0.69515188069770728, 1.0)]),\n",
    "  ('d', [(0.13537168203060615, 1.0)]),\n",
    "  ('f', [(0.12689610031679222, 1.0)]),\n",
    "  ('s', [(14.384498882876629, 1.0)]),\n",
    "  ('s', [(0.15535037771498966, 1.0)])]}\n",
    "\n",
    "fb = findbasis(n_lib, xg_lib, atoms_x_lib, atoms_Z_lib, basis_data, verbose=True)"
   ]
  },
  {
   "cell_type": "code",
   "execution_count": 4,
   "metadata": {
    "collapsed": false
   },
   "outputs": [
    {
     "name": "stdout",
     "output_type": "stream",
     "text": [
      "primary shell is ('s', [(2.0, 0.06462908245839719), (0.8, 0.4066825517248162), (0.32, 0.5468171685012185)])\n",
      "MAE=0.1693296605\n",
      "sorting shell...#1\n",
      "trying...shell #0 #1 #2 #3 #4 #5 #6 #7 #8 #9 done!\n",
      "best shell is ('p', [(0.8511380382023764, 1.0)])\n",
      "MAE=0.0745888182\n",
      "sorting shell...#2\n",
      "trying...shell #0 #1 #2 #3 #4 #5 #6 #7 #8 done!\n",
      "best shell is ('s', [(0.15535037771498966, 1.0)])\n",
      "MAE=0.0348649777\n",
      "sorting shell...#3\n",
      "trying...shell #0 #1 #2 #3 #4 #5 #6 #7 done!\n",
      "best shell is ('p', [(0.18675524655404496, 1.0)])\n",
      "MAE=0.0167513858\n",
      "sorting shell...#4\n",
      "trying...shell #0 #1 #2 #3 #4 #5 #6 done!\n",
      "best shell is ('d', [(3.5696988468260646, 1.0)])\n",
      "MAE=0.0106712228\n",
      "sorting shell...#5\n",
      "trying...shell #0 #1 #2 #3 #4 #5 done!\n",
      "best shell is ('d', [(0.13537168203060615, 1.0)])\n",
      "MAE=0.0084362498\n",
      "sorting shell...#6\n",
      "trying...shell #0 #1 #2 #3 #4 done!\n",
      "best shell is ('d', [(0.6951518806977073, 1.0)])\n",
      "MAE=0.0036870539\n",
      "sorting shell...#7\n",
      "trying...shell #0 #1 #2 #3 done!\n",
      "best shell is ('s', [(0.3306625913279761, 1.0)])\n",
      "MAE=0.0024932129\n",
      "sorting shell...#8\n",
      "trying...shell #0 #1 #2 done!\n",
      "best shell is ('p', [(0.39869097578953416, 1.0)])\n",
      "MAE=0.0017207445\n",
      "sorting shell...#9\n",
      "trying...shell #0 #1 done!\n",
      "best shell is ('s', [(14.38449888287663, 1.0)])\n",
      "MAE=0.0007009045\n",
      "sorting shell...#10\n",
      "trying...shell #0 done!\n",
      "best shell is ('f', [(0.12689610031679222, 1.0)])\n",
      "MAE=0.0006321416\n",
      "sorted basis / fitting error:\n",
      "('s', [(2.0, 0.06462908245839719), (0.8, 0.4066825517248162), (0.32, 0.5468171685012185)]) / 0.1693296605 / 0.0000000000%\n",
      "('p', [(0.8511380382023764, 1.0)]) / 0.0745888182 / 56.1601871265%\n",
      "('s', [(0.15535037771498966, 1.0)]) / 0.0348649777 / 79.7075639560%\n",
      "('p', [(0.18675524655404496, 1.0)]) / 0.0167513858 / 90.4448836885%\n",
      "('d', [(3.5696988468260646, 1.0)]) / 0.0106712228 / 94.0490641199%\n",
      "('d', [(0.13537168203060615, 1.0)]) / 0.0084362498 / 95.3739046029%\n",
      "('d', [(0.6951518806977073, 1.0)]) / 0.0036870539 / 98.1891184386%\n",
      "('s', [(0.3306625913279761, 1.0)]) / 0.0024932129 / 98.8967998563%\n",
      "('p', [(0.39869097578953416, 1.0)]) / 0.0017207445 / 99.3547012793%\n",
      "('s', [(14.38449888287663, 1.0)]) / 0.0007009045 / 99.9592389436%\n",
      "('f', [(0.12689610031679222, 1.0)]) / 0.0006321416 / 100.0000000000%\n"
     ]
    },
    {
     "data": {
      "image/png": "[encoded data removed]",
      "text/plain": [
       "<matplotlib.figure.Figure at 0x109cdab50>"
      ]
     },
     "metadata": {},
     "output_type": "display_data"
    }
   ],
   "source": [
    "sort_basis = fb.basis_tier(Z=1, primary_shell=('s',\n",
    "                                               [(2.0, 0.06462908245839719),\n",
    "                                                (0.8, 0.4066825517248162),\n",
    "                                                (0.32, 0.5468171685012185)]), showerr=True)"
   ]
  },
  {
   "cell_type": "markdown",
   "metadata": {
    "collapsed": true
   },
   "source": [
    "# By the performance shown above, the basis can be make into follow tiers"
   ]
  },
  {
   "cell_type": "markdown",
   "metadata": {},
   "source": [
    "* Tier one\n",
    "\n",
    "Based on the exact solution of single H atom"
   ]
  },
  {
   "cell_type": "code",
   "execution_count": 9,
   "metadata": {
    "collapsed": false
   },
   "outputs": [
    {
     "name": "stdout",
     "output_type": "stream",
     "text": [
      "{1: ('s', [(2.0, 0.06462908245839719), (0.8, 0.4066825517248162), (0.32, 0.5468171685012185)])}\n"
     ]
    }
   ],
   "source": [
    "exp1dT1 = {1: sort_basis[0]}\n",
    "print exp1dT1"
   ]
  },
  {
   "cell_type": "markdown",
   "metadata": {},
   "source": [
    "* Tier two\n",
    "\n",
    "Reduce 56% error on H chain data set by adding one p shell "
   ]
  },
  {
   "cell_type": "code",
   "execution_count": 10,
   "metadata": {
    "collapsed": false
   },
   "outputs": [
    {
     "name": "stdout",
     "output_type": "stream",
     "text": [
      "{1: [('s', [(2.0, 0.06462908245839719), (0.8, 0.4066825517248162), (0.32, 0.5468171685012185)]), ('p', [(0.8511380382023764, 1.0)])]}\n"
     ]
    }
   ],
   "source": [
    "exp1dT2 = {1: sort_basis[:2]}\n",
    "print exp1dT2"
   ]
  },
  {
   "cell_type": "markdown",
   "metadata": {},
   "source": [
    "* Tier three\n",
    "\n",
    "adding one s shell, one p shell and 3 d shells reduce 98.2% error comparing to Tier one"
   ]
  },
  {
   "cell_type": "code",
   "execution_count": 11,
   "metadata": {
    "collapsed": false
   },
   "outputs": [
    {
     "name": "stdout",
     "output_type": "stream",
     "text": [
      "{1: [('s', [(2.0, 0.06462908245839719), (0.8, 0.4066825517248162), (0.32, 0.5468171685012185)]), ('p', [(0.8511380382023764, 1.0)]), ('s', [(0.15535037771498966, 1.0)]), ('p', [(0.18675524655404496, 1.0)]), ('d', [(3.5696988468260646, 1.0)]), ('d', [(0.13537168203060615, 1.0)]), ('d', [(0.6951518806977073, 1.0)])]}\n"
     ]
    }
   ],
   "source": [
    "exp1dT3 = {1: sort_basis[:7]}\n",
    "print exp1dT3"
   ]
  },
  {
   "cell_type": "markdown",
   "metadata": {},
   "source": [
    "* Tier four\n",
    "\n",
    "adding all shells"
   ]
  },
  {
   "cell_type": "code",
   "execution_count": 12,
   "metadata": {
    "collapsed": false
   },
   "outputs": [
    {
     "name": "stdout",
     "output_type": "stream",
     "text": [
      "{1: [('s', [(2.0, 0.06462908245839719), (0.8, 0.4066825517248162), (0.32, 0.5468171685012185)]), ('p', [(0.8511380382023764, 1.0)]), ('s', [(0.15535037771498966, 1.0)]), ('p', [(0.18675524655404496, 1.0)]), ('d', [(3.5696988468260646, 1.0)]), ('d', [(0.13537168203060615, 1.0)]), ('d', [(0.6951518806977073, 1.0)]), ('s', [(0.3306625913279761, 1.0)]), ('p', [(0.39869097578953416, 1.0)]), ('s', [(14.38449888287663, 1.0)]), ('f', [(0.12689610031679222, 1.0)])]}\n"
     ]
    }
   ],
   "source": [
    "exp1dT4 = {1: sort_basis}\n",
    "print exp1dT4"
   ]
  },
  {
   "cell_type": "code",
   "execution_count": null,
   "metadata": {
    "collapsed": true
   },
   "outputs": [],
   "source": []
  }
 ],
 "metadata": {
  "kernelspec": {
   "display_name": "Python 2",
   "language": "python",
   "name": "python2"
  },
  "language_info": {
   "codemirror_mode": {
    "name": "ipython",
    "version": 2
   },
   "file_extension": ".py",
   "mimetype": "text/x-python",
   "name": "python",
   "nbconvert_exporter": "python",
   "pygments_lexer": "ipython2",
   "version": "2.7.4"
  }
 },
 "nbformat": 4,
 "nbformat_minor": 0
}
