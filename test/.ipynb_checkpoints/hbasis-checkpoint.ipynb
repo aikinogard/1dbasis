{
 "metadata": {
  "name": "",
  "signature": "sha256:b536f48b5210858ae3853813dd268970a5541dfe2664e97f06161d3f3edad154"
 },
 "nbformat": 3,
 "nbformat_minor": 0,
 "worksheets": [
  {
   "cells": [
    {
     "cell_type": "code",
     "collapsed": false,
     "input": [
      "from basis1d.findbasis import *\n",
      "%matplotlib inline"
     ],
     "language": "python",
     "metadata": {},
     "outputs": [],
     "prompt_number": 78
    },
    {
     "cell_type": "code",
     "collapsed": false,
     "input": [
      "def show_err():\n",
      "    print '\\n================='\n",
      "    print 'current basis data:'\n",
      "    print fb.basis_data\n",
      "    e=fb.error()\n",
      "    minerr.append(min(e))\n",
      "    maxerr.append(max(e))\n",
      "    maeerr.append(np.mean(np.abs(e)))\n",
      "    print 'min=%f'%minerr[-1]\n",
      "    print 'max=%f'%maxerr[-1]\n",
      "    print 'mae=%f'%maeerr[-1]\n",
      "    plt.plot(fb.T,e)\n",
      "    plt.xlabel('index')\n",
      "    plt.ylabel(r'$\\int \\Delta n^2 dx$')"
     ],
     "language": "python",
     "metadata": {},
     "outputs": [],
     "prompt_number": 79
    },
    {
     "cell_type": "code",
     "collapsed": false,
     "input": [
      "n_lib = np.loadtxt('H2/n.txt')\n",
      "Nt,Ng = n_lib.shape\n",
      "dx = 0.05\n",
      "Para = np.loadtxt('H2/Para.txt')\n",
      "mid = dx*(Ng-1)/2\n",
      "atom_x_lib = np.empty((Nt,2))\n",
      "atom_x_lib[:,0] = mid-Para/2\n",
      "atom_x_lib[:,1] = mid+Para/2\n",
      "atoms_Z = [1,1]\n",
      "basis_data = \\\n",
      "\t\t\t{1: [('s',\n",
      "\t\t\t\t\t[(2., 0.06462908245839719),\n",
      "\t\t\t\t\t (0.8, 0.4066825517248162),\n",
      "\t\t\t\t\t (0.32, 0.5468171685012185)])]\n",
      "\t\t\t}"
     ],
     "language": "python",
     "metadata": {},
     "outputs": [],
     "prompt_number": 80
    },
    {
     "cell_type": "markdown",
     "metadata": {},
     "source": [
      "#initialize class"
     ]
    },
    {
     "cell_type": "code",
     "collapsed": false,
     "input": [
      "fb = findbasis(n_lib,dx,atom_x_lib,atoms_Z,basis_data)\n",
      "minerr = []\n",
      "maxerr = []\n",
      "maeerr = []"
     ],
     "language": "python",
     "metadata": {},
     "outputs": [],
     "prompt_number": 81
    },
    {
     "cell_type": "markdown",
     "metadata": {},
     "source": [
      "#show current basis data and fitting mean absolute error"
     ]
    },
    {
     "cell_type": "code",
     "collapsed": false,
     "input": [
      "show_err()"
     ],
     "language": "python",
     "metadata": {},
     "outputs": [
      {
       "output_type": "stream",
       "stream": "stdout",
       "text": [
        "\n",
        "=================\n",
        "current basis data:\n",
        "{1: [('s', [(2.0, 0.06462908245839719), (0.8, 0.4066825517248162), (0.32, 0.5468171685012185)])]}\n",
        "min=0.000009"
       ]
      },
      {
       "output_type": "stream",
       "stream": "stdout",
       "text": [
        "\n",
        "max=0.011529\n",
        "mae=0.003040\n"
       ]
      },
      {
       "metadata": {},
       "output_type": "display_data",
       "png": "[encoded data removed]",
       "text": [
        "<matplotlib.figure.Figure at 0x102aee190>"
       ]
      }
     ],
     "prompt_number": 82
    },
    {
     "cell_type": "markdown",
     "metadata": {},
     "source": [
      "#add two p orbitals "
     ]
    },
    {
     "cell_type": "code",
     "collapsed": false,
     "input": [
      "fb.optimize_bf(Z=1,shell='p',alist=np.logspace(-1,1,10),blist=np.linspace(0.3,0.6,10),Nn=2,kfold=10,doadd=True)\n",
      "show_err()"
     ],
     "language": "python",
     "metadata": {},
     "outputs": [
      {
       "output_type": "stream",
       "stream": "stdout",
       "text": [
        "optimize basis function with even-tempered method with 10-fold cross validation\n",
        "add to basis data: True\n",
        "atomic index: 1\n",
        "shell: p\n",
        "list of a: [  0.1          0.16681005   0.27825594   0.46415888   0.77426368\n",
        "   1.29154967   2.15443469   3.59381366   5.9948425   10.        ]\n",
        "list of b: [ 0.3         0.33333333  0.36666667  0.4         0.43333333  0.46666667\n",
        "  0.5         0.53333333  0.56666667  0.6       ]\n",
        "number of new basis: 2\n",
        "\n",
        "\tvalidation set: [80 71  8 36 66  2 89 34 50 87]"
       ]
      },
      {
       "output_type": "stream",
       "stream": "stdout",
       "text": [
        "\n",
        "\toptimized a=1.291550\tb=0.333333\n",
        "\texpn:[1.2915496650148841, 0.43051655500496133]\n",
        "\n",
        "\tvalidation set: [52 68 46 64 11 43 82 95 45 58]"
       ]
      },
      {
       "output_type": "stream",
       "stream": "stdout",
       "text": [
        "\n",
        "\toptimized a=0.774264\tb=0.400000\n",
        "\texpn:[0.774263682681127, 0.30970547307245083]\n",
        "\n",
        "\tvalidation set: [ 1 78 35 17 88 81 99 18 23 32]"
       ]
      },
      {
       "output_type": "stream",
       "stream": "stdout",
       "text": [
        "\n",
        "\toptimized a=1.291550\tb=0.366667\n",
        "\texpn:[1.2915496650148841, 0.4735682105054575]\n",
        "\n",
        "\tvalidation set: [15 44 59 30 40 92  0 27 62 24]"
       ]
      },
      {
       "output_type": "stream",
       "stream": "stdout",
       "text": [
        "\n",
        "\toptimized a=1.291550\tb=0.433333\n",
        "\texpn:[1.2915496650148841, 0.55967152150644983]\n",
        "\n",
        "\tvalidation set: [28 70 51 91 76 12 93 61 90 97]"
       ]
      },
      {
       "output_type": "stream",
       "stream": "stdout",
       "text": [
        "\n",
        "\toptimized a=1.291550\tb=0.433333\n",
        "\texpn:[1.2915496650148841, 0.55967152150644983]\n",
        "\n",
        "\tvalidation set: [ 9  6 85 29 83 67 69 53 77 94]"
       ]
      },
      {
       "output_type": "stream",
       "stream": "stdout",
       "text": [
        "\n",
        "\toptimized a=1.291550\tb=0.366667\n",
        "\texpn:[1.2915496650148841, 0.4735682105054575]\n",
        "\n",
        "\tvalidation set: [41  5  7 21 31 49  4 56 54 13]"
       ]
      },
      {
       "output_type": "stream",
       "stream": "stdout",
       "text": [
        "\n",
        "\toptimized a=1.291550\tb=0.366667\n",
        "\texpn:[1.2915496650148841, 0.4735682105054575]\n",
        "\n",
        "\tvalidation set: [65 57 75 47 48 26 38 74 33 84]"
       ]
      },
      {
       "output_type": "stream",
       "stream": "stdout",
       "text": [
        "\n",
        "\toptimized a=0.464159\tb=0.600000\n",
        "\texpn:[0.46415888336127786, 0.27849533001676668]\n",
        "\n",
        "\tvalidation set: [10 79 22 20 19 63 42 16 14 72]"
       ]
      },
      {
       "output_type": "stream",
       "stream": "stdout",
       "text": [
        "\n",
        "\toptimized a=0.774264\tb=0.366667\n",
        "\texpn:[0.774263682681127, 0.28389668364974657]\n",
        "\n",
        "\tvalidation set: [ 3 73 96 86 98 55 37 39 25 60]"
       ]
      },
      {
       "output_type": "stream",
       "stream": "stdout",
       "text": [
        "\n",
        "\toptimized a=0.774264\tb=0.466667\n",
        "\texpn:[0.774263682681127, 0.36132305191785929]\n",
        "\n",
        "from cross validation:\n",
        "optimized a=1.291550\tb=0.383333\n",
        "optimized new shell: [('p', [(1.2915496650148841, 1.0)]), ('p', [(0.49509403825570553, 1.0)])]\n",
        "\n",
        "=================\n",
        "current basis data:\n",
        "{1: [('s', [(2.0, 0.06462908245839719), (0.8, 0.4066825517248162), (0.32, 0.5468171685012185)]), ('p', [(1.2915496650148841, 1.0)]), ('p', [(0.49509403825570553, 1.0)])]}\n",
        "min=0.000005"
       ]
      },
      {
       "output_type": "stream",
       "stream": "stdout",
       "text": [
        "\n",
        "max=0.000709\n",
        "mae=0.000124\n"
       ]
      },
      {
       "metadata": {},
       "output_type": "display_data",
       "png": "[encoded data removed]",
       "text": [
        "<matplotlib.figure.Figure at 0x106189c90>"
       ]
      }
     ],
     "prompt_number": 83
    },
    {
     "cell_type": "markdown",
     "metadata": {},
     "source": [
      "#add two d orbitals"
     ]
    },
    {
     "cell_type": "code",
     "collapsed": false,
     "input": [
      "fb.optimize_bf(Z=1,shell='d',alist=np.logspace(-1,1,10),blist=np.linspace(0.1,0.4,10),Nn=2,kfold=10,doadd=True)\n",
      "show_err()"
     ],
     "language": "python",
     "metadata": {},
     "outputs": [
      {
       "output_type": "stream",
       "stream": "stdout",
       "text": [
        "optimize basis function with even-tempered method with 10-fold cross validation\n",
        "add to basis data: True\n",
        "atomic index: 1\n",
        "shell: d\n",
        "list of a: [  0.1          0.16681005   0.27825594   0.46415888   0.77426368\n",
        "   1.29154967   2.15443469   3.59381366   5.9948425   10.        ]\n",
        "list of b: [ 0.1         0.13333333  0.16666667  0.2         0.23333333  0.26666667\n",
        "  0.3         0.33333333  0.36666667  0.4       ]\n",
        "number of new basis: 2\n",
        "\n",
        "\tvalidation set: [37 23 92 24 55 82 14 71 85 41]"
       ]
      },
      {
       "output_type": "stream",
       "stream": "stdout",
       "text": [
        "\n",
        "\toptimized a=3.593814\tb=0.166667\n",
        "\texpn:[3.5938136638046259, 0.59896894396743772]\n",
        "\n",
        "\tvalidation set: [79 30 89 83  0 35 99 53 59 51]"
       ]
      },
      {
       "output_type": "stream",
       "stream": "stdout",
       "text": [
        "\n",
        "\toptimized a=3.593814\tb=0.166667\n",
        "\texpn:[3.5938136638046259, 0.59896894396743772]\n",
        "\n",
        "\tvalidation set: [69 75 22 98  3 16 45 52 44 67]"
       ]
      },
      {
       "output_type": "stream",
       "stream": "stdout",
       "text": [
        "\n",
        "\toptimized a=2.154435\tb=0.300000\n",
        "\texpn:[2.1544346900318834, 0.64633040700956512]\n",
        "\n",
        "\tvalidation set: [86 65 12 32 43  1 47 62 20  6]"
       ]
      },
      {
       "output_type": "stream",
       "stream": "stdout",
       "text": [
        "\n",
        "\toptimized a=3.593814\tb=0.166667\n",
        "\texpn:[3.5938136638046259, 0.59896894396743772]\n",
        "\n",
        "\tvalidation set: [93 78 66 95 87 88 72 63 13 18]"
       ]
      },
      {
       "output_type": "stream",
       "stream": "stdout",
       "text": [
        "\n",
        "\toptimized a=3.593814\tb=0.200000\n",
        "\texpn:[3.5938136638046259, 0.71876273276092517]\n",
        "\n",
        "\tvalidation set: [ 4  2 97 90 11 57 31 70 46 27]"
       ]
      },
      {
       "output_type": "stream",
       "stream": "stdout",
       "text": [
        "\n",
        "\toptimized a=3.593814\tb=0.166667\n",
        "\texpn:[3.5938136638046259, 0.59896894396743772]\n",
        "\n",
        "\tvalidation set: [81 56 15 80 50 64 76 34  8  9]"
       ]
      },
      {
       "output_type": "stream",
       "stream": "stdout",
       "text": [
        "\n",
        "\toptimized a=3.593814\tb=0.166667\n",
        "\texpn:[3.5938136638046259, 0.59896894396743772]\n",
        "\n",
        "\tvalidation set: [38 40 36 10 73 61 33 77 29 26]"
       ]
      },
      {
       "output_type": "stream",
       "stream": "stdout",
       "text": [
        "\n",
        "\toptimized a=3.593814\tb=0.166667\n",
        "\texpn:[3.5938136638046259, 0.59896894396743772]\n",
        "\n",
        "\tvalidation set: [39 28 49  7 21 91 42 58 96 94]"
       ]
      },
      {
       "output_type": "stream",
       "stream": "stdout",
       "text": [
        "\n",
        "\toptimized a=3.593814\tb=0.166667\n",
        "\texpn:[3.5938136638046259, 0.59896894396743772]\n",
        "\n",
        "\tvalidation set: [ 5 74 48 54 60 17 84 25 19 68]"
       ]
      },
      {
       "output_type": "stream",
       "stream": "stdout",
       "text": [
        "\n",
        "\toptimized a=3.593814\tb=0.200000\n",
        "\texpn:[3.5938136638046259, 0.71876273276092517]\n",
        "\n",
        "from cross validation:\n",
        "optimized a=3.593814\tb=0.166667\n",
        "optimized new shell: [('d', [(3.5938136638046259, 1.0)]), ('d', [(0.59896894396743772, 1.0)])]\n",
        "\n",
        "=================\n",
        "current basis data:\n",
        "{1: [('s', [(2.0, 0.06462908245839719), (0.8, 0.4066825517248162), (0.32, 0.5468171685012185)]), ('p', [(1.2915496650148841, 1.0)]), ('p', [(0.49509403825570553, 1.0)]), ('d', [(3.5938136638046259, 1.0)]), ('d', [(0.59896894396743772, 1.0)])]}\n",
        "min=0.000000"
       ]
      },
      {
       "output_type": "stream",
       "stream": "stdout",
       "text": [
        "\n",
        "max=0.000011\n",
        "mae=0.000004\n"
       ]
      },
      {
       "metadata": {},
       "output_type": "display_data",
       "png": "[encoded data removed]",
       "text": [
        "<matplotlib.figure.Figure at 0x1064a3410>"
       ]
      }
     ],
     "prompt_number": 84
    },
    {
     "cell_type": "markdown",
     "metadata": {},
     "source": [
      "#add two f orbitals"
     ]
    },
    {
     "cell_type": "code",
     "collapsed": false,
     "input": [
      "fb.optimize_bf(Z=1,shell='f',alist=np.logspace(-1,1,10),blist=np.linspace(0.3,0.6,10),Nn=2,kfold=10,doadd=True)\n",
      "show_err()"
     ],
     "language": "python",
     "metadata": {},
     "outputs": [
      {
       "output_type": "stream",
       "stream": "stdout",
       "text": [
        "optimize basis function with even-tempered method with 10-fold cross validation\n",
        "add to basis data: True\n",
        "atomic index: 1\n",
        "shell: f\n",
        "list of a: [  0.1          0.16681005   0.27825594   0.46415888   0.77426368\n",
        "   1.29154967   2.15443469   3.59381366   5.9948425   10.        ]\n",
        "list of b: [ 0.3         0.33333333  0.36666667  0.4         0.43333333  0.46666667\n",
        "  0.5         0.53333333  0.56666667  0.6       ]\n",
        "number of new basis: 2\n",
        "\n",
        "\tvalidation set: [73 62 18 49 20 97 84 35 70 10]"
       ]
      },
      {
       "output_type": "stream",
       "stream": "stdout",
       "text": [
        "\n",
        "\toptimized a=0.464159\tb=0.433333\n",
        "\texpn:[0.46415888336127786, 0.20113551612322042]\n",
        "\n",
        "\tvalidation set: [53 91 40 33 93 30 25 44 83 16]"
       ]
      },
      {
       "output_type": "stream",
       "stream": "stdout",
       "text": [
        "\n",
        "\toptimized a=0.464159\tb=0.600000\n",
        "\texpn:[0.46415888336127786, 0.27849533001676668]\n",
        "\n",
        "\tvalidation set: [50 72 74 15 96 67 54 19 21 13]"
       ]
      },
      {
       "output_type": "stream",
       "stream": "stdout",
       "text": [
        "\n",
        "\toptimized a=0.464159\tb=0.366667\n",
        "\texpn:[0.46415888336127786, 0.17019159056580188]\n",
        "\n",
        "\tvalidation set: [85 86 11  3  0 89 77 76 29 79]"
       ]
      },
      {
       "output_type": "stream",
       "stream": "stdout",
       "text": [
        "\n",
        "\toptimized a=0.464159\tb=0.466667\n",
        "\texpn:[0.46415888336127786, 0.21660747890192966]\n",
        "\n",
        "\tvalidation set: [82 32 90 42 81  7 95 22 38 99]"
       ]
      },
      {
       "output_type": "stream",
       "stream": "stdout",
       "text": [
        "\n",
        "\toptimized a=0.464159\tb=0.600000\n",
        "\texpn:[0.46415888336127786, 0.27849533001676668]\n",
        "\n",
        "\tvalidation set: [ 5 71 34 51 27 58 23 88 59  9]"
       ]
      },
      {
       "output_type": "stream",
       "stream": "stdout",
       "text": [
        "\n",
        "\toptimized a=0.464159\tb=0.366667\n",
        "\texpn:[0.46415888336127786, 0.17019159056580188]\n",
        "\n",
        "\tvalidation set: [60 14 69  2 94 46 48 52 55 43]"
       ]
      },
      {
       "output_type": "stream",
       "stream": "stdout",
       "text": [
        "\n",
        "\toptimized a=0.464159\tb=0.466667\n",
        "\texpn:[0.46415888336127786, 0.21660747890192966]\n",
        "\n",
        "\tvalidation set: [64 12 45  1 17 47 75 36 68  6]"
       ]
      },
      {
       "output_type": "stream",
       "stream": "stdout",
       "text": [
        "\n",
        "\toptimized a=0.464159\tb=0.533333\n",
        "\texpn:[0.46415888336127786, 0.2475514044593482]\n",
        "\n",
        "\tvalidation set: [31 92 39 65 41 28  8 37 56 63]"
       ]
      },
      {
       "output_type": "stream",
       "stream": "stdout",
       "text": [
        "\n",
        "\toptimized a=0.464159\tb=0.600000\n",
        "\texpn:[0.46415888336127786, 0.27849533001676668]\n",
        "\n",
        "\tvalidation set: [87 61 66 57 98  4 26 78 80 24]"
       ]
      },
      {
       "output_type": "stream",
       "stream": "stdout",
       "text": [
        "\n",
        "\toptimized a=0.464159\tb=0.300000\n",
        "\texpn:[0.46415888336127786, 0.13924766500838334]\n",
        "\n",
        "from cross validation:\n",
        "optimized a=0.464159\tb=0.466667\n",
        "optimized new shell: [('f', [(0.46415888336127786, 1.0)]), ('f', [(0.21660747890192966, 1.0)])]\n",
        "\n",
        "=================\n",
        "current basis data:\n",
        "{1: [('s', [(2.0, 0.06462908245839719), (0.8, 0.4066825517248162), (0.32, 0.5468171685012185)]), ('p', [(1.2915496650148841, 1.0)]), ('p', [(0.49509403825570553, 1.0)]), ('d', [(3.5938136638046259, 1.0)]), ('d', [(0.59896894396743772, 1.0)]), ('f', [(0.46415888336127786, 1.0)]), ('f', [(0.21660747890192966, 1.0)])]}\n",
        "min=0.000000"
       ]
      },
      {
       "output_type": "stream",
       "stream": "stdout",
       "text": [
        "\n",
        "max=0.000004\n",
        "mae=0.000002\n"
       ]
      },
      {
       "metadata": {},
       "output_type": "display_data",
       "png": "[encoded data removed]",
       "text": [
        "<matplotlib.figure.Figure at 0x10642c8d0>"
       ]
      }
     ],
     "prompt_number": 85
    },
    {
     "cell_type": "markdown",
     "metadata": {},
     "source": [
      "#Plot the fitting error with more basis"
     ]
    },
    {
     "cell_type": "code",
     "collapsed": false,
     "input": [
      "plt.plot(np.log10(maxerr),'go-',label='max')\n",
      "plt.plot(np.log10(minerr),'ro-',label='min')\n",
      "plt.plot(np.log10(maeerr),'bo-',label='mae')\n",
      "plt.legend(loc=1)\n",
      "plt.show()"
     ],
     "language": "python",
     "metadata": {},
     "outputs": [
      {
       "metadata": {},
       "output_type": "display_data",
       "png": "[encoded data removed]",
       "text": [
        "<matplotlib.figure.Figure at 0x1061d1b10>"
       ]
      }
     ],
     "prompt_number": 86
    },
    {
     "cell_type": "code",
     "collapsed": false,
     "input": [
      "fb.basis_data"
     ],
     "language": "python",
     "metadata": {},
     "outputs": [
      {
       "metadata": {},
       "output_type": "pyout",
       "prompt_number": 87,
       "text": [
        "{1: [('s',\n",
        "   [(2.0, 0.06462908245839719),\n",
        "    (0.8, 0.4066825517248162),\n",
        "    (0.32, 0.5468171685012185)]),\n",
        "  ('p', [(1.2915496650148841, 1.0)]),\n",
        "  ('p', [(0.49509403825570553, 1.0)]),\n",
        "  ('d', [(3.5938136638046259, 1.0)]),\n",
        "  ('d', [(0.59896894396743772, 1.0)]),\n",
        "  ('f', [(0.46415888336127786, 1.0)]),\n",
        "  ('f', [(0.21660747890192966, 1.0)])]}"
       ]
      }
     ],
     "prompt_number": 87
    },
    {
     "cell_type": "code",
     "collapsed": false,
     "input": [],
     "language": "python",
     "metadata": {},
     "outputs": [],
     "prompt_number": 87
    }
   ],
   "metadata": {}
  }
 ]
}