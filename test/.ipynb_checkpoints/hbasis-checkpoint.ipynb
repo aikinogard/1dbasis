{
 "metadata": {
  "name": "",
  "signature": "sha256:b531b5182e198edb4ccb528f8ea845f1f04b29c1acde0bb2ac4fe26f93f7ae3d"
 },
 "nbformat": 3,
 "nbformat_minor": 0,
 "worksheets": [
  {
   "cells": [
    {
     "cell_type": "code",
     "collapsed": false,
     "input": [
      "import numpy as np\n",
      "import matplotlib.pyplot as plt\n",
      "from basis1d.findbasis import findbasis\n",
      "from basis1d.tools import sym_xg, sym_uniform_atoms_x\n",
      "%matplotlib inline"
     ],
     "language": "python",
     "metadata": {},
     "outputs": [],
     "prompt_number": 1
    },
    {
     "cell_type": "code",
     "collapsed": false,
     "input": [
      "def err_info(err):\n",
      "    print 'MAE =', np.mean(err)\n",
      "    print 'MAX =', np.amax(err)\n",
      "    print 'MIN =', np.amin(err)\n",
      "    return [np.mean(err), np.amax(err), np.amin(err)]\n",
      "\n",
      "def density_info(i):\n",
      "    fb[i].show()\n",
      "    print 'atoms_x =', fb[i].atoms_x\n",
      "    print 'xg.shape =', fb[i].xg.shape\n",
      "    print 'b =', Para[i]\n",
      "    print 'error =', fb[i].get_error()"
     ],
     "language": "python",
     "metadata": {},
     "outputs": [],
     "prompt_number": 2
    },
    {
     "cell_type": "code",
     "collapsed": false,
     "input": [
      "n_lib = []\n",
      "xg_lib = []\n",
      "atoms_x_lib = []\n",
      "atoms_Z_lib = []\n",
      "\n",
      "nh = 2\n",
      "dx = 0.05\n",
      "n_nh = np.loadtxt('H%d/n.txt' % nh).tolist()\n",
      "Nt = len(n_nh)\n",
      "n_lib.extend(n_nh)\n",
      "atoms_Z_nh = [[1]*nh for i in range(Nt)]\n",
      "atoms_Z_lib.extend(atoms_Z_nh)\n",
      "Para_nh = np.loadtxt('H%d/Para.txt' % nh)\n",
      "for i in range(Nt):\n",
      "    xg_i = sym_xg(dx, len(n_nh[i]))\n",
      "    xg_lib.append(xg_i.tolist())\n",
      "    atoms_x_lib.append(sym_uniform_atoms_x(xg_i, Para_nh[i], nh).tolist())\n",
      "\n",
      "nh = 4\n",
      "dx = 0.05\n",
      "n_nh = np.loadtxt('H%d/n.txt' % nh).tolist()\n",
      "Nt = len(n_nh)\n",
      "n_lib.extend(n_nh)\n",
      "atoms_Z_nh = [[1]*nh for i in range(Nt)]\n",
      "atoms_Z_lib.extend(atoms_Z_nh)\n",
      "Para_nh = np.loadtxt('H%d/Para.txt' % nh)\n",
      "for i in range(Nt):\n",
      "    xg_i = sym_xg(dx, len(n_nh[i]))\n",
      "    xg_lib.append(xg_i.tolist())\n",
      "    atoms_x_lib.append(sym_uniform_atoms_x(xg_i, Para_nh[i], nh).tolist())\n",
      "    \n",
      "nh = 8\n",
      "dx = 0.05\n",
      "n_nh = np.loadtxt('H%d/n.txt' % nh).tolist()\n",
      "Nt = len(n_nh)\n",
      "n_lib.extend(n_nh)\n",
      "atoms_Z_nh = [[1]*nh for i in range(Nt)]\n",
      "atoms_Z_lib.extend(atoms_Z_nh)\n",
      "Para_nh = np.loadtxt('H%d/Para.txt' % nh)\n",
      "for i in range(Nt):\n",
      "    xg_i = sym_xg(dx, len(n_nh[i]))\n",
      "    xg_lib.append(xg_i.tolist())\n",
      "    atoms_x_lib.append(sym_uniform_atoms_x(xg_i, Para_nh[i], nh).tolist())"
     ],
     "language": "python",
     "metadata": {},
     "outputs": [],
     "prompt_number": 3
    },
    {
     "cell_type": "code",
     "collapsed": false,
     "input": [
      "err_rec = []"
     ],
     "language": "python",
     "metadata": {},
     "outputs": [],
     "prompt_number": 4
    },
    {
     "cell_type": "markdown",
     "metadata": {},
     "source": [
      "#initialize class"
     ]
    },
    {
     "cell_type": "code",
     "collapsed": false,
     "input": [
      "fb = findbasis(n_lib, xg_lib, atoms_x_lib, atoms_Z_lib, 'minix', verbose=True)"
     ],
     "language": "python",
     "metadata": {},
     "outputs": [],
     "prompt_number": 5
    },
    {
     "cell_type": "code",
     "collapsed": false,
     "input": [
      "fb.fit_density()\n",
      "err = fb.get_error()\n",
      "plt.plot(err)\n",
      "err_rec.append(err_info(err))"
     ],
     "language": "python",
     "metadata": {},
     "outputs": [
      {
       "output_type": "stream",
       "stream": "stdout",
       "text": [
        "fitting density for #0 #1 #2 #3 #4 #5 #6 #7 #8 #9 #10 #11 #12 #13 #14 #15 #16 #17 #18 #19 #20 #21 #22 #23 #24 #25 #26 #27 #28 "
       ]
      },
      {
       "output_type": "stream",
       "stream": "stdout",
       "text": [
        "#29 #30 #31 #32 #33 #34 #35 #36 #37 #38 #39 #40 #41 #42 #43 #44 #45 #46 #47 #48 #49 #50 #51 #52 #53 #54 #55 #56 #57 #58 #59 #60 #61 #62 #63 #64 #65 #66 #67 #68 #69 #70 #71 #72 #73 #74 #75 #76 #77 #78 #79 #80 #81 "
       ]
      },
      {
       "output_type": "stream",
       "stream": "stdout",
       "text": [
        "#82 #83 #84 #85 #86 #87 #88 #89 #90 #91 #92 #93 #94 #95 #96 #97 #98 #99 #100 #101 #102 #103 #104 #105 #106 #107 #108 #109 #110 #111 "
       ]
      },
      {
       "output_type": "stream",
       "stream": "stdout",
       "text": [
        "#112 #113 #114 #115 #116 #117 #118 #119 #120 #121 #122 #123 #124 #125 #126 #127 #128 #129 "
       ]
      },
      {
       "output_type": "stream",
       "stream": "stdout",
       "text": [
        "#130 #131 #132 #133 #134 #135 #136 #137 #138 #139 #140 #141 #142 #143 #144 #145 #146 #147 #148 #149 #150 "
       ]
      },
      {
       "output_type": "stream",
       "stream": "stdout",
       "text": [
        "#151 #152 #153 #154 #155 #156 #157 #158 #159 #160 #161 #162 #163 #164 #165 #166 #167 #168 #169 #170 #171 "
       ]
      },
      {
       "output_type": "stream",
       "stream": "stdout",
       "text": [
        "#172 #173 #174 #175 #176 #177 #178 #179 #180 #181 #182 #183 #184 #185 #186 #187 #188 #189 "
       ]
      },
      {
       "output_type": "stream",
       "stream": "stdout",
       "text": [
        "#190 #191 #192 #193 #194 #195 #196 #197 #198 #199 #200 #201 #202 "
       ]
      },
      {
       "output_type": "stream",
       "stream": "stdout",
       "text": [
        "#203 #204 #205 #206 #207 #208 "
       ]
      },
      {
       "output_type": "stream",
       "stream": "stdout",
       "text": [
        "#209 #210 #211 #212 #213 #214 "
       ]
      },
      {
       "output_type": "stream",
       "stream": "stdout",
       "text": [
        "#215 #216 #217 #218 #219 #220 "
       ]
      },
      {
       "output_type": "stream",
       "stream": "stdout",
       "text": [
        "#221 #222 #223 #224 #225 #226 "
       ]
      },
      {
       "output_type": "stream",
       "stream": "stdout",
       "text": [
        "#227 #228 #229 #230 #231 "
       ]
      },
      {
       "output_type": "stream",
       "stream": "stdout",
       "text": [
        "#232 #233 #234 #235 #236 "
       ]
      },
      {
       "output_type": "stream",
       "stream": "stdout",
       "text": [
        "#237 #238 #239 #240 #241 #242 "
       ]
      },
      {
       "output_type": "stream",
       "stream": "stdout",
       "text": [
        "#243 #244 #245 #246 #247 #248 "
       ]
      },
      {
       "output_type": "stream",
       "stream": "stdout",
       "text": [
        "#249 #250 #251 #252 #253 #254 "
       ]
      },
      {
       "output_type": "stream",
       "stream": "stdout",
       "text": [
        "#255 #256 #257 #258 #259 #260 "
       ]
      },
      {
       "output_type": "stream",
       "stream": "stdout",
       "text": [
        "#261 #262 #263 #264 #265 #266 "
       ]
      },
      {
       "output_type": "stream",
       "stream": "stdout",
       "text": [
        "#267 #268 #269 #270 #271 "
       ]
      },
      {
       "output_type": "stream",
       "stream": "stdout",
       "text": [
        "#272 #273 #274 #275 #276 #277 "
       ]
      },
      {
       "output_type": "stream",
       "stream": "stdout",
       "text": [
        "#278 #279 #280 #281 #282 #283 "
       ]
      },
      {
       "output_type": "stream",
       "stream": "stdout",
       "text": [
        "#284 #285 #286 #287 #288 #289 "
       ]
      },
      {
       "output_type": "stream",
       "stream": "stdout",
       "text": [
        "#290 #291 #292 #293 #294\n",
        "MAE ="
       ]
      },
      {
       "output_type": "stream",
       "stream": "stdout",
       "text": [
        " 0.169329660471\n",
        "MAX = 1.20819750554\n",
        "MIN = 0.0110385508932\n"
       ]
      },
      {
       "metadata": {},
       "output_type": "display_data",
       "png": "[encoded data removed]",
       "text": [
        "<matplotlib.figure.Figure at 0x1134c2e10>"
       ]
      }
     ],
     "prompt_number": 6
    },
    {
     "cell_type": "markdown",
     "metadata": {},
     "source": [
      "# s shell"
     ]
    },
    {
     "cell_type": "code",
     "collapsed": false,
     "input": [
      "s_shell_error = []"
     ],
     "language": "python",
     "metadata": {},
     "outputs": [],
     "prompt_number": 7
    },
    {
     "cell_type": "markdown",
     "metadata": {},
     "source": [
      "## if put 1 s shell"
     ]
    },
    {
     "cell_type": "code",
     "collapsed": false,
     "input": [
      "shell_data_s1 = fb.optimize_bf(Z=1, shell='s', alist=np.logspace(-1, 1, 10), \n",
      "               blist=1, Nn=1, kfold=10, doadd=False, showerr=False)\n",
      "fb.add_shell(1,shell_data_s1)\n",
      "fb.fit_density()\n",
      "err = fb.get_error()\n",
      "plt.plot(err)\n",
      "s_shell_error.append(err_info(err))\n",
      "fb.remove_shell(1,shell_data_s1)"
     ],
     "language": "python",
     "metadata": {},
     "outputs": [
      {
       "output_type": "stream",
       "stream": "stdout",
       "text": [
        "optimize basis function with even-tempered method             with 10-fold cross validation\n",
        "add to basis data: False\n",
        "atomic index: 1\n",
        "shell: s\n",
        "list of a: [  0.1          0.16681005   0.27825594   0.46415888   0.77426368\n",
        "   1.29154967   2.15443469   3.59381366   5.9948425   10.        ]\n",
        "list of b: [1]\n",
        "number of new basis: 1\n",
        "\n",
        "\tvalidation set: [188  75  32 180 230 177 205 133 259  45 213 114  37 203  16 222 169 258\n",
        "  55   5 211 263  39 283  53  27  21 181 163 174]"
       ]
      },
      {
       "output_type": "stream",
       "stream": "stdout",
       "text": [
        "\n",
        "\toptimized a=0.278256\tb=1.000000\n",
        "\texpn:[0.27825594022071243]\n",
        "\n",
        "\tvalidation set: [  7  94 202  26 164 121 186  62 249 145 270 161 112 191 252 155 216  36\n",
        " 175 227 173  56 274  29 154 109 162  42 182 123]"
       ]
      },
      {
       "output_type": "stream",
       "stream": "stdout",
       "text": [
        "\n",
        "\toptimized a=1.291550\tb=1.000000\n",
        "\texpn:[1.2915496650148841]\n",
        "\n",
        "\tvalidation set: [168 209   1 229  44 243  92  52 124  49 253 247 251 239 111 257 167 139\n",
        " 212 267 284  48 138  97 140  15 273   2  87  40]"
       ]
      },
      {
       "output_type": "stream",
       "stream": "stdout",
       "text": [
        "\n",
        "\toptimized a=1.291550\tb=1.000000\n",
        "\texpn:[1.2915496650148841]\n",
        "\n",
        "\tvalidation set: [ 72  30 248 290  58 286 293  10  77 183  57  47  13  66 189 115 275  90\n",
        " 261 136 254 248  50 255 157 224 103  14 187  96]"
       ]
      },
      {
       "output_type": "stream",
       "stream": "stdout",
       "text": [
        "\n",
        "\toptimized a=0.278256\tb=1.000000\n",
        "\texpn:[0.27825594022071243]\n",
        "\n",
        "\tvalidation set: [153 122  89  61   8  59 288 206 113 268  86 276 160  28 237 264  85 149\n",
        " 240  63 280   6 277  95 130 144 151 158 196  76]"
       ]
      },
      {
       "output_type": "stream",
       "stream": "stdout",
       "text": [
        "\n",
        "\toptimized a=1.291550\tb=1.000000\n",
        "\texpn:[1.2915496650148841]\n",
        "\n",
        "\tvalidation set: [208 217 231 220 137 219  79 210 238 245 244 241  58 266 142  31 272  18\n",
        " 131 147  41  43 110 207 246 292 165 193 192 256]"
       ]
      },
      {
       "output_type": "stream",
       "stream": "stdout",
       "text": [
        "\n",
        "\toptimized a=0.278256\tb=1.000000\n",
        "\texpn:[0.27825594022071243]\n",
        "\n",
        "\tvalidation set: [ 19 250  23 199 119  17  91 234  65 218  65 260 141 197 108   3 215  78\n",
        "  80 106 235  81 226 132  20 179  46 184  98 262]"
       ]
      },
      {
       "output_type": "stream",
       "stream": "stdout",
       "text": [
        "\n",
        "\toptimized a=0.774264\tb=1.000000\n",
        "\texpn:[0.774263682681127]\n",
        "\n",
        "\tvalidation set: [ 51  83  24 129 214  38 125  64 291  88 156 280  54  70 269 236 178  24\n",
        "  34 134 289 117 282 242 265  35  60 100 279  82]"
       ]
      },
      {
       "output_type": "stream",
       "stream": "stdout",
       "text": [
        "\n",
        "\toptimized a=0.278256\tb=1.000000\n",
        "\texpn:[0.27825594022071243]\n",
        "\n",
        "\tvalidation set: [200 101  84  93 176 225  33 287 204 126  73  22 233  68 116 159  11 190\n",
        " 271 102 223 135 118 198 201 232 172   9 143  74]"
       ]
      },
      {
       "output_type": "stream",
       "stream": "stdout",
       "text": [
        "\n",
        "\toptimized a=0.166810\tb=1.000000\n",
        "\texpn:[0.16681005372000587]\n",
        "\n",
        "\tvalidation set: [127 146 221 105 195 294 150 285 107 152 194  12 128 104 185 281   4  25\n",
        "  71  69  99 170   0 228 148 166  67 171 278 120]"
       ]
      },
      {
       "output_type": "stream",
       "stream": "stdout",
       "text": [
        "\n",
        "\toptimized a=1.291550\tb=1.000000\n",
        "\texpn:[1.2915496650148841]\n",
        "\n",
        "from cross validation:\n",
        "optimized a=0.526260\tb=1.000000\n",
        "optimized new shell: [('s', [(0.52625981145091971, 1.0)])]\n",
        "fitting density for #0 #1 #2 #3 #4 #5 #6 #7 #8 #9 #10 #11 #12 #13 #14 #15 #16 #17 #18 #19 #20 #21 #22 #23 #24 #25 #26 #27 #28 #29 #30 #31 #32 #33 #34 #35 #36 #37 "
       ]
      },
      {
       "output_type": "stream",
       "stream": "stdout",
       "text": [
        "#38 #39 #40 #41 #42 #43 #44 #45 #46 #47 #48 #49 #50 #51 #52 #53 #54 #55 #56 #57 #58 #59 #60 #61 #62 #63 #64 #65 #66 #67 #68 #69 #70 #71 #72 #73 #74 "
       ]
      },
      {
       "output_type": "stream",
       "stream": "stdout",
       "text": [
        "#75 #76 #77 #78 #79 #80 #81 #82 #83 #84 #85 #86 #87 #88 #89 #90 #91 #92 #93 #94 #95 #96 #97 #98 #99 #100 #101 #102 #103 "
       ]
      },
      {
       "output_type": "stream",
       "stream": "stdout",
       "text": [
        "#104 #105 #106 #107 #108 #109 #110 #111 #112 #113 #114 #115 "
       ]
      },
      {
       "output_type": "stream",
       "stream": "stdout",
       "text": [
        "#116 #117 #118 #119 #120 #121 #122 #123 #124 #125 #126 "
       ]
      },
      {
       "output_type": "stream",
       "stream": "stdout",
       "text": [
        "#127 #128 #129 #130 #131 #132 #133 #134 #135 #136 #137 #138 "
       ]
      },
      {
       "output_type": "stream",
       "stream": "stdout",
       "text": [
        "#139 #140 #141 #142 #143 #144 #145 #146 #147 #148 #149 "
       ]
      },
      {
       "output_type": "stream",
       "stream": "stdout",
       "text": [
        "#150 #151 #152 #153 #154 #155 #156 #157 #158 #159 #160 #161 #162 #163 "
       ]
      },
      {
       "output_type": "stream",
       "stream": "stdout",
       "text": [
        "#164 #165 #166 #167 #168 #169 #170 #171 #172 #173 #174 "
       ]
      },
      {
       "output_type": "stream",
       "stream": "stdout",
       "text": [
        "#175 #176 #177 #178 #179 #180 #181 #182 #183 #184 #185 #186 #187 #188 "
       ]
      },
      {
       "output_type": "stream",
       "stream": "stdout",
       "text": [
        "#189 #190 #191 #192 #193 #194 #195 #196 #197 #198 #199 #200 "
       ]
      },
      {
       "output_type": "stream",
       "stream": "stdout",
       "text": [
        "#201 #202 #203 "
       ]
      },
      {
       "output_type": "stream",
       "stream": "stdout",
       "text": [
        "#204 #205 #206 "
       ]
      },
      {
       "output_type": "stream",
       "stream": "stdout",
       "text": [
        "#207 #208 #209 "
       ]
      },
      {
       "output_type": "stream",
       "stream": "stdout",
       "text": [
        "#210 #211 #212 "
       ]
      },
      {
       "output_type": "stream",
       "stream": "stdout",
       "text": [
        "#213 #214 #215 #216 "
       ]
      },
      {
       "output_type": "stream",
       "stream": "stdout",
       "text": [
        "#217 #218 #219 #220 "
       ]
      },
      {
       "output_type": "stream",
       "stream": "stdout",
       "text": [
        "#221 #222 #223 "
       ]
      },
      {
       "output_type": "stream",
       "stream": "stdout",
       "text": [
        "#224 #225 #226 #227 "
       ]
      },
      {
       "output_type": "stream",
       "stream": "stdout",
       "text": [
        "#228 #229 #230 #231 "
       ]
      },
      {
       "output_type": "stream",
       "stream": "stdout",
       "text": [
        "#232 #233 #234 #235 "
       ]
      },
      {
       "output_type": "stream",
       "stream": "stdout",
       "text": [
        "#236 #237 #238 "
       ]
      },
      {
       "output_type": "stream",
       "stream": "stdout",
       "text": [
        "#239 #240 #241 "
       ]
      },
      {
       "output_type": "stream",
       "stream": "stdout",
       "text": [
        "#242 #243 #244 #245 "
       ]
      },
      {
       "output_type": "stream",
       "stream": "stdout",
       "text": [
        "#246 #247 #248 #249 "
       ]
      },
      {
       "output_type": "stream",
       "stream": "stdout",
       "text": [
        "#250 #251 #252 "
       ]
      },
      {
       "output_type": "stream",
       "stream": "stdout",
       "text": [
        "#253 #254 #255 #256 "
       ]
      },
      {
       "output_type": "stream",
       "stream": "stdout",
       "text": [
        "#257 #258 #259 "
       ]
      },
      {
       "output_type": "stream",
       "stream": "stdout",
       "text": [
        "#260 #261 #262 "
       ]
      },
      {
       "output_type": "stream",
       "stream": "stdout",
       "text": [
        "#263 #264 #265 "
       ]
      },
      {
       "output_type": "stream",
       "stream": "stdout",
       "text": [
        "#266 #267 #268 "
       ]
      },
      {
       "output_type": "stream",
       "stream": "stdout",
       "text": [
        "#269 #270 #271 #272 "
       ]
      },
      {
       "output_type": "stream",
       "stream": "stdout",
       "text": [
        "#273 #274 #275 "
       ]
      },
      {
       "output_type": "stream",
       "stream": "stdout",
       "text": [
        "#276 #277 #278 "
       ]
      },
      {
       "output_type": "stream",
       "stream": "stdout",
       "text": [
        "#279 #280 #281 "
       ]
      },
      {
       "output_type": "stream",
       "stream": "stdout",
       "text": [
        "#282 #283 #284 "
       ]
      },
      {
       "output_type": "stream",
       "stream": "stdout",
       "text": [
        "#285 #286 #287 "
       ]
      },
      {
       "output_type": "stream",
       "stream": "stdout",
       "text": [
        "#288 #289 #290 "
       ]
      },
      {
       "output_type": "stream",
       "stream": "stdout",
       "text": [
        "#291 #292 #293 "
       ]
      },
      {
       "output_type": "stream",
       "stream": "stdout",
       "text": [
        "#294\n",
        "MAE ="
       ]
      },
      {
       "output_type": "stream",
       "stream": "stdout",
       "text": [
        " 0.146153692098\n",
        "MAX = 0.704578588985\n",
        "MIN = 0.0108356043026\n"
       ]
      },
      {
       "metadata": {},
       "output_type": "display_data",
       "png": "[encoded data removed]",
       "text": [
        "<matplotlib.figure.Figure at 0x113342110>"
       ]
      }
     ],
     "prompt_number": 8
    },
    {
     "cell_type": "markdown",
     "metadata": {},
     "source": [
      "## if put 2 s shell"
     ]
    },
    {
     "cell_type": "code",
     "collapsed": false,
     "input": [
      "shell_data_s2 = fb.optimize_bf(Z=1, shell='s', alist=np.logspace(-1, 1, 10), \n",
      "               blist=np.linspace(0.3,0.6,10), Nn=2, kfold=10, doadd=False, showerr=False)\n",
      "fb.add_shell(1,shell_data_s2)\n",
      "fb.fit_density()\n",
      "err = fb.get_error()\n",
      "plt.plot(err)\n",
      "s_shell_error.append(err_info(err))\n",
      "fb.remove_shell(1,shell_data_s2)"
     ],
     "language": "python",
     "metadata": {},
     "outputs": [
      {
       "output_type": "stream",
       "stream": "stdout",
       "text": [
        "optimize basis function with even-tempered method             with 10-fold cross validation\n",
        "add to basis data: False\n",
        "atomic index: 1\n",
        "shell: s\n",
        "list of a: [  0.1          0.16681005   0.27825594   0.46415888   0.77426368\n",
        "   1.29154967   2.15443469   3.59381366   5.9948425   10.        ]\n",
        "list of b: [ 0.3         0.33333333  0.36666667  0.4         0.43333333  0.46666667\n",
        "  0.5         0.53333333  0.56666667  0.6       ]\n",
        "number of new basis: 2\n",
        "\n",
        "\tvalidation set: [ 73 277 260 169 281 177 261  54  61  38 195 126 271 279  58  13  99 147\n",
        " 201 238 137  89 111 262  60  23  87  95  50 114]"
       ]
      },
      {
       "output_type": "stream",
       "stream": "stdout",
       "text": [
        "\n",
        "\toptimized a=0.774264\tb=0.300000\n",
        "\texpn:[0.774263682681127, 0.23227910480433808]\n",
        "\n",
        "\tvalidation set: [ 17  68 120 196 123 181  63 241 124  66 220 280 213 276  89 178 273  10\n",
        " 153  53 167 263 287 257  77 265  83 139   6  22]"
       ]
      },
      {
       "output_type": "stream",
       "stream": "stdout",
       "text": [
        "\n",
        "\toptimized a=1.291550\tb=0.433333\n",
        "\texpn:[1.2915496650148841, 0.55967152150644983]\n",
        "\n",
        "\tvalidation set: [246 245 161  91 218 105 253  27 162 229  67 247  55  51 209  37 248 289\n",
        " 217 198 200 117 130 109 274 235 160 258 135 100]"
       ]
      },
      {
       "output_type": "stream",
       "stream": "stdout",
       "text": [
        "\n",
        "\toptimized a=0.278256\tb=0.500000\n",
        "\texpn:[0.27825594022071243, 0.13912797011035621]\n",
        "\n",
        "\tvalidation set: [159  85  88 164 108 113 180 138  64  11  70  32  86  80 211 152 140 285\n",
        "  20 231  90 228  29 259 293 129 204 119  39 127]"
       ]
      },
      {
       "output_type": "stream",
       "stream": "stdout",
       "text": [
        "\n",
        "\toptimized a=0.774264\tb=0.366667\n",
        "\texpn:[0.774263682681127, 0.28389668364974657]\n",
        "\n",
        "\tvalidation set: [ 33 286  71  26 175 102  30  46 205 203 118 208 103 254 163 288 190 139\n",
        "  14 275 184 232 270   7  45   5 225 193   8  79]"
       ]
      },
      {
       "output_type": "stream",
       "stream": "stdout",
       "text": [
        "\n",
        "\toptimized a=0.464159\tb=0.500000\n",
        "\texpn:[0.46415888336127786, 0.23207944168063893]\n",
        "\n",
        "\tvalidation set: [239  57 154  34 151  43 290 191  76 174   9 182 157  44  24  82  97 252\n",
        " 251 240  93  35 221 283 267 278 215  59 243 183]"
       ]
      },
      {
       "output_type": "stream",
       "stream": "stdout",
       "text": [
        "\n",
        "\toptimized a=0.774264\tb=0.600000\n",
        "\texpn:[0.774263682681127, 0.46455820960867616]\n",
        "\n",
        "\tvalidation set: [202 237  69 136 144  65  74 173 128 142 292  28  96  39  16 115   1 197\n",
        " 145 268 226  62 158 272 134  25 188 186 223 132]"
       ]
      },
      {
       "output_type": "stream",
       "stream": "stdout",
       "text": [
        "\n",
        "\toptimized a=0.774264\tb=0.366667\n",
        "\texpn:[0.774263682681127, 0.28389668364974657]\n",
        "\n",
        "\tvalidation set: [ 49  81 256   3 141 239 168  36 206 212 282 250 264 170 199 133 172 150\n",
        " 171 122 207  78 187  94 110 148 155 104 165   4]"
       ]
      },
      {
       "output_type": "stream",
       "stream": "stdout",
       "text": [
        "\n",
        "\toptimized a=2.154435\tb=0.300000\n",
        "\texpn:[2.1544346900318834, 0.64633040700956501]\n",
        "\n",
        "\tvalidation set: [ 72 192 255  84 242 234 131 106 227 216   0 101 294 224  21 233  12 210\n",
        " 166 156 149 284  31 244  98 146  69 236  18  48]"
       ]
      },
      {
       "output_type": "stream",
       "stream": "stdout",
       "text": [
        "\n",
        "\toptimized a=0.774264\tb=0.400000\n",
        "\texpn:[0.774263682681127, 0.30970547307245083]\n",
        "\n",
        "\tvalidation set: [ 75  15  56 291   2 249 121 194 107 266 214  41 269  40 143 112 189 125\n",
        " 179  52  47 116 185 219 230  19  92  42 176 222]"
       ]
      },
      {
       "output_type": "stream",
       "stream": "stdout",
       "text": [
        "\n",
        "\toptimized a=2.154435\tb=0.366667\n",
        "\texpn:[2.1544346900318834, 0.78995938634502383]\n",
        "\n",
        "from cross validation:\n",
        "optimized a=0.774264\tb=0.383333\n",
        "optimized new shell: [('s', [(0.774263682681127, 1.0)]), ('s', [(0.29680107836109865, 1.0)])]\n",
        "fitting density for #0 #1 #2 #3 #4 #5 #6 #7 #8 #9 #10 #11 #12 #13 #14 #15 #16 #17 #18 #19 #20 #21 #22 #23 #24 #25 #26 "
       ]
      },
      {
       "output_type": "stream",
       "stream": "stdout",
       "text": [
        "#27 #28 #29 #30 #31 #32 #33 #34 #35 #36 #37 #38 #39 #40 #41 #42 #43 #44 #45 #46 #47 #48 #49 #50 #51 #52 #53 "
       ]
      },
      {
       "output_type": "stream",
       "stream": "stdout",
       "text": [
        "#54 #55 #56 #57 #58 #59 #60 #61 #62 #63 #64 #65 #66 #67 #68 #69 #70 #71 #72 #73 #74 #75 #76 #77 #78 #79 "
       ]
      },
      {
       "output_type": "stream",
       "stream": "stdout",
       "text": [
        "#80 #81 #82 #83 #84 #85 #86 #87 #88 #89 #90 #91 #92 #93 #94 #95 #96 #97 #98 #99 #100 #101 #102 "
       ]
      },
      {
       "output_type": "stream",
       "stream": "stdout",
       "text": [
        "#103 #104 #105 #106 #107 #108 #109 "
       ]
      },
      {
       "output_type": "stream",
       "stream": "stdout",
       "text": [
        "#110 #111 #112 #113 #114 #115 #116 #117 #118 "
       ]
      },
      {
       "output_type": "stream",
       "stream": "stdout",
       "text": [
        "#119 #120 #121 #122 #123 #124 #125 #126 #127 "
       ]
      },
      {
       "output_type": "stream",
       "stream": "stdout",
       "text": [
        "#128 #129 #130 #131 #132 #133 #134 #135 #136 "
       ]
      },
      {
       "output_type": "stream",
       "stream": "stdout",
       "text": [
        "#137 #138 #139 #140 #141 #142 #143 #144 #145 "
       ]
      },
      {
       "output_type": "stream",
       "stream": "stdout",
       "text": [
        "#146 #147 #148 #149 #150 #151 #152 #153 #154 "
       ]
      },
      {
       "output_type": "stream",
       "stream": "stdout",
       "text": [
        "#155 #156 #157 #158 #159 #160 #161 #162 "
       ]
      },
      {
       "output_type": "stream",
       "stream": "stdout",
       "text": [
        "#163 #164 #165 #166 #167 #168 #169 #170 #171 "
       ]
      },
      {
       "output_type": "stream",
       "stream": "stdout",
       "text": [
        "#172 #173 #174 #175 #176 #177 #178 #179 #180 "
       ]
      },
      {
       "output_type": "stream",
       "stream": "stdout",
       "text": [
        "#181 #182 #183 #184 #185 #186 #187 #188 "
       ]
      },
      {
       "output_type": "stream",
       "stream": "stdout",
       "text": [
        "#189 #190 #191 #192 #193 #194 #195 "
       ]
      },
      {
       "output_type": "stream",
       "stream": "stdout",
       "text": [
        "#196 #197 #198 #199 #200 "
       ]
      },
      {
       "output_type": "stream",
       "stream": "stdout",
       "text": [
        "#201 #202 "
       ]
      },
      {
       "output_type": "stream",
       "stream": "stdout",
       "text": [
        "#203 #204 "
       ]
      },
      {
       "output_type": "stream",
       "stream": "stdout",
       "text": [
        "#205 #206 "
       ]
      },
      {
       "output_type": "stream",
       "stream": "stdout",
       "text": [
        "#207 #208 "
       ]
      },
      {
       "output_type": "stream",
       "stream": "stdout",
       "text": [
        "#209 #210 "
       ]
      },
      {
       "output_type": "stream",
       "stream": "stdout",
       "text": [
        "#211 #212 "
       ]
      },
      {
       "output_type": "stream",
       "stream": "stdout",
       "text": [
        "#213 #214 "
       ]
      },
      {
       "output_type": "stream",
       "stream": "stdout",
       "text": [
        "#215 #216 "
       ]
      },
      {
       "output_type": "stream",
       "stream": "stdout",
       "text": [
        "#217 #218 "
       ]
      },
      {
       "output_type": "stream",
       "stream": "stdout",
       "text": [
        "#219 #220 "
       ]
      },
      {
       "output_type": "stream",
       "stream": "stdout",
       "text": [
        "#221 #222 "
       ]
      },
      {
       "output_type": "stream",
       "stream": "stdout",
       "text": [
        "#223 #224 "
       ]
      },
      {
       "output_type": "stream",
       "stream": "stdout",
       "text": [
        "#225 #226 "
       ]
      },
      {
       "output_type": "stream",
       "stream": "stdout",
       "text": [
        "#227 #228 "
       ]
      },
      {
       "output_type": "stream",
       "stream": "stdout",
       "text": [
        "#229 #230 "
       ]
      },
      {
       "output_type": "stream",
       "stream": "stdout",
       "text": [
        "#231 #232 "
       ]
      },
      {
       "output_type": "stream",
       "stream": "stdout",
       "text": [
        "#233 #234 "
       ]
      },
      {
       "output_type": "stream",
       "stream": "stdout",
       "text": [
        "#235 #236 "
       ]
      },
      {
       "output_type": "stream",
       "stream": "stdout",
       "text": [
        "#237 #238 "
       ]
      },
      {
       "output_type": "stream",
       "stream": "stdout",
       "text": [
        "#239 #240 "
       ]
      },
      {
       "output_type": "stream",
       "stream": "stdout",
       "text": [
        "#241 #242 "
       ]
      },
      {
       "output_type": "stream",
       "stream": "stdout",
       "text": [
        "#243 #244 "
       ]
      },
      {
       "output_type": "stream",
       "stream": "stdout",
       "text": [
        "#245 #246 "
       ]
      },
      {
       "output_type": "stream",
       "stream": "stdout",
       "text": [
        "#247 #248 "
       ]
      },
      {
       "output_type": "stream",
       "stream": "stdout",
       "text": [
        "#249 #250 "
       ]
      },
      {
       "output_type": "stream",
       "stream": "stdout",
       "text": [
        "#251 #252 "
       ]
      },
      {
       "output_type": "stream",
       "stream": "stdout",
       "text": [
        "#253 #254 "
       ]
      },
      {
       "output_type": "stream",
       "stream": "stdout",
       "text": [
        "#255 #256 "
       ]
      },
      {
       "output_type": "stream",
       "stream": "stdout",
       "text": [
        "#257 #258 "
       ]
      },
      {
       "output_type": "stream",
       "stream": "stdout",
       "text": [
        "#259 #260 "
       ]
      },
      {
       "output_type": "stream",
       "stream": "stdout",
       "text": [
        "#261 #262 "
       ]
      },
      {
       "output_type": "stream",
       "stream": "stdout",
       "text": [
        "#263 #264 "
       ]
      },
      {
       "output_type": "stream",
       "stream": "stdout",
       "text": [
        "#265 #266 "
       ]
      },
      {
       "output_type": "stream",
       "stream": "stdout",
       "text": [
        "#267 #268 "
       ]
      },
      {
       "output_type": "stream",
       "stream": "stdout",
       "text": [
        "#269 #270 "
       ]
      },
      {
       "output_type": "stream",
       "stream": "stdout",
       "text": [
        "#271 #272 "
       ]
      },
      {
       "output_type": "stream",
       "stream": "stdout",
       "text": [
        "#273 #274 "
       ]
      },
      {
       "output_type": "stream",
       "stream": "stdout",
       "text": [
        "#275 #276 "
       ]
      },
      {
       "output_type": "stream",
       "stream": "stdout",
       "text": [
        "#277 #278 "
       ]
      },
      {
       "output_type": "stream",
       "stream": "stdout",
       "text": [
        "#279 #280 "
       ]
      },
      {
       "output_type": "stream",
       "stream": "stdout",
       "text": [
        "#281 #282 "
       ]
      },
      {
       "output_type": "stream",
       "stream": "stdout",
       "text": [
        "#283 #284 "
       ]
      },
      {
       "output_type": "stream",
       "stream": "stdout",
       "text": [
        "#285 #286 "
       ]
      },
      {
       "output_type": "stream",
       "stream": "stdout",
       "text": [
        "#287 #288 "
       ]
      },
      {
       "output_type": "stream",
       "stream": "stdout",
       "text": [
        "#289 #290 "
       ]
      },
      {
       "output_type": "stream",
       "stream": "stdout",
       "text": [
        "#291 #292 "
       ]
      },
      {
       "output_type": "stream",
       "stream": "stdout",
       "text": [
        "#293 #294\n",
        "MAE ="
       ]
      },
      {
       "output_type": "stream",
       "stream": "stdout",
       "text": [
        " 0.126978700969\n",
        "MAX = 0.701885292058\n",
        "MIN = 0.0108576146426\n"
       ]
      },
      {
       "metadata": {},
       "output_type": "display_data",
       "png": "[encoded data removed]",
       "text": [
        "<matplotlib.figure.Figure at 0x113ade810>"
       ]
      }
     ],
     "prompt_number": 9
    },
    {
     "cell_type": "markdown",
     "metadata": {},
     "source": [
      "## if put 3 s shell"
     ]
    },
    {
     "cell_type": "code",
     "collapsed": false,
     "input": [
      "shell_data_s3 = fb.optimize_bf(Z=1, shell='s', alist=np.logspace(-1, 1, 10), \n",
      "               blist=np.linspace(0.3,0.6,10), Nn=3, kfold=10, doadd=False, showerr=False)\n",
      "fb.add_shell(1,shell_data_s3)\n",
      "fb.fit_density()\n",
      "err = fb.get_error()\n",
      "plt.plot(err)\n",
      "s_shell_error.append(err_info(err))\n",
      "fb.remove_shell(1,shell_data_s3)"
     ],
     "language": "python",
     "metadata": {},
     "outputs": [
      {
       "output_type": "stream",
       "stream": "stdout",
       "text": [
        "optimize basis function with even-tempered method             with 10-fold cross validation\n",
        "add to basis data: False\n",
        "atomic index: 1\n",
        "shell: s\n",
        "list of a: [  0.1          0.16681005   0.27825594   0.46415888   0.77426368\n",
        "   1.29154967   2.15443469   3.59381366   5.9948425   10.        ]\n",
        "list of b: [ 0.3         0.33333333  0.36666667  0.4         0.43333333  0.46666667\n",
        "  0.5         0.53333333  0.56666667  0.6       ]\n",
        "number of new basis: 3\n",
        "\n",
        "\tvalidation set: [ 72  46 157 172  62 104 256 186 227  88 221  87 211 196  71 191 125 107\n",
        "  27 272 158 271 223  77 160  73  35  94 266 224]"
       ]
      },
      {
       "output_type": "stream",
       "stream": "stdout",
       "text": [
        "\n",
        "\toptimized a=1.291550\tb=0.500000\n",
        "\texpn:[1.2915496650148841, 0.64577483250744205, 0.32288741625372103]\n",
        "\n",
        "\tvalidation set: [289 121  85  93  43 116 171  48 222  24 163 117  13 103 105 206  67  10\n",
        "  97 230 258 247 249 284 210   3 278 195  42 283]"
       ]
      },
      {
       "output_type": "stream",
       "stream": "stdout",
       "text": [
        "\n",
        "\toptimized a=1.291550\tb=0.500000\n",
        "\texpn:[1.2915496650148841, 0.64577483250744205, 0.32288741625372103]\n",
        "\n",
        "\tvalidation set: [ 61  29   8 277 270 188 153  18 112 239 179 275 102 174   1  53 264  89\n",
        " 245  55  75  96  16 135 259  19  70  40 202 216]"
       ]
      },
      {
       "output_type": "stream",
       "stream": "stdout",
       "text": [
        "\n",
        "\toptimized a=1.291550\tb=0.333333\n",
        "\texpn:[1.2915496650148841, 0.43051655500496133, 0.14350551833498712]\n",
        "\n",
        "\tvalidation set: [ 39 273 250  82 131 110 294 167 193 267 234 166  98 124 101 287 242 233\n",
        " 109  54 152 212 176  45 168 243 231 198  74 130]"
       ]
      },
      {
       "output_type": "stream",
       "stream": "stdout",
       "text": [
        "\n",
        "\toptimized a=1.291550\tb=0.366667\n",
        "\texpn:[1.2915496650148841, 0.4735682105054575, 0.17364167718533438]\n",
        "\n",
        "\tvalidation set: [ 57 138 228   5 254 218  92 126  60 288 219 236 237 119 120 208 190 155\n",
        "  26 162 197 274 246  64 151 145  32  11 192 146]"
       ]
      },
      {
       "output_type": "stream",
       "stream": "stdout",
       "text": [
        "\n",
        "\toptimized a=3.593814\tb=0.300000\n",
        "\texpn:[3.5938136638046259, 1.0781440991413878, 0.32344322974241629]\n",
        "\n",
        "\tvalidation set: [ 83 262 220 248 113  95 232 207  44 204  52  49  63 128 215  91 238 203\n",
        " 122  12  90  38 149 269  50 241 217  36 169 255]"
       ]
      },
      {
       "output_type": "stream",
       "stream": "stdout",
       "text": [
        "\n",
        "\toptimized a=1.291550\tb=0.500000\n",
        "\texpn:[1.2915496650148841, 0.64577483250744205, 0.32288741625372103]\n",
        "\n",
        "\tvalidation set: [164  56 100 161   9  47  23  68  51 159 229 185 276 147  37 178 108 200\n",
        " 244 194  81 251 181 240 136  69 213 137  28  86]"
       ]
      },
      {
       "output_type": "stream",
       "stream": "stdout",
       "text": [
        "\n",
        "\toptimized a=1.291550\tb=0.366667\n",
        "\texpn:[1.2915496650148841, 0.4735682105054575, 0.17364167718533438]\n",
        "\n",
        "\tvalidation set: [ 34 184   4 293   6 235 281 292  30 170 259 261 226  21 156 177 111 143\n",
        "  15  79 182 257 282  78 286  84  65 115 150 191]"
       ]
      },
      {
       "output_type": "stream",
       "stream": "stdout",
       "text": [
        "\n",
        "\toptimized a=3.593814\tb=0.500000\n",
        "\texpn:[3.5938136638046259, 1.7969068319023129, 0.89845341595115646]\n",
        "\n",
        "\tvalidation set: [132 144  66 260 189  14 265 129 142 253 214 290 263  31 279 201  76 148\n",
        " 180 225 127  80  33 133   2   7 106 280 173  20]"
       ]
      },
      {
       "output_type": "stream",
       "stream": "stdout",
       "text": [
        "\n",
        "\toptimized a=1.291550\tb=0.333333\n",
        "\texpn:[1.2915496650148841, 0.43051655500496133, 0.14350551833498712]\n",
        "\n",
        "\tvalidation set: [ 41 154 268 209  22 187   0 211 114 141 118 123 285 284 165 175 139  59\n",
        "  58  17  99 252 199 205  25 183  36 291 140 134]"
       ]
      },
      {
       "output_type": "stream",
       "stream": "stdout",
       "text": [
        "\n",
        "\toptimized a=3.593814\tb=0.433333\n",
        "\texpn:[3.5938136638046259, 1.557319254315338, 0.67483834353664651]\n",
        "\n",
        "from cross validation:\n",
        "optimized a=1.291550\tb=0.400000\n",
        "optimized new shell: [('s', [(1.2915496650148841, 1.0)]), ('s', [(0.51661986600595367, 1.0)]), ('s', [(0.20664794640238149, 1.0)])]\n",
        "fitting density for #0 #1 #2 #3 #4 #5 #6 #7 #8 #9 #10 #11 #12 #13 #14 #15 #16 #17 #18 #19 #20 #21 "
       ]
      },
      {
       "output_type": "stream",
       "stream": "stdout",
       "text": [
        "#22 #23 #24 #25 #26 #27 #28 #29 #30 #31 #32 #33 #34 #35 #36 #37 #38 #39 #40 #41 #42 #43 #44 #45 #46 "
       ]
      },
      {
       "output_type": "stream",
       "stream": "stdout",
       "text": [
        "#47 #48 #49 #50 #51 #52 #53 #54 #55 #56 #57 #58 #59 #60 #61 #62 #63 #64 #65 #66 #67 #68 #69 #70 #71 "
       ]
      },
      {
       "output_type": "stream",
       "stream": "stdout",
       "text": [
        "#72 #73 #74 #75 #76 #77 #78 #79 #80 #81 #82 #83 #84 #85 #86 #87 #88 #89 #90 #91 #92 #93 #94 #95 #96 "
       ]
      },
      {
       "output_type": "stream",
       "stream": "stdout",
       "text": [
        "#97 #98 #99 #100 #101 #102 #103 #104 #105 "
       ]
      },
      {
       "output_type": "stream",
       "stream": "stdout",
       "text": [
        "#106 #107 #108 #109 #110 #111 #112 "
       ]
      },
      {
       "output_type": "stream",
       "stream": "stdout",
       "text": [
        "#113 #114 #115 #116 #117 #118 #119 "
       ]
      },
      {
       "output_type": "stream",
       "stream": "stdout",
       "text": [
        "#120 #121 #122 #123 #124 #125 "
       ]
      },
      {
       "output_type": "stream",
       "stream": "stdout",
       "text": [
        "#126 #127 #128 #129 #130 #131 #132 "
       ]
      },
      {
       "output_type": "stream",
       "stream": "stdout",
       "text": [
        "#133 #134 #135 #136 #137 #138 #139 "
       ]
      },
      {
       "output_type": "stream",
       "stream": "stdout",
       "text": [
        "#140 #141 #142 #143 #144 #145 "
       ]
      },
      {
       "output_type": "stream",
       "stream": "stdout",
       "text": [
        "#146 #147 #148 #149 #150 #151 #152 "
       ]
      },
      {
       "output_type": "stream",
       "stream": "stdout",
       "text": [
        "#153 #154 #155 #156 #157 #158 #159 "
       ]
      },
      {
       "output_type": "stream",
       "stream": "stdout",
       "text": [
        "#160 #161 #162 #163 #164 #165 #166 "
       ]
      },
      {
       "output_type": "stream",
       "stream": "stdout",
       "text": [
        "#167 #168 #169 #170 #171 #172 #173 #174 "
       ]
      },
      {
       "output_type": "stream",
       "stream": "stdout",
       "text": [
        "#175 #176 #177 #178 #179 #180 #181 "
       ]
      },
      {
       "output_type": "stream",
       "stream": "stdout",
       "text": [
        "#182 #183 #184 #185 #186 #187 "
       ]
      },
      {
       "output_type": "stream",
       "stream": "stdout",
       "text": [
        "#188 #189 #190 #191 #192 #193 "
       ]
      },
      {
       "output_type": "stream",
       "stream": "stdout",
       "text": [
        "#194 #195 #196 #197 #198 #199 #200 "
       ]
      },
      {
       "output_type": "stream",
       "stream": "stdout",
       "text": [
        "#201 #202 "
       ]
      },
      {
       "output_type": "stream",
       "stream": "stdout",
       "text": [
        "#203 #204 "
       ]
      },
      {
       "output_type": "stream",
       "stream": "stdout",
       "text": [
        "#205 #206 "
       ]
      },
      {
       "output_type": "stream",
       "stream": "stdout",
       "text": [
        "#207 #208 "
       ]
      },
      {
       "output_type": "stream",
       "stream": "stdout",
       "text": [
        "#209 #210 "
       ]
      },
      {
       "output_type": "stream",
       "stream": "stdout",
       "text": [
        "#211 "
       ]
      },
      {
       "output_type": "stream",
       "stream": "stdout",
       "text": [
        "#212 #213 "
       ]
      },
      {
       "output_type": "stream",
       "stream": "stdout",
       "text": [
        "#214 #215 "
       ]
      },
      {
       "output_type": "stream",
       "stream": "stdout",
       "text": [
        "#216 #217 "
       ]
      },
      {
       "output_type": "stream",
       "stream": "stdout",
       "text": [
        "#218 #219 "
       ]
      },
      {
       "output_type": "stream",
       "stream": "stdout",
       "text": [
        "#220 #221 "
       ]
      },
      {
       "output_type": "stream",
       "stream": "stdout",
       "text": [
        "#222 #223 "
       ]
      },
      {
       "output_type": "stream",
       "stream": "stdout",
       "text": [
        "#224 #225 "
       ]
      },
      {
       "output_type": "stream",
       "stream": "stdout",
       "text": [
        "#226 #227 "
       ]
      },
      {
       "output_type": "stream",
       "stream": "stdout",
       "text": [
        "#228 "
       ]
      },
      {
       "output_type": "stream",
       "stream": "stdout",
       "text": [
        "#229 #230 "
       ]
      },
      {
       "output_type": "stream",
       "stream": "stdout",
       "text": [
        "#231 #232 "
       ]
      },
      {
       "output_type": "stream",
       "stream": "stdout",
       "text": [
        "#233 "
       ]
      },
      {
       "output_type": "stream",
       "stream": "stdout",
       "text": [
        "#234 "
       ]
      },
      {
       "output_type": "stream",
       "stream": "stdout",
       "text": [
        "#235 #236 "
       ]
      },
      {
       "output_type": "stream",
       "stream": "stdout",
       "text": [
        "#237 "
       ]
      },
      {
       "output_type": "stream",
       "stream": "stdout",
       "text": [
        "#238 #239 "
       ]
      },
      {
       "output_type": "stream",
       "stream": "stdout",
       "text": [
        "#240 "
       ]
      },
      {
       "output_type": "stream",
       "stream": "stdout",
       "text": [
        "#241 #242 "
       ]
      },
      {
       "output_type": "stream",
       "stream": "stdout",
       "text": [
        "#243 #244 "
       ]
      },
      {
       "output_type": "stream",
       "stream": "stdout",
       "text": [
        "#245 #246 "
       ]
      },
      {
       "output_type": "stream",
       "stream": "stdout",
       "text": [
        "#247 #248 "
       ]
      },
      {
       "output_type": "stream",
       "stream": "stdout",
       "text": [
        "#249 #250 "
       ]
      },
      {
       "output_type": "stream",
       "stream": "stdout",
       "text": [
        "#251 #252 "
       ]
      },
      {
       "output_type": "stream",
       "stream": "stdout",
       "text": [
        "#253 #254 "
       ]
      },
      {
       "output_type": "stream",
       "stream": "stdout",
       "text": [
        "#255 #256 "
       ]
      },
      {
       "output_type": "stream",
       "stream": "stdout",
       "text": [
        "#257 #258 "
       ]
      },
      {
       "output_type": "stream",
       "stream": "stdout",
       "text": [
        "#259 #260 "
       ]
      },
      {
       "output_type": "stream",
       "stream": "stdout",
       "text": [
        "#261 #262 "
       ]
      },
      {
       "output_type": "stream",
       "stream": "stdout",
       "text": [
        "#263 #264 "
       ]
      },
      {
       "output_type": "stream",
       "stream": "stdout",
       "text": [
        "#265 #266 "
       ]
      },
      {
       "output_type": "stream",
       "stream": "stdout",
       "text": [
        "#267 #268 "
       ]
      },
      {
       "output_type": "stream",
       "stream": "stdout",
       "text": [
        "#269 #270 "
       ]
      },
      {
       "output_type": "stream",
       "stream": "stdout",
       "text": [
        "#271 #272 "
       ]
      },
      {
       "output_type": "stream",
       "stream": "stdout",
       "text": [
        "#273 #274 "
       ]
      },
      {
       "output_type": "stream",
       "stream": "stdout",
       "text": [
        "#275 #276 "
       ]
      },
      {
       "output_type": "stream",
       "stream": "stdout",
       "text": [
        "#277 #278 "
       ]
      },
      {
       "output_type": "stream",
       "stream": "stdout",
       "text": [
        "#279 #280 "
       ]
      },
      {
       "output_type": "stream",
       "stream": "stdout",
       "text": [
        "#281 #282 "
       ]
      },
      {
       "output_type": "stream",
       "stream": "stdout",
       "text": [
        "#283 #284 "
       ]
      },
      {
       "output_type": "stream",
       "stream": "stdout",
       "text": [
        "#285 #286 "
       ]
      },
      {
       "output_type": "stream",
       "stream": "stdout",
       "text": [
        "#287 #288 "
       ]
      },
      {
       "output_type": "stream",
       "stream": "stdout",
       "text": [
        "#289 #290 "
       ]
      },
      {
       "output_type": "stream",
       "stream": "stdout",
       "text": [
        "#291 #292 "
       ]
      },
      {
       "output_type": "stream",
       "stream": "stdout",
       "text": [
        "#293 #294\n",
        "MAE ="
       ]
      },
      {
       "output_type": "stream",
       "stream": "stdout",
       "text": [
        " 0.123643741232\n",
        "MAX = 0.709853473612\n",
        "MIN = 0.00343433743876\n"
       ]
      },
      {
       "metadata": {},
       "output_type": "display_data",
       "png": "[encoded data removed]",
       "text": [
        "<matplotlib.figure.Figure at 0x1108afed0>"
       ]
      }
     ],
     "prompt_number": 10
    },
    {
     "cell_type": "code",
     "collapsed": false,
     "input": [
      "s_shell_error = np.array(s_shell_error)\n",
      "plt.plot(s_shell_error[:,0] / err_rec[-1][0], \"r--\", label=\"MAE\")\n",
      "plt.plot(s_shell_error[:,1] / err_rec[-1][1], \"b--\", label=\"MAX\")\n",
      "plt.plot(s_shell_error[:,2] / err_rec[-1][2], \"g--\", label=\"MIN\")\n",
      "plt.legend(framealpha=0.5)\n",
      "plt.show()"
     ],
     "language": "python",
     "metadata": {},
     "outputs": [
      {
       "metadata": {},
       "output_type": "display_data",
       "png": "[encoded data removed]",
       "text": [
        "<matplotlib.figure.Figure at 0x113b94dd0>"
       ]
      }
     ],
     "prompt_number": 11
    },
    {
     "cell_type": "markdown",
     "metadata": {},
     "source": [
      "## add 2 s shell to basis data"
     ]
    },
    {
     "cell_type": "code",
     "collapsed": false,
     "input": [
      "fb.add_shell(1, shell_data_s2)"
     ],
     "language": "python",
     "metadata": {},
     "outputs": [],
     "prompt_number": 12
    },
    {
     "cell_type": "code",
     "collapsed": false,
     "input": [
      "fb.fit_density()\n",
      "err = fb.get_error()\n",
      "plt.plot(err)\n",
      "err_rec.append(err_info(err))"
     ],
     "language": "python",
     "metadata": {},
     "outputs": [
      {
       "output_type": "stream",
       "stream": "stdout",
       "text": [
        "fitting density for #0 #1 #2 #3 #4 #5 #6 #7 #8 #9 #10 #11 #12 #13 #14 #15 #16 #17 "
       ]
      },
      {
       "output_type": "stream",
       "stream": "stdout",
       "text": [
        "#18 #19 #20 #21 #22 #23 #24 #25 #26 #27 #28 #29 #30 #31 #32 #33 #34 #35 "
       ]
      },
      {
       "output_type": "stream",
       "stream": "stdout",
       "text": [
        "#36 #37 #38 #39 #40 #41 #42 #43 #44 #45 #46 #47 #48 #49 #50 #51 #52 #53 #54 #55 #56 #57 #58 #59 #60 #61 "
       ]
      },
      {
       "output_type": "stream",
       "stream": "stdout",
       "text": [
        "#62 #63 #64 #65 #66 #67 #68 #69 #70 #71 #72 #73 #74 #75 #76 #77 #78 #79 #80 #81 #82 "
       ]
      },
      {
       "output_type": "stream",
       "stream": "stdout",
       "text": [
        "#83 #84 #85 #86 #87 #88 #89 #90 #91 #92 #93 #94 #95 #96 #97 #98 #99 #100 #101 "
       ]
      },
      {
       "output_type": "stream",
       "stream": "stdout",
       "text": [
        "#102 #103 #104 #105 #106 #107 "
       ]
      },
      {
       "output_type": "stream",
       "stream": "stdout",
       "text": [
        "#108 #109 #110 #111 #112 #113 #114 #115 "
       ]
      },
      {
       "output_type": "stream",
       "stream": "stdout",
       "text": [
        "#116 #117 #118 #119 #120 #121 #122 #123 #124 "
       ]
      },
      {
       "output_type": "stream",
       "stream": "stdout",
       "text": [
        "#125 #126 #127 #128 #129 #130 #131 #132 "
       ]
      },
      {
       "output_type": "stream",
       "stream": "stdout",
       "text": [
        "#133 #134 #135 #136 #137 #138 #139 #140 "
       ]
      },
      {
       "output_type": "stream",
       "stream": "stdout",
       "text": [
        "#141 #142 #143 #144 #145 #146 #147 #148 "
       ]
      },
      {
       "output_type": "stream",
       "stream": "stdout",
       "text": [
        "#149 #150 #151 #152 #153 #154 #155 #156 "
       ]
      },
      {
       "output_type": "stream",
       "stream": "stdout",
       "text": [
        "#157 #158 #159 #160 #161 #162 #163 #164 #165 "
       ]
      },
      {
       "output_type": "stream",
       "stream": "stdout",
       "text": [
        "#166 #167 #168 #169 #170 #171 #172 #173 #174 "
       ]
      },
      {
       "output_type": "stream",
       "stream": "stdout",
       "text": [
        "#175 #176 #177 #178 #179 #180 #181 #182 #183 #184 "
       ]
      },
      {
       "output_type": "stream",
       "stream": "stdout",
       "text": [
        "#185 #186 #187 #188 #189 #190 #191 #192 #193 "
       ]
      },
      {
       "output_type": "stream",
       "stream": "stdout",
       "text": [
        "#194 #195 #196 #197 #198 #199 #200 "
       ]
      },
      {
       "output_type": "stream",
       "stream": "stdout",
       "text": [
        "#201 #202 "
       ]
      },
      {
       "output_type": "stream",
       "stream": "stdout",
       "text": [
        "#203 #204 "
       ]
      },
      {
       "output_type": "stream",
       "stream": "stdout",
       "text": [
        "#205 #206 "
       ]
      },
      {
       "output_type": "stream",
       "stream": "stdout",
       "text": [
        "#207 #208 "
       ]
      },
      {
       "output_type": "stream",
       "stream": "stdout",
       "text": [
        "#209 #210 "
       ]
      },
      {
       "output_type": "stream",
       "stream": "stdout",
       "text": [
        "#211 #212 "
       ]
      },
      {
       "output_type": "stream",
       "stream": "stdout",
       "text": [
        "#213 #214 "
       ]
      },
      {
       "output_type": "stream",
       "stream": "stdout",
       "text": [
        "#215 #216 "
       ]
      },
      {
       "output_type": "stream",
       "stream": "stdout",
       "text": [
        "#217 #218 "
       ]
      },
      {
       "output_type": "stream",
       "stream": "stdout",
       "text": [
        "#219 #220 "
       ]
      },
      {
       "output_type": "stream",
       "stream": "stdout",
       "text": [
        "#221 #222 "
       ]
      },
      {
       "output_type": "stream",
       "stream": "stdout",
       "text": [
        "#223 #224 "
       ]
      },
      {
       "output_type": "stream",
       "stream": "stdout",
       "text": [
        "#225 #226 "
       ]
      },
      {
       "output_type": "stream",
       "stream": "stdout",
       "text": [
        "#227 #228 "
       ]
      },
      {
       "output_type": "stream",
       "stream": "stdout",
       "text": [
        "#229 #230 "
       ]
      },
      {
       "output_type": "stream",
       "stream": "stdout",
       "text": [
        "#231 #232 "
       ]
      },
      {
       "output_type": "stream",
       "stream": "stdout",
       "text": [
        "#233 #234 "
       ]
      },
      {
       "output_type": "stream",
       "stream": "stdout",
       "text": [
        "#235 #236 "
       ]
      },
      {
       "output_type": "stream",
       "stream": "stdout",
       "text": [
        "#237 #238 "
       ]
      },
      {
       "output_type": "stream",
       "stream": "stdout",
       "text": [
        "#239 #240 "
       ]
      },
      {
       "output_type": "stream",
       "stream": "stdout",
       "text": [
        "#241 #242 "
       ]
      },
      {
       "output_type": "stream",
       "stream": "stdout",
       "text": [
        "#243 #244 "
       ]
      },
      {
       "output_type": "stream",
       "stream": "stdout",
       "text": [
        "#245 #246 "
       ]
      },
      {
       "output_type": "stream",
       "stream": "stdout",
       "text": [
        "#247 #248 "
       ]
      },
      {
       "output_type": "stream",
       "stream": "stdout",
       "text": [
        "#249 #250 "
       ]
      },
      {
       "output_type": "stream",
       "stream": "stdout",
       "text": [
        "#251 #252 "
       ]
      },
      {
       "output_type": "stream",
       "stream": "stdout",
       "text": [
        "#253 #254 "
       ]
      },
      {
       "output_type": "stream",
       "stream": "stdout",
       "text": [
        "#255 #256 "
       ]
      },
      {
       "output_type": "stream",
       "stream": "stdout",
       "text": [
        "#257 #258 "
       ]
      },
      {
       "output_type": "stream",
       "stream": "stdout",
       "text": [
        "#259 #260 "
       ]
      },
      {
       "output_type": "stream",
       "stream": "stdout",
       "text": [
        "#261 #262 "
       ]
      },
      {
       "output_type": "stream",
       "stream": "stdout",
       "text": [
        "#263 #264 "
       ]
      },
      {
       "output_type": "stream",
       "stream": "stdout",
       "text": [
        "#265 #266 "
       ]
      },
      {
       "output_type": "stream",
       "stream": "stdout",
       "text": [
        "#267 #268 "
       ]
      },
      {
       "output_type": "stream",
       "stream": "stdout",
       "text": [
        "#269 #270 "
       ]
      },
      {
       "output_type": "stream",
       "stream": "stdout",
       "text": [
        "#271 #272 "
       ]
      },
      {
       "output_type": "stream",
       "stream": "stdout",
       "text": [
        "#273 #274 "
       ]
      },
      {
       "output_type": "stream",
       "stream": "stdout",
       "text": [
        "#275 #276 "
       ]
      },
      {
       "output_type": "stream",
       "stream": "stdout",
       "text": [
        "#277 #278 "
       ]
      },
      {
       "output_type": "stream",
       "stream": "stdout",
       "text": [
        "#279 #280 "
       ]
      },
      {
       "output_type": "stream",
       "stream": "stdout",
       "text": [
        "#281 #282 "
       ]
      },
      {
       "output_type": "stream",
       "stream": "stdout",
       "text": [
        "#283 #284 "
       ]
      },
      {
       "output_type": "stream",
       "stream": "stdout",
       "text": [
        "#285 #286 "
       ]
      },
      {
       "output_type": "stream",
       "stream": "stdout",
       "text": [
        "#287 #288 "
       ]
      },
      {
       "output_type": "stream",
       "stream": "stdout",
       "text": [
        "#289 #290 "
       ]
      },
      {
       "output_type": "stream",
       "stream": "stdout",
       "text": [
        "#291 #292 "
       ]
      },
      {
       "output_type": "stream",
       "stream": "stdout",
       "text": [
        "#293 #294\n",
        "MAE ="
       ]
      },
      {
       "output_type": "stream",
       "stream": "stdout",
       "text": [
        " 0.126978700969\n",
        "MAX = 0.701885292058\n",
        "MIN = 0.0108576146426\n"
       ]
      },
      {
       "metadata": {},
       "output_type": "display_data",
       "png": "[encoded data removed]",
       "text": [
        "<matplotlib.figure.Figure at 0x113cab4d0>"
       ]
      }
     ],
     "prompt_number": 13
    },
    {
     "cell_type": "markdown",
     "metadata": {},
     "source": [
      "# p shell"
     ]
    },
    {
     "cell_type": "code",
     "collapsed": false,
     "input": [
      "p_shell_error = []"
     ],
     "language": "python",
     "metadata": {},
     "outputs": [],
     "prompt_number": 14
    },
    {
     "cell_type": "markdown",
     "metadata": {},
     "source": [
      "## if put 1 p shell"
     ]
    },
    {
     "cell_type": "code",
     "collapsed": false,
     "input": [
      "shell_data_p1 = fb.optimize_bf(Z=1, shell='p', alist=np.logspace(-1, 1, 10), \n",
      "               blist=1, Nn=1, kfold=10, doadd=False, showerr=False)\n",
      "fb.add_shell(1,shell_data_p1)\n",
      "fb.fit_density()\n",
      "err = fb.get_error()\n",
      "plt.plot(err)\n",
      "p_shell_error.append(err_info(err))\n",
      "fb.remove_shell(1,shell_data_p1)"
     ],
     "language": "python",
     "metadata": {},
     "outputs": [
      {
       "output_type": "stream",
       "stream": "stdout",
       "text": [
        "optimize basis function with even-tempered method             with 10-fold cross validation\n",
        "add to basis data: False\n",
        "atomic index: 1\n",
        "shell: p\n",
        "list of a: [  0.1          0.16681005   0.27825594   0.46415888   0.77426368\n",
        "   1.29154967   2.15443469   3.59381366   5.9948425   10.        ]\n",
        "list of b: [1]\n",
        "number of new basis: 1\n",
        "\n",
        "\tvalidation set: [259 245 151 287  16  99 291 252 190 177  32 137 185 214  84 107 198 233\n",
        " 110 131 246 101  60 168  30 220  28 193 258   2]"
       ]
      },
      {
       "output_type": "stream",
       "stream": "stdout",
       "text": [
        "\n",
        "\toptimized a=0.464159\tb=1.000000\n",
        "\texpn:[0.46415888336127786]\n",
        "\n",
        "\tvalidation set: [ 29 154 256 164 160  61 135 138  20 290  55 128  83 241 282 182 149 255\n",
        " 106  37  45 240 127 211 273 119  28 118 203  26]"
       ]
      },
      {
       "output_type": "stream",
       "stream": "stdout",
       "text": [
        "\n",
        "\toptimized a=0.464159\tb=1.000000\n",
        "\texpn:[0.46415888336127786]\n",
        "\n",
        "\tvalidation set: [263 278 173 180 208   1 159  34 113  41  31 202 262 142  59 239 174 150\n",
        " 247 122 283 261 176  87 114  38  78 275 209   3]"
       ]
      },
      {
       "output_type": "stream",
       "stream": "stdout",
       "text": [
        "\n",
        "\toptimized a=0.278256\tb=1.000000\n",
        "\texpn:[0.27825594022071243]\n",
        "\n",
        "\tvalidation set: [166  66 280 117 207 199  40 292 223 115  75  33  48  23 104  96  98  95\n",
        "  80 156 124  49 161 237  38 279 200  92 222  47]"
       ]
      },
      {
       "output_type": "stream",
       "stream": "stdout",
       "text": [
        "\n",
        "\toptimized a=0.464159\tb=1.000000\n",
        "\texpn:[0.46415888336127786]\n",
        "\n",
        "\tvalidation set: [228 212  73 136 225 112 195 181 194  90  10 141   5 143 197  15 139  27\n",
        "  89  56  79 249 172  50  18 251 145  24  42 169]"
       ]
      },
      {
       "output_type": "stream",
       "stream": "stdout",
       "text": [
        "\n",
        "\toptimized a=0.464159\tb=1.000000\n",
        "\texpn:[0.46415888336127786]\n",
        "\n",
        "\tvalidation set: [226  11 192 248 277 257  67  53  39 175 250 158  17  25   6  44 236 265\n",
        "  63 130 116 165  69 144  85 288 105 294   4 219]"
       ]
      },
      {
       "output_type": "stream",
       "stream": "stdout",
       "text": [
        "\n",
        "\toptimized a=0.464159\tb=1.000000\n",
        "\texpn:[0.46415888336127786]\n",
        "\n",
        "\tvalidation set: [ 94 285  57  58 100  70 146 274 264 196 243 157 268 123 227 184  52  36\n",
        " 191   9 272 188 269 162   8 109 281 244 270 201]"
       ]
      },
      {
       "output_type": "stream",
       "stream": "stdout",
       "text": [
        "\n",
        "\toptimized a=0.464159\tb=1.000000\n",
        "\texpn:[0.46415888336127786]\n",
        "\n",
        "\tvalidation set: [189 267 178 108 205 183 231 140 129 170 253 121 167  88 132 232  46 215\n",
        "  65 217 179 229   0  76 284 242  93  35 163  71]"
       ]
      },
      {
       "output_type": "stream",
       "stream": "stdout",
       "text": [
        "\n",
        "\toptimized a=0.464159\tb=1.000000\n",
        "\texpn:[0.46415888336127786]\n",
        "\n",
        "\tvalidation set: [ 77 111 238 234 133  82 286  97 260  19 224  72  51  81  64 102 147 120\n",
        " 134  46 271 186 276  91 125 216 235 103 266 204]"
       ]
      },
      {
       "output_type": "stream",
       "stream": "stdout",
       "text": [
        "\n",
        "\toptimized a=0.278256\tb=1.000000\n",
        "\texpn:[0.27825594022071243]\n",
        "\n",
        "\tvalidation set: [  6 289  25  74 206 187  12  22 171 218 155 230  86  21 221  43 293 213\n",
        "  14 153  62 148  68  54 254  13 126 152   7 210]"
       ]
      },
      {
       "output_type": "stream",
       "stream": "stdout",
       "text": [
        "\n",
        "\toptimized a=0.464159\tb=1.000000\n",
        "\texpn:[0.46415888336127786]\n",
        "\n",
        "from cross validation:\n",
        "optimized a=0.464159\tb=1.000000\n",
        "optimized new shell: [('p', [(0.46415888336127786, 1.0)])]\n",
        "fitting density for #0 #1 #2 #3 #4 #5 #6 #7 #8 #9 #10 #11 #12 #13 #14 #15 #16 #17 #18 #19 #20 #21 "
       ]
      },
      {
       "output_type": "stream",
       "stream": "stdout",
       "text": [
        "#22 #23 #24 #25 #26 #27 #28 #29 #30 #31 #32 #33 #34 #35 #36 #37 #38 #39 "
       ]
      },
      {
       "output_type": "stream",
       "stream": "stdout",
       "text": [
        "#40 #41 #42 #43 #44 #45 #46 #47 #48 #49 #50 #51 #52 #53 #54 #55 "
       ]
      },
      {
       "output_type": "stream",
       "stream": "stdout",
       "text": [
        "#56 #57 #58 #59 #60 #61 #62 #63 #64 #65 #66 #67 #68 #69 #70 "
       ]
      },
      {
       "output_type": "stream",
       "stream": "stdout",
       "text": [
        "#71 #72 #73 #74 #75 #76 #77 #78 #79 #80 #81 #82 #83 #84 #85 #86 "
       ]
      },
      {
       "output_type": "stream",
       "stream": "stdout",
       "text": [
        "#87 #88 #89 #90 #91 #92 #93 #94 #95 #96 #97 #98 #99 #100 #101 "
       ]
      },
      {
       "output_type": "stream",
       "stream": "stdout",
       "text": [
        "#102 #103 #104 #105 #106 "
       ]
      },
      {
       "output_type": "stream",
       "stream": "stdout",
       "text": [
        "#107 #108 #109 #110 #111 "
       ]
      },
      {
       "output_type": "stream",
       "stream": "stdout",
       "text": [
        "#112 #113 #114 #115 #116 "
       ]
      },
      {
       "output_type": "stream",
       "stream": "stdout",
       "text": [
        "#117 #118 #119 #120 #121 "
       ]
      },
      {
       "output_type": "stream",
       "stream": "stdout",
       "text": [
        "#122 #123 #124 #125 #126 "
       ]
      },
      {
       "output_type": "stream",
       "stream": "stdout",
       "text": [
        "#127 #128 #129 #130 #131 "
       ]
      },
      {
       "output_type": "stream",
       "stream": "stdout",
       "text": [
        "#132 #133 #134 #135 #136 "
       ]
      },
      {
       "output_type": "stream",
       "stream": "stdout",
       "text": [
        "#137 #138 #139 #140 #141 "
       ]
      },
      {
       "output_type": "stream",
       "stream": "stdout",
       "text": [
        "#142 #143 #144 #145 #146 "
       ]
      },
      {
       "output_type": "stream",
       "stream": "stdout",
       "text": [
        "#147 #148 #149 #150 #151 "
       ]
      },
      {
       "output_type": "stream",
       "stream": "stdout",
       "text": [
        "#152 #153 #154 #155 #156 #157 "
       ]
      },
      {
       "output_type": "stream",
       "stream": "stdout",
       "text": [
        "#158 #159 #160 #161 #162 #163 "
       ]
      },
      {
       "output_type": "stream",
       "stream": "stdout",
       "text": [
        "#164 #165 #166 #167 #168 "
       ]
      },
      {
       "output_type": "stream",
       "stream": "stdout",
       "text": [
        "#169 #170 #171 #172 #173 "
       ]
      },
      {
       "output_type": "stream",
       "stream": "stdout",
       "text": [
        "#174 #175 #176 #177 #178 "
       ]
      },
      {
       "output_type": "stream",
       "stream": "stdout",
       "text": [
        "#179 #180 #181 #182 #183 "
       ]
      },
      {
       "output_type": "stream",
       "stream": "stdout",
       "text": [
        "#184 #185 #186 #187 #188 "
       ]
      },
      {
       "output_type": "stream",
       "stream": "stdout",
       "text": [
        "#189 #190 #191 #192 "
       ]
      },
      {
       "output_type": "stream",
       "stream": "stdout",
       "text": [
        "#193 #194 #195 #196 #197 "
       ]
      },
      {
       "output_type": "stream",
       "stream": "stdout",
       "text": [
        "#198 #199 #200 "
       ]
      },
      {
       "output_type": "stream",
       "stream": "stdout",
       "text": [
        "#201 "
       ]
      },
      {
       "output_type": "stream",
       "stream": "stdout",
       "text": [
        "#202 "
       ]
      },
      {
       "output_type": "stream",
       "stream": "stdout",
       "text": [
        "#203 #204 "
       ]
      },
      {
       "output_type": "stream",
       "stream": "stdout",
       "text": [
        "#205 "
       ]
      },
      {
       "output_type": "stream",
       "stream": "stdout",
       "text": [
        "#206 "
       ]
      },
      {
       "output_type": "stream",
       "stream": "stdout",
       "text": [
        "#207 "
       ]
      },
      {
       "output_type": "stream",
       "stream": "stdout",
       "text": [
        "#208 #209 "
       ]
      },
      {
       "output_type": "stream",
       "stream": "stdout",
       "text": [
        "#210 #211 "
       ]
      },
      {
       "output_type": "stream",
       "stream": "stdout",
       "text": [
        "#212 #213 "
       ]
      },
      {
       "output_type": "stream",
       "stream": "stdout",
       "text": [
        "#214 #215 "
       ]
      },
      {
       "output_type": "stream",
       "stream": "stdout",
       "text": [
        "#216 #217 "
       ]
      },
      {
       "output_type": "stream",
       "stream": "stdout",
       "text": [
        "#218 #219 "
       ]
      },
      {
       "output_type": "stream",
       "stream": "stdout",
       "text": [
        "#220 #221 "
       ]
      },
      {
       "output_type": "stream",
       "stream": "stdout",
       "text": [
        "#222 #223 "
       ]
      },
      {
       "output_type": "stream",
       "stream": "stdout",
       "text": [
        "#224 #225 "
       ]
      },
      {
       "output_type": "stream",
       "stream": "stdout",
       "text": [
        "#226 #227 "
       ]
      },
      {
       "output_type": "stream",
       "stream": "stdout",
       "text": [
        "#228 #229 "
       ]
      },
      {
       "output_type": "stream",
       "stream": "stdout",
       "text": [
        "#230 #231 "
       ]
      },
      {
       "output_type": "stream",
       "stream": "stdout",
       "text": [
        "#232 #233 "
       ]
      },
      {
       "output_type": "stream",
       "stream": "stdout",
       "text": [
        "#234 #235 "
       ]
      },
      {
       "output_type": "stream",
       "stream": "stdout",
       "text": [
        "#236 #237 "
       ]
      },
      {
       "output_type": "stream",
       "stream": "stdout",
       "text": [
        "#238 #239 "
       ]
      },
      {
       "output_type": "stream",
       "stream": "stdout",
       "text": [
        "#240 #241 "
       ]
      },
      {
       "output_type": "stream",
       "stream": "stdout",
       "text": [
        "#242 #243 "
       ]
      },
      {
       "output_type": "stream",
       "stream": "stdout",
       "text": [
        "#244 #245 "
       ]
      },
      {
       "output_type": "stream",
       "stream": "stdout",
       "text": [
        "#246 #247 "
       ]
      },
      {
       "output_type": "stream",
       "stream": "stdout",
       "text": [
        "#248 #249 "
       ]
      },
      {
       "output_type": "stream",
       "stream": "stdout",
       "text": [
        "#250 #251 "
       ]
      },
      {
       "output_type": "stream",
       "stream": "stdout",
       "text": [
        "#252 #253 "
       ]
      },
      {
       "output_type": "stream",
       "stream": "stdout",
       "text": [
        "#254 #255 "
       ]
      },
      {
       "output_type": "stream",
       "stream": "stdout",
       "text": [
        "#256 #257 "
       ]
      },
      {
       "output_type": "stream",
       "stream": "stdout",
       "text": [
        "#258 #259 "
       ]
      },
      {
       "output_type": "stream",
       "stream": "stdout",
       "text": [
        "#260 "
       ]
      },
      {
       "output_type": "stream",
       "stream": "stdout",
       "text": [
        "#261 #262 "
       ]
      },
      {
       "output_type": "stream",
       "stream": "stdout",
       "text": [
        "#263 #264 "
       ]
      },
      {
       "output_type": "stream",
       "stream": "stdout",
       "text": [
        "#265 #266 "
       ]
      },
      {
       "output_type": "stream",
       "stream": "stdout",
       "text": [
        "#267 #268 "
       ]
      },
      {
       "output_type": "stream",
       "stream": "stdout",
       "text": [
        "#269 #270 "
       ]
      },
      {
       "output_type": "stream",
       "stream": "stdout",
       "text": [
        "#271 #272 "
       ]
      },
      {
       "output_type": "stream",
       "stream": "stdout",
       "text": [
        "#273 #274 "
       ]
      },
      {
       "output_type": "stream",
       "stream": "stdout",
       "text": [
        "#275 #276 "
       ]
      },
      {
       "output_type": "stream",
       "stream": "stdout",
       "text": [
        "#277 #278 "
       ]
      },
      {
       "output_type": "stream",
       "stream": "stdout",
       "text": [
        "#279 #280 "
       ]
      },
      {
       "output_type": "stream",
       "stream": "stdout",
       "text": [
        "#281 #282 "
       ]
      },
      {
       "output_type": "stream",
       "stream": "stdout",
       "text": [
        "#283 #284 "
       ]
      },
      {
       "output_type": "stream",
       "stream": "stdout",
       "text": [
        "#285 #286 "
       ]
      },
      {
       "output_type": "stream",
       "stream": "stdout",
       "text": [
        "#287 "
       ]
      },
      {
       "output_type": "stream",
       "stream": "stdout",
       "text": [
        "#288 #289 "
       ]
      },
      {
       "output_type": "stream",
       "stream": "stdout",
       "text": [
        "#290 #291 "
       ]
      },
      {
       "output_type": "stream",
       "stream": "stdout",
       "text": [
        "#292 "
       ]
      },
      {
       "output_type": "stream",
       "stream": "stdout",
       "text": [
        "#293 #294\n",
        "MAE ="
       ]
      },
      {
       "output_type": "stream",
       "stream": "stdout",
       "text": [
        " 0.0186626545277\n",
        "MAX = 0.142789688578\n",
        "MIN = 0.00465540277319\n"
       ]
      },
      {
       "metadata": {},
       "output_type": "display_data",
       "png": "[encoded data removed]",
       "text": [
        "<matplotlib.figure.Figure at 0x113ba9050>"
       ]
      }
     ],
     "prompt_number": 15
    },
    {
     "cell_type": "markdown",
     "metadata": {},
     "source": [
      "## if put 2 p shell"
     ]
    },
    {
     "cell_type": "code",
     "collapsed": false,
     "input": [
      "shell_data_p2 = fb.optimize_bf(Z=1, shell='p', alist=np.logspace(-1, 1, 10), \n",
      "               blist=np.linspace(0.3,0.6,10), Nn=2, kfold=10, doadd=False, showerr=False)\n",
      "fb.add_shell(1,shell_data_p2)\n",
      "fb.fit_density()\n",
      "err = fb.get_error()\n",
      "plt.plot(err)\n",
      "p_shell_error.append(err_info(err))\n",
      "fb.remove_shell(1,shell_data_p2)"
     ],
     "language": "python",
     "metadata": {},
     "outputs": [
      {
       "output_type": "stream",
       "stream": "stdout",
       "text": [
        "optimize basis function with even-tempered method             with 10-fold cross validation\n",
        "add to basis data: False\n",
        "atomic index: 1\n",
        "shell: p\n",
        "list of a: [  0.1          0.16681005   0.27825594   0.46415888   0.77426368\n",
        "   1.29154967   2.15443469   3.59381366   5.9948425   10.        ]\n",
        "list of b: [ 0.3         0.33333333  0.36666667  0.4         0.43333333  0.46666667\n",
        "  0.5         0.53333333  0.56666667  0.6       ]\n",
        "number of new basis: 2\n",
        "\n",
        "\tvalidation set: [268 116 227 177  95 258  81 287 103 126 118 232 189 128  78 112 120   2\n",
        "  44  36 104 170 231  85 276 101  98 206 249  35]"
       ]
      },
      {
       "output_type": "stream",
       "stream": "stdout",
       "text": [
        "\n",
        "\toptimized a=0.774264\tb=0.466667\n",
        "\texpn:[0.774263682681127, 0.36132305191785929]\n",
        "\n",
        "\tvalidation set: [151  12 201 145 215 200  25 279   3 267   0 141   9 211 173 237 246 108\n",
        " 256 245 214 209 139 284  62 149   6 193 233 259]"
       ]
      },
      {
       "output_type": "stream",
       "stream": "stdout",
       "text": [
        "\n",
        "\toptimized a=0.464159\tb=0.300000\n",
        "\texpn:[0.46415888336127786, 0.13924766500838334]\n",
        "\n",
        "\tvalidation set: [270 132 271  40 172 196  74 146 235 148  59  65  33 106 197  22  86  17\n",
        " 225 192 229 272 221  68   7 234 137  51 283 213]"
       ]
      },
      {
       "output_type": "stream",
       "stream": "stdout",
       "text": [
        "\n",
        "\toptimized a=0.774264\tb=0.500000\n",
        "\texpn:[0.774263682681127, 0.3871318413405635]\n",
        "\n",
        "\tvalidation set: [247   5 140 175 162 242  23 269 289 190 127 178 107 255 160 113  70  69\n",
        " 238  93 239 202 163   8 290 252 125 288  32  90]"
       ]
      },
      {
       "output_type": "stream",
       "stream": "stdout",
       "text": [
        "\n",
        "\toptimized a=0.774264\tb=0.500000\n",
        "\texpn:[0.774263682681127, 0.3871318413405635]\n",
        "\n",
        "\tvalidation set: [204 187 195  99 183 275  52 280 281  29 171  48  50 181 121 119 266 169\n",
        " 205  18 150 210 293  42 110 250  34  20  61 188]"
       ]
      },
      {
       "output_type": "stream",
       "stream": "stdout",
       "text": [
        "\n",
        "\toptimized a=0.774264\tb=0.500000\n",
        "\texpn:[0.774263682681127, 0.3871318413405635]\n",
        "\n",
        "\tvalidation set: [244 220 277 184 157  21 257   1 216 111  89  12 136 158 191 176  47  83\n",
        " 167  38 174 285 143  30 273 147 240 253  15 291]"
       ]
      },
      {
       "output_type": "stream",
       "stream": "stdout",
       "text": [
        "\n",
        "\toptimized a=0.774264\tb=0.500000\n",
        "\texpn:[0.774263682681127, 0.3871318413405635]\n",
        "\n",
        "\tvalidation set: [152  27 133 123 194  77  66 248  28 131  37 124 241 278 138 182 243  56\n",
        "  24 105  75  41 125 212 254 186  96 152  87 218]"
       ]
      },
      {
       "output_type": "stream",
       "stream": "stdout",
       "text": [
        "\n",
        "\toptimized a=0.774264\tb=0.500000\n",
        "\texpn:[0.774263682681127, 0.3871318413405635]\n",
        "\n",
        "\tvalidation set: [261 109 282 129 114 168  71  53 292  13  45 130  16  43 266 207 159 228\n",
        " 265 198  64 164 135 222  58 122  67 263  60 117]"
       ]
      },
      {
       "output_type": "stream",
       "stream": "stdout",
       "text": [
        "\n",
        "\toptimized a=1.291550\tb=0.300000\n",
        "\texpn:[1.2915496650148841, 0.38746489950446522]\n",
        "\n",
        "\tvalidation set: [ 54  26  94 179 161  46 102  72 144 156 226 236  80 262 219 155  11 294\n",
        "  63 264 230 223 199 165  79 100 166 260 102 153]"
       ]
      },
      {
       "output_type": "stream",
       "stream": "stdout",
       "text": [
        "\n",
        "\toptimized a=0.774264\tb=0.500000\n",
        "\texpn:[0.774263682681127, 0.3871318413405635]\n",
        "\n",
        "\tvalidation set: [ 55 224  92  39  82  76  31 180  97 154 203  84 208 115  19 217  57  88\n",
        " 185 134 251  49  73  91 274 142  14  10   4 286]"
       ]
      },
      {
       "output_type": "stream",
       "stream": "stdout",
       "text": [
        "\n",
        "\toptimized a=1.291550\tb=0.300000\n",
        "\texpn:[1.2915496650148841, 0.38746489950446522]\n",
        "\n",
        "from cross validation:\n",
        "optimized a=0.774264\tb=0.500000\n",
        "optimized new shell: [('p', [(0.774263682681127, 1.0)]), ('p', [(0.3871318413405635, 1.0)])]\n",
        "fitting density for #0 #1 #2 #3 #4 #5 #6 #7 #8 #9 #10 #11 #12 #13 #14 #15 #16 "
       ]
      },
      {
       "output_type": "stream",
       "stream": "stdout",
       "text": [
        "#17 #18 #19 #20 #21 #22 #23 #24 #25 #26 #27 #28 #29 #30 #31 #32 "
       ]
      },
      {
       "output_type": "stream",
       "stream": "stdout",
       "text": [
        "#33 #34 #35 #36 #37 #38 #39 #40 #41 #42 #43 #44 #45 #46 #47 "
       ]
      },
      {
       "output_type": "stream",
       "stream": "stdout",
       "text": [
        "#48 #49 #50 #51 #52 #53 #54 #55 #56 #57 #58 #59 #60 #61 #62 #63 "
       ]
      },
      {
       "output_type": "stream",
       "stream": "stdout",
       "text": [
        "#64 #65 #66 #67 #68 #69 #70 #71 #72 #73 #74 #75 #76 #77 #78 #79 #80 #81 #82 "
       ]
      },
      {
       "output_type": "stream",
       "stream": "stdout",
       "text": [
        "#83 #84 #85 #86 #87 #88 #89 #90 #91 #92 #93 #94 #95 #96 #97 #98 #99 #100 "
       ]
      },
      {
       "output_type": "stream",
       "stream": "stdout",
       "text": [
        "#101 #102 #103 #104 #105 "
       ]
      },
      {
       "output_type": "stream",
       "stream": "stdout",
       "text": [
        "#106 #107 #108 #109 #110 "
       ]
      },
      {
       "output_type": "stream",
       "stream": "stdout",
       "text": [
        "#111 #112 #113 #114 #115 "
       ]
      },
      {
       "output_type": "stream",
       "stream": "stdout",
       "text": [
        "#116 #117 #118 #119 "
       ]
      },
      {
       "output_type": "stream",
       "stream": "stdout",
       "text": [
        "#120 #121 #122 #123 #124 "
       ]
      },
      {
       "output_type": "stream",
       "stream": "stdout",
       "text": [
        "#125 #126 #127 #128 #129 "
       ]
      },
      {
       "output_type": "stream",
       "stream": "stdout",
       "text": [
        "#130 #131 #132 #133 #134 "
       ]
      },
      {
       "output_type": "stream",
       "stream": "stdout",
       "text": [
        "#135 #136 #137 #138 #139 "
       ]
      },
      {
       "output_type": "stream",
       "stream": "stdout",
       "text": [
        "#140 #141 #142 #143 #144 "
       ]
      },
      {
       "output_type": "stream",
       "stream": "stdout",
       "text": [
        "#145 #146 #147 #148 #149 "
       ]
      },
      {
       "output_type": "stream",
       "stream": "stdout",
       "text": [
        "#150 #151 #152 #153 #154 "
       ]
      },
      {
       "output_type": "stream",
       "stream": "stdout",
       "text": [
        "#155 #156 #157 #158 #159 "
       ]
      },
      {
       "output_type": "stream",
       "stream": "stdout",
       "text": [
        "#160 #161 #162 #163 #164 "
       ]
      },
      {
       "output_type": "stream",
       "stream": "stdout",
       "text": [
        "#165 #166 #167 #168 #169 "
       ]
      },
      {
       "output_type": "stream",
       "stream": "stdout",
       "text": [
        "#170 #171 #172 #173 #174 "
       ]
      },
      {
       "output_type": "stream",
       "stream": "stdout",
       "text": [
        "#175 #176 #177 #178 "
       ]
      },
      {
       "output_type": "stream",
       "stream": "stdout",
       "text": [
        "#179 #180 #181 #182 "
       ]
      },
      {
       "output_type": "stream",
       "stream": "stdout",
       "text": [
        "#183 #184 #185 #186 #187 "
       ]
      },
      {
       "output_type": "stream",
       "stream": "stdout",
       "text": [
        "#188 #189 #190 #191 #192 "
       ]
      },
      {
       "output_type": "stream",
       "stream": "stdout",
       "text": [
        "#193 #194 #195 #196 "
       ]
      },
      {
       "output_type": "stream",
       "stream": "stdout",
       "text": [
        "#197 #198 #199 #200 "
       ]
      },
      {
       "output_type": "stream",
       "stream": "stdout",
       "text": [
        "#201 "
       ]
      },
      {
       "output_type": "stream",
       "stream": "stdout",
       "text": [
        "#202 "
       ]
      },
      {
       "output_type": "stream",
       "stream": "stdout",
       "text": [
        "#203 "
       ]
      },
      {
       "output_type": "stream",
       "stream": "stdout",
       "text": [
        "#204 "
       ]
      },
      {
       "output_type": "stream",
       "stream": "stdout",
       "text": [
        "#205 "
       ]
      },
      {
       "output_type": "stream",
       "stream": "stdout",
       "text": [
        "#206 "
       ]
      },
      {
       "output_type": "stream",
       "stream": "stdout",
       "text": [
        "#207 "
       ]
      },
      {
       "output_type": "stream",
       "stream": "stdout",
       "text": [
        "#208 "
       ]
      },
      {
       "output_type": "stream",
       "stream": "stdout",
       "text": [
        "#209 "
       ]
      },
      {
       "output_type": "stream",
       "stream": "stdout",
       "text": [
        "#210 "
       ]
      },
      {
       "output_type": "stream",
       "stream": "stdout",
       "text": [
        "#211 "
       ]
      },
      {
       "output_type": "stream",
       "stream": "stdout",
       "text": [
        "#212 "
       ]
      },
      {
       "output_type": "stream",
       "stream": "stdout",
       "text": [
        "#213 "
       ]
      },
      {
       "output_type": "stream",
       "stream": "stdout",
       "text": [
        "#214 "
       ]
      },
      {
       "output_type": "stream",
       "stream": "stdout",
       "text": [
        "#215 "
       ]
      },
      {
       "output_type": "stream",
       "stream": "stdout",
       "text": [
        "#216 "
       ]
      },
      {
       "output_type": "stream",
       "stream": "stdout",
       "text": [
        "#217 "
       ]
      },
      {
       "output_type": "stream",
       "stream": "stdout",
       "text": [
        "#218 "
       ]
      },
      {
       "output_type": "stream",
       "stream": "stdout",
       "text": [
        "#219 "
       ]
      },
      {
       "output_type": "stream",
       "stream": "stdout",
       "text": [
        "#220 "
       ]
      },
      {
       "output_type": "stream",
       "stream": "stdout",
       "text": [
        "#221 "
       ]
      },
      {
       "output_type": "stream",
       "stream": "stdout",
       "text": [
        "#222 "
       ]
      },
      {
       "output_type": "stream",
       "stream": "stdout",
       "text": [
        "#223 "
       ]
      },
      {
       "output_type": "stream",
       "stream": "stdout",
       "text": [
        "#224 "
       ]
      },
      {
       "output_type": "stream",
       "stream": "stdout",
       "text": [
        "#225 "
       ]
      },
      {
       "output_type": "stream",
       "stream": "stdout",
       "text": [
        "#226 "
       ]
      },
      {
       "output_type": "stream",
       "stream": "stdout",
       "text": [
        "#227 "
       ]
      },
      {
       "output_type": "stream",
       "stream": "stdout",
       "text": [
        "#228 "
       ]
      },
      {
       "output_type": "stream",
       "stream": "stdout",
       "text": [
        "#229 "
       ]
      },
      {
       "output_type": "stream",
       "stream": "stdout",
       "text": [
        "#230 "
       ]
      },
      {
       "output_type": "stream",
       "stream": "stdout",
       "text": [
        "#231 "
       ]
      },
      {
       "output_type": "stream",
       "stream": "stdout",
       "text": [
        "#232 "
       ]
      },
      {
       "output_type": "stream",
       "stream": "stdout",
       "text": [
        "#233 "
       ]
      },
      {
       "output_type": "stream",
       "stream": "stdout",
       "text": [
        "#234 "
       ]
      },
      {
       "output_type": "stream",
       "stream": "stdout",
       "text": [
        "#235 "
       ]
      },
      {
       "output_type": "stream",
       "stream": "stdout",
       "text": [
        "#236 "
       ]
      },
      {
       "output_type": "stream",
       "stream": "stdout",
       "text": [
        "#237 "
       ]
      },
      {
       "output_type": "stream",
       "stream": "stdout",
       "text": [
        "#238 "
       ]
      },
      {
       "output_type": "stream",
       "stream": "stdout",
       "text": [
        "#239 "
       ]
      },
      {
       "output_type": "stream",
       "stream": "stdout",
       "text": [
        "#240 "
       ]
      },
      {
       "output_type": "stream",
       "stream": "stdout",
       "text": [
        "#241 "
       ]
      },
      {
       "output_type": "stream",
       "stream": "stdout",
       "text": [
        "#242 "
       ]
      },
      {
       "output_type": "stream",
       "stream": "stdout",
       "text": [
        "#243 "
       ]
      },
      {
       "output_type": "stream",
       "stream": "stdout",
       "text": [
        "#244 "
       ]
      },
      {
       "output_type": "stream",
       "stream": "stdout",
       "text": [
        "#245 "
       ]
      },
      {
       "output_type": "stream",
       "stream": "stdout",
       "text": [
        "#246 "
       ]
      },
      {
       "output_type": "stream",
       "stream": "stdout",
       "text": [
        "#247 "
       ]
      },
      {
       "output_type": "stream",
       "stream": "stdout",
       "text": [
        "#248 "
       ]
      },
      {
       "output_type": "stream",
       "stream": "stdout",
       "text": [
        "#249 "
       ]
      },
      {
       "output_type": "stream",
       "stream": "stdout",
       "text": [
        "#250 "
       ]
      },
      {
       "output_type": "stream",
       "stream": "stdout",
       "text": [
        "#251 "
       ]
      },
      {
       "output_type": "stream",
       "stream": "stdout",
       "text": [
        "#252 "
       ]
      },
      {
       "output_type": "stream",
       "stream": "stdout",
       "text": [
        "#253 "
       ]
      },
      {
       "output_type": "stream",
       "stream": "stdout",
       "text": [
        "#254 "
       ]
      },
      {
       "output_type": "stream",
       "stream": "stdout",
       "text": [
        "#255 "
       ]
      },
      {
       "output_type": "stream",
       "stream": "stdout",
       "text": [
        "#256 "
       ]
      },
      {
       "output_type": "stream",
       "stream": "stdout",
       "text": [
        "#257 "
       ]
      },
      {
       "output_type": "stream",
       "stream": "stdout",
       "text": [
        "#258 "
       ]
      },
      {
       "output_type": "stream",
       "stream": "stdout",
       "text": [
        "#259 "
       ]
      },
      {
       "output_type": "stream",
       "stream": "stdout",
       "text": [
        "#260 "
       ]
      },
      {
       "output_type": "stream",
       "stream": "stdout",
       "text": [
        "#261 "
       ]
      },
      {
       "output_type": "stream",
       "stream": "stdout",
       "text": [
        "#262 "
       ]
      },
      {
       "output_type": "stream",
       "stream": "stdout",
       "text": [
        "#263 "
       ]
      },
      {
       "output_type": "stream",
       "stream": "stdout",
       "text": [
        "#264 "
       ]
      },
      {
       "output_type": "stream",
       "stream": "stdout",
       "text": [
        "#265 "
       ]
      },
      {
       "output_type": "stream",
       "stream": "stdout",
       "text": [
        "#266 "
       ]
      },
      {
       "output_type": "stream",
       "stream": "stdout",
       "text": [
        "#267 "
       ]
      },
      {
       "output_type": "stream",
       "stream": "stdout",
       "text": [
        "#268 "
       ]
      },
      {
       "output_type": "stream",
       "stream": "stdout",
       "text": [
        "#269 "
       ]
      },
      {
       "output_type": "stream",
       "stream": "stdout",
       "text": [
        "#270 "
       ]
      },
      {
       "output_type": "stream",
       "stream": "stdout",
       "text": [
        "#271 "
       ]
      },
      {
       "output_type": "stream",
       "stream": "stdout",
       "text": [
        "#272 "
       ]
      },
      {
       "output_type": "stream",
       "stream": "stdout",
       "text": [
        "#273 "
       ]
      },
      {
       "output_type": "stream",
       "stream": "stdout",
       "text": [
        "#274 "
       ]
      },
      {
       "output_type": "stream",
       "stream": "stdout",
       "text": [
        "#275 "
       ]
      },
      {
       "output_type": "stream",
       "stream": "stdout",
       "text": [
        "#276 "
       ]
      },
      {
       "output_type": "stream",
       "stream": "stdout",
       "text": [
        "#277 "
       ]
      },
      {
       "output_type": "stream",
       "stream": "stdout",
       "text": [
        "#278 "
       ]
      },
      {
       "output_type": "stream",
       "stream": "stdout",
       "text": [
        "#279 "
       ]
      },
      {
       "output_type": "stream",
       "stream": "stdout",
       "text": [
        "#280 "
       ]
      },
      {
       "output_type": "stream",
       "stream": "stdout",
       "text": [
        "#281 "
       ]
      },
      {
       "output_type": "stream",
       "stream": "stdout",
       "text": [
        "#282 "
       ]
      },
      {
       "output_type": "stream",
       "stream": "stdout",
       "text": [
        "#283 "
       ]
      },
      {
       "output_type": "stream",
       "stream": "stdout",
       "text": [
        "#284 "
       ]
      },
      {
       "output_type": "stream",
       "stream": "stdout",
       "text": [
        "#285 "
       ]
      },
      {
       "output_type": "stream",
       "stream": "stdout",
       "text": [
        "#286 "
       ]
      },
      {
       "output_type": "stream",
       "stream": "stdout",
       "text": [
        "#287 "
       ]
      },
      {
       "output_type": "stream",
       "stream": "stdout",
       "text": [
        "#288 "
       ]
      },
      {
       "output_type": "stream",
       "stream": "stdout",
       "text": [
        "#289 "
       ]
      },
      {
       "output_type": "stream",
       "stream": "stdout",
       "text": [
        "#290 "
       ]
      },
      {
       "output_type": "stream",
       "stream": "stdout",
       "text": [
        "#291 "
       ]
      },
      {
       "output_type": "stream",
       "stream": "stdout",
       "text": [
        "#292 "
       ]
      },
      {
       "output_type": "stream",
       "stream": "stdout",
       "text": [
        "#293 "
       ]
      },
      {
       "output_type": "stream",
       "stream": "stdout",
       "text": [
        "#294\n",
        "MAE ="
       ]
      },
      {
       "output_type": "stream",
       "stream": "stdout",
       "text": [
        " 0.0141660858405\n",
        "MAX = 0.106330284694\n",
        "MIN = 0.00313507917112\n"
       ]
      },
      {
       "metadata": {},
       "output_type": "display_data",
       "png": "[encoded data removed]",
       "text": [
        "<matplotlib.figure.Figure at 0x1134d6690>"
       ]
      }
     ],
     "prompt_number": 16
    },
    {
     "cell_type": "markdown",
     "metadata": {},
     "source": [
      "## if put 3 p shell"
     ]
    },
    {
     "cell_type": "code",
     "collapsed": false,
     "input": [
      "shell_data_p3 = fb.optimize_bf(Z=1, shell='p', alist=np.logspace(-1, 1, 10), \n",
      "               blist=np.linspace(0.3,0.6,10), Nn=3, kfold=10, doadd=False, showerr=False)\n",
      "fb.add_shell(1,shell_data_p3)\n",
      "fb.fit_density()\n",
      "err = fb.get_error()\n",
      "plt.plot(err)\n",
      "p_shell_error.append(err_info(err))\n",
      "fb.remove_shell(1,shell_data_p3)"
     ],
     "language": "python",
     "metadata": {},
     "outputs": [
      {
       "output_type": "stream",
       "stream": "stdout",
       "text": [
        "optimize basis function with even-tempered method             with 10-fold cross validation\n",
        "add to basis data: False\n",
        "atomic index: 1\n",
        "shell: p\n",
        "list of a: [  0.1          0.16681005   0.27825594   0.46415888   0.77426368\n",
        "   1.29154967   2.15443469   3.59381366   5.9948425   10.        ]\n",
        "list of b: [ 0.3         0.33333333  0.36666667  0.4         0.43333333  0.46666667\n",
        "  0.5         0.53333333  0.56666667  0.6       ]\n",
        "number of new basis: 3\n",
        "\n",
        "\tvalidation set: [290 188  30 110  64 139 143 274 263  49 107 204  85  96  35 158 112  75\n",
        " 127 144 200  46 265 149 281 129 213 104 280 155]"
       ]
      },
      {
       "output_type": "stream",
       "stream": "stdout",
       "text": [
        "\n",
        "\toptimized a=0.774264\tb=0.400000\n",
        "\texpn:[0.774263682681127, 0.30970547307245083, 0.12388218922898034]\n",
        "\n",
        "\tvalidation set: [115 120  16   1 225 168 261 223 163 273 258 235 192 166  80   3 126 132\n",
        "  50 175 123  62  61 195 125 272 248 288  45 154]"
       ]
      },
      {
       "output_type": "stream",
       "stream": "stdout",
       "text": [
        "\n",
        "\toptimized a=0.774264\tb=0.466667\n",
        "\texpn:[0.774263682681127, 0.36132305191785929, 0.16861742422833434]\n",
        "\n",
        "\tvalidation set: [249 234  27 226 257 251  21 113 176 174  57 164 278 224 247  52 157 141\n",
        "  65 217  26 118 161  14 142  31 197  68  51  91]"
       ]
      },
      {
       "output_type": "stream",
       "stream": "stdout",
       "text": [
        "\n",
        "\toptimized a=0.464159\tb=0.600000\n",
        "\texpn:[0.46415888336127786, 0.27849533001676668, 0.16709719801006001]\n",
        "\n",
        "\tvalidation set: [246 105  53  18 269 219 242 293 206 131   7 291 214 181 275  78 151  34\n",
        " 146 264 239 173   5  56 177  19  84 172 243 285]"
       ]
      },
      {
       "output_type": "stream",
       "stream": "stdout",
       "text": [
        "\n",
        "\toptimized a=0.464159\tb=0.600000\n",
        "\texpn:[0.46415888336127786, 0.27849533001676668, 0.16709719801006001]\n",
        "\n",
        "\tvalidation set: [ 88 207 279 218  97  23  95 138 289 150  71  47 137 221 245  13 160 111\n",
        "  38 103  58 140 227 255  81 209  15 114   0 133]"
       ]
      },
      {
       "output_type": "stream",
       "stream": "stdout",
       "text": [
        "\n",
        "\toptimized a=0.774264\tb=0.466667\n",
        "\texpn:[0.774263682681127, 0.36132305191785929, 0.16861742422833434]\n",
        "\n",
        "\tvalidation set: [283  32 128 134  92  41 122 101 119  89 121  44 183 238  90 229  82 210\n",
        "   9 211  17 236 124 162 240  99 268 271  11 116]"
       ]
      },
      {
       "output_type": "stream",
       "stream": "stdout",
       "text": [
        "\n",
        "\toptimized a=0.774264\tb=0.466667\n",
        "\texpn:[0.774263682681127, 0.36132305191785929, 0.16861742422833434]\n",
        "\n",
        "\tvalidation set: [266 170 194 187 232  79  93 208 182 262  22  83 108   4 159 201 130  20\n",
        " 212 136 117 167   8  76  87  55 216  77 196  36]"
       ]
      },
      {
       "output_type": "stream",
       "stream": "stdout",
       "text": [
        "\n",
        "\toptimized a=0.774264\tb=0.433333\n",
        "\texpn:[0.774263682681127, 0.33551426249515504, 0.14538951374790052]\n",
        "\n",
        "\tvalidation set: [ 60  73  70 260 145 186 259 228  54   2 287 109 191  33 220 267 202 220\n",
        " 153  43 233  75 178 198 203 180  40  61 147 179]"
       ]
      },
      {
       "output_type": "stream",
       "stream": "stdout",
       "text": [
        "\n",
        "\toptimized a=0.464159\tb=0.566667\n",
        "\texpn:[0.46415888336127786, 0.26302336723805747, 0.14904657476823255]\n",
        "\n",
        "\tvalidation set: [282 152 294 286 135 230 237 148  72  28  94 231  24  74  59 254   6  10\n",
        " 156  37 253 102 292  12  39 244 270 171 205 165]"
       ]
      },
      {
       "output_type": "stream",
       "stream": "stdout",
       "text": [
        "\n",
        "\toptimized a=0.464159\tb=0.600000\n",
        "\texpn:[0.46415888336127786, 0.27849533001676668, 0.16709719801006001]\n",
        "\n",
        "\tvalidation set: [190  29  67 222 259 106  25  98  66 215 250 193  48 100 181 276  69 284\n",
        " 189 185 252  42 256 184  63 277 199 241 169  86]"
       ]
      },
      {
       "output_type": "stream",
       "stream": "stdout",
       "text": [
        "\n",
        "\toptimized a=0.464159\tb=0.600000\n",
        "\texpn:[0.46415888336127786, 0.27849533001676668, 0.16709719801006001]\n",
        "\n",
        "from cross validation:\n",
        "optimized a=0.619211\tb=0.516667\n",
        "optimized new shell: [('p', [(0.61921128302120243, 1.0)]), ('p', [(0.31992582956095456, 1.0)]), ('p', [(0.16529501193982649, 1.0)])]\n",
        "fitting density for #0 #1 #2 #3 #4 #5 #6 #7 #8 #9 #10 #11 #12 #13 #14 #15 #16 "
       ]
      },
      {
       "output_type": "stream",
       "stream": "stdout",
       "text": [
        "#17 #18 #19 #20 #21 #22 #23 #24 #25 #26 #27 #28 #29 #30 #31 "
       ]
      },
      {
       "output_type": "stream",
       "stream": "stdout",
       "text": [
        "#32 #33 #34 #35 #36 #37 #38 #39 #40 #41 #42 #43 #44 #45 #46 #47 #48 "
       ]
      },
      {
       "output_type": "stream",
       "stream": "stdout",
       "text": [
        "#49 #50 #51 #52 #53 #54 #55 #56 #57 #58 #59 #60 #61 #62 #63 #64 #65 "
       ]
      },
      {
       "output_type": "stream",
       "stream": "stdout",
       "text": [
        "#66 #67 #68 #69 #70 #71 #72 #73 #74 #75 #76 #77 #78 #79 #80 #81 #82 "
       ]
      },
      {
       "output_type": "stream",
       "stream": "stdout",
       "text": [
        "#83 #84 #85 #86 #87 #88 #89 #90 #91 #92 #93 #94 #95 #96 "
       ]
      },
      {
       "output_type": "stream",
       "stream": "stdout",
       "text": [
        "#97 #98 #99 #100 #101 #102 #103 "
       ]
      },
      {
       "output_type": "stream",
       "stream": "stdout",
       "text": [
        "#104 #105 #106 #107 #108 "
       ]
      },
      {
       "output_type": "stream",
       "stream": "stdout",
       "text": [
        "#109 #110 #111 #112 #113 "
       ]
      },
      {
       "output_type": "stream",
       "stream": "stdout",
       "text": [
        "#114 #115 #116 #117 #118 "
       ]
      },
      {
       "output_type": "stream",
       "stream": "stdout",
       "text": [
        "#119 #120 #121 #122 #123 "
       ]
      },
      {
       "output_type": "stream",
       "stream": "stdout",
       "text": [
        "#124 #125 #126 #127 #128 "
       ]
      },
      {
       "output_type": "stream",
       "stream": "stdout",
       "text": [
        "#129 #130 #131 #132 #133 "
       ]
      },
      {
       "output_type": "stream",
       "stream": "stdout",
       "text": [
        "#134 #135 #136 #137 "
       ]
      },
      {
       "output_type": "stream",
       "stream": "stdout",
       "text": [
        "#138 #139 #140 #141 #142 "
       ]
      },
      {
       "output_type": "stream",
       "stream": "stdout",
       "text": [
        "#143 #144 #145 #146 "
       ]
      },
      {
       "output_type": "stream",
       "stream": "stdout",
       "text": [
        "#147 #148 #149 #150 "
       ]
      },
      {
       "output_type": "stream",
       "stream": "stdout",
       "text": [
        "#151 #152 #153 #154 #155 "
       ]
      },
      {
       "output_type": "stream",
       "stream": "stdout",
       "text": [
        "#156 #157 #158 #159 #160 "
       ]
      },
      {
       "output_type": "stream",
       "stream": "stdout",
       "text": [
        "#161 #162 #163 #164 #165 "
       ]
      },
      {
       "output_type": "stream",
       "stream": "stdout",
       "text": [
        "#166 #167 #168 #169 #170 "
       ]
      },
      {
       "output_type": "stream",
       "stream": "stdout",
       "text": [
        "#171 #172 #173 #174 "
       ]
      },
      {
       "output_type": "stream",
       "stream": "stdout",
       "text": [
        "#175 #176 #177 #178 "
       ]
      },
      {
       "output_type": "stream",
       "stream": "stdout",
       "text": [
        "#179 #180 #181 #182 "
       ]
      },
      {
       "output_type": "stream",
       "stream": "stdout",
       "text": [
        "#183 #184 #185 #186 #187 "
       ]
      },
      {
       "output_type": "stream",
       "stream": "stdout",
       "text": [
        "#188 #189 #190 #191 #192 "
       ]
      },
      {
       "output_type": "stream",
       "stream": "stdout",
       "text": [
        "#193 #194 #195 #196 #197 "
       ]
      },
      {
       "output_type": "stream",
       "stream": "stdout",
       "text": [
        "#198 #199 #200 "
       ]
      },
      {
       "output_type": "stream",
       "stream": "stdout",
       "text": [
        "#201 "
       ]
      },
      {
       "output_type": "stream",
       "stream": "stdout",
       "text": [
        "#202 "
       ]
      },
      {
       "output_type": "stream",
       "stream": "stdout",
       "text": [
        "#203 "
       ]
      },
      {
       "output_type": "stream",
       "stream": "stdout",
       "text": [
        "#204 "
       ]
      },
      {
       "output_type": "stream",
       "stream": "stdout",
       "text": [
        "#205 "
       ]
      },
      {
       "output_type": "stream",
       "stream": "stdout",
       "text": [
        "#206 "
       ]
      },
      {
       "output_type": "stream",
       "stream": "stdout",
       "text": [
        "#207 "
       ]
      },
      {
       "output_type": "stream",
       "stream": "stdout",
       "text": [
        "#208 "
       ]
      },
      {
       "output_type": "stream",
       "stream": "stdout",
       "text": [
        "#209 "
       ]
      },
      {
       "output_type": "stream",
       "stream": "stdout",
       "text": [
        "#210 "
       ]
      },
      {
       "output_type": "stream",
       "stream": "stdout",
       "text": [
        "#211 "
       ]
      },
      {
       "output_type": "stream",
       "stream": "stdout",
       "text": [
        "#212 "
       ]
      },
      {
       "output_type": "stream",
       "stream": "stdout",
       "text": [
        "#213 "
       ]
      },
      {
       "output_type": "stream",
       "stream": "stdout",
       "text": [
        "#214 "
       ]
      },
      {
       "output_type": "stream",
       "stream": "stdout",
       "text": [
        "#215 "
       ]
      },
      {
       "output_type": "stream",
       "stream": "stdout",
       "text": [
        "#216 "
       ]
      },
      {
       "output_type": "stream",
       "stream": "stdout",
       "text": [
        "#217 "
       ]
      },
      {
       "output_type": "stream",
       "stream": "stdout",
       "text": [
        "#218 "
       ]
      },
      {
       "output_type": "stream",
       "stream": "stdout",
       "text": [
        "#219 "
       ]
      },
      {
       "output_type": "stream",
       "stream": "stdout",
       "text": [
        "#220 "
       ]
      },
      {
       "output_type": "stream",
       "stream": "stdout",
       "text": [
        "#221 "
       ]
      },
      {
       "output_type": "stream",
       "stream": "stdout",
       "text": [
        "#222 "
       ]
      },
      {
       "output_type": "stream",
       "stream": "stdout",
       "text": [
        "#223 "
       ]
      },
      {
       "output_type": "stream",
       "stream": "stdout",
       "text": [
        "#224 "
       ]
      },
      {
       "output_type": "stream",
       "stream": "stdout",
       "text": [
        "#225 "
       ]
      },
      {
       "output_type": "stream",
       "stream": "stdout",
       "text": [
        "#226 "
       ]
      },
      {
       "output_type": "stream",
       "stream": "stdout",
       "text": [
        "#227 "
       ]
      },
      {
       "output_type": "stream",
       "stream": "stdout",
       "text": [
        "#228 "
       ]
      },
      {
       "output_type": "stream",
       "stream": "stdout",
       "text": [
        "#229 "
       ]
      },
      {
       "output_type": "stream",
       "stream": "stdout",
       "text": [
        "#230 "
       ]
      },
      {
       "output_type": "stream",
       "stream": "stdout",
       "text": [
        "#231 "
       ]
      },
      {
       "output_type": "stream",
       "stream": "stdout",
       "text": [
        "#232 "
       ]
      },
      {
       "output_type": "stream",
       "stream": "stdout",
       "text": [
        "#233 "
       ]
      },
      {
       "output_type": "stream",
       "stream": "stdout",
       "text": [
        "#234 "
       ]
      },
      {
       "output_type": "stream",
       "stream": "stdout",
       "text": [
        "#235 "
       ]
      },
      {
       "output_type": "stream",
       "stream": "stdout",
       "text": [
        "#236 "
       ]
      },
      {
       "output_type": "stream",
       "stream": "stdout",
       "text": [
        "#237 "
       ]
      },
      {
       "output_type": "stream",
       "stream": "stdout",
       "text": [
        "#238 "
       ]
      },
      {
       "output_type": "stream",
       "stream": "stdout",
       "text": [
        "#239 "
       ]
      },
      {
       "output_type": "stream",
       "stream": "stdout",
       "text": [
        "#240 "
       ]
      },
      {
       "output_type": "stream",
       "stream": "stdout",
       "text": [
        "#241 "
       ]
      },
      {
       "output_type": "stream",
       "stream": "stdout",
       "text": [
        "#242 "
       ]
      },
      {
       "output_type": "stream",
       "stream": "stdout",
       "text": [
        "#243 "
       ]
      },
      {
       "output_type": "stream",
       "stream": "stdout",
       "text": [
        "#244 "
       ]
      },
      {
       "output_type": "stream",
       "stream": "stdout",
       "text": [
        "#245 "
       ]
      },
      {
       "output_type": "stream",
       "stream": "stdout",
       "text": [
        "#246 "
       ]
      },
      {
       "output_type": "stream",
       "stream": "stdout",
       "text": [
        "#247 "
       ]
      },
      {
       "output_type": "stream",
       "stream": "stdout",
       "text": [
        "#248 "
       ]
      },
      {
       "output_type": "stream",
       "stream": "stdout",
       "text": [
        "#249 "
       ]
      },
      {
       "output_type": "stream",
       "stream": "stdout",
       "text": [
        "#250 "
       ]
      },
      {
       "output_type": "stream",
       "stream": "stdout",
       "text": [
        "#251 "
       ]
      },
      {
       "output_type": "stream",
       "stream": "stdout",
       "text": [
        "#252 "
       ]
      },
      {
       "output_type": "stream",
       "stream": "stdout",
       "text": [
        "#253 "
       ]
      },
      {
       "output_type": "stream",
       "stream": "stdout",
       "text": [
        "#254 "
       ]
      },
      {
       "output_type": "stream",
       "stream": "stdout",
       "text": [
        "#255 "
       ]
      },
      {
       "output_type": "stream",
       "stream": "stdout",
       "text": [
        "#256 "
       ]
      },
      {
       "output_type": "stream",
       "stream": "stdout",
       "text": [
        "#257 "
       ]
      },
      {
       "output_type": "stream",
       "stream": "stdout",
       "text": [
        "#258 "
       ]
      },
      {
       "output_type": "stream",
       "stream": "stdout",
       "text": [
        "#259 "
       ]
      },
      {
       "output_type": "stream",
       "stream": "stdout",
       "text": [
        "#260 "
       ]
      },
      {
       "output_type": "stream",
       "stream": "stdout",
       "text": [
        "#261 "
       ]
      },
      {
       "output_type": "stream",
       "stream": "stdout",
       "text": [
        "#262 "
       ]
      },
      {
       "output_type": "stream",
       "stream": "stdout",
       "text": [
        "#263 "
       ]
      },
      {
       "output_type": "stream",
       "stream": "stdout",
       "text": [
        "#264 "
       ]
      },
      {
       "output_type": "stream",
       "stream": "stdout",
       "text": [
        "#265 "
       ]
      },
      {
       "output_type": "stream",
       "stream": "stdout",
       "text": [
        "#266 "
       ]
      },
      {
       "output_type": "stream",
       "stream": "stdout",
       "text": [
        "#267 "
       ]
      },
      {
       "output_type": "stream",
       "stream": "stdout",
       "text": [
        "#268 "
       ]
      },
      {
       "output_type": "stream",
       "stream": "stdout",
       "text": [
        "#269 "
       ]
      },
      {
       "output_type": "stream",
       "stream": "stdout",
       "text": [
        "#270 "
       ]
      },
      {
       "output_type": "stream",
       "stream": "stdout",
       "text": [
        "#271 "
       ]
      },
      {
       "output_type": "stream",
       "stream": "stdout",
       "text": [
        "#272 "
       ]
      },
      {
       "output_type": "stream",
       "stream": "stdout",
       "text": [
        "#273 "
       ]
      },
      {
       "output_type": "stream",
       "stream": "stdout",
       "text": [
        "#274 "
       ]
      },
      {
       "output_type": "stream",
       "stream": "stdout",
       "text": [
        "#275 "
       ]
      },
      {
       "output_type": "stream",
       "stream": "stdout",
       "text": [
        "#276 "
       ]
      },
      {
       "output_type": "stream",
       "stream": "stdout",
       "text": [
        "#277 "
       ]
      },
      {
       "output_type": "stream",
       "stream": "stdout",
       "text": [
        "#278 "
       ]
      },
      {
       "output_type": "stream",
       "stream": "stdout",
       "text": [
        "#279 "
       ]
      },
      {
       "output_type": "stream",
       "stream": "stdout",
       "text": [
        "#280 "
       ]
      },
      {
       "output_type": "stream",
       "stream": "stdout",
       "text": [
        "#281 "
       ]
      },
      {
       "output_type": "stream",
       "stream": "stdout",
       "text": [
        "#282 "
       ]
      },
      {
       "output_type": "stream",
       "stream": "stdout",
       "text": [
        "#283 "
       ]
      },
      {
       "output_type": "stream",
       "stream": "stdout",
       "text": [
        "#284 "
       ]
      },
      {
       "output_type": "stream",
       "stream": "stdout",
       "text": [
        "#285 "
       ]
      },
      {
       "output_type": "stream",
       "stream": "stdout",
       "text": [
        "#286 "
       ]
      },
      {
       "output_type": "stream",
       "stream": "stdout",
       "text": [
        "#287 "
       ]
      },
      {
       "output_type": "stream",
       "stream": "stdout",
       "text": [
        "#288 "
       ]
      },
      {
       "output_type": "stream",
       "stream": "stdout",
       "text": [
        "#289 "
       ]
      },
      {
       "output_type": "stream",
       "stream": "stdout",
       "text": [
        "#290 "
       ]
      },
      {
       "output_type": "stream",
       "stream": "stdout",
       "text": [
        "#291 "
       ]
      },
      {
       "output_type": "stream",
       "stream": "stdout",
       "text": [
        "#292 "
       ]
      },
      {
       "output_type": "stream",
       "stream": "stdout",
       "text": [
        "#293 "
       ]
      },
      {
       "output_type": "stream",
       "stream": "stdout",
       "text": [
        "#294\n",
        "MAE ="
       ]
      },
      {
       "output_type": "stream",
       "stream": "stdout",
       "text": [
        " 0.0128201621907\n",
        "MAX = 0.0379866722913\n",
        "MIN = 0.000763921634142\n"
       ]
      },
      {
       "metadata": {},
       "output_type": "display_data",
       "png": "[encoded data removed]",
       "text": [
        "<matplotlib.figure.Figure at 0x113b03250>"
       ]
      }
     ],
     "prompt_number": 17
    },
    {
     "cell_type": "code",
     "collapsed": false,
     "input": [
      "p_shell_error = np.array(p_shell_error)\n",
      "plt.plot(p_shell_error[:,0] / err_rec[-1][0], \"r--\", label=\"MAE\")\n",
      "plt.plot(p_shell_error[:,1] / err_rec[-1][1], \"b--\", label=\"MAX\")\n",
      "plt.plot(p_shell_error[:,2] / err_rec[-1][2], \"g--\", label=\"MIN\")\n",
      "plt.legend(framealpha=0.5)\n",
      "plt.show()"
     ],
     "language": "python",
     "metadata": {},
     "outputs": [
      {
       "metadata": {},
       "output_type": "display_data",
       "png": "[encoded data removed]",
       "text": [
        "<matplotlib.figure.Figure at 0x113b94350>"
       ]
      }
     ],
     "prompt_number": 18
    },
    {
     "cell_type": "markdown",
     "metadata": {},
     "source": [
      "## add 3 p shell to basis data"
     ]
    },
    {
     "cell_type": "code",
     "collapsed": false,
     "input": [
      "fb.add_shell(1, shell_data_p3)"
     ],
     "language": "python",
     "metadata": {},
     "outputs": [],
     "prompt_number": 19
    },
    {
     "cell_type": "code",
     "collapsed": false,
     "input": [
      "fb.fit_density()\n",
      "err = fb.get_error()\n",
      "plt.plot(err)\n",
      "err_rec.append(err_info(err))"
     ],
     "language": "python",
     "metadata": {},
     "outputs": [
      {
       "output_type": "stream",
       "stream": "stdout",
       "text": [
        "fitting density for #0 #1 #2 #3 #4 #5 #6 #7 #8 "
       ]
      },
      {
       "output_type": "stream",
       "stream": "stdout",
       "text": [
        "#9 #10 #11 #12 #13 #14 #15 #16 #17 #18 #19 "
       ]
      },
      {
       "output_type": "stream",
       "stream": "stdout",
       "text": [
        "#20 #21 #22 #23 #24 #25 #26 #27 #28 #29 #30 "
       ]
      },
      {
       "output_type": "stream",
       "stream": "stdout",
       "text": [
        "#31 #32 #33 #34 #35 #36 #37 #38 #39 #40 #41 #42 #43 #44 #45 "
       ]
      },
      {
       "output_type": "stream",
       "stream": "stdout",
       "text": [
        "#46 #47 #48 #49 #50 #51 #52 #53 #54 #55 #56 #57 #58 "
       ]
      },
      {
       "output_type": "stream",
       "stream": "stdout",
       "text": [
        "#59 #60 #61 #62 #63 #64 #65 #66 #67 #68 #69 #70 #71 #72 #73 #74 "
       ]
      },
      {
       "output_type": "stream",
       "stream": "stdout",
       "text": [
        "#75 #76 #77 #78 #79 #80 #81 #82 #83 #84 #85 #86 #87 #88 #89 "
       ]
      },
      {
       "output_type": "stream",
       "stream": "stdout",
       "text": [
        "#90 #91 #92 #93 #94 #95 #96 #97 #98 #99 #100 #101 "
       ]
      },
      {
       "output_type": "stream",
       "stream": "stdout",
       "text": [
        "#102 #103 #104 #105 "
       ]
      },
      {
       "output_type": "stream",
       "stream": "stdout",
       "text": [
        "#106 #107 #108 #109 "
       ]
      },
      {
       "output_type": "stream",
       "stream": "stdout",
       "text": [
        "#110 #111 #112 #113 "
       ]
      },
      {
       "output_type": "stream",
       "stream": "stdout",
       "text": [
        "#114 #115 #116 #117 "
       ]
      },
      {
       "output_type": "stream",
       "stream": "stdout",
       "text": [
        "#118 #119 #120 #121 "
       ]
      },
      {
       "output_type": "stream",
       "stream": "stdout",
       "text": [
        "#122 #123 #124 #125 "
       ]
      },
      {
       "output_type": "stream",
       "stream": "stdout",
       "text": [
        "#126 #127 #128 "
       ]
      },
      {
       "output_type": "stream",
       "stream": "stdout",
       "text": [
        "#129 #130 #131 "
       ]
      },
      {
       "output_type": "stream",
       "stream": "stdout",
       "text": [
        "#132 #133 #134 #135 "
       ]
      },
      {
       "output_type": "stream",
       "stream": "stdout",
       "text": [
        "#136 #137 #138 #139 "
       ]
      },
      {
       "output_type": "stream",
       "stream": "stdout",
       "text": [
        "#140 #141 #142 #143 "
       ]
      },
      {
       "output_type": "stream",
       "stream": "stdout",
       "text": [
        "#144 #145 #146 #147 "
       ]
      },
      {
       "output_type": "stream",
       "stream": "stdout",
       "text": [
        "#148 #149 #150 #151 "
       ]
      },
      {
       "output_type": "stream",
       "stream": "stdout",
       "text": [
        "#152 #153 #154 "
       ]
      },
      {
       "output_type": "stream",
       "stream": "stdout",
       "text": [
        "#155 #156 #157 #158 "
       ]
      },
      {
       "output_type": "stream",
       "stream": "stdout",
       "text": [
        "#159 #160 #161 #162 "
       ]
      },
      {
       "output_type": "stream",
       "stream": "stdout",
       "text": [
        "#163 #164 #165 #166 "
       ]
      },
      {
       "output_type": "stream",
       "stream": "stdout",
       "text": [
        "#167 #168 #169 #170 "
       ]
      },
      {
       "output_type": "stream",
       "stream": "stdout",
       "text": [
        "#171 #172 #173 "
       ]
      },
      {
       "output_type": "stream",
       "stream": "stdout",
       "text": [
        "#174 #175 #176 "
       ]
      },
      {
       "output_type": "stream",
       "stream": "stdout",
       "text": [
        "#177 #178 #179 "
       ]
      },
      {
       "output_type": "stream",
       "stream": "stdout",
       "text": [
        "#180 #181 #182 "
       ]
      },
      {
       "output_type": "stream",
       "stream": "stdout",
       "text": [
        "#183 #184 #185 "
       ]
      },
      {
       "output_type": "stream",
       "stream": "stdout",
       "text": [
        "#186 #187 #188 "
       ]
      },
      {
       "output_type": "stream",
       "stream": "stdout",
       "text": [
        "#189 #190 #191 "
       ]
      },
      {
       "output_type": "stream",
       "stream": "stdout",
       "text": [
        "#192 #193 #194 "
       ]
      },
      {
       "output_type": "stream",
       "stream": "stdout",
       "text": [
        "#195 #196 #197 "
       ]
      },
      {
       "output_type": "stream",
       "stream": "stdout",
       "text": [
        "#198 #199 #200 "
       ]
      },
      {
       "output_type": "stream",
       "stream": "stdout",
       "text": [
        "#201 "
       ]
      },
      {
       "output_type": "stream",
       "stream": "stdout",
       "text": [
        "#202 "
       ]
      },
      {
       "output_type": "stream",
       "stream": "stdout",
       "text": [
        "#203 "
       ]
      },
      {
       "output_type": "stream",
       "stream": "stdout",
       "text": [
        "#204 "
       ]
      },
      {
       "output_type": "stream",
       "stream": "stdout",
       "text": [
        "#205 "
       ]
      },
      {
       "output_type": "stream",
       "stream": "stdout",
       "text": [
        "#206 "
       ]
      },
      {
       "output_type": "stream",
       "stream": "stdout",
       "text": [
        "#207 "
       ]
      },
      {
       "output_type": "stream",
       "stream": "stdout",
       "text": [
        "#208 "
       ]
      },
      {
       "output_type": "stream",
       "stream": "stdout",
       "text": [
        "#209 "
       ]
      },
      {
       "output_type": "stream",
       "stream": "stdout",
       "text": [
        "#210 "
       ]
      },
      {
       "output_type": "stream",
       "stream": "stdout",
       "text": [
        "#211 "
       ]
      },
      {
       "output_type": "stream",
       "stream": "stdout",
       "text": [
        "#212 "
       ]
      },
      {
       "output_type": "stream",
       "stream": "stdout",
       "text": [
        "#213 "
       ]
      },
      {
       "output_type": "stream",
       "stream": "stdout",
       "text": [
        "#214 "
       ]
      },
      {
       "output_type": "stream",
       "stream": "stdout",
       "text": [
        "#215 "
       ]
      },
      {
       "output_type": "stream",
       "stream": "stdout",
       "text": [
        "#216 "
       ]
      },
      {
       "output_type": "stream",
       "stream": "stdout",
       "text": [
        "#217 "
       ]
      },
      {
       "output_type": "stream",
       "stream": "stdout",
       "text": [
        "#218 "
       ]
      },
      {
       "output_type": "stream",
       "stream": "stdout",
       "text": [
        "#219 "
       ]
      },
      {
       "output_type": "stream",
       "stream": "stdout",
       "text": [
        "#220 "
       ]
      },
      {
       "output_type": "stream",
       "stream": "stdout",
       "text": [
        "#221 "
       ]
      },
      {
       "output_type": "stream",
       "stream": "stdout",
       "text": [
        "#222 "
       ]
      },
      {
       "output_type": "stream",
       "stream": "stdout",
       "text": [
        "#223 "
       ]
      },
      {
       "output_type": "stream",
       "stream": "stdout",
       "text": [
        "#224 "
       ]
      },
      {
       "output_type": "stream",
       "stream": "stdout",
       "text": [
        "#225 "
       ]
      },
      {
       "output_type": "stream",
       "stream": "stdout",
       "text": [
        "#226 "
       ]
      },
      {
       "output_type": "stream",
       "stream": "stdout",
       "text": [
        "#227 "
       ]
      },
      {
       "output_type": "stream",
       "stream": "stdout",
       "text": [
        "#228 "
       ]
      },
      {
       "output_type": "stream",
       "stream": "stdout",
       "text": [
        "#229 "
       ]
      },
      {
       "output_type": "stream",
       "stream": "stdout",
       "text": [
        "#230 "
       ]
      },
      {
       "output_type": "stream",
       "stream": "stdout",
       "text": [
        "#231 "
       ]
      },
      {
       "output_type": "stream",
       "stream": "stdout",
       "text": [
        "#232 "
       ]
      },
      {
       "output_type": "stream",
       "stream": "stdout",
       "text": [
        "#233 "
       ]
      },
      {
       "output_type": "stream",
       "stream": "stdout",
       "text": [
        "#234 "
       ]
      },
      {
       "output_type": "stream",
       "stream": "stdout",
       "text": [
        "#235 "
       ]
      },
      {
       "output_type": "stream",
       "stream": "stdout",
       "text": [
        "#236 "
       ]
      },
      {
       "output_type": "stream",
       "stream": "stdout",
       "text": [
        "#237 "
       ]
      },
      {
       "output_type": "stream",
       "stream": "stdout",
       "text": [
        "#238 "
       ]
      },
      {
       "output_type": "stream",
       "stream": "stdout",
       "text": [
        "#239 "
       ]
      },
      {
       "output_type": "stream",
       "stream": "stdout",
       "text": [
        "#240 "
       ]
      },
      {
       "output_type": "stream",
       "stream": "stdout",
       "text": [
        "#241 "
       ]
      },
      {
       "output_type": "stream",
       "stream": "stdout",
       "text": [
        "#242 "
       ]
      },
      {
       "output_type": "stream",
       "stream": "stdout",
       "text": [
        "#243 "
       ]
      },
      {
       "output_type": "stream",
       "stream": "stdout",
       "text": [
        "#244 "
       ]
      },
      {
       "output_type": "stream",
       "stream": "stdout",
       "text": [
        "#245 "
       ]
      },
      {
       "output_type": "stream",
       "stream": "stdout",
       "text": [
        "#246 "
       ]
      },
      {
       "output_type": "stream",
       "stream": "stdout",
       "text": [
        "#247 "
       ]
      },
      {
       "output_type": "stream",
       "stream": "stdout",
       "text": [
        "#248 "
       ]
      },
      {
       "output_type": "stream",
       "stream": "stdout",
       "text": [
        "#249 "
       ]
      },
      {
       "output_type": "stream",
       "stream": "stdout",
       "text": [
        "#250 "
       ]
      },
      {
       "output_type": "stream",
       "stream": "stdout",
       "text": [
        "#251 "
       ]
      },
      {
       "output_type": "stream",
       "stream": "stdout",
       "text": [
        "#252 "
       ]
      },
      {
       "output_type": "stream",
       "stream": "stdout",
       "text": [
        "#253 "
       ]
      },
      {
       "output_type": "stream",
       "stream": "stdout",
       "text": [
        "#254 "
       ]
      },
      {
       "output_type": "stream",
       "stream": "stdout",
       "text": [
        "#255 "
       ]
      },
      {
       "output_type": "stream",
       "stream": "stdout",
       "text": [
        "#256 "
       ]
      },
      {
       "output_type": "stream",
       "stream": "stdout",
       "text": [
        "#257 "
       ]
      },
      {
       "output_type": "stream",
       "stream": "stdout",
       "text": [
        "#258 "
       ]
      },
      {
       "output_type": "stream",
       "stream": "stdout",
       "text": [
        "#259 "
       ]
      },
      {
       "output_type": "stream",
       "stream": "stdout",
       "text": [
        "#260 "
       ]
      },
      {
       "output_type": "stream",
       "stream": "stdout",
       "text": [
        "#261 "
       ]
      },
      {
       "output_type": "stream",
       "stream": "stdout",
       "text": [
        "#262 "
       ]
      },
      {
       "output_type": "stream",
       "stream": "stdout",
       "text": [
        "#263 "
       ]
      },
      {
       "output_type": "stream",
       "stream": "stdout",
       "text": [
        "#264 "
       ]
      },
      {
       "output_type": "stream",
       "stream": "stdout",
       "text": [
        "#265 "
       ]
      },
      {
       "output_type": "stream",
       "stream": "stdout",
       "text": [
        "#266 "
       ]
      },
      {
       "output_type": "stream",
       "stream": "stdout",
       "text": [
        "#267 "
       ]
      },
      {
       "output_type": "stream",
       "stream": "stdout",
       "text": [
        "#268 "
       ]
      },
      {
       "output_type": "stream",
       "stream": "stdout",
       "text": [
        "#269 "
       ]
      },
      {
       "output_type": "stream",
       "stream": "stdout",
       "text": [
        "#270 "
       ]
      },
      {
       "output_type": "stream",
       "stream": "stdout",
       "text": [
        "#271 "
       ]
      },
      {
       "output_type": "stream",
       "stream": "stdout",
       "text": [
        "#272 "
       ]
      },
      {
       "output_type": "stream",
       "stream": "stdout",
       "text": [
        "#273 "
       ]
      },
      {
       "output_type": "stream",
       "stream": "stdout",
       "text": [
        "#274 "
       ]
      },
      {
       "output_type": "stream",
       "stream": "stdout",
       "text": [
        "#275 "
       ]
      },
      {
       "output_type": "stream",
       "stream": "stdout",
       "text": [
        "#276 "
       ]
      },
      {
       "output_type": "stream",
       "stream": "stdout",
       "text": [
        "#277 "
       ]
      },
      {
       "output_type": "stream",
       "stream": "stdout",
       "text": [
        "#278 "
       ]
      },
      {
       "output_type": "stream",
       "stream": "stdout",
       "text": [
        "#279 "
       ]
      },
      {
       "output_type": "stream",
       "stream": "stdout",
       "text": [
        "#280 "
       ]
      },
      {
       "output_type": "stream",
       "stream": "stdout",
       "text": [
        "#281 "
       ]
      },
      {
       "output_type": "stream",
       "stream": "stdout",
       "text": [
        "#282 "
       ]
      },
      {
       "output_type": "stream",
       "stream": "stdout",
       "text": [
        "#283 "
       ]
      },
      {
       "output_type": "stream",
       "stream": "stdout",
       "text": [
        "#284 "
       ]
      },
      {
       "output_type": "stream",
       "stream": "stdout",
       "text": [
        "#285 "
       ]
      },
      {
       "output_type": "stream",
       "stream": "stdout",
       "text": [
        "#286 "
       ]
      },
      {
       "output_type": "stream",
       "stream": "stdout",
       "text": [
        "#287 "
       ]
      },
      {
       "output_type": "stream",
       "stream": "stdout",
       "text": [
        "#288 "
       ]
      },
      {
       "output_type": "stream",
       "stream": "stdout",
       "text": [
        "#289 "
       ]
      },
      {
       "output_type": "stream",
       "stream": "stdout",
       "text": [
        "#290 "
       ]
      },
      {
       "output_type": "stream",
       "stream": "stdout",
       "text": [
        "#291 "
       ]
      },
      {
       "output_type": "stream",
       "stream": "stdout",
       "text": [
        "#292 "
       ]
      },
      {
       "output_type": "stream",
       "stream": "stdout",
       "text": [
        "#293 "
       ]
      },
      {
       "output_type": "stream",
       "stream": "stdout",
       "text": [
        "#294\n",
        "MAE ="
       ]
      },
      {
       "output_type": "stream",
       "stream": "stdout",
       "text": [
        " 0.0128201621907\n",
        "MAX = 0.0379866722913\n",
        "MIN = 0.000763921634142\n"
       ]
      },
      {
       "metadata": {},
       "output_type": "display_data",
       "png": "[encoded data removed]",
       "text": [
        "<matplotlib.figure.Figure at 0x113342110>"
       ]
      }
     ],
     "prompt_number": 20
    },
    {
     "cell_type": "markdown",
     "metadata": {},
     "source": [
      "# d shell"
     ]
    },
    {
     "cell_type": "code",
     "collapsed": false,
     "input": [
      "d_shell_error = []"
     ],
     "language": "python",
     "metadata": {},
     "outputs": [],
     "prompt_number": 21
    },
    {
     "cell_type": "markdown",
     "metadata": {},
     "source": [
      "## if put 1 d shell"
     ]
    },
    {
     "cell_type": "code",
     "collapsed": false,
     "input": [
      "shell_data_d1 = fb.optimize_bf(Z=1, shell='d', alist=np.logspace(-1, 1, 10), \n",
      "               blist=1, Nn=1, kfold=10, doadd=False, showerr=False)\n",
      "fb.add_shell(1,shell_data_d1)\n",
      "fb.fit_density()\n",
      "err = fb.get_error()\n",
      "plt.plot(err)\n",
      "d_shell_error.append(err_info(err))\n",
      "fb.remove_shell(1,shell_data_d1)"
     ],
     "language": "python",
     "metadata": {},
     "outputs": [
      {
       "output_type": "stream",
       "stream": "stdout",
       "text": [
        "optimize basis function with even-tempered method             with 10-fold cross validation\n",
        "add to basis data: False\n",
        "atomic index: 1\n",
        "shell: d\n",
        "list of a: [  0.1          0.16681005   0.27825594   0.46415888   0.77426368\n",
        "   1.29154967   2.15443469   3.59381366   5.9948425   10.        ]\n",
        "list of b: [1]\n",
        "number of new basis: 1\n",
        "\n",
        "\tvalidation set: [206 286 176 188   3 143 158  20 221  28  60 172 249 183 225 258  36 134\n",
        "  98 234 287  80  75   7 130 276 142 175 288  77]"
       ]
      },
      {
       "output_type": "stream",
       "stream": "stdout",
       "text": [
        "\n",
        "\toptimized a=2.154435\tb=1.000000\n",
        "\texpn:[2.1544346900318834]\n",
        "\n",
        "\tvalidation set: [  4 293 151 102  91  64  50 211  30  27 128  12  95  45 178  49   0 179\n",
        " 147 278 290 237 232 117 123 114 235 116 190 285]"
       ]
      },
      {
       "output_type": "stream",
       "stream": "stdout",
       "text": [
        "\n",
        "\toptimized a=3.593814\tb=1.000000\n",
        "\texpn:[3.5938136638046259]\n",
        "\n",
        "\tvalidation set: [ 94  67  52 242  82 200 175  57  97 277 253 171 223  33 106 251 139 140\n",
        " 226  73  89 180  68  61 105 256 122  31 165 231]"
       ]
      },
      {
       "output_type": "stream",
       "stream": "stdout",
       "text": [
        "\n",
        "\toptimized a=3.593814\tb=1.000000\n",
        "\texpn:[3.5938136638046259]\n",
        "\n",
        "\tvalidation set: [255  92   1 155 205  93 137 127  99  38 133 100  37 194 161 244 271 259\n",
        "   5 201 213 103 152  84 262 166 243 240 217 197]"
       ]
      },
      {
       "output_type": "stream",
       "stream": "stdout",
       "text": [
        "\n",
        "\toptimized a=3.593814\tb=1.000000\n",
        "\texpn:[3.5938136638046259]\n",
        "\n",
        "\tvalidation set: [148 270 230  72  79  54 267  32 203 198 265 218  65 189 264 112 181 185\n",
        " 224  56  15  66 124 177 129  74 104  40 202 219]"
       ]
      },
      {
       "output_type": "stream",
       "stream": "stdout",
       "text": [
        "\n",
        "\toptimized a=2.154435\tb=1.000000\n",
        "\texpn:[2.1544346900318834]\n",
        "\n",
        "\tvalidation set: [222  87 136 236  55 196 273 227 162 153 248  18  22  35 289  25 146 154\n",
        "  90 138 229 157 107 111 170 187 245 215  62 199]"
       ]
      },
      {
       "output_type": "stream",
       "stream": "stdout",
       "text": [
        "\n",
        "\toptimized a=3.593814\tb=1.000000\n",
        "\texpn:[3.5938136638046259]\n",
        "\n",
        "\tvalidation set: [ 71 294  86 108  53  59 260 207  42   6   9 233 101 145 254 229 184 216\n",
        " 280 149  10 126  24 119  34  41 159  69 238 209]"
       ]
      },
      {
       "output_type": "stream",
       "stream": "stdout",
       "text": [
        "\n",
        "\toptimized a=3.593814\tb=1.000000\n",
        "\texpn:[3.5938136638046259]\n",
        "\n",
        "\tvalidation set: [ 63 250 292 274  78 168 164 174 163 169 208 125 230 109 144  43 283 214\n",
        "  29  26 132 275  58 241 257  76 269  39  14   8]"
       ]
      },
      {
       "output_type": "stream",
       "stream": "stdout",
       "text": [
        "\n",
        "\toptimized a=2.154435\tb=1.000000\n",
        "\texpn:[2.1544346900318834]\n",
        "\n",
        "\tvalidation set: [113 252  83 263  17  13  16 284 135 261 210 110 118  51 291 220 150 281\n",
        "  48 121 120 212 282 173 167  96 186  21  70 193]"
       ]
      },
      {
       "output_type": "stream",
       "stream": "stdout",
       "text": [
        "\n",
        "\toptimized a=2.154435\tb=1.000000\n",
        "\texpn:[2.1544346900318834]\n",
        "\n",
        "\tvalidation set: [ 46  11 141  65  47 246 266 272 247 239 131 204 182 191  81  88 115  19\n",
        " 156 268  23 160   2 159 228  85 195  44 279 192]"
       ]
      },
      {
       "output_type": "stream",
       "stream": "stdout",
       "text": [
        "\n",
        "\toptimized a=2.154435\tb=1.000000\n",
        "\texpn:[2.1544346900318834]\n",
        "\n",
        "from cross validation:\n",
        "optimized a=2.874124\tb=1.000000\n",
        "optimized new shell: [('d', [(2.8741241769182544, 1.0)])]\n",
        "fitting density for #0 #1 #2 #3 #4 #5 #6 #7 #8 #9 #10 #11 #12 "
       ]
      },
      {
       "output_type": "stream",
       "stream": "stdout",
       "text": [
        "#13 #14 #15 #16 #17 #18 #19 #20 #21 #22 #23 #24 #25 "
       ]
      },
      {
       "output_type": "stream",
       "stream": "stdout",
       "text": [
        "#26 #27 #28 #29 #30 #31 #32 #33 #34 #35 #36 "
       ]
      },
      {
       "output_type": "stream",
       "stream": "stdout",
       "text": [
        "#37 #38 #39 #40 #41 #42 #43 #44 #45 #46 #47 #48 #49 "
       ]
      },
      {
       "output_type": "stream",
       "stream": "stdout",
       "text": [
        "#50 #51 #52 #53 #54 #55 #56 #57 #58 #59 #60 #61 #62 "
       ]
      },
      {
       "output_type": "stream",
       "stream": "stdout",
       "text": [
        "#63 #64 #65 #66 #67 #68 #69 #70 #71 #72 #73 #74 #75 "
       ]
      },
      {
       "output_type": "stream",
       "stream": "stdout",
       "text": [
        "#76 #77 #78 #79 #80 #81 #82 #83 #84 #85 "
       ]
      },
      {
       "output_type": "stream",
       "stream": "stdout",
       "text": [
        "#86 #87 #88 #89 #90 #91 #92 #93 #94 #95 #96 #97 #98 "
       ]
      },
      {
       "output_type": "stream",
       "stream": "stdout",
       "text": [
        "#99 #100 #101 #102 "
       ]
      },
      {
       "output_type": "stream",
       "stream": "stdout",
       "text": [
        "#103 #104 #105 "
       ]
      },
      {
       "output_type": "stream",
       "stream": "stdout",
       "text": [
        "#106 #107 #108 "
       ]
      },
      {
       "output_type": "stream",
       "stream": "stdout",
       "text": [
        "#109 #110 #111 "
       ]
      },
      {
       "output_type": "stream",
       "stream": "stdout",
       "text": [
        "#112 #113 #114 "
       ]
      },
      {
       "output_type": "stream",
       "stream": "stdout",
       "text": [
        "#115 #116 #117 "
       ]
      },
      {
       "output_type": "stream",
       "stream": "stdout",
       "text": [
        "#118 #119 #120 "
       ]
      },
      {
       "output_type": "stream",
       "stream": "stdout",
       "text": [
        "#121 #122 #123 "
       ]
      },
      {
       "output_type": "stream",
       "stream": "stdout",
       "text": [
        "#124 #125 #126 "
       ]
      },
      {
       "output_type": "stream",
       "stream": "stdout",
       "text": [
        "#127 #128 #129 "
       ]
      },
      {
       "output_type": "stream",
       "stream": "stdout",
       "text": [
        "#130 #131 #132 #133 "
       ]
      },
      {
       "output_type": "stream",
       "stream": "stdout",
       "text": [
        "#134 #135 #136 "
       ]
      },
      {
       "output_type": "stream",
       "stream": "stdout",
       "text": [
        "#137 #138 #139 "
       ]
      },
      {
       "output_type": "stream",
       "stream": "stdout",
       "text": [
        "#140 #141 #142 "
       ]
      },
      {
       "output_type": "stream",
       "stream": "stdout",
       "text": [
        "#143 #144 #145 "
       ]
      },
      {
       "output_type": "stream",
       "stream": "stdout",
       "text": [
        "#146 #147 #148 "
       ]
      },
      {
       "output_type": "stream",
       "stream": "stdout",
       "text": [
        "#149 #150 #151 "
       ]
      },
      {
       "output_type": "stream",
       "stream": "stdout",
       "text": [
        "#152 #153 #154 "
       ]
      },
      {
       "output_type": "stream",
       "stream": "stdout",
       "text": [
        "#155 #156 #157 "
       ]
      },
      {
       "output_type": "stream",
       "stream": "stdout",
       "text": [
        "#158 #159 #160 "
       ]
      },
      {
       "output_type": "stream",
       "stream": "stdout",
       "text": [
        "#161 #162 #163 "
       ]
      },
      {
       "output_type": "stream",
       "stream": "stdout",
       "text": [
        "#164 #165 #166 "
       ]
      },
      {
       "output_type": "stream",
       "stream": "stdout",
       "text": [
        "#167 #168 #169 #170 "
       ]
      },
      {
       "output_type": "stream",
       "stream": "stdout",
       "text": [
        "#171 #172 #173 "
       ]
      },
      {
       "output_type": "stream",
       "stream": "stdout",
       "text": [
        "#174 #175 #176 #177 "
       ]
      },
      {
       "output_type": "stream",
       "stream": "stdout",
       "text": [
        "#178 #179 #180 "
       ]
      },
      {
       "output_type": "stream",
       "stream": "stdout",
       "text": [
        "#181 #182 #183 "
       ]
      },
      {
       "output_type": "stream",
       "stream": "stdout",
       "text": [
        "#184 #185 #186 "
       ]
      },
      {
       "output_type": "stream",
       "stream": "stdout",
       "text": [
        "#187 #188 #189 "
       ]
      },
      {
       "output_type": "stream",
       "stream": "stdout",
       "text": [
        "#190 #191 #192 "
       ]
      },
      {
       "output_type": "stream",
       "stream": "stdout",
       "text": [
        "#193 #194 #195 "
       ]
      },
      {
       "output_type": "stream",
       "stream": "stdout",
       "text": [
        "#196 #197 #198 "
       ]
      },
      {
       "output_type": "stream",
       "stream": "stdout",
       "text": [
        "#199 #200 "
       ]
      },
      {
       "output_type": "stream",
       "stream": "stdout",
       "text": [
        "#201 "
       ]
      },
      {
       "output_type": "stream",
       "stream": "stdout",
       "text": [
        "#202 "
       ]
      },
      {
       "output_type": "stream",
       "stream": "stdout",
       "text": [
        "#203 "
       ]
      },
      {
       "output_type": "stream",
       "stream": "stdout",
       "text": [
        "#204 "
       ]
      },
      {
       "output_type": "stream",
       "stream": "stdout",
       "text": [
        "#205 "
       ]
      },
      {
       "output_type": "stream",
       "stream": "stdout",
       "text": [
        "#206 "
       ]
      },
      {
       "output_type": "stream",
       "stream": "stdout",
       "text": [
        "#207 "
       ]
      },
      {
       "output_type": "stream",
       "stream": "stdout",
       "text": [
        "#208 "
       ]
      },
      {
       "output_type": "stream",
       "stream": "stdout",
       "text": [
        "#209 "
       ]
      },
      {
       "output_type": "stream",
       "stream": "stdout",
       "text": [
        "#210 "
       ]
      },
      {
       "output_type": "stream",
       "stream": "stdout",
       "text": [
        "#211 "
       ]
      },
      {
       "output_type": "stream",
       "stream": "stdout",
       "text": [
        "#212 "
       ]
      },
      {
       "output_type": "stream",
       "stream": "stdout",
       "text": [
        "#213 "
       ]
      },
      {
       "output_type": "stream",
       "stream": "stdout",
       "text": [
        "#214 "
       ]
      },
      {
       "output_type": "stream",
       "stream": "stdout",
       "text": [
        "#215 "
       ]
      },
      {
       "output_type": "stream",
       "stream": "stdout",
       "text": [
        "#216 "
       ]
      },
      {
       "output_type": "stream",
       "stream": "stdout",
       "text": [
        "#217 "
       ]
      },
      {
       "output_type": "stream",
       "stream": "stdout",
       "text": [
        "#218 "
       ]
      },
      {
       "output_type": "stream",
       "stream": "stdout",
       "text": [
        "#219 "
       ]
      },
      {
       "output_type": "stream",
       "stream": "stdout",
       "text": [
        "#220 "
       ]
      },
      {
       "output_type": "stream",
       "stream": "stdout",
       "text": [
        "#221 "
       ]
      },
      {
       "output_type": "stream",
       "stream": "stdout",
       "text": [
        "#222 "
       ]
      },
      {
       "output_type": "stream",
       "stream": "stdout",
       "text": [
        "#223 "
       ]
      },
      {
       "output_type": "stream",
       "stream": "stdout",
       "text": [
        "#224 "
       ]
      },
      {
       "output_type": "stream",
       "stream": "stdout",
       "text": [
        "#225 "
       ]
      },
      {
       "output_type": "stream",
       "stream": "stdout",
       "text": [
        "#226 "
       ]
      },
      {
       "output_type": "stream",
       "stream": "stdout",
       "text": [
        "#227 "
       ]
      },
      {
       "output_type": "stream",
       "stream": "stdout",
       "text": [
        "#228 "
       ]
      },
      {
       "output_type": "stream",
       "stream": "stdout",
       "text": [
        "#229 "
       ]
      },
      {
       "output_type": "stream",
       "stream": "stdout",
       "text": [
        "#230 "
       ]
      },
      {
       "output_type": "stream",
       "stream": "stdout",
       "text": [
        "#231 "
       ]
      },
      {
       "output_type": "stream",
       "stream": "stdout",
       "text": [
        "#232 "
       ]
      },
      {
       "output_type": "stream",
       "stream": "stdout",
       "text": [
        "#233 "
       ]
      },
      {
       "output_type": "stream",
       "stream": "stdout",
       "text": [
        "#234 "
       ]
      },
      {
       "output_type": "stream",
       "stream": "stdout",
       "text": [
        "#235 "
       ]
      },
      {
       "output_type": "stream",
       "stream": "stdout",
       "text": [
        "#236 "
       ]
      },
      {
       "output_type": "stream",
       "stream": "stdout",
       "text": [
        "#237 "
       ]
      },
      {
       "output_type": "stream",
       "stream": "stdout",
       "text": [
        "#238 "
       ]
      },
      {
       "output_type": "stream",
       "stream": "stdout",
       "text": [
        "#239 "
       ]
      },
      {
       "output_type": "stream",
       "stream": "stdout",
       "text": [
        "#240 "
       ]
      },
      {
       "output_type": "stream",
       "stream": "stdout",
       "text": [
        "#241 "
       ]
      },
      {
       "output_type": "stream",
       "stream": "stdout",
       "text": [
        "#242 "
       ]
      },
      {
       "output_type": "stream",
       "stream": "stdout",
       "text": [
        "#243 "
       ]
      },
      {
       "output_type": "stream",
       "stream": "stdout",
       "text": [
        "#244 "
       ]
      },
      {
       "output_type": "stream",
       "stream": "stdout",
       "text": [
        "#245 "
       ]
      },
      {
       "output_type": "stream",
       "stream": "stdout",
       "text": [
        "#246 "
       ]
      },
      {
       "output_type": "stream",
       "stream": "stdout",
       "text": [
        "#247 "
       ]
      },
      {
       "output_type": "stream",
       "stream": "stdout",
       "text": [
        "#248 "
       ]
      },
      {
       "output_type": "stream",
       "stream": "stdout",
       "text": [
        "#249 "
       ]
      },
      {
       "output_type": "stream",
       "stream": "stdout",
       "text": [
        "#250 "
       ]
      },
      {
       "output_type": "stream",
       "stream": "stdout",
       "text": [
        "#251 "
       ]
      },
      {
       "output_type": "stream",
       "stream": "stdout",
       "text": [
        "#252 "
       ]
      },
      {
       "output_type": "stream",
       "stream": "stdout",
       "text": [
        "#253 "
       ]
      },
      {
       "output_type": "stream",
       "stream": "stdout",
       "text": [
        "#254 "
       ]
      },
      {
       "output_type": "stream",
       "stream": "stdout",
       "text": [
        "#255 "
       ]
      },
      {
       "output_type": "stream",
       "stream": "stdout",
       "text": [
        "#256 "
       ]
      },
      {
       "output_type": "stream",
       "stream": "stdout",
       "text": [
        "#257 "
       ]
      },
      {
       "output_type": "stream",
       "stream": "stdout",
       "text": [
        "#258 "
       ]
      },
      {
       "output_type": "stream",
       "stream": "stdout",
       "text": [
        "#259 "
       ]
      },
      {
       "output_type": "stream",
       "stream": "stdout",
       "text": [
        "#260 "
       ]
      },
      {
       "output_type": "stream",
       "stream": "stdout",
       "text": [
        "#261 "
       ]
      },
      {
       "output_type": "stream",
       "stream": "stdout",
       "text": [
        "#262 "
       ]
      },
      {
       "output_type": "stream",
       "stream": "stdout",
       "text": [
        "#263 "
       ]
      },
      {
       "output_type": "stream",
       "stream": "stdout",
       "text": [
        "#264 "
       ]
      },
      {
       "output_type": "stream",
       "stream": "stdout",
       "text": [
        "#265 "
       ]
      },
      {
       "output_type": "stream",
       "stream": "stdout",
       "text": [
        "#266 "
       ]
      },
      {
       "output_type": "stream",
       "stream": "stdout",
       "text": [
        "#267 "
       ]
      },
      {
       "output_type": "stream",
       "stream": "stdout",
       "text": [
        "#268 "
       ]
      },
      {
       "output_type": "stream",
       "stream": "stdout",
       "text": [
        "#269 "
       ]
      },
      {
       "output_type": "stream",
       "stream": "stdout",
       "text": [
        "#270 "
       ]
      },
      {
       "output_type": "stream",
       "stream": "stdout",
       "text": [
        "#271 "
       ]
      },
      {
       "output_type": "stream",
       "stream": "stdout",
       "text": [
        "#272 "
       ]
      },
      {
       "output_type": "stream",
       "stream": "stdout",
       "text": [
        "#273 "
       ]
      },
      {
       "output_type": "stream",
       "stream": "stdout",
       "text": [
        "#274 "
       ]
      },
      {
       "output_type": "stream",
       "stream": "stdout",
       "text": [
        "#275 "
       ]
      },
      {
       "output_type": "stream",
       "stream": "stdout",
       "text": [
        "#276 "
       ]
      },
      {
       "output_type": "stream",
       "stream": "stdout",
       "text": [
        "#277 "
       ]
      },
      {
       "output_type": "stream",
       "stream": "stdout",
       "text": [
        "#278 "
       ]
      },
      {
       "output_type": "stream",
       "stream": "stdout",
       "text": [
        "#279 "
       ]
      },
      {
       "output_type": "stream",
       "stream": "stdout",
       "text": [
        "#280 "
       ]
      },
      {
       "output_type": "stream",
       "stream": "stdout",
       "text": [
        "#281 "
       ]
      },
      {
       "output_type": "stream",
       "stream": "stdout",
       "text": [
        "#282 "
       ]
      },
      {
       "output_type": "stream",
       "stream": "stdout",
       "text": [
        "#283 "
       ]
      },
      {
       "output_type": "stream",
       "stream": "stdout",
       "text": [
        "#284 "
       ]
      },
      {
       "output_type": "stream",
       "stream": "stdout",
       "text": [
        "#285 "
       ]
      },
      {
       "output_type": "stream",
       "stream": "stdout",
       "text": [
        "#286 "
       ]
      },
      {
       "output_type": "stream",
       "stream": "stdout",
       "text": [
        "#287 "
       ]
      },
      {
       "output_type": "stream",
       "stream": "stdout",
       "text": [
        "#288 "
       ]
      },
      {
       "output_type": "stream",
       "stream": "stdout",
       "text": [
        "#289 "
       ]
      },
      {
       "output_type": "stream",
       "stream": "stdout",
       "text": [
        "#290 "
       ]
      },
      {
       "output_type": "stream",
       "stream": "stdout",
       "text": [
        "#291 "
       ]
      },
      {
       "output_type": "stream",
       "stream": "stdout",
       "text": [
        "#292 "
       ]
      },
      {
       "output_type": "stream",
       "stream": "stdout",
       "text": [
        "#293 "
       ]
      },
      {
       "output_type": "stream",
       "stream": "stdout",
       "text": [
        "#294\n",
        "MAE ="
       ]
      },
      {
       "output_type": "stream",
       "stream": "stdout",
       "text": [
        " 0.00560336354184\n",
        "MAX = 0.0298080987552\n",
        "MIN = 0.000684240646735\n"
       ]
      },
      {
       "metadata": {},
       "output_type": "display_data",
       "png": "[encoded data removed]",
       "text": [
        "<matplotlib.figure.Figure at 0x1108a1950>"
       ]
      }
     ],
     "prompt_number": 22
    },
    {
     "cell_type": "markdown",
     "metadata": {},
     "source": [
      "## if put 2 d shell"
     ]
    },
    {
     "cell_type": "code",
     "collapsed": false,
     "input": [
      "shell_data_d2 = fb.optimize_bf(Z=1, shell='d', alist=np.logspace(-1, 1, 10), \n",
      "               blist=np.linspace(0.3,0.6,10), Nn=2, kfold=10, doadd=False, showerr=False)\n",
      "fb.add_shell(1,shell_data_d2)\n",
      "fb.fit_density()\n",
      "err = fb.get_error()\n",
      "plt.plot(err)\n",
      "d_shell_error.append(err_info(err))\n",
      "fb.remove_shell(1,shell_data_d2)"
     ],
     "language": "python",
     "metadata": {},
     "outputs": [
      {
       "output_type": "stream",
       "stream": "stdout",
       "text": [
        "optimize basis function with even-tempered method             with 10-fold cross validation\n",
        "add to basis data: False\n",
        "atomic index: 1\n",
        "shell: d\n",
        "list of a: [  0.1          0.16681005   0.27825594   0.46415888   0.77426368\n",
        "   1.29154967   2.15443469   3.59381366   5.9948425   10.        ]\n",
        "list of b: [ 0.3         0.33333333  0.36666667  0.4         0.43333333  0.46666667\n",
        "  0.5         0.53333333  0.56666667  0.6       ]\n",
        "number of new basis: 2\n",
        "\n",
        "\tvalidation set: [230 289 202 234 221 205 117 293 111 255 135 107 247 246 277 136   4  80\n",
        "  30  50 284 182 212   3 174  66  96  86 294 146]"
       ]
      },
      {
       "output_type": "stream",
       "stream": "stdout",
       "text": [
        "\n",
        "\toptimized a=5.994843\tb=0.300000\n",
        "\texpn:[5.9948425031894086, 1.7984527509568224]\n",
        "\n",
        "\tvalidation set: [ 69 130 186 264 192 150   8 242 267 109  34 281 123 170 288 148  73 287\n",
        "  43 241  11  13  29 100 227  92  23 220 292 222]"
       ]
      },
      {
       "output_type": "stream",
       "stream": "stdout",
       "text": [
        "\n",
        "\toptimized a=5.994843\tb=0.300000\n",
        "\texpn:[5.9948425031894086, 1.7984527509568224]\n",
        "\n",
        "\tvalidation set: [196 207 151 171 165 132  45 199 134 106 243 144 157 185 169 104   5   6\n",
        " 101  93 194 269 275   9  42 147 286  68 189 178]"
       ]
      },
      {
       "output_type": "stream",
       "stream": "stdout",
       "text": [
        "\n",
        "\toptimized a=5.994843\tb=0.300000\n",
        "\texpn:[5.9948425031894086, 1.7984527509568224]\n",
        "\n",
        "\tvalidation set: [175   7 152 240  89  59 256  35 121  95 208  56  20 280 215  24 153  71\n",
        "  46 181  18 114 224 282 187 166  48 237 161 138]"
       ]
      },
      {
       "output_type": "stream",
       "stream": "stdout",
       "text": [
        "\n",
        "\toptimized a=5.994843\tb=0.300000\n",
        "\texpn:[5.9948425031894086, 1.7984527509568224]\n",
        "\n",
        "\tvalidation set: [249 231 203 279 143   0 180  52 113 285 104 290 116  85  84  88  38 193\n",
        "  41  16  15 211  75  70  19  33  57 197  87  82]"
       ]
      },
      {
       "output_type": "stream",
       "stream": "stdout",
       "text": [
        "\n",
        "\toptimized a=5.994843\tb=0.300000\n",
        "\texpn:[5.9948425031894086, 1.7984527509568224]\n",
        "\n",
        "\tvalidation set: [103 176 191 214 133 141 239 223 244 206 173 172 128  63 131 257 160 155\n",
        " 232 168 239 126 217  27  36 213 127  64  62 204]"
       ]
      },
      {
       "output_type": "stream",
       "stream": "stdout",
       "text": [
        "\n",
        "\toptimized a=5.994843\tb=0.300000\n",
        "\texpn:[5.9948425031894086, 1.7984527509568224]\n",
        "\n",
        "\tvalidation set: [122  37 219  51  25  47 228  76 198  21  54  49   1 167  72 139 124 278\n",
        " 200  32 252 189 218 268  44 195  94 248 272  53]"
       ]
      },
      {
       "output_type": "stream",
       "stream": "stdout",
       "text": [
        "\n",
        "\toptimized a=5.994843\tb=0.300000\n",
        "\texpn:[5.9948425031894086, 1.7984527509568224]\n",
        "\n",
        "\tvalidation set: [226 266 210  40  61  90  83 159  91  14  58 291 112  74 274 158 183 265\n",
        " 142 216 259 137 125  81 105 254  67 156 270 149]"
       ]
      },
      {
       "output_type": "stream",
       "stream": "stdout",
       "text": [
        "\n",
        "\toptimized a=5.994843\tb=0.300000\n",
        "\texpn:[5.9948425031894086, 1.7984527509568224]\n",
        "\n",
        "\tvalidation set: [113 236 258 250  98 253  77 140   2 179  99 251 120  26 118 245  39 263\n",
        "  22 235  65  79 102 163  17 115 233 271 188 134]"
       ]
      },
      {
       "output_type": "stream",
       "stream": "stdout",
       "text": [
        "\n",
        "\toptimized a=5.994843\tb=0.300000\n",
        "\texpn:[5.9948425031894086, 1.7984527509568224]\n",
        "\n",
        "\tvalidation set: [209 110 145 164 238 229  55  97 162  78 283  10 154 276  28  12 262 201\n",
        "  60 177 108 225 184  31 273 129 260 119 261 190]"
       ]
      },
      {
       "output_type": "stream",
       "stream": "stdout",
       "text": [
        "\n",
        "\toptimized a=5.994843\tb=0.300000\n",
        "\texpn:[5.9948425031894086, 1.7984527509568224]\n",
        "\n",
        "from cross validation:\n",
        "optimized a=5.994843\tb=0.300000\n",
        "\toptimized b is the smallest value in blist\n",
        "optimized new shell: [('d', [(5.9948425031894086, 1.0)]), ('d', [(1.7984527509568224, 1.0)])]\n",
        "fitting density for #0 #1 #2 #3 #4 #5 #6 #7 "
       ]
      },
      {
       "output_type": "stream",
       "stream": "stdout",
       "text": [
        "#8 #9 #10 #11 #12 #13 #14 #15 #16 "
       ]
      },
      {
       "output_type": "stream",
       "stream": "stdout",
       "text": [
        "#17 #18 #19 #20 #21 #22 #23 #24 #25 "
       ]
      },
      {
       "output_type": "stream",
       "stream": "stdout",
       "text": [
        "#26 #27 #28 #29 #30 #31 #32 #33 #34 "
       ]
      },
      {
       "output_type": "stream",
       "stream": "stdout",
       "text": [
        "#35 #36 #37 #38 #39 #40 #41 #42 #43 "
       ]
      },
      {
       "output_type": "stream",
       "stream": "stdout",
       "text": [
        "#44 #45 #46 #47 #48 #49 #50 #51 #52 #53 "
       ]
      },
      {
       "output_type": "stream",
       "stream": "stdout",
       "text": [
        "#54 #55 #56 #57 #58 #59 #60 #61 #62 #63 "
       ]
      },
      {
       "output_type": "stream",
       "stream": "stdout",
       "text": [
        "#64 #65 #66 #67 #68 #69 #70 #71 #72 #73 "
       ]
      },
      {
       "output_type": "stream",
       "stream": "stdout",
       "text": [
        "#74 #75 #76 #77 #78 #79 #80 #81 #82 #83 #84 "
       ]
      },
      {
       "output_type": "stream",
       "stream": "stdout",
       "text": [
        "#85 #86 #87 #88 #89 #90 #91 #92 #93 "
       ]
      },
      {
       "output_type": "stream",
       "stream": "stdout",
       "text": [
        "#94 #95 #96 #97 #98 #99 #100 "
       ]
      },
      {
       "output_type": "stream",
       "stream": "stdout",
       "text": [
        "#101 #102 #103 "
       ]
      },
      {
       "output_type": "stream",
       "stream": "stdout",
       "text": [
        "#104 #105 #106 "
       ]
      },
      {
       "output_type": "stream",
       "stream": "stdout",
       "text": [
        "#107 #108 #109 "
       ]
      },
      {
       "output_type": "stream",
       "stream": "stdout",
       "text": [
        "#110 #111 #112 "
       ]
      },
      {
       "output_type": "stream",
       "stream": "stdout",
       "text": [
        "#113 #114 #115 "
       ]
      },
      {
       "output_type": "stream",
       "stream": "stdout",
       "text": [
        "#116 #117 "
       ]
      },
      {
       "output_type": "stream",
       "stream": "stdout",
       "text": [
        "#118 #119 "
       ]
      },
      {
       "output_type": "stream",
       "stream": "stdout",
       "text": [
        "#120 #121 "
       ]
      },
      {
       "output_type": "stream",
       "stream": "stdout",
       "text": [
        "#122 #123 #124 "
       ]
      },
      {
       "output_type": "stream",
       "stream": "stdout",
       "text": [
        "#125 #126 #127 "
       ]
      },
      {
       "output_type": "stream",
       "stream": "stdout",
       "text": [
        "#128 #129 #130 "
       ]
      },
      {
       "output_type": "stream",
       "stream": "stdout",
       "text": [
        "#131 #132 #133 "
       ]
      },
      {
       "output_type": "stream",
       "stream": "stdout",
       "text": [
        "#134 #135 #136 "
       ]
      },
      {
       "output_type": "stream",
       "stream": "stdout",
       "text": [
        "#137 #138 #139 "
       ]
      },
      {
       "output_type": "stream",
       "stream": "stdout",
       "text": [
        "#140 #141 "
       ]
      },
      {
       "output_type": "stream",
       "stream": "stdout",
       "text": [
        "#142 #143 #144 "
       ]
      },
      {
       "output_type": "stream",
       "stream": "stdout",
       "text": [
        "#145 #146 #147 "
       ]
      },
      {
       "output_type": "stream",
       "stream": "stdout",
       "text": [
        "#148 #149 #150 "
       ]
      },
      {
       "output_type": "stream",
       "stream": "stdout",
       "text": [
        "#151 #152 #153 "
       ]
      },
      {
       "output_type": "stream",
       "stream": "stdout",
       "text": [
        "#154 #155 #156 "
       ]
      },
      {
       "output_type": "stream",
       "stream": "stdout",
       "text": [
        "#157 #158 #159 "
       ]
      },
      {
       "output_type": "stream",
       "stream": "stdout",
       "text": [
        "#160 #161 #162 "
       ]
      },
      {
       "output_type": "stream",
       "stream": "stdout",
       "text": [
        "#163 #164 "
       ]
      },
      {
       "output_type": "stream",
       "stream": "stdout",
       "text": [
        "#165 #166 #167 "
       ]
      },
      {
       "output_type": "stream",
       "stream": "stdout",
       "text": [
        "#168 #169 #170 "
       ]
      },
      {
       "output_type": "stream",
       "stream": "stdout",
       "text": [
        "#171 #172 #173 "
       ]
      },
      {
       "output_type": "stream",
       "stream": "stdout",
       "text": [
        "#174 #175 #176 "
       ]
      },
      {
       "output_type": "stream",
       "stream": "stdout",
       "text": [
        "#177 #178 #179 "
       ]
      },
      {
       "output_type": "stream",
       "stream": "stdout",
       "text": [
        "#180 #181 #182 "
       ]
      },
      {
       "output_type": "stream",
       "stream": "stdout",
       "text": [
        "#183 #184 #185 "
       ]
      },
      {
       "output_type": "stream",
       "stream": "stdout",
       "text": [
        "#186 #187 "
       ]
      },
      {
       "output_type": "stream",
       "stream": "stdout",
       "text": [
        "#188 #189 #190 "
       ]
      },
      {
       "output_type": "stream",
       "stream": "stdout",
       "text": [
        "#191 #192 #193 "
       ]
      },
      {
       "output_type": "stream",
       "stream": "stdout",
       "text": [
        "#194 #195 #196 "
       ]
      },
      {
       "output_type": "stream",
       "stream": "stdout",
       "text": [
        "#197 #198 "
       ]
      },
      {
       "output_type": "stream",
       "stream": "stdout",
       "text": [
        "#199 #200 "
       ]
      },
      {
       "output_type": "stream",
       "stream": "stdout",
       "text": [
        "#201 "
       ]
      },
      {
       "output_type": "stream",
       "stream": "stdout",
       "text": [
        "#202 "
       ]
      },
      {
       "output_type": "stream",
       "stream": "stdout",
       "text": [
        "#203 "
       ]
      },
      {
       "output_type": "stream",
       "stream": "stdout",
       "text": [
        "#204 "
       ]
      },
      {
       "output_type": "stream",
       "stream": "stdout",
       "text": [
        "#205 "
       ]
      },
      {
       "output_type": "stream",
       "stream": "stdout",
       "text": [
        "#206 "
       ]
      },
      {
       "output_type": "stream",
       "stream": "stdout",
       "text": [
        "#207 "
       ]
      },
      {
       "output_type": "stream",
       "stream": "stdout",
       "text": [
        "#208 "
       ]
      },
      {
       "output_type": "stream",
       "stream": "stdout",
       "text": [
        "#209 "
       ]
      },
      {
       "output_type": "stream",
       "stream": "stdout",
       "text": [
        "#210 "
       ]
      },
      {
       "output_type": "stream",
       "stream": "stdout",
       "text": [
        "#211 "
       ]
      },
      {
       "output_type": "stream",
       "stream": "stdout",
       "text": [
        "#212 "
       ]
      },
      {
       "output_type": "stream",
       "stream": "stdout",
       "text": [
        "#213 "
       ]
      },
      {
       "output_type": "stream",
       "stream": "stdout",
       "text": [
        "#214 "
       ]
      },
      {
       "output_type": "stream",
       "stream": "stdout",
       "text": [
        "#215 "
       ]
      },
      {
       "output_type": "stream",
       "stream": "stdout",
       "text": [
        "#216 "
       ]
      },
      {
       "output_type": "stream",
       "stream": "stdout",
       "text": [
        "#217 "
       ]
      },
      {
       "output_type": "stream",
       "stream": "stdout",
       "text": [
        "#218 "
       ]
      },
      {
       "output_type": "stream",
       "stream": "stdout",
       "text": [
        "#219 "
       ]
      },
      {
       "output_type": "stream",
       "stream": "stdout",
       "text": [
        "#220 "
       ]
      },
      {
       "output_type": "stream",
       "stream": "stdout",
       "text": [
        "#221 "
       ]
      },
      {
       "output_type": "stream",
       "stream": "stdout",
       "text": [
        "#222 "
       ]
      },
      {
       "output_type": "stream",
       "stream": "stdout",
       "text": [
        "#223 "
       ]
      },
      {
       "output_type": "stream",
       "stream": "stdout",
       "text": [
        "#224 "
       ]
      },
      {
       "output_type": "stream",
       "stream": "stdout",
       "text": [
        "#225 "
       ]
      },
      {
       "output_type": "stream",
       "stream": "stdout",
       "text": [
        "#226 "
       ]
      },
      {
       "output_type": "stream",
       "stream": "stdout",
       "text": [
        "#227 "
       ]
      },
      {
       "output_type": "stream",
       "stream": "stdout",
       "text": [
        "#228 "
       ]
      },
      {
       "output_type": "stream",
       "stream": "stdout",
       "text": [
        "#229 "
       ]
      },
      {
       "output_type": "stream",
       "stream": "stdout",
       "text": [
        "#230 "
       ]
      },
      {
       "output_type": "stream",
       "stream": "stdout",
       "text": [
        "#231 "
       ]
      },
      {
       "output_type": "stream",
       "stream": "stdout",
       "text": [
        "#232 "
       ]
      },
      {
       "output_type": "stream",
       "stream": "stdout",
       "text": [
        "#233 "
       ]
      },
      {
       "output_type": "stream",
       "stream": "stdout",
       "text": [
        "#234 "
       ]
      },
      {
       "output_type": "stream",
       "stream": "stdout",
       "text": [
        "#235 "
       ]
      },
      {
       "output_type": "stream",
       "stream": "stdout",
       "text": [
        "#236 "
       ]
      },
      {
       "output_type": "stream",
       "stream": "stdout",
       "text": [
        "#237 "
       ]
      },
      {
       "output_type": "stream",
       "stream": "stdout",
       "text": [
        "#238 "
       ]
      },
      {
       "output_type": "stream",
       "stream": "stdout",
       "text": [
        "#239 "
       ]
      },
      {
       "output_type": "stream",
       "stream": "stdout",
       "text": [
        "#240 "
       ]
      },
      {
       "output_type": "stream",
       "stream": "stdout",
       "text": [
        "#241 "
       ]
      },
      {
       "output_type": "stream",
       "stream": "stdout",
       "text": [
        "#242 "
       ]
      },
      {
       "output_type": "stream",
       "stream": "stdout",
       "text": [
        "#243 "
       ]
      },
      {
       "output_type": "stream",
       "stream": "stdout",
       "text": [
        "#244 "
       ]
      },
      {
       "output_type": "stream",
       "stream": "stdout",
       "text": [
        "#245 "
       ]
      },
      {
       "output_type": "stream",
       "stream": "stdout",
       "text": [
        "#246 "
       ]
      },
      {
       "output_type": "stream",
       "stream": "stdout",
       "text": [
        "#247 "
       ]
      },
      {
       "output_type": "stream",
       "stream": "stdout",
       "text": [
        "#248 "
       ]
      },
      {
       "output_type": "stream",
       "stream": "stdout",
       "text": [
        "#249 "
       ]
      },
      {
       "output_type": "stream",
       "stream": "stdout",
       "text": [
        "#250 "
       ]
      },
      {
       "output_type": "stream",
       "stream": "stdout",
       "text": [
        "#251 "
       ]
      },
      {
       "output_type": "stream",
       "stream": "stdout",
       "text": [
        "#252 "
       ]
      },
      {
       "output_type": "stream",
       "stream": "stdout",
       "text": [
        "#253 "
       ]
      },
      {
       "output_type": "stream",
       "stream": "stdout",
       "text": [
        "#254 "
       ]
      },
      {
       "output_type": "stream",
       "stream": "stdout",
       "text": [
        "#255 "
       ]
      },
      {
       "output_type": "stream",
       "stream": "stdout",
       "text": [
        "#256 "
       ]
      },
      {
       "output_type": "stream",
       "stream": "stdout",
       "text": [
        "#257 "
       ]
      },
      {
       "output_type": "stream",
       "stream": "stdout",
       "text": [
        "#258 "
       ]
      },
      {
       "output_type": "stream",
       "stream": "stdout",
       "text": [
        "#259 "
       ]
      },
      {
       "output_type": "stream",
       "stream": "stdout",
       "text": [
        "#260 "
       ]
      },
      {
       "output_type": "stream",
       "stream": "stdout",
       "text": [
        "#261 "
       ]
      },
      {
       "output_type": "stream",
       "stream": "stdout",
       "text": [
        "#262 "
       ]
      },
      {
       "output_type": "stream",
       "stream": "stdout",
       "text": [
        "#263 "
       ]
      },
      {
       "output_type": "stream",
       "stream": "stdout",
       "text": [
        "#264 "
       ]
      },
      {
       "output_type": "stream",
       "stream": "stdout",
       "text": [
        "#265 "
       ]
      },
      {
       "output_type": "stream",
       "stream": "stdout",
       "text": [
        "#266 "
       ]
      },
      {
       "output_type": "stream",
       "stream": "stdout",
       "text": [
        "#267 "
       ]
      },
      {
       "output_type": "stream",
       "stream": "stdout",
       "text": [
        "#268 "
       ]
      },
      {
       "output_type": "stream",
       "stream": "stdout",
       "text": [
        "#269 "
       ]
      },
      {
       "output_type": "stream",
       "stream": "stdout",
       "text": [
        "#270 "
       ]
      },
      {
       "output_type": "stream",
       "stream": "stdout",
       "text": [
        "#271 "
       ]
      },
      {
       "output_type": "stream",
       "stream": "stdout",
       "text": [
        "#272 "
       ]
      },
      {
       "output_type": "stream",
       "stream": "stdout",
       "text": [
        "#273 "
       ]
      },
      {
       "output_type": "stream",
       "stream": "stdout",
       "text": [
        "#274 "
       ]
      },
      {
       "output_type": "stream",
       "stream": "stdout",
       "text": [
        "#275 "
       ]
      },
      {
       "output_type": "stream",
       "stream": "stdout",
       "text": [
        "#276 "
       ]
      },
      {
       "output_type": "stream",
       "stream": "stdout",
       "text": [
        "#277 "
       ]
      },
      {
       "output_type": "stream",
       "stream": "stdout",
       "text": [
        "#278 "
       ]
      },
      {
       "output_type": "stream",
       "stream": "stdout",
       "text": [
        "#279 "
       ]
      },
      {
       "output_type": "stream",
       "stream": "stdout",
       "text": [
        "#280 "
       ]
      },
      {
       "output_type": "stream",
       "stream": "stdout",
       "text": [
        "#281 "
       ]
      },
      {
       "output_type": "stream",
       "stream": "stdout",
       "text": [
        "#282 "
       ]
      },
      {
       "output_type": "stream",
       "stream": "stdout",
       "text": [
        "#283 "
       ]
      },
      {
       "output_type": "stream",
       "stream": "stdout",
       "text": [
        "#284 "
       ]
      },
      {
       "output_type": "stream",
       "stream": "stdout",
       "text": [
        "#285 "
       ]
      },
      {
       "output_type": "stream",
       "stream": "stdout",
       "text": [
        "#286 "
       ]
      },
      {
       "output_type": "stream",
       "stream": "stdout",
       "text": [
        "#287 "
       ]
      },
      {
       "output_type": "stream",
       "stream": "stdout",
       "text": [
        "#288 "
       ]
      },
      {
       "output_type": "stream",
       "stream": "stdout",
       "text": [
        "#289 "
       ]
      },
      {
       "output_type": "stream",
       "stream": "stdout",
       "text": [
        "#290 "
       ]
      },
      {
       "output_type": "stream",
       "stream": "stdout",
       "text": [
        "#291 "
       ]
      },
      {
       "output_type": "stream",
       "stream": "stdout",
       "text": [
        "#292 "
       ]
      },
      {
       "output_type": "stream",
       "stream": "stdout",
       "text": [
        "#293 "
       ]
      },
      {
       "output_type": "stream",
       "stream": "stdout",
       "text": [
        "#294\n",
        "MAE ="
       ]
      },
      {
       "output_type": "stream",
       "stream": "stdout",
       "text": [
        " 0.00377760272379\n",
        "MAX = 0.027596122319\n",
        "MIN = 0.000335340258209\n"
       ]
      },
      {
       "metadata": {},
       "output_type": "display_data",
       "png": "[encoded data removed]",
       "text": [
        "<matplotlib.figure.Figure at 0x113d16c10>"
       ]
      }
     ],
     "prompt_number": 23
    },
    {
     "cell_type": "markdown",
     "metadata": {},
     "source": [
      "## if put 3 d shell"
     ]
    },
    {
     "cell_type": "code",
     "collapsed": false,
     "input": [
      "shell_data_d3 = fb.optimize_bf(Z=1, shell='d', alist=np.logspace(-1, 1, 10), \n",
      "               blist=np.linspace(0.3,0.6,10), Nn=3, kfold=10, doadd=False, showerr=False)\n",
      "fb.add_shell(1,shell_data_d3)\n",
      "fb.fit_density()\n",
      "err = fb.get_error()\n",
      "plt.plot(err)\n",
      "d_shell_error.append(err_info(err))\n",
      "fb.remove_shell(1,shell_data_d3)"
     ],
     "language": "python",
     "metadata": {},
     "outputs": [
      {
       "output_type": "stream",
       "stream": "stdout",
       "text": [
        "optimize basis function with even-tempered method             with 10-fold cross validation\n",
        "add to basis data: False\n",
        "atomic index: 1\n",
        "shell: d\n",
        "list of a: [  0.1          0.16681005   0.27825594   0.46415888   0.77426368\n",
        "   1.29154967   2.15443469   3.59381366   5.9948425   10.        ]\n",
        "list of b: [ 0.3         0.33333333  0.36666667  0.4         0.43333333  0.46666667\n",
        "  0.5         0.53333333  0.56666667  0.6       ]\n",
        "number of new basis: 3\n",
        "\n",
        "\tvalidation set: [171  57  99  48  83 232 165 123  79 285  17 239 124  26 223 198  38  50\n",
        "  66 278 112 181 225  69  13  39 159 184  16 224]"
       ]
      },
      {
       "output_type": "stream",
       "stream": "stdout",
       "text": [
        "\n",
        "\toptimized a=3.593814\tb=0.333333\n",
        "\texpn:[3.5938136638046259, 1.1979378879348752, 0.39931262931162509]\n",
        "\n",
        "\tvalidation set: [ 12 233 234  15  53  87 209 255 109 172 252 143 206 216   6  54 203 204\n",
        " 190 176  49  33 276 104  70 145 236  40 294 169]"
       ]
      },
      {
       "output_type": "stream",
       "stream": "stdout",
       "text": [
        "\n",
        "\toptimized a=3.593814\tb=0.333333\n",
        "\texpn:[3.5938136638046259, 1.1979378879348752, 0.39931262931162509]\n",
        "\n",
        "\tvalidation set: [ 30 291 211 175   9 238  96 135 284  29 214 118 246 211  22  41 187 256\n",
        " 173 218 101 290 262 280  77 132 237 259 138 178]"
       ]
      },
      {
       "output_type": "stream",
       "stream": "stdout",
       "text": [
        "\n",
        "\toptimized a=3.593814\tb=0.333333\n",
        "\texpn:[3.5938136638046259, 1.1979378879348752, 0.39931262931162509]\n",
        "\n",
        "\tvalidation set: [ 94 139 248 134 275 250 197 102 273  58 292 154 146  45 122  68 267 293\n",
        " 266 265 160 161   1  51 192 164 207 129 231  64]"
       ]
      },
      {
       "output_type": "stream",
       "stream": "stdout",
       "text": [
        "\n",
        "\toptimized a=3.593814\tb=0.333333\n",
        "\texpn:[3.5938136638046259, 1.1979378879348752, 0.39931262931162509]\n",
        "\n",
        "\tvalidation set: [282 150  27 168  23  86 149  10  91  14 263 258  34 186 106 141  60  89\n",
        " 212 108 240  24  61 241 166 242  46 170 217  13]"
       ]
      },
      {
       "output_type": "stream",
       "stream": "stdout",
       "text": [
        "\n",
        "\toptimized a=3.593814\tb=0.333333\n",
        "\texpn:[3.5938136638046259, 1.1979378879348752, 0.39931262931162509]\n",
        "\n",
        "\tvalidation set: [116 119 289  42 151 136 199 229 287 286  78 118 125 128 196  44 117  74\n",
        " 210 195  73 226  82 272 202 107 227 259 213 189]"
       ]
      },
      {
       "output_type": "stream",
       "stream": "stdout",
       "text": [
        "\n",
        "\toptimized a=3.593814\tb=0.333333\n",
        "\texpn:[3.5938136638046259, 1.1979378879348752, 0.39931262931162509]\n",
        "\n",
        "\tvalidation set: [140  19 137  90 188 130  65   2 105 142  98 111  35  47  20  18  21  52\n",
        " 110 144  72 155  85  56  97 113  88 220 270  67]"
       ]
      },
      {
       "output_type": "stream",
       "stream": "stdout",
       "text": [
        "\n",
        "\toptimized a=3.593814\tb=0.333333\n",
        "\texpn:[3.5938136638046259, 1.1979378879348752, 0.39931262931162509]\n",
        "\n",
        "\tvalidation set: [100 162 205  84 253 133 260 200  75 114 208  81 281 185 221  59  28 147\n",
        " 254  76 244  11 167 288 243  36 152 103 268 269]"
       ]
      },
      {
       "output_type": "stream",
       "stream": "stdout",
       "text": [
        "\n",
        "\toptimized a=3.593814\tb=0.333333\n",
        "\texpn:[3.5938136638046259, 1.1979378879348752, 0.39931262931162509]\n",
        "\n",
        "\tvalidation set: [ 63 257  62 279 127  92 250  55 283 194 148  31  37 126   3 251  25 277\n",
        " 247 120  93   0 191 245   5 264 153 249 228 158]"
       ]
      },
      {
       "output_type": "stream",
       "stream": "stdout",
       "text": [
        "\n",
        "\toptimized a=3.593814\tb=0.333333\n",
        "\texpn:[3.5938136638046259, 1.1979378879348752, 0.39931262931162509]\n",
        "\n",
        "\tvalidation set: [222   8 230 261 163 215 156 235  32 193 274 121 179 182  43 174 201 180\n",
        " 219 115   4  95  71 271  80 183   7 177 131 157]"
       ]
      },
      {
       "output_type": "stream",
       "stream": "stdout",
       "text": [
        "\n",
        "\toptimized a=3.593814\tb=0.333333\n",
        "\texpn:[3.5938136638046259, 1.1979378879348752, 0.39931262931162509]\n",
        "\n",
        "from cross validation:\n",
        "optimized a=3.593814\tb=0.333333\n",
        "optimized new shell: [('d', [(3.5938136638046259, 1.0)]), ('d', [(1.1979378879348752, 1.0)]), ('d', [(0.39931262931162509, 1.0)])]\n",
        "fitting density for #0 #1 #2 #3 #4 #5 "
       ]
      },
      {
       "output_type": "stream",
       "stream": "stdout",
       "text": [
        "#6 #7 #8 #9 #10 #11 #12 #13 #14 #15 "
       ]
      },
      {
       "output_type": "stream",
       "stream": "stdout",
       "text": [
        "#16 #17 #18 #19 #20 #21 #22 #23 #24 #25 "
       ]
      },
      {
       "output_type": "stream",
       "stream": "stdout",
       "text": [
        "#26 #27 #28 #29 #30 #31 #32 #33 #34 "
       ]
      },
      {
       "output_type": "stream",
       "stream": "stdout",
       "text": [
        "#35 #36 #37 #38 #39 #40 #41 #42 #43 "
       ]
      },
      {
       "output_type": "stream",
       "stream": "stdout",
       "text": [
        "#44 #45 #46 #47 #48 #49 #50 #51 #52 #53 "
       ]
      },
      {
       "output_type": "stream",
       "stream": "stdout",
       "text": [
        "#54 #55 #56 #57 #58 #59 #60 #61 #62 #63 "
       ]
      },
      {
       "output_type": "stream",
       "stream": "stdout",
       "text": [
        "#64 #65 #66 #67 #68 #69 #70 #71 #72 #73 "
       ]
      },
      {
       "output_type": "stream",
       "stream": "stdout",
       "text": [
        "#74 #75 #76 #77 #78 #79 #80 #81 #82 "
       ]
      },
      {
       "output_type": "stream",
       "stream": "stdout",
       "text": [
        "#83 #84 #85 #86 #87 #88 #89 #90 #91 #92 "
       ]
      },
      {
       "output_type": "stream",
       "stream": "stdout",
       "text": [
        "#93 #94 #95 #96 #97 #98 #99 #100 "
       ]
      },
      {
       "output_type": "stream",
       "stream": "stdout",
       "text": [
        "#101 #102 #103 "
       ]
      },
      {
       "output_type": "stream",
       "stream": "stdout",
       "text": [
        "#104 #105 "
       ]
      },
      {
       "output_type": "stream",
       "stream": "stdout",
       "text": [
        "#106 #107 #108 "
       ]
      },
      {
       "output_type": "stream",
       "stream": "stdout",
       "text": [
        "#109 #110 "
       ]
      },
      {
       "output_type": "stream",
       "stream": "stdout",
       "text": [
        "#111 #112 #113 "
       ]
      },
      {
       "output_type": "stream",
       "stream": "stdout",
       "text": [
        "#114 #115 "
       ]
      },
      {
       "output_type": "stream",
       "stream": "stdout",
       "text": [
        "#116 #117 #118 "
       ]
      },
      {
       "output_type": "stream",
       "stream": "stdout",
       "text": [
        "#119 #120 #121 "
       ]
      },
      {
       "output_type": "stream",
       "stream": "stdout",
       "text": [
        "#122 #123 #124 "
       ]
      },
      {
       "output_type": "stream",
       "stream": "stdout",
       "text": [
        "#125 #126 "
       ]
      },
      {
       "output_type": "stream",
       "stream": "stdout",
       "text": [
        "#127 #128 #129 "
       ]
      },
      {
       "output_type": "stream",
       "stream": "stdout",
       "text": [
        "#130 #131 #132 "
       ]
      },
      {
       "output_type": "stream",
       "stream": "stdout",
       "text": [
        "#133 #134 #135 "
       ]
      },
      {
       "output_type": "stream",
       "stream": "stdout",
       "text": [
        "#136 #137 #138 "
       ]
      },
      {
       "output_type": "stream",
       "stream": "stdout",
       "text": [
        "#139 #140 #141 "
       ]
      },
      {
       "output_type": "stream",
       "stream": "stdout",
       "text": [
        "#142 #143 #144 "
       ]
      },
      {
       "output_type": "stream",
       "stream": "stdout",
       "text": [
        "#145 #146 #147 "
       ]
      },
      {
       "output_type": "stream",
       "stream": "stdout",
       "text": [
        "#148 #149 #150 "
       ]
      },
      {
       "output_type": "stream",
       "stream": "stdout",
       "text": [
        "#151 #152 #153 "
       ]
      },
      {
       "output_type": "stream",
       "stream": "stdout",
       "text": [
        "#154 #155 #156 "
       ]
      },
      {
       "output_type": "stream",
       "stream": "stdout",
       "text": [
        "#157 #158 #159 "
       ]
      },
      {
       "output_type": "stream",
       "stream": "stdout",
       "text": [
        "#160 #161 #162 "
       ]
      },
      {
       "output_type": "stream",
       "stream": "stdout",
       "text": [
        "#163 #164 #165 "
       ]
      },
      {
       "output_type": "stream",
       "stream": "stdout",
       "text": [
        "#166 #167 #168 "
       ]
      },
      {
       "output_type": "stream",
       "stream": "stdout",
       "text": [
        "#169 #170 #171 "
       ]
      },
      {
       "output_type": "stream",
       "stream": "stdout",
       "text": [
        "#172 #173 "
       ]
      },
      {
       "output_type": "stream",
       "stream": "stdout",
       "text": [
        "#174 #175 #176 "
       ]
      },
      {
       "output_type": "stream",
       "stream": "stdout",
       "text": [
        "#177 #178 #179 "
       ]
      },
      {
       "output_type": "stream",
       "stream": "stdout",
       "text": [
        "#180 #181 #182 "
       ]
      },
      {
       "output_type": "stream",
       "stream": "stdout",
       "text": [
        "#183 #184 #185 "
       ]
      },
      {
       "output_type": "stream",
       "stream": "stdout",
       "text": [
        "#186 #187 #188 "
       ]
      },
      {
       "output_type": "stream",
       "stream": "stdout",
       "text": [
        "#189 #190 #191 "
       ]
      },
      {
       "output_type": "stream",
       "stream": "stdout",
       "text": [
        "#192 #193 #194 "
       ]
      },
      {
       "output_type": "stream",
       "stream": "stdout",
       "text": [
        "#195 #196 #197 "
       ]
      },
      {
       "output_type": "stream",
       "stream": "stdout",
       "text": [
        "#198 #199 #200 "
       ]
      },
      {
       "output_type": "stream",
       "stream": "stdout",
       "text": [
        "#201 "
       ]
      },
      {
       "output_type": "stream",
       "stream": "stdout",
       "text": [
        "#202 "
       ]
      },
      {
       "output_type": "stream",
       "stream": "stdout",
       "text": [
        "#203 "
       ]
      },
      {
       "output_type": "stream",
       "stream": "stdout",
       "text": [
        "#204 "
       ]
      },
      {
       "output_type": "stream",
       "stream": "stdout",
       "text": [
        "#205 "
       ]
      },
      {
       "output_type": "stream",
       "stream": "stdout",
       "text": [
        "#206 "
       ]
      },
      {
       "output_type": "stream",
       "stream": "stdout",
       "text": [
        "#207 "
       ]
      },
      {
       "output_type": "stream",
       "stream": "stdout",
       "text": [
        "#208 "
       ]
      },
      {
       "output_type": "stream",
       "stream": "stdout",
       "text": [
        "#209 "
       ]
      },
      {
       "output_type": "stream",
       "stream": "stdout",
       "text": [
        "#210 "
       ]
      },
      {
       "output_type": "stream",
       "stream": "stdout",
       "text": [
        "#211 "
       ]
      },
      {
       "output_type": "stream",
       "stream": "stdout",
       "text": [
        "#212 "
       ]
      },
      {
       "output_type": "stream",
       "stream": "stdout",
       "text": [
        "#213 "
       ]
      },
      {
       "output_type": "stream",
       "stream": "stdout",
       "text": [
        "#214 "
       ]
      },
      {
       "output_type": "stream",
       "stream": "stdout",
       "text": [
        "#215 "
       ]
      },
      {
       "output_type": "stream",
       "stream": "stdout",
       "text": [
        "#216 "
       ]
      },
      {
       "output_type": "stream",
       "stream": "stdout",
       "text": [
        "#217 "
       ]
      },
      {
       "output_type": "stream",
       "stream": "stdout",
       "text": [
        "#218 "
       ]
      },
      {
       "output_type": "stream",
       "stream": "stdout",
       "text": [
        "#219 "
       ]
      },
      {
       "output_type": "stream",
       "stream": "stdout",
       "text": [
        "#220 "
       ]
      },
      {
       "output_type": "stream",
       "stream": "stdout",
       "text": [
        "#221 "
       ]
      },
      {
       "output_type": "stream",
       "stream": "stdout",
       "text": [
        "#222 "
       ]
      },
      {
       "output_type": "stream",
       "stream": "stdout",
       "text": [
        "#223 "
       ]
      },
      {
       "output_type": "stream",
       "stream": "stdout",
       "text": [
        "#224 "
       ]
      },
      {
       "output_type": "stream",
       "stream": "stdout",
       "text": [
        "#225 "
       ]
      },
      {
       "output_type": "stream",
       "stream": "stdout",
       "text": [
        "#226 "
       ]
      },
      {
       "output_type": "stream",
       "stream": "stdout",
       "text": [
        "#227 "
       ]
      },
      {
       "output_type": "stream",
       "stream": "stdout",
       "text": [
        "#228 "
       ]
      },
      {
       "output_type": "stream",
       "stream": "stdout",
       "text": [
        "#229 "
       ]
      },
      {
       "output_type": "stream",
       "stream": "stdout",
       "text": [
        "#230 "
       ]
      },
      {
       "output_type": "stream",
       "stream": "stdout",
       "text": [
        "#231 "
       ]
      },
      {
       "output_type": "stream",
       "stream": "stdout",
       "text": [
        "#232 "
       ]
      },
      {
       "output_type": "stream",
       "stream": "stdout",
       "text": [
        "#233 "
       ]
      },
      {
       "output_type": "stream",
       "stream": "stdout",
       "text": [
        "#234 "
       ]
      },
      {
       "output_type": "stream",
       "stream": "stdout",
       "text": [
        "#235 "
       ]
      },
      {
       "output_type": "stream",
       "stream": "stdout",
       "text": [
        "#236 "
       ]
      },
      {
       "output_type": "stream",
       "stream": "stdout",
       "text": [
        "#237 "
       ]
      },
      {
       "output_type": "stream",
       "stream": "stdout",
       "text": [
        "#238 "
       ]
      },
      {
       "output_type": "stream",
       "stream": "stdout",
       "text": [
        "#239 "
       ]
      },
      {
       "output_type": "stream",
       "stream": "stdout",
       "text": [
        "#240 "
       ]
      },
      {
       "output_type": "stream",
       "stream": "stdout",
       "text": [
        "#241 "
       ]
      },
      {
       "output_type": "stream",
       "stream": "stdout",
       "text": [
        "#242 "
       ]
      },
      {
       "output_type": "stream",
       "stream": "stdout",
       "text": [
        "#243 "
       ]
      },
      {
       "output_type": "stream",
       "stream": "stdout",
       "text": [
        "#244 "
       ]
      },
      {
       "output_type": "stream",
       "stream": "stdout",
       "text": [
        "#245 "
       ]
      },
      {
       "output_type": "stream",
       "stream": "stdout",
       "text": [
        "#246 "
       ]
      },
      {
       "output_type": "stream",
       "stream": "stdout",
       "text": [
        "#247 "
       ]
      },
      {
       "output_type": "stream",
       "stream": "stdout",
       "text": [
        "#248 "
       ]
      },
      {
       "output_type": "stream",
       "stream": "stdout",
       "text": [
        "#249 "
       ]
      },
      {
       "output_type": "stream",
       "stream": "stdout",
       "text": [
        "#250 "
       ]
      },
      {
       "output_type": "stream",
       "stream": "stdout",
       "text": [
        "#251 "
       ]
      },
      {
       "output_type": "stream",
       "stream": "stdout",
       "text": [
        "#252 "
       ]
      },
      {
       "output_type": "stream",
       "stream": "stdout",
       "text": [
        "#253 "
       ]
      },
      {
       "output_type": "stream",
       "stream": "stdout",
       "text": [
        "#254 "
       ]
      },
      {
       "output_type": "stream",
       "stream": "stdout",
       "text": [
        "#255 "
       ]
      },
      {
       "output_type": "stream",
       "stream": "stdout",
       "text": [
        "#256 "
       ]
      },
      {
       "output_type": "stream",
       "stream": "stdout",
       "text": [
        "#257 "
       ]
      },
      {
       "output_type": "stream",
       "stream": "stdout",
       "text": [
        "#258 "
       ]
      },
      {
       "output_type": "stream",
       "stream": "stdout",
       "text": [
        "#259 "
       ]
      },
      {
       "output_type": "stream",
       "stream": "stdout",
       "text": [
        "#260 "
       ]
      },
      {
       "output_type": "stream",
       "stream": "stdout",
       "text": [
        "#261 "
       ]
      },
      {
       "output_type": "stream",
       "stream": "stdout",
       "text": [
        "#262 "
       ]
      },
      {
       "output_type": "stream",
       "stream": "stdout",
       "text": [
        "#263 "
       ]
      },
      {
       "output_type": "stream",
       "stream": "stdout",
       "text": [
        "#264 "
       ]
      },
      {
       "output_type": "stream",
       "stream": "stdout",
       "text": [
        "#265 "
       ]
      },
      {
       "output_type": "stream",
       "stream": "stdout",
       "text": [
        "#266 "
       ]
      },
      {
       "output_type": "stream",
       "stream": "stdout",
       "text": [
        "#267 "
       ]
      },
      {
       "output_type": "stream",
       "stream": "stdout",
       "text": [
        "#268 "
       ]
      },
      {
       "output_type": "stream",
       "stream": "stdout",
       "text": [
        "#269 "
       ]
      },
      {
       "output_type": "stream",
       "stream": "stdout",
       "text": [
        "#270 "
       ]
      },
      {
       "output_type": "stream",
       "stream": "stdout",
       "text": [
        "#271 "
       ]
      },
      {
       "output_type": "stream",
       "stream": "stdout",
       "text": [
        "#272 "
       ]
      },
      {
       "output_type": "stream",
       "stream": "stdout",
       "text": [
        "#273 "
       ]
      },
      {
       "output_type": "stream",
       "stream": "stdout",
       "text": [
        "#274 "
       ]
      },
      {
       "output_type": "stream",
       "stream": "stdout",
       "text": [
        "#275 "
       ]
      },
      {
       "output_type": "stream",
       "stream": "stdout",
       "text": [
        "#276 "
       ]
      },
      {
       "output_type": "stream",
       "stream": "stdout",
       "text": [
        "#277 "
       ]
      },
      {
       "output_type": "stream",
       "stream": "stdout",
       "text": [
        "#278 "
       ]
      },
      {
       "output_type": "stream",
       "stream": "stdout",
       "text": [
        "#279 "
       ]
      },
      {
       "output_type": "stream",
       "stream": "stdout",
       "text": [
        "#280 "
       ]
      },
      {
       "output_type": "stream",
       "stream": "stdout",
       "text": [
        "#281 "
       ]
      },
      {
       "output_type": "stream",
       "stream": "stdout",
       "text": [
        "#282 "
       ]
      },
      {
       "output_type": "stream",
       "stream": "stdout",
       "text": [
        "#283 "
       ]
      },
      {
       "output_type": "stream",
       "stream": "stdout",
       "text": [
        "#284 "
       ]
      },
      {
       "output_type": "stream",
       "stream": "stdout",
       "text": [
        "#285 "
       ]
      },
      {
       "output_type": "stream",
       "stream": "stdout",
       "text": [
        "#286 "
       ]
      },
      {
       "output_type": "stream",
       "stream": "stdout",
       "text": [
        "#287 "
       ]
      },
      {
       "output_type": "stream",
       "stream": "stdout",
       "text": [
        "#288 "
       ]
      },
      {
       "output_type": "stream",
       "stream": "stdout",
       "text": [
        "#289 "
       ]
      },
      {
       "output_type": "stream",
       "stream": "stdout",
       "text": [
        "#290 "
       ]
      },
      {
       "output_type": "stream",
       "stream": "stdout",
       "text": [
        "#291 "
       ]
      },
      {
       "output_type": "stream",
       "stream": "stdout",
       "text": [
        "#292 "
       ]
      },
      {
       "output_type": "stream",
       "stream": "stdout",
       "text": [
        "#293 "
       ]
      },
      {
       "output_type": "stream",
       "stream": "stdout",
       "text": [
        "#294\n",
        "MAE ="
       ]
      },
      {
       "output_type": "stream",
       "stream": "stdout",
       "text": [
        " 0.00178511283945\n",
        "MAX = 0.0271274733913\n",
        "MIN = 0.000458723916255\n"
       ]
      },
      {
       "metadata": {},
       "output_type": "display_data",
       "png": "[encoded data removed]",
       "text": [
        "<matplotlib.figure.Figure at 0x1140336d0>"
       ]
      }
     ],
     "prompt_number": 24
    },
    {
     "cell_type": "code",
     "collapsed": false,
     "input": [
      "d_shell_error = np.array(d_shell_error)\n",
      "plt.plot(d_shell_error[:,0] / err_rec[-1][0], \"r--\", label=\"MAE\")\n",
      "plt.plot(d_shell_error[:,1] / err_rec[-1][1], \"b--\", label=\"MAX\")\n",
      "plt.plot(d_shell_error[:,2] / err_rec[-1][2], \"g--\", label=\"MIN\")\n",
      "plt.legend(framealpha=0.5)\n",
      "plt.show()"
     ],
     "language": "python",
     "metadata": {},
     "outputs": [
      {
       "metadata": {},
       "output_type": "display_data",
       "png": "[encoded data removed]",
       "text": [
        "<matplotlib.figure.Figure at 0x113af0cd0>"
       ]
      }
     ],
     "prompt_number": 25
    },
    {
     "cell_type": "markdown",
     "metadata": {},
     "source": [
      "#You can output it to a .py file"
     ]
    },
    {
     "cell_type": "code",
     "collapsed": false,
     "input": [
      "fb.output(fobj=open('dens_dict.py','w'))"
     ],
     "language": "python",
     "metadata": {},
     "outputs": [],
     "prompt_number": 15
    }
   ],
   "metadata": {}
  }
 ]
}