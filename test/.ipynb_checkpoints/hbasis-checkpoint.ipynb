{
 "metadata": {
  "name": "",
  "signature": "sha256:863cde8a0fab55c51ec9b25ba6145914b6b047a535723868421830c1ae9af796"
 },
 "nbformat": 3,
 "nbformat_minor": 0,
 "worksheets": [
  {
   "cells": [
    {
     "cell_type": "code",
     "collapsed": false,
     "input": [
      "from basis1d.findbasis import *\n",
      "%matplotlib inline"
     ],
     "language": "python",
     "metadata": {},
     "outputs": [],
     "prompt_number": 1
    },
    {
     "cell_type": "code",
     "collapsed": false,
     "input": [
      "def show_err():\n",
      "    print '\\n================='\n",
      "    print 'current basis data:'\n",
      "    print fb.basis_data\n",
      "    e=fb.error()\n",
      "    minerr.append(min(e))\n",
      "    maxerr.append(max(e))\n",
      "    maeerr.append(np.mean(np.abs(e)))\n",
      "    print 'min=%f'%minerr[-1]\n",
      "    print 'max=%f'%maxerr[-1]\n",
      "    print 'mae=%f'%maeerr[-1]\n",
      "    plt.plot(fb.T,e)\n",
      "    plt.xlabel('index')\n",
      "    plt.ylabel(r'$\\int \\Delta n^2 dx$')"
     ],
     "language": "python",
     "metadata": {},
     "outputs": [],
     "prompt_number": 2
    },
    {
     "cell_type": "code",
     "collapsed": false,
     "input": [
      "n_lib = np.loadtxt('H2/n.txt')\n",
      "Nt,Ng = n_lib.shape\n",
      "dx = 0.05\n",
      "Para = np.loadtxt('H2/Para.txt')\n",
      "mid = dx*(Ng-1)/2\n",
      "atom_x_lib = np.empty((Nt,2))\n",
      "atom_x_lib[:,0] = mid-Para/2\n",
      "atom_x_lib[:,1] = mid+Para/2\n",
      "atoms_Z = [1,1]\n",
      "basis_data = \\\n",
      "\t\t\t{1: [('s',\n",
      "\t\t\t\t\t[(2., 0.06462908245839719),\n",
      "\t\t\t\t\t (0.8, 0.4066825517248162),\n",
      "\t\t\t\t\t (0.32, 0.5468171685012185)])]\n",
      "\t\t\t}"
     ],
     "language": "python",
     "metadata": {},
     "outputs": [],
     "prompt_number": 3
    },
    {
     "cell_type": "markdown",
     "metadata": {},
     "source": [
      "#initialize class"
     ]
    },
    {
     "cell_type": "code",
     "collapsed": false,
     "input": [
      "fb = findbasis(n_lib,dx,atom_x_lib,atoms_Z,basis_data)\n",
      "minerr = []\n",
      "maxerr = []\n",
      "maeerr = []"
     ],
     "language": "python",
     "metadata": {},
     "outputs": [],
     "prompt_number": 4
    },
    {
     "cell_type": "markdown",
     "metadata": {},
     "source": [
      "#show current basis data and fitting mean absolute error"
     ]
    },
    {
     "cell_type": "code",
     "collapsed": false,
     "input": [
      "show_err()"
     ],
     "language": "python",
     "metadata": {},
     "outputs": [
      {
       "output_type": "stream",
       "stream": "stdout",
       "text": [
        "\n",
        "=================\n",
        "current basis data:\n",
        "{1: [('s', [(2.0, 0.06462908245839719), (0.8, 0.4066825517248162), (0.32, 0.5468171685012185)])]}\n",
        "min=0.000009"
       ]
      },
      {
       "output_type": "stream",
       "stream": "stdout",
       "text": [
        "\n",
        "max=0.011529\n",
        "mae=0.003040\n"
       ]
      },
      {
       "metadata": {},
       "output_type": "display_data",
       "png": "[encoded data removed]",
       "text": [
        "<matplotlib.figure.Figure at 0x10f084f50>"
       ]
      }
     ],
     "prompt_number": 5
    },
    {
     "cell_type": "markdown",
     "metadata": {},
     "source": [
      "#add two p orbitals "
     ]
    },
    {
     "cell_type": "code",
     "collapsed": false,
     "input": [
      "fb.optimize_bf(Z=1,shell='p',alist=np.logspace(-1,1,10),blist=np.linspace(0.3,0.6,10),Nn=2,kfold=10,doadd=True)\n",
      "show_err()"
     ],
     "language": "python",
     "metadata": {},
     "outputs": [
      {
       "output_type": "stream",
       "stream": "stdout",
       "text": [
        "optimize basis function with even-tempered method with 10-fold cross validation\n",
        "add to basis data: True\n",
        "atomic index: 1\n",
        "shell: p\n",
        "list of a: [  0.1          0.16681005   0.27825594   0.46415888   0.77426368\n",
        "   1.29154967   2.15443469   3.59381366   5.9948425   10.        ]\n",
        "list of b: [ 0.3         0.33333333  0.36666667  0.4         0.43333333  0.46666667\n",
        "  0.5         0.53333333  0.56666667  0.6       ]\n",
        "number of new basis: 2\n",
        "\n",
        "\tvalidation set: [ 1 55 80 67 48 89 29 91 62 44]"
       ]
      },
      {
       "output_type": "stream",
       "stream": "stdout",
       "text": [
        "\n",
        "\toptimized a=1.291550\tb=0.366667\n",
        "\texpn:[1.2915496650148841, 0.4735682105054575]\n",
        "\n",
        "\tvalidation set: [36 19 11  9 94 66 83 43 49  5]"
       ]
      },
      {
       "output_type": "stream",
       "stream": "stdout",
       "text": [
        "\n",
        "\toptimized a=1.291550\tb=0.333333\n",
        "\texpn:[1.2915496650148841, 0.43051655500496133]\n",
        "\n",
        "\tvalidation set: [78 61 35  4 38 51 26 63  2 99]"
       ]
      },
      {
       "output_type": "stream",
       "stream": "stdout",
       "text": [
        "\n",
        "\toptimized a=1.291550\tb=0.366667\n",
        "\texpn:[1.2915496650148841, 0.4735682105054575]\n",
        "\n",
        "\tvalidation set: [87 39 32 16 56 50 40 59 14 41]"
       ]
      },
      {
       "output_type": "stream",
       "stream": "stdout",
       "text": [
        "\n",
        "\toptimized a=1.291550\tb=0.333333\n",
        "\texpn:[1.2915496650148841, 0.43051655500496133]\n",
        "\n",
        "\tvalidation set: [71 47 98 70  0  8 74 97 22 60]"
       ]
      },
      {
       "output_type": "stream",
       "stream": "stdout",
       "text": [
        "\n",
        "\toptimized a=1.291550\tb=0.366667\n",
        "\texpn:[1.2915496650148841, 0.4735682105054575]\n",
        "\n",
        "\tvalidation set: [86 69 23 10 15 57 88 24 27  3]"
       ]
      },
      {
       "output_type": "stream",
       "stream": "stdout",
       "text": [
        "\n",
        "\toptimized a=1.291550\tb=0.433333\n",
        "\texpn:[1.2915496650148841, 0.55967152150644983]\n",
        "\n",
        "\tvalidation set: [58 31 33 34 25 12 75 46 84 30]"
       ]
      },
      {
       "output_type": "stream",
       "stream": "stdout",
       "text": [
        "\n",
        "\toptimized a=1.291550\tb=0.433333\n",
        "\texpn:[1.2915496650148841, 0.55967152150644983]\n",
        "\n",
        "\tvalidation set: [13 73 37 64 54 68 72 93 17 28]"
       ]
      },
      {
       "output_type": "stream",
       "stream": "stdout",
       "text": [
        "\n",
        "\toptimized a=1.291550\tb=0.400000\n",
        "\texpn:[1.2915496650148841, 0.51661986600595367]\n",
        "\n",
        "\tvalidation set: [45 95 82 76 20 21 96 92 53 85]"
       ]
      },
      {
       "output_type": "stream",
       "stream": "stdout",
       "text": [
        "\n",
        "\toptimized a=0.774264\tb=0.300000\n",
        "\texpn:[0.774263682681127, 0.23227910480433808]\n",
        "\n",
        "\tvalidation set: [79 81 90  7  6 77 65 18 42 52]"
       ]
      },
      {
       "output_type": "stream",
       "stream": "stdout",
       "text": [
        "\n",
        "\toptimized a=1.291550\tb=0.333333\n",
        "\texpn:[1.2915496650148841, 0.43051655500496133]\n",
        "\n",
        "from cross validation:\n",
        "optimized a=1.291550\tb=0.366667\n",
        "optimized new shell: [('p', [(1.2915496650148841, 1.0)]), ('p', [(0.4735682105054575, 1.0)])]\n",
        "\n",
        "=================\n",
        "current basis data:\n",
        "{1: [('s', [(2.0, 0.06462908245839719), (0.8, 0.4066825517248162), (0.32, 0.5468171685012185)]), ('p', [(1.2915496650148841, 1.0)]), ('p', [(0.4735682105054575, 1.0)])]}\n",
        "min=0.000005"
       ]
      },
      {
       "output_type": "stream",
       "stream": "stdout",
       "text": [
        "\n",
        "max=0.000717\n",
        "mae=0.000124\n"
       ]
      },
      {
       "metadata": {},
       "output_type": "display_data",
       "png": "[encoded data removed]",
       "text": [
        "<matplotlib.figure.Figure at 0x111d83c10>"
       ]
      }
     ],
     "prompt_number": 6
    },
    {
     "cell_type": "markdown",
     "metadata": {},
     "source": [
      "#add two d orbitals"
     ]
    },
    {
     "cell_type": "code",
     "collapsed": false,
     "input": [
      "fb.optimize_bf(Z=1,shell='d',alist=np.logspace(-1,1,10),blist=np.linspace(0.1,0.4,10),Nn=2,kfold=10,doadd=True)\n",
      "show_err()"
     ],
     "language": "python",
     "metadata": {},
     "outputs": [
      {
       "output_type": "stream",
       "stream": "stdout",
       "text": [
        "optimize basis function with even-tempered method with 10-fold cross validation\n",
        "add to basis data: True\n",
        "atomic index: 1\n",
        "shell: d\n",
        "list of a: [  0.1          0.16681005   0.27825594   0.46415888   0.77426368\n",
        "   1.29154967   2.15443469   3.59381366   5.9948425   10.        ]\n",
        "list of b: [ 0.1         0.13333333  0.16666667  0.2         0.23333333  0.26666667\n",
        "  0.3         0.33333333  0.36666667  0.4       ]\n",
        "number of new basis: 2\n",
        "\n",
        "\tvalidation set: [83 13 27 20 38 94 87 32 91  7]"
       ]
      },
      {
       "output_type": "stream",
       "stream": "stdout",
       "text": [
        "\n",
        "\toptimized a=3.593814\tb=0.166667\n",
        "\texpn:[3.5938136638046259, 0.59896894396743772]\n",
        "\n",
        "\tvalidation set: [82 30 46 23 47 29 44 39 89 22]"
       ]
      },
      {
       "output_type": "stream",
       "stream": "stdout",
       "text": [
        "\n",
        "\toptimized a=3.593814\tb=0.166667\n",
        "\texpn:[3.5938136638046259, 0.59896894396743772]\n",
        "\n",
        "\tvalidation set: [86 36 15  3 31 42 99 90 28 95]"
       ]
      },
      {
       "output_type": "stream",
       "stream": "stdout",
       "text": [
        "\n",
        "\toptimized a=3.593814\tb=0.166667\n",
        "\texpn:[3.5938136638046259, 0.59896894396743772]\n",
        "\n",
        "\tvalidation set: [45 96 77 92 69 50 16 17 67 85]"
       ]
      },
      {
       "output_type": "stream",
       "stream": "stdout",
       "text": [
        "\n",
        "\toptimized a=3.593814\tb=0.100000\n",
        "\texpn:[3.5938136638046259, 0.35938136638046259]\n",
        "\n",
        "\tvalidation set: [37 60 63 41 78 35 43 54 10 49]"
       ]
      },
      {
       "output_type": "stream",
       "stream": "stdout",
       "text": [
        "\n",
        "\toptimized a=3.593814\tb=0.133333\n",
        "\texpn:[3.5938136638046259, 0.47917515517395021]\n",
        "\n",
        "\tvalidation set: [58 64 33 73 98 61 25 53 93 75]"
       ]
      },
      {
       "output_type": "stream",
       "stream": "stdout",
       "text": [
        "\n",
        "\toptimized a=3.593814\tb=0.166667\n",
        "\texpn:[3.5938136638046259, 0.59896894396743772]\n",
        "\n",
        "\tvalidation set: [68 84 51 66 19 24  2 55  9 57]"
       ]
      },
      {
       "output_type": "stream",
       "stream": "stdout",
       "text": [
        "\n",
        "\toptimized a=3.593814\tb=0.200000\n",
        "\texpn:[3.5938136638046259, 0.71876273276092517]\n",
        "\n",
        "\tvalidation set: [52 88 65 26 79 70  4  8 76  0]"
       ]
      },
      {
       "output_type": "stream",
       "stream": "stdout",
       "text": [
        "\n",
        "\toptimized a=3.593814\tb=0.166667\n",
        "\texpn:[3.5938136638046259, 0.59896894396743772]\n",
        "\n",
        "\tvalidation set: [ 5 74 12 72 80  6 34 59 18 11]"
       ]
      },
      {
       "output_type": "stream",
       "stream": "stdout",
       "text": [
        "\n",
        "\toptimized a=3.593814\tb=0.166667\n",
        "\texpn:[3.5938136638046259, 0.59896894396743772]\n",
        "\n",
        "\tvalidation set: [48 21 14 56 71 40 97 81  1 62]"
       ]
      },
      {
       "output_type": "stream",
       "stream": "stdout",
       "text": [
        "\n",
        "\toptimized a=3.593814\tb=0.166667\n",
        "\texpn:[3.5938136638046259, 0.59896894396743772]\n",
        "\n",
        "from cross validation:\n",
        "optimized a=3.593814\tb=0.166667\n",
        "optimized new shell: [('d', [(3.5938136638046259, 1.0)]), ('d', [(0.59896894396743772, 1.0)])]\n",
        "\n",
        "=================\n",
        "current basis data:\n",
        "{1: [('s', [(2.0, 0.06462908245839719), (0.8, 0.4066825517248162), (0.32, 0.5468171685012185)]), ('p', [(1.2915496650148841, 1.0)]), ('p', [(0.4735682105054575, 1.0)]), ('d', [(3.5938136638046259, 1.0)]), ('d', [(0.59896894396743772, 1.0)])]}\n",
        "min=0.000000"
       ]
      },
      {
       "output_type": "stream",
       "stream": "stdout",
       "text": [
        "\n",
        "max=0.000010\n",
        "mae=0.000003\n"
       ]
      },
      {
       "metadata": {},
       "output_type": "display_data",
       "png": "[encoded data removed]",
       "text": [
        "<matplotlib.figure.Figure at 0x111e0a190>"
       ]
      }
     ],
     "prompt_number": 7
    },
    {
     "cell_type": "markdown",
     "metadata": {},
     "source": [
      "#add two f orbitals"
     ]
    },
    {
     "cell_type": "code",
     "collapsed": false,
     "input": [
      "fb.optimize_bf(Z=1,shell='f',alist=np.logspace(-1,1,10),blist=np.linspace(0.3,0.6,10),Nn=2,kfold=10,doadd=True)\n",
      "show_err()"
     ],
     "language": "python",
     "metadata": {},
     "outputs": [
      {
       "output_type": "stream",
       "stream": "stdout",
       "text": [
        "optimize basis function with even-tempered method with 10-fold cross validation\n",
        "add to basis data: True\n",
        "atomic index: 1\n",
        "shell: f\n",
        "list of a: [  0.1          0.16681005   0.27825594   0.46415888   0.77426368\n",
        "   1.29154967   2.15443469   3.59381366   5.9948425   10.        ]\n",
        "list of b: [ 0.3         0.33333333  0.36666667  0.4         0.43333333  0.46666667\n",
        "  0.5         0.53333333  0.56666667  0.6       ]\n",
        "number of new basis: 2\n",
        "\n",
        "\tvalidation set: [76 19 47 54 38  4 44 60  5 31]"
       ]
      },
      {
       "output_type": "stream",
       "stream": "stdout",
       "text": [
        "\n",
        "\toptimized a=0.464159\tb=0.533333\n",
        "\texpn:[0.46415888336127786, 0.2475514044593482]\n",
        "\n",
        "\tvalidation set: [15 36 82 97 61 20 55 16 98 40]"
       ]
      },
      {
       "output_type": "stream",
       "stream": "stdout",
       "text": [
        "\n",
        "\toptimized a=0.464159\tb=0.600000\n",
        "\texpn:[0.46415888336127786, 0.27849533001676668]\n",
        "\n",
        "\tvalidation set: [75 92 83 69 46 96 30 89  1 68]"
       ]
      },
      {
       "output_type": "stream",
       "stream": "stdout",
       "text": [
        "\n",
        "\toptimized a=0.464159\tb=0.466667\n",
        "\texpn:[0.46415888336127786, 0.21660747890192966]\n",
        "\n",
        "\tvalidation set: [80  6 33 62 52 88 23 77 70 18]"
       ]
      },
      {
       "output_type": "stream",
       "stream": "stdout",
       "text": [
        "\n",
        "\toptimized a=0.464159\tb=0.366667\n",
        "\texpn:[0.46415888336127786, 0.17019159056580188]\n",
        "\n",
        "\tvalidation set: [78 24 35 49 28 27 43 72  7 74]"
       ]
      },
      {
       "output_type": "stream",
       "stream": "stdout",
       "text": [
        "\n",
        "\toptimized a=0.464159\tb=0.566667\n",
        "\texpn:[0.46415888336127786, 0.26302336723805747]\n",
        "\n",
        "\tvalidation set: [84 50 86 85 53 99 71 66 94 79]"
       ]
      },
      {
       "output_type": "stream",
       "stream": "stdout",
       "text": [
        "\n",
        "\toptimized a=0.278256\tb=0.600000\n",
        "\texpn:[0.27825594022071243, 0.16695356413242746]\n",
        "\n",
        "\tvalidation set: [13 12 39 73 59 64  0  2 11 58]"
       ]
      },
      {
       "output_type": "stream",
       "stream": "stdout",
       "text": [
        "\n",
        "\toptimized a=0.464159\tb=0.533333\n",
        "\texpn:[0.46415888336127786, 0.2475514044593482]\n",
        "\n",
        "\tvalidation set: [87 37 22 65 93  3 57 63 42  8]"
       ]
      },
      {
       "output_type": "stream",
       "stream": "stdout",
       "text": [
        "\n",
        "\toptimized a=0.464159\tb=0.600000\n",
        "\texpn:[0.46415888336127786, 0.27849533001676668]\n",
        "\n",
        "\tvalidation set: [81 51 25 32 17 41 14 29 34 21]"
       ]
      },
      {
       "output_type": "stream",
       "stream": "stdout",
       "text": [
        "\n",
        "\toptimized a=0.464159\tb=0.566667\n",
        "\texpn:[0.46415888336127786, 0.26302336723805747]\n",
        "\n",
        "\tvalidation set: [67 48 10 95 26 45 91 90  9 56]"
       ]
      },
      {
       "output_type": "stream",
       "stream": "stdout",
       "text": [
        "\n",
        "\toptimized a=0.464159\tb=0.433333\n",
        "\texpn:[0.46415888336127786, 0.20113551612322042]\n",
        "\n",
        "from cross validation:\n",
        "optimized a=0.464159\tb=0.550000\n",
        "optimized new shell: [('f', [(0.46415888336127786, 1.0)]), ('f', [(0.25528738584870286, 1.0)])]\n",
        "\n",
        "=================\n",
        "current basis data:\n",
        "{1: [('s', [(2.0, 0.06462908245839719), (0.8, 0.4066825517248162), (0.32, 0.5468171685012185)]), ('p', [(1.2915496650148841, 1.0)]), ('p', [(0.4735682105054575, 1.0)]), ('d', [(3.5938136638046259, 1.0)]), ('d', [(0.59896894396743772, 1.0)]), ('f', [(0.46415888336127786, 1.0)]), ('f', [(0.25528738584870286, 1.0)])]}\n",
        "min=0.000000"
       ]
      },
      {
       "output_type": "stream",
       "stream": "stdout",
       "text": [
        "\n",
        "max=0.000004\n",
        "mae=0.000002\n"
       ]
      },
      {
       "metadata": {},
       "output_type": "display_data",
       "png": "[encoded data removed]",
       "text": [
        "<matplotlib.figure.Figure at 0x111d89e50>"
       ]
      }
     ],
     "prompt_number": 8
    },
    {
     "cell_type": "markdown",
     "metadata": {},
     "source": [
      "#Plot the fitting error with more basis"
     ]
    },
    {
     "cell_type": "code",
     "collapsed": false,
     "input": [
      "plt.plot(np.log10(maxerr),'go-',label='max')\n",
      "plt.plot(np.log10(minerr),'ro-',label='min')\n",
      "plt.plot(np.log10(maeerr),'bo-',label='mae')\n",
      "plt.legend(loc=1)\n",
      "plt.show()"
     ],
     "language": "python",
     "metadata": {},
     "outputs": [
      {
       "metadata": {},
       "output_type": "display_data",
       "png": "[encoded data removed]",
       "text": [
        "<matplotlib.figure.Figure at 0x111cb6ad0>"
       ]
      }
     ],
     "prompt_number": 9
    },
    {
     "cell_type": "code",
     "collapsed": false,
     "input": [
      "fb.basis_data"
     ],
     "language": "python",
     "metadata": {},
     "outputs": [
      {
       "metadata": {},
       "output_type": "pyout",
       "prompt_number": 87,
       "text": [
        "{1: [('s',\n",
        "   [(2.0, 0.06462908245839719),\n",
        "    (0.8, 0.4066825517248162),\n",
        "    (0.32, 0.5468171685012185)]),\n",
        "  ('p', [(1.2915496650148841, 1.0)]),\n",
        "  ('p', [(0.49509403825570553, 1.0)]),\n",
        "  ('d', [(3.5938136638046259, 1.0)]),\n",
        "  ('d', [(0.59896894396743772, 1.0)]),\n",
        "  ('f', [(0.46415888336127786, 1.0)]),\n",
        "  ('f', [(0.21660747890192966, 1.0)])]}"
       ]
      }
     ],
     "prompt_number": 87
    },
    {
     "cell_type": "code",
     "collapsed": false,
     "input": [],
     "language": "python",
     "metadata": {},
     "outputs": [],
     "prompt_number": 87
    }
   ],
   "metadata": {}
  }
 ]
}