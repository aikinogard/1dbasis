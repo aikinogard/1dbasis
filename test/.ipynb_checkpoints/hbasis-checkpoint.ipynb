{
 "metadata": {
  "name": "",
  "signature": "sha256:831bfe8c5b15f845cf1f6131390223f64926f786111ec6e7d70be6ab7e3cd7b3"
 },
 "nbformat": 3,
 "nbformat_minor": 0,
 "worksheets": [
  {
   "cells": [
    {
     "cell_type": "code",
     "collapsed": false,
     "input": [
      "from basis1d.findbasis import *\n",
      "%matplotlib inline"
     ],
     "language": "python",
     "metadata": {},
     "outputs": [],
     "prompt_number": 4
    },
    {
     "cell_type": "code",
     "collapsed": false,
     "input": [
      "def show_err():\n",
      "    print '\\n================='\n",
      "    print 'current basis data:'\n",
      "    print fb.basis_data\n",
      "    e=fb.error()\n",
      "    minerr.append(min(e))\n",
      "    maxerr.append(max(e))\n",
      "    maeerr.append(np.mean(np.abs(e)))\n",
      "    print 'min=%f'%minerr[-1]\n",
      "    print 'max=%f'%maxerr[-1]\n",
      "    print 'mae=%f'%maeerr[-1]\n",
      "    plt.plot(fb.T,e)\n",
      "    plt.xlabel('index')\n",
      "    plt.ylabel(r'$\\int \\Delta n^2 dx$')"
     ],
     "language": "python",
     "metadata": {},
     "outputs": [],
     "prompt_number": 5
    },
    {
     "cell_type": "code",
     "collapsed": false,
     "input": [
      "n_lib = np.loadtxt('H2/n.txt')\n",
      "Nt,Ng = n_lib.shape\n",
      "dx = 0.05\n",
      "Para = np.loadtxt('H2/Para.txt')\n",
      "mid = dx*(Ng-1)/2\n",
      "atom_x_lib = np.empty((Nt,2))\n",
      "atom_x_lib[:,0] = mid-Para/2\n",
      "atom_x_lib[:,1] = mid+Para/2\n",
      "atoms_Z = [1,1]\n",
      "basis_data = basis['minix']"
     ],
     "language": "python",
     "metadata": {},
     "outputs": [],
     "prompt_number": 6
    },
    {
     "cell_type": "markdown",
     "metadata": {},
     "source": [
      "#initialize class"
     ]
    },
    {
     "cell_type": "code",
     "collapsed": false,
     "input": [
      "fb = findbasis(n_lib,dx,atom_x_lib,atoms_Z,basis_data)\n",
      "print fb.name\n",
      "print fb.basis_data\n",
      "minerr = []\n",
      "maxerr = []\n",
      "maeerr = []"
     ],
     "language": "python",
     "metadata": {},
     "outputs": [
      {
       "output_type": "stream",
       "stream": "stdout",
       "text": [
        "H2\n",
        "{1: [('s', [(2.0, 0.06462908245839719), (0.8, 0.4066825517248162), (0.32, 0.5468171685012185)])]}\n"
       ]
      }
     ],
     "prompt_number": 7
    },
    {
     "cell_type": "markdown",
     "metadata": {},
     "source": [
      "#show current basis data and fitting mean absolute error"
     ]
    },
    {
     "cell_type": "code",
     "collapsed": false,
     "input": [
      "show_err()"
     ],
     "language": "python",
     "metadata": {},
     "outputs": [
      {
       "output_type": "stream",
       "stream": "stdout",
       "text": [
        "\n",
        "=================\n",
        "current basis data:\n",
        "{1: [('s', [(2.0, 0.06462908245839719), (0.8, 0.4066825517248162), (0.32, 0.5468171685012185)])]}\n",
        "min=0.000009"
       ]
      },
      {
       "output_type": "stream",
       "stream": "stdout",
       "text": [
        "\n",
        "max=0.011529\n",
        "mae=0.003040\n"
       ]
      },
      {
       "metadata": {},
       "output_type": "display_data",
       "png": "[encoded data removed]",
       "text": [
        "<matplotlib.figure.Figure at 0x10b1eac50>"
       ]
      }
     ],
     "prompt_number": 8
    },
    {
     "cell_type": "markdown",
     "metadata": {},
     "source": [
      "#add two p orbitals "
     ]
    },
    {
     "cell_type": "code",
     "collapsed": false,
     "input": [
      "fb.optimize_bf(Z=1,shell='p',alist=np.logspace(-1,1,10),blist=np.linspace(0.3,0.6,10),Nn=2,kfold=10,doadd=True)\n",
      "show_err()"
     ],
     "language": "python",
     "metadata": {},
     "outputs": [
      {
       "output_type": "stream",
       "stream": "stdout",
       "text": [
        "optimize basis function with even-tempered method with 10-fold cross validation\n",
        "add to basis data: True\n",
        "atomic index: 1\n",
        "shell: p\n",
        "list of a: [  0.1          0.16681005   0.27825594   0.46415888   0.77426368\n",
        "   1.29154967   2.15443469   3.59381366   5.9948425   10.        ]\n",
        "list of b: [ 0.3         0.33333333  0.36666667  0.4         0.43333333  0.46666667\n",
        "  0.5         0.53333333  0.56666667  0.6       ]\n",
        "number of new basis: 2\n",
        "\n",
        "\tvalidation set: [15 73 72 28 13 49 20 84 11 45]"
       ]
      },
      {
       "output_type": "stream",
       "stream": "stdout",
       "text": [
        "\n",
        "\toptimized a=1.291550\tb=0.366667\n",
        "\texpn:[1.2915496650148841, 0.4735682105054575]\n",
        "\n",
        "\tvalidation set: [99 25 91  6 71 41 24  5 30 42]"
       ]
      },
      {
       "output_type": "stream",
       "stream": "stdout",
       "text": [
        "\n",
        "\toptimized a=1.291550\tb=0.433333\n",
        "\texpn:[1.2915496650148841, 0.55967152150644983]\n",
        "\n",
        "\tvalidation set: [93 36 59 52 19 62 50 26 82 23]"
       ]
      },
      {
       "output_type": "stream",
       "stream": "stdout",
       "text": [
        "\n",
        "\toptimized a=0.774264\tb=0.600000\n",
        "\texpn:[0.774263682681127, 0.46455820960867616]\n",
        "\n",
        "\tvalidation set: [74 98 27 97 12  3  4 33 38 92]"
       ]
      },
      {
       "output_type": "stream",
       "stream": "stdout",
       "text": [
        "\n",
        "\toptimized a=1.291550\tb=0.366667\n",
        "\texpn:[1.2915496650148841, 0.4735682105054575]\n",
        "\n",
        "\tvalidation set: [56 76 63 43 40  8 47 81  1 55]"
       ]
      },
      {
       "output_type": "stream",
       "stream": "stdout",
       "text": [
        "\n",
        "\toptimized a=1.291550\tb=0.333333\n",
        "\texpn:[1.2915496650148841, 0.43051655500496133]\n",
        "\n",
        "\tvalidation set: [22 31 66 78 65 39 17  0 21 53]"
       ]
      },
      {
       "output_type": "stream",
       "stream": "stdout",
       "text": [
        "\n",
        "\toptimized a=1.291550\tb=0.366667\n",
        "\texpn:[1.2915496650148841, 0.4735682105054575]\n",
        "\n",
        "\tvalidation set: [94 37 64 89 75 70 14 96 51 80]"
       ]
      },
      {
       "output_type": "stream",
       "stream": "stdout",
       "text": [
        "\n",
        "\toptimized a=0.774264\tb=0.466667\n",
        "\texpn:[0.774263682681127, 0.36132305191785929]\n",
        "\n",
        "\tvalidation set: [68 60 58  9 83 35 32 54 57 90]"
       ]
      },
      {
       "output_type": "stream",
       "stream": "stdout",
       "text": [
        "\n",
        "\toptimized a=1.291550\tb=0.366667\n",
        "\texpn:[1.2915496650148841, 0.4735682105054575]\n",
        "\n",
        "\tvalidation set: [10 46 86 79 48 67 88 16 95 77]"
       ]
      },
      {
       "output_type": "stream",
       "stream": "stdout",
       "text": [
        "\n",
        "\toptimized a=0.774264\tb=0.400000\n",
        "\texpn:[0.774263682681127, 0.30970547307245083]\n",
        "\n",
        "\tvalidation set: [85 61 29 87  7 69  2 34 18 44]"
       ]
      },
      {
       "output_type": "stream",
       "stream": "stdout",
       "text": [
        "\n",
        "\toptimized a=1.291550\tb=0.366667\n",
        "\texpn:[1.2915496650148841, 0.4735682105054575]\n",
        "\n",
        "from cross validation:\n",
        "optimized a=1.291550\tb=0.366667\n",
        "optimized new shell: [('p', [(1.2915496650148841, 1.0)]), ('p', [(0.4735682105054575, 1.0)])]\n",
        "\n",
        "=================\n",
        "current basis data:\n",
        "{1: [('s', [(2.0, 0.06462908245839719), (0.8, 0.4066825517248162), (0.32, 0.5468171685012185)]), ('p', [(1.2915496650148841, 1.0)]), ('p', [(0.4735682105054575, 1.0)])]}\n",
        "min=0.000005"
       ]
      },
      {
       "output_type": "stream",
       "stream": "stdout",
       "text": [
        "\n",
        "max=0.000717\n",
        "mae=0.000124\n"
       ]
      },
      {
       "metadata": {},
       "output_type": "display_data",
       "png": "[encoded data removed]",
       "text": [
        "<matplotlib.figure.Figure at 0x10b354b10>"
       ]
      }
     ],
     "prompt_number": 9
    },
    {
     "cell_type": "markdown",
     "metadata": {},
     "source": [
      "#add two d orbitals"
     ]
    },
    {
     "cell_type": "code",
     "collapsed": false,
     "input": [
      "fb.optimize_bf(Z=1,shell='d',alist=np.logspace(-1,1,10),blist=np.linspace(0.1,0.4,10),Nn=2,kfold=10,doadd=True)\n",
      "show_err()"
     ],
     "language": "python",
     "metadata": {},
     "outputs": [
      {
       "output_type": "stream",
       "stream": "stdout",
       "text": [
        "optimize basis function with even-tempered method with 10-fold cross validation\n",
        "add to basis data: True\n",
        "atomic index: 1\n",
        "shell: d\n",
        "list of a: [  0.1          0.16681005   0.27825594   0.46415888   0.77426368\n",
        "   1.29154967   2.15443469   3.59381366   5.9948425   10.        ]\n",
        "list of b: [ 0.1         0.13333333  0.16666667  0.2         0.23333333  0.26666667\n",
        "  0.3         0.33333333  0.36666667  0.4       ]\n",
        "number of new basis: 2\n",
        "\n",
        "\tvalidation set: [90 53 14 12 41 19 31 86 22 73]"
       ]
      },
      {
       "output_type": "stream",
       "stream": "stdout",
       "text": [
        "\n",
        "\toptimized a=3.593814\tb=0.166667\n",
        "\texpn:[3.5938136638046259, 0.59896894396743772]\n",
        "\n",
        "\tvalidation set: [82 46 54  8 83 44 56 75 74 87]"
       ]
      },
      {
       "output_type": "stream",
       "stream": "stdout",
       "text": [
        "\n",
        "\toptimized a=3.593814\tb=0.133333\n",
        "\texpn:[3.5938136638046259, 0.47917515517395021]\n",
        "\n",
        "\tvalidation set: [49 79 28 98 15 76 88 26 66 62]"
       ]
      },
      {
       "output_type": "stream",
       "stream": "stdout",
       "text": [
        "\n",
        "\toptimized a=3.593814\tb=0.166667\n",
        "\texpn:[3.5938136638046259, 0.59896894396743772]\n",
        "\n",
        "\tvalidation set: [59 36  2  0 61 52 93  9 97 27]"
       ]
      },
      {
       "output_type": "stream",
       "stream": "stdout",
       "text": [
        "\n",
        "\toptimized a=3.593814\tb=0.166667\n",
        "\texpn:[3.5938136638046259, 0.59896894396743772]\n",
        "\n",
        "\tvalidation set: [38 81 47 50 42  4 16 32 60 99]"
       ]
      },
      {
       "output_type": "stream",
       "stream": "stdout",
       "text": [
        "\n",
        "\toptimized a=3.593814\tb=0.133333\n",
        "\texpn:[3.5938136638046259, 0.47917515517395021]\n",
        "\n",
        "\tvalidation set: [67 94 77 34 80  1 21 58 85 89]"
       ]
      },
      {
       "output_type": "stream",
       "stream": "stdout",
       "text": [
        "\n",
        "\toptimized a=3.593814\tb=0.166667\n",
        "\texpn:[3.5938136638046259, 0.59896894396743772]\n",
        "\n",
        "\tvalidation set: [30 24 37 45  5 10 78 69 18 43]"
       ]
      },
      {
       "output_type": "stream",
       "stream": "stdout",
       "text": [
        "\n",
        "\toptimized a=3.593814\tb=0.166667\n",
        "\texpn:[3.5938136638046259, 0.59896894396743772]\n",
        "\n",
        "\tvalidation set: [95 65 70 96 39  7 33 48 17 20]"
       ]
      },
      {
       "output_type": "stream",
       "stream": "stdout",
       "text": [
        "\n",
        "\toptimized a=3.593814\tb=0.166667\n",
        "\texpn:[3.5938136638046259, 0.59896894396743772]\n",
        "\n",
        "\tvalidation set: [91 71 68 84 55  6 57 51 29 35]"
       ]
      },
      {
       "output_type": "stream",
       "stream": "stdout",
       "text": [
        "\n",
        "\toptimized a=3.593814\tb=0.166667\n",
        "\texpn:[3.5938136638046259, 0.59896894396743772]\n",
        "\n",
        "\tvalidation set: [63 40 64 23 72 25 11  3 13 92]"
       ]
      },
      {
       "output_type": "stream",
       "stream": "stdout",
       "text": [
        "\n",
        "\toptimized a=3.593814\tb=0.166667\n",
        "\texpn:[3.5938136638046259, 0.59896894396743772]\n",
        "\n",
        "from cross validation:\n",
        "optimized a=3.593814\tb=0.166667\n",
        "optimized new shell: [('d', [(3.5938136638046259, 1.0)]), ('d', [(0.59896894396743772, 1.0)])]\n",
        "\n",
        "=================\n",
        "current basis data:\n",
        "{1: [('s', [(2.0, 0.06462908245839719), (0.8, 0.4066825517248162), (0.32, 0.5468171685012185)]), ('p', [(1.2915496650148841, 1.0)]), ('p', [(0.4735682105054575, 1.0)]), ('d', [(3.5938136638046259, 1.0)]), ('d', [(0.59896894396743772, 1.0)])]}\n",
        "min=0.000000"
       ]
      },
      {
       "output_type": "stream",
       "stream": "stdout",
       "text": [
        "\n",
        "max=0.000010\n",
        "mae=0.000003\n"
       ]
      },
      {
       "metadata": {},
       "output_type": "display_data",
       "png": "[encoded data removed]",
       "text": [
        "<matplotlib.figure.Figure at 0x10b40a490>"
       ]
      }
     ],
     "prompt_number": 10
    },
    {
     "cell_type": "markdown",
     "metadata": {},
     "source": [
      "#add two f orbitals"
     ]
    },
    {
     "cell_type": "code",
     "collapsed": false,
     "input": [
      "fb.optimize_bf(Z=1,shell='f',alist=np.logspace(-1,1,10),blist=np.linspace(0.3,0.6,10),Nn=2,kfold=10,doadd=True)\n",
      "show_err()"
     ],
     "language": "python",
     "metadata": {},
     "outputs": [
      {
       "output_type": "stream",
       "stream": "stdout",
       "text": [
        "optimize basis function with even-tempered method with 10-fold cross validation\n",
        "add to basis data: True\n",
        "atomic index: 1\n",
        "shell: f\n",
        "list of a: [  0.1          0.16681005   0.27825594   0.46415888   0.77426368\n",
        "   1.29154967   2.15443469   3.59381366   5.9948425   10.        ]\n",
        "list of b: [ 0.3         0.33333333  0.36666667  0.4         0.43333333  0.46666667\n",
        "  0.5         0.53333333  0.56666667  0.6       ]\n",
        "number of new basis: 2\n",
        "\n",
        "\tvalidation set: [80 26 37 28 67 69 90 17 86 58]"
       ]
      },
      {
       "output_type": "stream",
       "stream": "stdout",
       "text": [
        "\n",
        "\toptimized a=0.464159\tb=0.566667\n",
        "\texpn:[0.46415888336127786, 0.26302336723805747]\n",
        "\n",
        "\tvalidation set: [25 75  1 66 61 33  8 13 21 98]"
       ]
      },
      {
       "output_type": "stream",
       "stream": "stdout",
       "text": [
        "\n",
        "\toptimized a=0.464159\tb=0.366667\n",
        "\texpn:[0.46415888336127786, 0.17019159056580188]\n",
        "\n",
        "\tvalidation set: [40 89 91  2 34 81 47 54 49 84]"
       ]
      },
      {
       "output_type": "stream",
       "stream": "stdout",
       "text": [
        "\n",
        "\toptimized a=0.464159\tb=0.533333\n",
        "\texpn:[0.46415888336127786, 0.2475514044593482]\n",
        "\n",
        "\tvalidation set: [14 97 52 42 76 32 93 51 39 11]"
       ]
      },
      {
       "output_type": "stream",
       "stream": "stdout",
       "text": [
        "\n",
        "\toptimized a=0.464159\tb=0.600000\n",
        "\texpn:[0.46415888336127786, 0.27849533001676668]\n",
        "\n",
        "\tvalidation set: [46 71  0 27 30 96 31 43  9 18]"
       ]
      },
      {
       "output_type": "stream",
       "stream": "stdout",
       "text": [
        "\n",
        "\toptimized a=0.464159\tb=0.533333\n",
        "\texpn:[0.46415888336127786, 0.2475514044593482]\n",
        "\n",
        "\tvalidation set: [ 7 72 23 48 99 19 62 57 22 36]"
       ]
      },
      {
       "output_type": "stream",
       "stream": "stdout",
       "text": [
        "\n",
        "\toptimized a=0.464159\tb=0.433333\n",
        "\texpn:[0.46415888336127786, 0.20113551612322042]\n",
        "\n",
        "\tvalidation set: [16 41 38 74  5 82  3 94 29 24]"
       ]
      },
      {
       "output_type": "stream",
       "stream": "stdout",
       "text": [
        "\n",
        "\toptimized a=0.464159\tb=0.600000\n",
        "\texpn:[0.46415888336127786, 0.27849533001676668]\n",
        "\n",
        "\tvalidation set: [95 92 15 44 59 63 65 88 12 68]"
       ]
      },
      {
       "output_type": "stream",
       "stream": "stdout",
       "text": [
        "\n",
        "\toptimized a=0.464159\tb=0.433333\n",
        "\texpn:[0.46415888336127786, 0.20113551612322042]\n",
        "\n",
        "\tvalidation set: [10 64  4 50 35 77 55 85 79 73]"
       ]
      },
      {
       "output_type": "stream",
       "stream": "stdout",
       "text": [
        "\n",
        "\toptimized a=0.464159\tb=0.400000\n",
        "\texpn:[0.46415888336127786, 0.18566355334451115]\n",
        "\n",
        "\tvalidation set: [53 45 83 70 78 60 87 20  6 56]"
       ]
      },
      {
       "output_type": "stream",
       "stream": "stdout",
       "text": [
        "\n",
        "\toptimized a=0.464159\tb=0.400000\n",
        "\texpn:[0.46415888336127786, 0.18566355334451115]\n",
        "\n",
        "from cross validation:\n",
        "optimized a=0.464159\tb=0.483333\n",
        "optimized new shell: [('f', [(0.46415888336127786, 1.0)]), ('f', [(0.2243434602912843, 1.0)])]\n",
        "\n",
        "=================\n",
        "current basis data:\n",
        "{1: [('s', [(2.0, 0.06462908245839719), (0.8, 0.4066825517248162), (0.32, 0.5468171685012185)]), ('p', [(1.2915496650148841, 1.0)]), ('p', [(0.4735682105054575, 1.0)]), ('d', [(3.5938136638046259, 1.0)]), ('d', [(0.59896894396743772, 1.0)]), ('f', [(0.46415888336127786, 1.0)]), ('f', [(0.2243434602912843, 1.0)])]}\n",
        "min=0.000000"
       ]
      },
      {
       "output_type": "stream",
       "stream": "stdout",
       "text": [
        "\n",
        "max=0.000004\n",
        "mae=0.000002\n"
       ]
      },
      {
       "metadata": {},
       "output_type": "display_data",
       "png": "[encoded data removed]",
       "text": [
        "<matplotlib.figure.Figure at 0x10b385050>"
       ]
      }
     ],
     "prompt_number": 11
    },
    {
     "cell_type": "markdown",
     "metadata": {},
     "source": [
      "#Plot the fitting error with more basis"
     ]
    },
    {
     "cell_type": "code",
     "collapsed": false,
     "input": [
      "plt.plot(np.log10(maxerr),'go-',label='max')\n",
      "plt.plot(np.log10(minerr),'ro-',label='min')\n",
      "plt.plot(np.log10(maeerr),'bo-',label='mae')\n",
      "plt.legend(loc=1)\n",
      "plt.title(fb.name)\n",
      "plt.show()"
     ],
     "language": "python",
     "metadata": {},
     "outputs": [
      {
       "metadata": {},
       "output_type": "display_data",
       "png": "[encoded data removed]",
       "text": [
        "<matplotlib.figure.Figure at 0x10b36da50>"
       ]
      }
     ],
     "prompt_number": 12
    },
    {
     "cell_type": "code",
     "collapsed": false,
     "input": [
      "fb.basis_data"
     ],
     "language": "python",
     "metadata": {},
     "outputs": [
      {
       "metadata": {},
       "output_type": "pyout",
       "prompt_number": 13,
       "text": [
        "{1: [('s',\n",
        "   [(2.0, 0.06462908245839719),\n",
        "    (0.8, 0.4066825517248162),\n",
        "    (0.32, 0.5468171685012185)]),\n",
        "  ('p', [(1.2915496650148841, 1.0)]),\n",
        "  ('p', [(0.4735682105054575, 1.0)]),\n",
        "  ('d', [(3.5938136638046259, 1.0)]),\n",
        "  ('d', [(0.59896894396743772, 1.0)]),\n",
        "  ('f', [(0.46415888336127786, 1.0)]),\n",
        "  ('f', [(0.2243434602912843, 1.0)])]}"
       ]
      }
     ],
     "prompt_number": 13
    },
    {
     "cell_type": "markdown",
     "metadata": {},
     "source": [
      "#You can output it to a .py file"
     ]
    },
    {
     "cell_type": "code",
     "collapsed": false,
     "input": [
      "fb.output(fobj=open('dens_dict.py','w'))"
     ],
     "language": "python",
     "metadata": {},
     "outputs": [],
     "prompt_number": 15
    },
    {
     "cell_type": "markdown",
     "metadata": {},
     "source": [
      "#You can also plot the 30th density"
     ]
    },
    {
     "cell_type": "code",
     "collapsed": false,
     "input": [
      "fb.show_density([fb.n_lib[30],fb.fit_density(30)[1]],True,['exact','fitting'])"
     ],
     "language": "python",
     "metadata": {},
     "outputs": [
      {
       "metadata": {},
       "output_type": "display_data",
       "png": "[encoded data removed]",
       "text": [
        "<matplotlib.figure.Figure at 0x10b361150>"
       ]
      }
     ],
     "prompt_number": 14
    },
    {
     "cell_type": "code",
     "collapsed": false,
     "input": [],
     "language": "python",
     "metadata": {},
     "outputs": [],
     "prompt_number": 14
    }
   ],
   "metadata": {}
  }
 ]
}