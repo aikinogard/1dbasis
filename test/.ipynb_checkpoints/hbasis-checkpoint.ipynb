{
 "metadata": {
  "name": "",
  "signature": "sha256:dc1e97d434a4a06e5e24ba5434fab8538f74b9718876a47f1d66e65ba027cb81"
 },
 "nbformat": 3,
 "nbformat_minor": 0,
 "worksheets": [
  {
   "cells": [
    {
     "cell_type": "code",
     "collapsed": false,
     "input": [
      "from basis1d.findbasis import *\n",
      "%matplotlib inline"
     ],
     "language": "python",
     "metadata": {},
     "outputs": [],
     "prompt_number": 1
    },
    {
     "cell_type": "code",
     "collapsed": false,
     "input": [
      "def show_err():\n",
      "    print '\\n================='\n",
      "    print 'current basis data:'\n",
      "    print fb.basis_data\n",
      "    e=fb.error()\n",
      "    minerr.append(min(e))\n",
      "    maxerr.append(max(e))\n",
      "    maeerr.append(np.mean(np.abs(e)))\n",
      "    print 'min=%f'%minerr[-1]\n",
      "    print 'max=%f'%maxerr[-1]\n",
      "    print 'mae=%f'%maeerr[-1]\n",
      "    plt.plot(fb.T,e)\n",
      "    plt.xlabel('index')\n",
      "    plt.ylabel(r'$\\int \\Delta n^2 dx$')"
     ],
     "language": "python",
     "metadata": {},
     "outputs": [],
     "prompt_number": 2
    },
    {
     "cell_type": "code",
     "collapsed": false,
     "input": [
      "n_lib = np.loadtxt('H2/n.txt')\n",
      "Nt,Ng = n_lib.shape\n",
      "dx = 0.05\n",
      "Para = np.loadtxt('H2/Para.txt')\n",
      "mid = dx*(Ng-1)/2\n",
      "atom_x_lib = np.empty((Nt,2))\n",
      "atom_x_lib[:,0] = mid-Para/2\n",
      "atom_x_lib[:,1] = mid+Para/2\n",
      "atoms_Z = [1,1]\n",
      "basis_data = basis['minix']"
     ],
     "language": "python",
     "metadata": {},
     "outputs": [],
     "prompt_number": 3
    },
    {
     "cell_type": "markdown",
     "metadata": {},
     "source": [
      "#initialize class"
     ]
    },
    {
     "cell_type": "code",
     "collapsed": false,
     "input": [
      "fb = findbasis(n_lib,dx,atom_x_lib,atoms_Z,basis_data)\n",
      "print fb.name\n",
      "print fb.basis_data\n",
      "minerr = []\n",
      "maxerr = []\n",
      "maeerr = []"
     ],
     "language": "python",
     "metadata": {},
     "outputs": [
      {
       "output_type": "stream",
       "stream": "stdout",
       "text": [
        "H2\n",
        "{1: [('s', [(2.0, 0.06462908245839719), (0.8, 0.4066825517248162), (0.32, 0.5468171685012185)])]}\n"
       ]
      }
     ],
     "prompt_number": 4
    },
    {
     "cell_type": "markdown",
     "metadata": {},
     "source": [
      "#show current basis data and fitting mean absolute error"
     ]
    },
    {
     "cell_type": "code",
     "collapsed": false,
     "input": [
      "show_err()"
     ],
     "language": "python",
     "metadata": {},
     "outputs": [
      {
       "output_type": "stream",
       "stream": "stdout",
       "text": [
        "\n",
        "=================\n",
        "current basis data:\n",
        "{1: [('s', [(2.0, 0.06462908245839719), (0.8, 0.4066825517248162), (0.32, 0.5468171685012185)])]}\n",
        "min=0.000009"
       ]
      },
      {
       "output_type": "stream",
       "stream": "stdout",
       "text": [
        "\n",
        "max=0.011529\n",
        "mae=0.003040\n"
       ]
      },
      {
       "metadata": {},
       "output_type": "display_data",
       "png": "[encoded data removed]",
       "text": [
        "<matplotlib.figure.Figure at 0x106e27f50>"
       ]
      }
     ],
     "prompt_number": 5
    },
    {
     "cell_type": "markdown",
     "metadata": {},
     "source": [
      "#add two p orbitals "
     ]
    },
    {
     "cell_type": "code",
     "collapsed": false,
     "input": [
      "fb.optimize_bf(Z=1,shell='p',alist=np.logspace(-1,1,10),blist=np.linspace(0.3,0.6,10),Nn=2,kfold=10,doadd=True)\n",
      "show_err()"
     ],
     "language": "python",
     "metadata": {},
     "outputs": [
      {
       "output_type": "stream",
       "stream": "stdout",
       "text": [
        "optimize basis function with even-tempered method with 10-fold cross validation\n",
        "add to basis data: True\n",
        "atomic index: 1\n",
        "shell: p\n",
        "list of a: [  0.1          0.16681005   0.27825594   0.46415888   0.77426368\n",
        "   1.29154967   2.15443469   3.59381366   5.9948425   10.        ]\n",
        "list of b: [ 0.3         0.33333333  0.36666667  0.4         0.43333333  0.46666667\n",
        "  0.5         0.53333333  0.56666667  0.6       ]\n",
        "number of new basis: 2\n",
        "\n",
        "\tvalidation set: [76 57 45 16 59 47 30 95 48 49]"
       ]
      },
      {
       "output_type": "stream",
       "stream": "stdout",
       "text": [
        "\n",
        "\toptimized a=1.291550\tb=0.400000\n",
        "\texpn:[1.2915496650148841, 0.51661986600595367]\n",
        "\n",
        "\tvalidation set: [88 78 34 55 40 75 84 51 22 83]"
       ]
      },
      {
       "output_type": "stream",
       "stream": "stdout",
       "text": [
        "\n",
        "\toptimized a=0.774264\tb=0.600000\n",
        "\texpn:[0.774263682681127, 0.46455820960867616]\n",
        "\n",
        "\tvalidation set: [94 64 21 27 91  0 82 77 17  7]"
       ]
      },
      {
       "output_type": "stream",
       "stream": "stdout",
       "text": [
        "\n",
        "\toptimized a=1.291550\tb=0.366667\n",
        "\texpn:[1.2915496650148841, 0.4735682105054575]\n",
        "\n",
        "\tvalidation set: [35 10 99 81 98  4  3 32  5 19]"
       ]
      },
      {
       "output_type": "stream",
       "stream": "stdout",
       "text": [
        "\n",
        "\toptimized a=1.291550\tb=0.333333\n",
        "\texpn:[1.2915496650148841, 0.43051655500496133]\n",
        "\n",
        "\tvalidation set: [37 71 36  8 38 58 11 66 56 18]"
       ]
      },
      {
       "output_type": "stream",
       "stream": "stdout",
       "text": [
        "\n",
        "\toptimized a=1.291550\tb=0.333333\n",
        "\texpn:[1.2915496650148841, 0.43051655500496133]\n",
        "\n",
        "\tvalidation set: [80 79 20 97 87 13  9 68 42  2]"
       ]
      },
      {
       "output_type": "stream",
       "stream": "stdout",
       "text": [
        "\n",
        "\toptimized a=1.291550\tb=0.333333\n",
        "\texpn:[1.2915496650148841, 0.43051655500496133]\n",
        "\n",
        "\tvalidation set: [65 39 15 31  6 69 28 61 92 44]"
       ]
      },
      {
       "output_type": "stream",
       "stream": "stdout",
       "text": [
        "\n",
        "\toptimized a=1.291550\tb=0.400000\n",
        "\texpn:[1.2915496650148841, 0.51661986600595367]\n",
        "\n",
        "\tvalidation set: [14 46 73 62  1 85 89 50 25 33]"
       ]
      },
      {
       "output_type": "stream",
       "stream": "stdout",
       "text": [
        "\n",
        "\toptimized a=1.291550\tb=0.400000\n",
        "\texpn:[1.2915496650148841, 0.51661986600595367]\n",
        "\n",
        "\tvalidation set: [12 54 67 43 53 52 93 70 63 86]"
       ]
      },
      {
       "output_type": "stream",
       "stream": "stdout",
       "text": [
        "\n",
        "\toptimized a=0.774264\tb=0.400000\n",
        "\texpn:[0.774263682681127, 0.30970547307245083]\n",
        "\n",
        "\tvalidation set: [23 24 96 74 72 90 60 26 41 29]"
       ]
      },
      {
       "output_type": "stream",
       "stream": "stdout",
       "text": [
        "\n",
        "\toptimized a=1.291550\tb=0.533333\n",
        "\texpn:[1.2915496650148841, 0.68882648800793822]\n",
        "\n",
        "from cross validation:\n",
        "optimized a=1.291550\tb=0.400000\n",
        "optimized new shell: [('p', [(1.2915496650148841, 1.0)]), ('p', [(0.51661986600595367, 1.0)])]\n",
        "\n",
        "=================\n",
        "current basis data:\n",
        "{1: [('s', [(2.0, 0.06462908245839719), (0.8, 0.4066825517248162), (0.32, 0.5468171685012185)]), ('p', [(1.2915496650148841, 1.0)]), ('p', [(0.51661986600595367, 1.0)])]}\n",
        "min=0.000006"
       ]
      },
      {
       "output_type": "stream",
       "stream": "stdout",
       "text": [
        "\n",
        "max=0.000704\n",
        "mae=0.000125\n"
       ]
      },
      {
       "metadata": {},
       "output_type": "display_data",
       "png": "[encoded data removed]",
       "text": [
        "<matplotlib.figure.Figure at 0x109b08b10>"
       ]
      }
     ],
     "prompt_number": 6
    },
    {
     "cell_type": "markdown",
     "metadata": {},
     "source": [
      "#add two d orbitals"
     ]
    },
    {
     "cell_type": "code",
     "collapsed": false,
     "input": [
      "fb.optimize_bf(Z=1,shell='d',alist=np.logspace(-1,1,10),blist=np.linspace(0.1,0.4,10),Nn=2,kfold=10,doadd=True)\n",
      "show_err()"
     ],
     "language": "python",
     "metadata": {},
     "outputs": [
      {
       "output_type": "stream",
       "stream": "stdout",
       "text": [
        "optimize basis function with even-tempered method with 10-fold cross validation\n",
        "add to basis data: True\n",
        "atomic index: 1\n",
        "shell: d\n",
        "list of a: [  0.1          0.16681005   0.27825594   0.46415888   0.77426368\n",
        "   1.29154967   2.15443469   3.59381366   5.9948425   10.        ]\n",
        "list of b: [ 0.1         0.13333333  0.16666667  0.2         0.23333333  0.26666667\n",
        "  0.3         0.33333333  0.36666667  0.4       ]\n",
        "number of new basis: 2\n",
        "\n",
        "\tvalidation set: [26 36 72 34  1 74 80 46 17 71]"
       ]
      },
      {
       "output_type": "stream",
       "stream": "stdout",
       "text": [
        "\n",
        "\toptimized a=2.154435\tb=0.333333\n",
        "\texpn:[2.1544346900318834, 0.71814489667729453]\n",
        "\n",
        "\tvalidation set: [23 65 51 86 15 92 90 30 11 84]"
       ]
      },
      {
       "output_type": "stream",
       "stream": "stdout",
       "text": [
        "\n",
        "\toptimized a=3.593814\tb=0.200000\n",
        "\texpn:[3.5938136638046259, 0.71876273276092517]\n",
        "\n",
        "\tvalidation set: [56 54 58 52 32 33 24 98 43  6]"
       ]
      },
      {
       "output_type": "stream",
       "stream": "stdout",
       "text": [
        "\n",
        "\toptimized a=3.593814\tb=0.166667\n",
        "\texpn:[3.5938136638046259, 0.59896894396743772]\n",
        "\n",
        "\tvalidation set: [99 78 97 40  9 66 89 94 16 83]"
       ]
      },
      {
       "output_type": "stream",
       "stream": "stdout",
       "text": [
        "\n",
        "\toptimized a=3.593814\tb=0.133333\n",
        "\texpn:[3.5938136638046259, 0.47917515517395021]\n",
        "\n",
        "\tvalidation set: [12 10 31  7 39 37 82 20 95 76]"
       ]
      },
      {
       "output_type": "stream",
       "stream": "stdout",
       "text": [
        "\n",
        "\toptimized a=2.154435\tb=0.300000\n",
        "\texpn:[2.1544346900318834, 0.64633040700956512]\n",
        "\n",
        "\tvalidation set: [61 49 13 81 77 42 87  4 21 19]"
       ]
      },
      {
       "output_type": "stream",
       "stream": "stdout",
       "text": [
        "\n",
        "\toptimized a=0.774264\tb=0.400000\n",
        "\texpn:[0.774263682681127, 0.30970547307245083]\n",
        "\n",
        "\tvalidation set: [85 41 60 22 73 47 44 29  5 48]"
       ]
      },
      {
       "output_type": "stream",
       "stream": "stdout",
       "text": [
        "\n",
        "\toptimized a=2.154435\tb=0.300000\n",
        "\texpn:[2.1544346900318834, 0.64633040700956512]\n",
        "\n",
        "\tvalidation set: [ 3 75 57 62 25 38 63 67 59 18]"
       ]
      },
      {
       "output_type": "stream",
       "stream": "stdout",
       "text": [
        "\n",
        "\toptimized a=2.154435\tb=0.333333\n",
        "\texpn:[2.1544346900318834, 0.71814489667729453]\n",
        "\n",
        "\tvalidation set: [ 8 53 93 88 50 64  0 69 27 45]"
       ]
      },
      {
       "output_type": "stream",
       "stream": "stdout",
       "text": [
        "\n",
        "\toptimized a=3.593814\tb=0.166667\n",
        "\texpn:[3.5938136638046259, 0.59896894396743772]\n",
        "\n",
        "\tvalidation set: [28 68 55 79 91 96  2 70 14 35]"
       ]
      },
      {
       "output_type": "stream",
       "stream": "stdout",
       "text": [
        "\n",
        "\toptimized a=3.593814\tb=0.200000\n",
        "\texpn:[3.5938136638046259, 0.71876273276092517]\n",
        "\n",
        "from cross validation:\n",
        "optimized a=2.874124\tb=0.250000\n",
        "optimized new shell: [('d', [(2.8741241769182544, 1.0)]), ('d', [(0.7185310442295636, 1.0)])]\n",
        "\n",
        "=================\n",
        "current basis data:\n",
        "{1: [('s', [(2.0, 0.06462908245839719), (0.8, 0.4066825517248162), (0.32, 0.5468171685012185)]), ('p', [(1.2915496650148841, 1.0)]), ('p', [(0.51661986600595367, 1.0)]), ('d', [(2.8741241769182544, 1.0)]), ('d', [(0.7185310442295636, 1.0)])]}\n",
        "min=0.000001"
       ]
      },
      {
       "output_type": "stream",
       "stream": "stdout",
       "text": [
        "\n",
        "max=0.000021\n",
        "mae=0.000005\n"
       ]
      },
      {
       "metadata": {},
       "output_type": "display_data",
       "png": "[encoded data removed]",
       "text": [
        "<matplotlib.figure.Figure at 0x109bb7110>"
       ]
      }
     ],
     "prompt_number": 7
    },
    {
     "cell_type": "markdown",
     "metadata": {},
     "source": [
      "#add two f orbitals"
     ]
    },
    {
     "cell_type": "code",
     "collapsed": false,
     "input": [
      "fb.optimize_bf(Z=1,shell='f',alist=np.logspace(-1,1,10),blist=np.linspace(0.3,0.6,10),Nn=2,kfold=10,doadd=True)\n",
      "show_err()"
     ],
     "language": "python",
     "metadata": {},
     "outputs": [
      {
       "output_type": "stream",
       "stream": "stdout",
       "text": [
        "optimize basis function with even-tempered method with 10-fold cross validation\n",
        "add to basis data: True\n",
        "atomic index: 1\n",
        "shell: f\n",
        "list of a: [  0.1          0.16681005   0.27825594   0.46415888   0.77426368\n",
        "   1.29154967   2.15443469   3.59381366   5.9948425   10.        ]\n",
        "list of b: [ 0.3         0.33333333  0.36666667  0.4         0.43333333  0.46666667\n",
        "  0.5         0.53333333  0.56666667  0.6       ]\n",
        "number of new basis: 2\n",
        "\n",
        "\tvalidation set: [69 89 25 11  5 26 28 19 86  3]"
       ]
      },
      {
       "output_type": "stream",
       "stream": "stdout",
       "text": [
        "\n",
        "\toptimized a=2.154435\tb=0.366667\n",
        "\texpn:[2.1544346900318834, 0.78995938634502383]\n",
        "\n",
        "\tvalidation set: [99  9 87 84 15 68 38 48 23 94]"
       ]
      },
      {
       "output_type": "stream",
       "stream": "stdout",
       "text": [
        "\n",
        "\toptimized a=0.464159\tb=0.600000\n",
        "\texpn:[0.46415888336127786, 0.27849533001676668]\n",
        "\n",
        "\tvalidation set: [59 64 16 42 66  6 85 77 78 46]"
       ]
      },
      {
       "output_type": "stream",
       "stream": "stdout",
       "text": [
        "\n",
        "\toptimized a=0.464159\tb=0.600000\n",
        "\texpn:[0.46415888336127786, 0.27849533001676668]\n",
        "\n",
        "\tvalidation set: [65 75 76 27 40 18 45 95 83 82]"
       ]
      },
      {
       "output_type": "stream",
       "stream": "stdout",
       "text": [
        "\n",
        "\toptimized a=0.464159\tb=0.600000\n",
        "\texpn:[0.46415888336127786, 0.27849533001676668]\n",
        "\n",
        "\tvalidation set: [93 13 22 35 92 31 20 74 17 37]"
       ]
      },
      {
       "output_type": "stream",
       "stream": "stdout",
       "text": [
        "\n",
        "\toptimized a=1.291550\tb=0.566667\n",
        "\texpn:[1.2915496650148841, 0.73187814350843428]\n",
        "\n",
        "\tvalidation set: [54  1 61 70 80 62 73 98 97 56]"
       ]
      },
      {
       "output_type": "stream",
       "stream": "stdout",
       "text": [
        "\n",
        "\toptimized a=0.464159\tb=0.300000\n",
        "\texpn:[0.46415888336127786, 0.13924766500838334]\n",
        "\n",
        "\tvalidation set: [67 24 33  4 43 49 12 32 63  7]"
       ]
      },
      {
       "output_type": "stream",
       "stream": "stdout",
       "text": [
        "\n",
        "\toptimized a=0.464159\tb=0.533333\n",
        "\texpn:[0.46415888336127786, 0.2475514044593482]\n",
        "\n",
        "\tvalidation set: [55  8 96 14 88 71 29 51 57 53]"
       ]
      },
      {
       "output_type": "stream",
       "stream": "stdout",
       "text": [
        "\n",
        "\toptimized a=0.278256\tb=0.600000\n",
        "\texpn:[0.27825594022071243, 0.16695356413242746]\n",
        "\n",
        "\tvalidation set: [72 30 36 50  2 39 47 60 10 91]"
       ]
      },
      {
       "output_type": "stream",
       "stream": "stdout",
       "text": [
        "\n",
        "\toptimized a=0.464159\tb=0.600000\n",
        "\texpn:[0.46415888336127786, 0.27849533001676668]\n",
        "\n",
        "\tvalidation set: [21 52 79 41 58 81  0 34 90 44]"
       ]
      },
      {
       "output_type": "stream",
       "stream": "stdout",
       "text": [
        "\n",
        "\toptimized a=0.464159\tb=0.600000\n",
        "\texpn:[0.46415888336127786, 0.27849533001676668]\n",
        "\n",
        "from cross validation:\n",
        "optimized a=0.464159\tb=0.600000\n",
        "\toptimized b is the largest value in blist\n",
        "optimized new shell: [('f', [(0.46415888336127786, 1.0)]), ('f', [(0.27849533001676668, 1.0)])]\n",
        "\n",
        "=================\n",
        "current basis data:\n",
        "{1: [('s', [(2.0, 0.06462908245839719), (0.8, 0.4066825517248162), (0.32, 0.5468171685012185)]), ('p', [(1.2915496650148841, 1.0)]), ('p', [(0.51661986600595367, 1.0)]), ('d', [(2.8741241769182544, 1.0)]), ('d', [(0.7185310442295636, 1.0)]), ('f', [(0.46415888336127786, 1.0)]), ('f', [(0.27849533001676668, 1.0)])]}\n",
        "min=0.000000"
       ]
      },
      {
       "output_type": "stream",
       "stream": "stdout",
       "text": [
        "\n",
        "max=0.000010\n",
        "mae=0.000003\n"
       ]
      },
      {
       "metadata": {},
       "output_type": "display_data",
       "png": "[encoded data removed]",
       "text": [
        "<matplotlib.figure.Figure at 0x106e27e50>"
       ]
      }
     ],
     "prompt_number": 8
    },
    {
     "cell_type": "markdown",
     "metadata": {},
     "source": [
      "#Plot the fitting error with more basis"
     ]
    },
    {
     "cell_type": "code",
     "collapsed": false,
     "input": [
      "plt.plot(np.log10(maxerr),'go-',label='max')\n",
      "plt.plot(np.log10(minerr),'ro-',label='min')\n",
      "plt.plot(np.log10(maeerr),'bo-',label='mae')\n",
      "plt.legend(loc=1)\n",
      "plt.title(fb.name)\n",
      "plt.show()"
     ],
     "language": "python",
     "metadata": {},
     "outputs": [
      {
       "metadata": {},
       "output_type": "display_data",
       "png": "[encoded data removed]",
       "text": [
        "<matplotlib.figure.Figure at 0x109a5a290>"
       ]
      }
     ],
     "prompt_number": 9
    },
    {
     "cell_type": "code",
     "collapsed": false,
     "input": [
      "fb.basis_data"
     ],
     "language": "python",
     "metadata": {},
     "outputs": [
      {
       "metadata": {},
       "output_type": "pyout",
       "prompt_number": 10,
       "text": [
        "{1: [('s',\n",
        "   [(2.0, 0.06462908245839719),\n",
        "    (0.8, 0.4066825517248162),\n",
        "    (0.32, 0.5468171685012185)]),\n",
        "  ('p', [(1.2915496650148841, 1.0)]),\n",
        "  ('p', [(0.51661986600595367, 1.0)]),\n",
        "  ('d', [(2.8741241769182544, 1.0)]),\n",
        "  ('d', [(0.7185310442295636, 1.0)]),\n",
        "  ('f', [(0.46415888336127786, 1.0)]),\n",
        "  ('f', [(0.27849533001676668, 1.0)])]}"
       ]
      }
     ],
     "prompt_number": 10
    },
    {
     "cell_type": "code",
     "collapsed": false,
     "input": [],
     "language": "python",
     "metadata": {},
     "outputs": [],
     "prompt_number": 16
    }
   ],
   "metadata": {}
  }
 ]
}