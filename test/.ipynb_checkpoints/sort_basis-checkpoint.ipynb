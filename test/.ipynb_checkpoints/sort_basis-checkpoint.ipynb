{
 "cells": [
  {
   "cell_type": "code",
   "execution_count": 1,
   "metadata": {
    "collapsed": true
   },
   "outputs": [],
   "source": [
    "import numpy as np\n",
    "import matplotlib.pyplot as plt\n",
    "from basis1d.findbasis import findbasis\n",
    "from basis1d.tools import sym_xg, sym_uniform_atoms_x\n",
    "%matplotlib inline"
   ]
  },
  {
   "cell_type": "code",
   "execution_count": 2,
   "metadata": {
    "collapsed": true
   },
   "outputs": [],
   "source": [
    "n_lib = []\n",
    "xg_lib = []\n",
    "atoms_x_lib = []\n",
    "atoms_Z_lib = []\n",
    "\n",
    "nh = 2\n",
    "dx = 0.05\n",
    "n_nh = np.loadtxt('H%d/n.txt' % nh).tolist()\n",
    "Nt = len(n_nh)\n",
    "n_lib.extend(n_nh)\n",
    "atoms_Z_nh = [[1]*nh for i in range(Nt)]\n",
    "atoms_Z_lib.extend(atoms_Z_nh)\n",
    "Para_nh = np.loadtxt('H%d/Para.txt' % nh)\n",
    "for i in range(Nt):\n",
    "    xg_i = sym_xg(dx, len(n_nh[i]))\n",
    "    xg_lib.append(xg_i.tolist())\n",
    "    atoms_x_lib.append(sym_uniform_atoms_x(xg_i, Para_nh[i], nh).tolist())\n",
    "\n",
    "nh = 4\n",
    "dx = 0.05\n",
    "n_nh = np.loadtxt('H%d/n.txt' % nh).tolist()\n",
    "Nt = len(n_nh)\n",
    "n_lib.extend(n_nh)\n",
    "atoms_Z_nh = [[1]*nh for i in range(Nt)]\n",
    "atoms_Z_lib.extend(atoms_Z_nh)\n",
    "Para_nh = np.loadtxt('H%d/Para.txt' % nh)\n",
    "for i in range(Nt):\n",
    "    xg_i = sym_xg(dx, len(n_nh[i]))\n",
    "    xg_lib.append(xg_i.tolist())\n",
    "    atoms_x_lib.append(sym_uniform_atoms_x(xg_i, Para_nh[i], nh).tolist())\n",
    "    \n",
    "nh = 8\n",
    "dx = 0.05\n",
    "n_nh = np.loadtxt('H%d/n.txt' % nh).tolist()\n",
    "Nt = len(n_nh)\n",
    "n_lib.extend(n_nh)\n",
    "atoms_Z_nh = [[1]*nh for i in range(Nt)]\n",
    "atoms_Z_lib.extend(atoms_Z_nh)\n",
    "Para_nh = np.loadtxt('H%d/Para.txt' % nh)\n",
    "for i in range(Nt):\n",
    "    xg_i = sym_xg(dx, len(n_nh[i]))\n",
    "    xg_lib.append(xg_i.tolist())\n",
    "    atoms_x_lib.append(sym_uniform_atoms_x(xg_i, Para_nh[i], nh).tolist())"
   ]
  },
  {
   "cell_type": "code",
   "execution_count": 3,
   "metadata": {
    "collapsed": true
   },
   "outputs": [],
   "source": [
    "basis_data = \\\n",
    "{1: [('s',\n",
    "   [(2.0, 0.06462908245839719),\n",
    "    (0.8, 0.4066825517248162),\n",
    "    (0.32, 0.5468171685012185)]),\n",
    "  ('s', [(0.3306625913279761, 1.0)]),\n",
    "  ('p', [(0.85113803820237643, 1.0)]),\n",
    "  ('p', [(0.39869097578953416, 1.0)]),\n",
    "  ('p', [(0.18675524655404496, 1.0)]),\n",
    "  ('d', [(3.5696988468260646, 1.0)]),\n",
    "  ('d', [(0.69515188069770728, 1.0)]),\n",
    "  ('d', [(0.13537168203060615, 1.0)]),\n",
    "  ('f', [(0.12689610031679222, 1.0)]),\n",
    "  ('s', [(14.384498882876629, 1.0)]),\n",
    "  ('s', [(0.15535037771498966, 1.0)])]}\n",
    "\n",
    "fb = findbasis(n_lib, xg_lib, atoms_x_lib, atoms_Z_lib, basis_data, verbose=True)"
   ]
  },
  {
   "cell_type": "code",
   "execution_count": 4,
   "metadata": {
    "collapsed": false
   },
   "outputs": [
    {
     "name": "stdout",
     "output_type": "stream",
     "text": [
      "primary shell is ('s', [(2.0, 0.06462908245839719), (0.8, 0.4066825517248162), (0.32, 0.5468171685012185)])\n",
      "MAE=0.1693296605\n",
      "sorting shell...#1\n",
      "trying...shell #0 #1 #2 #3 #4 #5 #6 #7 #8 #9 done!\n",
      "best shell is ('p', [(0.8511380382023764, 1.0)])\n",
      "MAE=0.0745888182\n",
      "sorting shell...#2\n",
      "trying...shell #0 #1 #2 #3 #4 #5 #6 #7 #8 done!\n",
      "best shell is ('s', [(0.15535037771498966, 1.0)])\n",
      "MAE=0.0348649777\n",
      "sorting shell...#3\n",
      "trying...shell #0 #1 #2 #3 #4 #5 #6 #7 done!\n",
      "best shell is ('p', [(0.18675524655404496, 1.0)])\n",
      "MAE=0.0167513858\n",
      "sorting shell...#4\n",
      "trying...shell #0 #1 #2 #3 #4 #5 #6 done!\n",
      "best shell is ('d', [(3.5696988468260646, 1.0)])\n",
      "MAE=0.0106712228\n",
      "sorting shell...#5\n",
      "trying...shell #0 #1 #2 #3 #4 #5 done!\n",
      "best shell is ('d', [(0.13537168203060615, 1.0)])\n",
      "MAE=0.0084362498\n",
      "sorting shell...#6\n",
      "trying...shell #0 #1 #2 #3 #4 done!\n",
      "best shell is ('d', [(0.6951518806977073, 1.0)])\n",
      "MAE=0.0036870539\n",
      "sorting shell...#7\n",
      "trying...shell #0 #1 #2 #3 done!\n",
      "best shell is ('s', [(0.3306625913279761, 1.0)])\n",
      "MAE=0.0024932129\n",
      "sorting shell...#8\n",
      "trying...shell #0 #1 #2 done!\n",
      "best shell is ('p', [(0.39869097578953416, 1.0)])\n",
      "MAE=0.0017207445\n",
      "sorting shell...#9\n",
      "trying...shell #0 #1 done!\n",
      "best shell is ('s', [(14.38449888287663, 1.0)])\n",
      "MAE=0.0007009045\n",
      "sorting shell...#10\n",
      "trying...shell #0 done!\n",
      "best shell is ('f', [(0.12689610031679222, 1.0)])\n",
      "MAE=0.0006321416\n",
      "sorted basis / fitting error:\n"
     ]
    },
    {
     "ename": "ValueError",
     "evalue": "incomplete format",
     "output_type": "error",
     "traceback": [
      "\u001b[0;31m---------------------------------------------------------------------------\u001b[0m",
      "\u001b[0;31mValueError\u001b[0m                                Traceback (most recent call last)",
      "\u001b[0;32m<ipython-input-4-83c07e872efd>\u001b[0m in \u001b[0;36m<module>\u001b[0;34m()\u001b[0m\n\u001b[1;32m      2\u001b[0m    [(2.0, 0.06462908245839719),\n\u001b[1;32m      3\u001b[0m     \u001b[0;34m(\u001b[0m\u001b[0;36m0.8\u001b[0m\u001b[0;34m,\u001b[0m \u001b[0;36m0.4066825517248162\u001b[0m\u001b[0;34m)\u001b[0m\u001b[0;34m,\u001b[0m\u001b[0;34m\u001b[0m\u001b[0m\n\u001b[0;32m----> 4\u001b[0;31m     (0.32, 0.5468171685012185)]), showerr=True)\n\u001b[0m",
      "\u001b[0;32m/usr/local/lib/python2.7/site-packages/basis1d/findbasis.pyc\u001b[0m in \u001b[0;36mbasis_tier\u001b[0;34m(self, Z, primary_shell, write_over, showerr)\u001b[0m\n\u001b[1;32m    184\u001b[0m         \u001b[0;32mfor\u001b[0m \u001b[0;34m(\u001b[0m\u001b[0mshell\u001b[0m\u001b[0;34m,\u001b[0m \u001b[0merr_min\u001b[0m\u001b[0;34m)\u001b[0m \u001b[0;32min\u001b[0m \u001b[0mzip\u001b[0m\u001b[0;34m(\u001b[0m\u001b[0msort_basis\u001b[0m\u001b[0;34m,\u001b[0m \u001b[0merr_min_list\u001b[0m\u001b[0;34m)\u001b[0m\u001b[0;34m:\u001b[0m\u001b[0;34m\u001b[0m\u001b[0m\n\u001b[1;32m    185\u001b[0m             print \"%s / %4.10f / %4.10f\\%\" % (shell,\n\u001b[0;32m--> 186\u001b[0;31m                                               err_min, 1 - err_min / err_range)\n\u001b[0m\u001b[1;32m    187\u001b[0m         \u001b[0;32mif\u001b[0m \u001b[0mshowerr\u001b[0m\u001b[0;34m:\u001b[0m\u001b[0;34m\u001b[0m\u001b[0m\n\u001b[1;32m    188\u001b[0m             \u001b[0mplt\u001b[0m\u001b[0;34m.\u001b[0m\u001b[0mplot\u001b[0m\u001b[0;34m(\u001b[0m\u001b[0;36m1\u001b[0m \u001b[0;34m-\u001b[0m \u001b[0merr_min_list\u001b[0m \u001b[0;34m/\u001b[0m \u001b[0merr_range\u001b[0m\u001b[0;34m,\u001b[0m \u001b[0;34m'ro--'\u001b[0m\u001b[0;34m)\u001b[0m\u001b[0;34m\u001b[0m\u001b[0m\n",
      "\u001b[0;31mValueError\u001b[0m: incomplete format"
     ]
    }
   ],
   "source": [
    "fb.basis_tier(Z=1, primary_shell=('s',\n",
    "   [(2.0, 0.06462908245839719),\n",
    "    (0.8, 0.4066825517248162),\n",
    "    (0.32, 0.5468171685012185)]), showerr=True)"
   ]
  },
  {
   "cell_type": "code",
   "execution_count": null,
   "metadata": {
    "collapsed": true
   },
   "outputs": [],
   "source": []
  }
 ],
 "metadata": {
  "kernelspec": {
   "display_name": "Python 2",
   "language": "python",
   "name": "python2"
  },
  "language_info": {
   "codemirror_mode": {
    "name": "ipython",
    "version": 2
   },
   "file_extension": ".py",
   "mimetype": "text/x-python",
   "name": "python",
   "nbconvert_exporter": "python",
   "pygments_lexer": "ipython2",
   "version": "2.7.4"
  }
 },
 "nbformat": 4,
 "nbformat_minor": 0
}
