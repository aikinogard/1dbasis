{
 "metadata": {
  "name": "",
  "signature": "sha256:66bae7b02b9705f793932c4507c7a3c70e2cef6705731a4c39b73c7ed158e129"
 },
 "nbformat": 3,
 "nbformat_minor": 0,
 "worksheets": [
  {
   "cells": [
    {
     "cell_type": "code",
     "collapsed": false,
     "input": [
      "import numpy as np\n",
      "import matplotlib.pyplot as plt\n",
      "from basis1d.findbasis import findbasis\n",
      "from basis1d.tools import sym_xg, sym_uniform_atoms_x\n",
      "%matplotlib inline"
     ],
     "language": "python",
     "metadata": {},
     "outputs": [],
     "prompt_number": 1
    },
    {
     "cell_type": "code",
     "collapsed": false,
     "input": [
      "def err_info(err):\n",
      "    print 'MAE =', np.mean(err)\n",
      "    print 'MAX =', np.amax(err)\n",
      "    print 'MIN =', np.amin(err)\n",
      "    return [np.mean(err), np.amax(err), np.amin(err)]\n",
      "\n",
      "def density_info(i):\n",
      "    fb[i].show()\n",
      "    print 'atoms_x =', fb[i].atoms_x\n",
      "    print 'xg.shape =', fb[i].xg.shape\n",
      "    print 'b =', Para[i]\n",
      "    print 'error =', fb[i].get_error()"
     ],
     "language": "python",
     "metadata": {},
     "outputs": [],
     "prompt_number": 2
    },
    {
     "cell_type": "code",
     "collapsed": false,
     "input": [
      "n_lib = []\n",
      "xg_lib = []\n",
      "atoms_x_lib = []\n",
      "atoms_Z_lib = []\n",
      "\n",
      "nh = 2\n",
      "dx = 0.05\n",
      "n_nh = np.loadtxt('H%d/n.txt' % nh).tolist()\n",
      "Nt = len(n_nh)\n",
      "n_lib.extend(n_nh)\n",
      "atoms_Z_nh = [[1]*nh for i in range(Nt)]\n",
      "atoms_Z_lib.extend(atoms_Z_nh)\n",
      "Para_nh = np.loadtxt('H%d/Para.txt' % nh)\n",
      "for i in range(Nt):\n",
      "    xg_i = sym_xg(dx, len(n_nh[i]))\n",
      "    xg_lib.append(xg_i.tolist())\n",
      "    atoms_x_lib.append(sym_uniform_atoms_x(xg_i, Para_nh[i], nh).tolist())\n",
      "\n",
      "nh = 4\n",
      "dx = 0.05\n",
      "n_nh = np.loadtxt('H%d/n.txt' % nh).tolist()\n",
      "Nt = len(n_nh)\n",
      "n_lib.extend(n_nh)\n",
      "atoms_Z_nh = [[1]*nh for i in range(Nt)]\n",
      "atoms_Z_lib.extend(atoms_Z_nh)\n",
      "Para_nh = np.loadtxt('H%d/Para.txt' % nh)\n",
      "for i in range(Nt):\n",
      "    xg_i = sym_xg(dx, len(n_nh[i]))\n",
      "    xg_lib.append(xg_i.tolist())\n",
      "    atoms_x_lib.append(sym_uniform_atoms_x(xg_i, Para_nh[i], nh).tolist())\n",
      "    \n",
      "nh = 8\n",
      "dx = 0.05\n",
      "n_nh = np.loadtxt('H%d/n.txt' % nh).tolist()\n",
      "Nt = len(n_nh)\n",
      "n_lib.extend(n_nh)\n",
      "atoms_Z_nh = [[1]*nh for i in range(Nt)]\n",
      "atoms_Z_lib.extend(atoms_Z_nh)\n",
      "Para_nh = np.loadtxt('H%d/Para.txt' % nh)\n",
      "for i in range(Nt):\n",
      "    xg_i = sym_xg(dx, len(n_nh[i]))\n",
      "    xg_lib.append(xg_i.tolist())\n",
      "    atoms_x_lib.append(sym_uniform_atoms_x(xg_i, Para_nh[i], nh).tolist())"
     ],
     "language": "python",
     "metadata": {},
     "outputs": [],
     "prompt_number": 3
    },
    {
     "cell_type": "code",
     "collapsed": false,
     "input": [
      "err_rec = []"
     ],
     "language": "python",
     "metadata": {},
     "outputs": [],
     "prompt_number": 4
    },
    {
     "cell_type": "markdown",
     "metadata": {},
     "source": [
      "#initialize class"
     ]
    },
    {
     "cell_type": "code",
     "collapsed": false,
     "input": [
      "fb = findbasis(n_lib, xg_lib, atoms_x_lib, atoms_Z_lib, 'minix', verbose=True)"
     ],
     "language": "python",
     "metadata": {},
     "outputs": [],
     "prompt_number": 5
    },
    {
     "cell_type": "code",
     "collapsed": false,
     "input": [
      "fb.fit_density()\n",
      "err = fb.get_error()\n",
      "plt.plot(err)\n",
      "err_rec.append(err_info(err))"
     ],
     "language": "python",
     "metadata": {},
     "outputs": [
      {
       "output_type": "stream",
       "stream": "stdout",
       "text": [
        "fitting density for #0 #1 #2 #3 #4 #5 #6 #7 #8 #9 #10 #11 #12 #13 #14 #15 #16 #17 #18 #19 #20 #21 #22 #23 #24 #25 #26 #27 #28 #29 #30 #31 #32 #33 #34 #35 #36 #37 "
       ]
      },
      {
       "output_type": "stream",
       "stream": "stdout",
       "text": [
        "#38 #39 #40 #41 #42 #43 #44 #45 #46 #47 #48 #49 #50 #51 #52 #53 #54 #55 #56 #57 #58 #59 #60 #61 #62 #63 #64 #65 #66 #67 #68 #69 #70 #71 #72 #73 #74 #75 #76 #77 #78 #79 #80 #81 #82 #83 #84 #85 #86 #87 "
       ]
      },
      {
       "output_type": "stream",
       "stream": "stdout",
       "text": [
        "#88 #89 #90 #91 #92 #93 #94 #95 #96 #97 #98 #99 #100 #101 #102 #103 #104 #105 #106 #107 #108 #109 #110 #111 #112 #113 #114 #115 "
       ]
      },
      {
       "output_type": "stream",
       "stream": "stdout",
       "text": [
        "#116 #117 #118 #119 #120 #121 #122 #123 #124 #125 #126 #127 #128 #129 #130 #131 #132 #133 #134 #135 #136 #137 "
       ]
      },
      {
       "output_type": "stream",
       "stream": "stdout",
       "text": [
        "#138 #139 #140 #141 #142 #143 #144 #145 #146 #147 #148 #149 #150 #151 #152 #153 #154 #155 #156 "
       ]
      },
      {
       "output_type": "stream",
       "stream": "stdout",
       "text": [
        "#157 #158 #159 #160 #161 #162 #163 #164 #165 #166 #167 #168 #169 #170 #171 #172 #173 #174 #175 #176 #177 "
       ]
      },
      {
       "output_type": "stream",
       "stream": "stdout",
       "text": [
        "#178 #179 #180 #181 #182 #183 #184 #185 #186 #187 #188 #189 #190 #191 "
       ]
      },
      {
       "output_type": "stream",
       "stream": "stdout",
       "text": [
        "#192 #193 #194 #195 #196 #197 #198 #199 #200 #201 #202 #203 "
       ]
      },
      {
       "output_type": "stream",
       "stream": "stdout",
       "text": [
        "#204 #205 #206 #207 #208 "
       ]
      },
      {
       "output_type": "stream",
       "stream": "stdout",
       "text": [
        "#209 #210 #211 #212 #213 #214 "
       ]
      },
      {
       "output_type": "stream",
       "stream": "stdout",
       "text": [
        "#215 #216 #217 #218 #219 #220 "
       ]
      },
      {
       "output_type": "stream",
       "stream": "stdout",
       "text": [
        "#221 #222 #223 #224 #225 "
       ]
      },
      {
       "output_type": "stream",
       "stream": "stdout",
       "text": [
        "#226 #227 #228 #229 #230 #231 "
       ]
      },
      {
       "output_type": "stream",
       "stream": "stdout",
       "text": [
        "#232 #233 #234 #235 #236 #237 "
       ]
      },
      {
       "output_type": "stream",
       "stream": "stdout",
       "text": [
        "#238 #239 #240 #241 #242 "
       ]
      },
      {
       "output_type": "stream",
       "stream": "stdout",
       "text": [
        "#243 #244 #245 #246 #247 "
       ]
      },
      {
       "output_type": "stream",
       "stream": "stdout",
       "text": [
        "#248 #249 #250 #251 #252 "
       ]
      },
      {
       "output_type": "stream",
       "stream": "stdout",
       "text": [
        "#253 #254 #255 #256 #257 "
       ]
      },
      {
       "output_type": "stream",
       "stream": "stdout",
       "text": [
        "#258 #259 #260 #261 "
       ]
      },
      {
       "output_type": "stream",
       "stream": "stdout",
       "text": [
        "#262 #263 #264 #265 #266 "
       ]
      },
      {
       "output_type": "stream",
       "stream": "stdout",
       "text": [
        "#267 #268 #269 #270 #271 "
       ]
      },
      {
       "output_type": "stream",
       "stream": "stdout",
       "text": [
        "#272 #273 #274 #275 #276 #277 "
       ]
      },
      {
       "output_type": "stream",
       "stream": "stdout",
       "text": [
        "#278 #279 #280 #281 #282 "
       ]
      },
      {
       "output_type": "stream",
       "stream": "stdout",
       "text": [
        "#283 #284 #285 #286 #287 #288 "
       ]
      },
      {
       "output_type": "stream",
       "stream": "stdout",
       "text": [
        "#289 #290 #291 #292 #293 #294\n",
        "MAE ="
       ]
      },
      {
       "output_type": "stream",
       "stream": "stdout",
       "text": [
        " 0.169329660471\n",
        "MAX = 1.20819750554\n",
        "MIN = 0.0110385508932\n"
       ]
      },
      {
       "metadata": {},
       "output_type": "display_data",
       "png": "[encoded data removed]",
       "text": [
        "<matplotlib.figure.Figure at 0x109b47150>"
       ]
      }
     ],
     "prompt_number": 6
    },
    {
     "cell_type": "markdown",
     "metadata": {},
     "source": [
      "# s shell"
     ]
    },
    {
     "cell_type": "code",
     "collapsed": false,
     "input": [
      "s_shell_error = []"
     ],
     "language": "python",
     "metadata": {},
     "outputs": []
    },
    {
     "cell_type": "markdown",
     "metadata": {},
     "source": [
      "## if put 1 s shell"
     ]
    },
    {
     "cell_type": "code",
     "collapsed": false,
     "input": [
      "shell_data_s1 = fb.optimize_bf(Z=1, shell='s', alist=np.logspace(-1, 1, 10), \n",
      "               blist=1, Nn=1, kfold=10, doadd=False, showerr=True)"
     ],
     "language": "python",
     "metadata": {},
     "outputs": [
      {
       "output_type": "stream",
       "stream": "stdout",
       "text": [
        "optimize basis function with even-tempered method             with 10-fold cross validation\n",
        "add to basis data: False\n",
        "atomic index: 1\n",
        "shell: s\n",
        "list of a: [  0.1          0.16681005   0.27825594   0.46415888   0.77426368\n",
        "   1.29154967   2.15443469   3.59381366   5.9948425   10.        ]\n",
        "list of b: [1]\n",
        "number of new basis: 1\n",
        "\n",
        "\tvalidation set: [ 61 142 212 108 113 283 134  38 173 131  84  37 251 158 101 209  88  49\n",
        " 193  18 287  47 161 121 154 133  75 139 204 191]"
       ]
      },
      {
       "output_type": "stream",
       "stream": "stdout",
       "text": [
        "\n",
        "\toptimized a=0.774264\tb=1.000000\n",
        "\texpn:[0.774263682681127]\n",
        "\n",
        "\tvalidation set: [291  74  31  66  20  30   8 152 249 185  97 123  32 230 207  59 263 261\n",
        "  86 244 221  95 159  77 186  87 278  70 166 162]"
       ]
      },
      {
       "output_type": "stream",
       "stream": "stdout",
       "text": [
        "\n",
        "\toptimized a=0.774264\tb=1.000000\n",
        "\texpn:[0.774263682681127]\n",
        "\n",
        "\tvalidation set: [243  65  43 233  71 269 288 228  26 106  64 250 147  76 285 206 246 105\n",
        " 126  98 181 151  46 125 112 124 265 248 183 270]"
       ]
      },
      {
       "output_type": "stream",
       "stream": "stdout",
       "text": [
        "\n",
        "\toptimized a=0.774264\tb=1.000000\n",
        "\texpn:[0.774263682681127]\n",
        "\n",
        "\tvalidation set: [157 190 215  15 194  13  52  72 107 182  55 289 237 197 179 153   3 177\n",
        " 100 150 165 211 245 254  60 132 290  28 109 104]"
       ]
      },
      {
       "output_type": "stream",
       "stream": "stdout",
       "text": [
        "\n",
        "\toptimized a=0.278256\tb=1.000000\n",
        "\texpn:[0.27825594022071243]\n",
        "\n",
        "\tvalidation set: [260 218 280  83 135 155   0 262  12  69 255 119  36  68  33 216 175 266\n",
        "  99 208 130 224 274 171 238  53 184 164 199  51]"
       ]
      },
      {
       "output_type": "stream",
       "stream": "stdout",
       "text": [
        "\n",
        "\toptimized a=0.774264\tb=1.000000\n",
        "\texpn:[0.774263682681127]\n",
        "\n",
        "\tvalidation set: [ 11 124  25 205  89  85  19 227  27  54  80 111 143  90 279 241  16 140\n",
        " 252 122 280  91 242 146 292 140 293 256   6 201]"
       ]
      },
      {
       "output_type": "stream",
       "stream": "stdout",
       "text": [
        "\n",
        "\toptimized a=0.774264\tb=1.000000\n",
        "\texpn:[0.774263682681127]\n",
        "\n",
        "\tvalidation set: [282 259  10 168 232 203 172 255   4 127 257 195 118 167 149 247 276  24\n",
        " 229 222  50  57   1  35  67 258 141 240 174  94]"
       ]
      },
      {
       "output_type": "stream",
       "stream": "stdout",
       "text": [
        "\n",
        "\toptimized a=0.774264\tb=1.000000\n",
        "\texpn:[0.774263682681127]\n",
        "\n",
        "\tvalidation set: [144  63 189 188 217 120  58 196 115  41   9  47 145   2 163  81 235 180\n",
        " 202 220  14 169 264 281 128  21 156 103 210 213]"
       ]
      },
      {
       "output_type": "stream",
       "stream": "stdout",
       "text": [
        "\n",
        "\toptimized a=0.166810\tb=1.000000\n",
        "\texpn:[0.16681005372000587]\n",
        "\n",
        "\tvalidation set: [ 73 110 137   5 234  93 178 214 116 192 273 219 136  17 117 277 275 102\n",
        "  79 236  44  42 239  92  62  39  45  56 267 225]"
       ]
      },
      {
       "output_type": "stream",
       "stream": "stdout",
       "text": [
        "\n",
        "\toptimized a=0.774264\tb=1.000000\n",
        "\texpn:[0.774263682681127]\n",
        "\n",
        "\tvalidation set: [198 268 294 160  22  78 138 200 170   7 223  96 272  82  48 284  29 286\n",
        " 253 271 129  34 231 226  23 187 148  40 176 114]"
       ]
      },
      {
       "output_type": "stream",
       "stream": "stdout",
       "text": [
        "\n",
        "\toptimized a=0.774264\tb=1.000000\n",
        "\texpn:[0.774263682681127]\n",
        "\n",
        "from cross validation:\n",
        "optimized a=0.774264\tb=1.000000\n",
        "optimized new shell: [('s', [(0.774263682681127, 1.0)])]\n",
        "fitting density for #0 #1 #2 #3 #4 #5 #6 #7 #8 #9 "
       ]
      },
      {
       "output_type": "stream",
       "stream": "stdout",
       "text": [
        "#10 #11 #12 #13 #14 #15 #16 #17 #18 #19 #20 #21 #22 #23 #24 #25 #26 #27 "
       ]
      },
      {
       "output_type": "stream",
       "stream": "stdout",
       "text": [
        "#28 #29 #30 #31 #32 #33 #34 #35 #36 #37 #38 #39 #40 #41 #42 #43 #44 #45 #46 "
       ]
      },
      {
       "output_type": "stream",
       "stream": "stdout",
       "text": [
        "#47 #48 #49 #50 #51 #52 #53 #54 #55 #56 #57 #58 #59 #60 #61 #62 #63 "
       ]
      },
      {
       "output_type": "stream",
       "stream": "stdout",
       "text": [
        "#64 #65 #66 #67 #68 #69 #70 #71 #72 #73 #74 #75 #76 #77 #78 #79 #80 "
       ]
      },
      {
       "output_type": "stream",
       "stream": "stdout",
       "text": [
        "#81 #82 #83 #84 #85 #86 #87 #88 #89 #90 #91 #92 #93 #94 #95 #96 "
       ]
      },
      {
       "output_type": "stream",
       "stream": "stdout",
       "text": [
        "#97 #98 #99 #100 #101 #102 #103 "
       ]
      },
      {
       "output_type": "stream",
       "stream": "stdout",
       "text": [
        "#104 #105 #106 #107 "
       ]
      },
      {
       "output_type": "stream",
       "stream": "stdout",
       "text": [
        "#108 #109 #110 #111 "
       ]
      },
      {
       "output_type": "stream",
       "stream": "stdout",
       "text": [
        "#112 #113 #114 #115 "
       ]
      },
      {
       "output_type": "stream",
       "stream": "stdout",
       "text": [
        "#116 #117 #118 #119 "
       ]
      },
      {
       "output_type": "stream",
       "stream": "stdout",
       "text": [
        "#120 #121 #122 #123 "
       ]
      },
      {
       "output_type": "stream",
       "stream": "stdout",
       "text": [
        "#124 #125 #126 #127 #128 "
       ]
      },
      {
       "output_type": "stream",
       "stream": "stdout",
       "text": [
        "#129 #130 #131 #132 #133 "
       ]
      },
      {
       "output_type": "stream",
       "stream": "stdout",
       "text": [
        "#134 #135 #136 #137 #138 "
       ]
      },
      {
       "output_type": "stream",
       "stream": "stdout",
       "text": [
        "#139 #140 #141 #142 #143 "
       ]
      },
      {
       "output_type": "stream",
       "stream": "stdout",
       "text": [
        "#144 #145 #146 #147 #148"
       ]
      },
      {
       "output_type": "stream",
       "stream": "stdout",
       "text": [
        " #149 #150 #151 #152 "
       ]
      },
      {
       "output_type": "stream",
       "stream": "stdout",
       "text": [
        "#153 #154 #155 #156 "
       ]
      },
      {
       "output_type": "stream",
       "stream": "stdout",
       "text": [
        "#157 #158 #159 #160 "
       ]
      },
      {
       "output_type": "stream",
       "stream": "stdout",
       "text": [
        "#161 #162 #163 #164 #165 "
       ]
      },
      {
       "output_type": "stream",
       "stream": "stdout",
       "text": [
        "#166 #167 #168 #169 #170 "
       ]
      },
      {
       "output_type": "stream",
       "stream": "stdout",
       "text": [
        "#171 #172 #173 #174 "
       ]
      },
      {
       "output_type": "stream",
       "stream": "stdout",
       "text": [
        "#175 #176 #177 #178 #179 "
       ]
      },
      {
       "output_type": "stream",
       "stream": "stdout",
       "text": [
        "#180 #181 #182 #183 #184 "
       ]
      },
      {
       "output_type": "stream",
       "stream": "stdout",
       "text": [
        "#185 #186 #187 #188 #189 "
       ]
      },
      {
       "output_type": "stream",
       "stream": "stdout",
       "text": [
        "#190 #191 #192 #193 #194 "
       ]
      },
      {
       "output_type": "stream",
       "stream": "stdout",
       "text": [
        "#195 #196 #197 #198 "
       ]
      },
      {
       "output_type": "stream",
       "stream": "stdout",
       "text": [
        "#199 #200 "
       ]
      },
      {
       "output_type": "stream",
       "stream": "stdout",
       "text": [
        "#201 "
       ]
      },
      {
       "output_type": "stream",
       "stream": "stdout",
       "text": [
        "#202 "
       ]
      },
      {
       "output_type": "stream",
       "stream": "stdout",
       "text": [
        "#203 "
       ]
      },
      {
       "output_type": "stream",
       "stream": "stdout",
       "text": [
        "#204 "
       ]
      },
      {
       "output_type": "stream",
       "stream": "stdout",
       "text": [
        "#205 "
       ]
      },
      {
       "output_type": "stream",
       "stream": "stdout",
       "text": [
        "#206 "
       ]
      },
      {
       "output_type": "stream",
       "stream": "stdout",
       "text": [
        "#207 "
       ]
      },
      {
       "output_type": "stream",
       "stream": "stdout",
       "text": [
        "#208 "
       ]
      },
      {
       "output_type": "stream",
       "stream": "stdout",
       "text": [
        "#209 "
       ]
      },
      {
       "output_type": "stream",
       "stream": "stdout",
       "text": [
        "#210 "
       ]
      },
      {
       "output_type": "stream",
       "stream": "stdout",
       "text": [
        "#211 "
       ]
      },
      {
       "output_type": "stream",
       "stream": "stdout",
       "text": [
        "#212 "
       ]
      },
      {
       "output_type": "stream",
       "stream": "stdout",
       "text": [
        "#213 "
       ]
      },
      {
       "output_type": "stream",
       "stream": "stdout",
       "text": [
        "#214 "
       ]
      },
      {
       "output_type": "stream",
       "stream": "stdout",
       "text": [
        "#215 "
       ]
      },
      {
       "output_type": "stream",
       "stream": "stdout",
       "text": [
        "#216 "
       ]
      },
      {
       "output_type": "stream",
       "stream": "stdout",
       "text": [
        "#217 "
       ]
      },
      {
       "output_type": "stream",
       "stream": "stdout",
       "text": [
        "#218 "
       ]
      },
      {
       "output_type": "stream",
       "stream": "stdout",
       "text": [
        "#219 "
       ]
      },
      {
       "output_type": "stream",
       "stream": "stdout",
       "text": [
        "#220 "
       ]
      },
      {
       "output_type": "stream",
       "stream": "stdout",
       "text": [
        "#221 "
       ]
      },
      {
       "output_type": "stream",
       "stream": "stdout",
       "text": [
        "#222 "
       ]
      },
      {
       "output_type": "stream",
       "stream": "stdout",
       "text": [
        "#223 "
       ]
      },
      {
       "output_type": "stream",
       "stream": "stdout",
       "text": [
        "#224 "
       ]
      },
      {
       "output_type": "stream",
       "stream": "stdout",
       "text": [
        "#225 "
       ]
      },
      {
       "output_type": "stream",
       "stream": "stdout",
       "text": [
        "#226 "
       ]
      },
      {
       "output_type": "stream",
       "stream": "stdout",
       "text": [
        "#227 "
       ]
      },
      {
       "output_type": "stream",
       "stream": "stdout",
       "text": [
        "#228 "
       ]
      },
      {
       "output_type": "stream",
       "stream": "stdout",
       "text": [
        "#229 "
       ]
      },
      {
       "output_type": "stream",
       "stream": "stdout",
       "text": [
        "#230 "
       ]
      },
      {
       "output_type": "stream",
       "stream": "stdout",
       "text": [
        "#231 "
       ]
      },
      {
       "output_type": "stream",
       "stream": "stdout",
       "text": [
        "#232 "
       ]
      },
      {
       "output_type": "stream",
       "stream": "stdout",
       "text": [
        "#233 "
       ]
      },
      {
       "output_type": "stream",
       "stream": "stdout",
       "text": [
        "#234 "
       ]
      },
      {
       "output_type": "stream",
       "stream": "stdout",
       "text": [
        "#235 "
       ]
      },
      {
       "output_type": "stream",
       "stream": "stdout",
       "text": [
        "#236 "
       ]
      },
      {
       "output_type": "stream",
       "stream": "stdout",
       "text": [
        "#237 "
       ]
      },
      {
       "output_type": "stream",
       "stream": "stdout",
       "text": [
        "#238 "
       ]
      },
      {
       "output_type": "stream",
       "stream": "stdout",
       "text": [
        "#239 "
       ]
      },
      {
       "output_type": "stream",
       "stream": "stdout",
       "text": [
        "#240 "
       ]
      },
      {
       "output_type": "stream",
       "stream": "stdout",
       "text": [
        "#241 "
       ]
      },
      {
       "output_type": "stream",
       "stream": "stdout",
       "text": [
        "#242 "
       ]
      },
      {
       "output_type": "stream",
       "stream": "stdout",
       "text": [
        "#243 "
       ]
      },
      {
       "output_type": "stream",
       "stream": "stdout",
       "text": [
        "#244 "
       ]
      },
      {
       "output_type": "stream",
       "stream": "stdout",
       "text": [
        "#245 "
       ]
      },
      {
       "output_type": "stream",
       "stream": "stdout",
       "text": [
        "#246 "
       ]
      },
      {
       "output_type": "stream",
       "stream": "stdout",
       "text": [
        "#247 "
       ]
      },
      {
       "output_type": "stream",
       "stream": "stdout",
       "text": [
        "#248 "
       ]
      },
      {
       "output_type": "stream",
       "stream": "stdout",
       "text": [
        "#249 "
       ]
      },
      {
       "output_type": "stream",
       "stream": "stdout",
       "text": [
        "#250 "
       ]
      },
      {
       "output_type": "stream",
       "stream": "stdout",
       "text": [
        "#251 "
       ]
      },
      {
       "output_type": "stream",
       "stream": "stdout",
       "text": [
        "#252 "
       ]
      },
      {
       "output_type": "stream",
       "stream": "stdout",
       "text": [
        "#253 "
       ]
      },
      {
       "output_type": "stream",
       "stream": "stdout",
       "text": [
        "#254 "
       ]
      },
      {
       "output_type": "stream",
       "stream": "stdout",
       "text": [
        "#255 "
       ]
      },
      {
       "output_type": "stream",
       "stream": "stdout",
       "text": [
        "#256 "
       ]
      },
      {
       "output_type": "stream",
       "stream": "stdout",
       "text": [
        "#257 "
       ]
      },
      {
       "output_type": "stream",
       "stream": "stdout",
       "text": [
        "#258 "
       ]
      },
      {
       "output_type": "stream",
       "stream": "stdout",
       "text": [
        "#259 "
       ]
      },
      {
       "output_type": "stream",
       "stream": "stdout",
       "text": [
        "#260 "
       ]
      },
      {
       "output_type": "stream",
       "stream": "stdout",
       "text": [
        "#261 "
       ]
      },
      {
       "output_type": "stream",
       "stream": "stdout",
       "text": [
        "#262 "
       ]
      },
      {
       "output_type": "stream",
       "stream": "stdout",
       "text": [
        "#263 "
       ]
      },
      {
       "output_type": "stream",
       "stream": "stdout",
       "text": [
        "#264 "
       ]
      },
      {
       "output_type": "stream",
       "stream": "stdout",
       "text": [
        "#265 "
       ]
      },
      {
       "output_type": "stream",
       "stream": "stdout",
       "text": [
        "#266 "
       ]
      },
      {
       "output_type": "stream",
       "stream": "stdout",
       "text": [
        "#267 "
       ]
      },
      {
       "output_type": "stream",
       "stream": "stdout",
       "text": [
        "#268 "
       ]
      },
      {
       "output_type": "stream",
       "stream": "stdout",
       "text": [
        "#269 "
       ]
      },
      {
       "output_type": "stream",
       "stream": "stdout",
       "text": [
        "#270 "
       ]
      },
      {
       "output_type": "stream",
       "stream": "stdout",
       "text": [
        "#271 "
       ]
      },
      {
       "output_type": "stream",
       "stream": "stdout",
       "text": [
        "#272 "
       ]
      },
      {
       "output_type": "stream",
       "stream": "stdout",
       "text": [
        "#273 "
       ]
      },
      {
       "output_type": "stream",
       "stream": "stdout",
       "text": [
        "#274 "
       ]
      },
      {
       "output_type": "stream",
       "stream": "stdout",
       "text": [
        "#275 "
       ]
      },
      {
       "output_type": "stream",
       "stream": "stdout",
       "text": [
        "#276 "
       ]
      },
      {
       "output_type": "stream",
       "stream": "stdout",
       "text": [
        "#277 "
       ]
      },
      {
       "output_type": "stream",
       "stream": "stdout",
       "text": [
        "#278 "
       ]
      },
      {
       "output_type": "stream",
       "stream": "stdout",
       "text": [
        "#279 "
       ]
      },
      {
       "output_type": "stream",
       "stream": "stdout",
       "text": [
        "#280 "
       ]
      },
      {
       "output_type": "stream",
       "stream": "stdout",
       "text": [
        "#281 "
       ]
      },
      {
       "output_type": "stream",
       "stream": "stdout",
       "text": [
        "#282 "
       ]
      },
      {
       "output_type": "stream",
       "stream": "stdout",
       "text": [
        "#283 "
       ]
      },
      {
       "output_type": "stream",
       "stream": "stdout",
       "text": [
        "#284 "
       ]
      },
      {
       "output_type": "stream",
       "stream": "stdout",
       "text": [
        "#285 "
       ]
      },
      {
       "output_type": "stream",
       "stream": "stdout",
       "text": [
        "#286 "
       ]
      },
      {
       "output_type": "stream",
       "stream": "stdout",
       "text": [
        "#287 "
       ]
      },
      {
       "output_type": "stream",
       "stream": "stdout",
       "text": [
        "#288 "
       ]
      },
      {
       "output_type": "stream",
       "stream": "stdout",
       "text": [
        "#289 "
       ]
      },
      {
       "output_type": "stream",
       "stream": "stdout",
       "text": [
        "#290 "
       ]
      },
      {
       "output_type": "stream",
       "stream": "stdout",
       "text": [
        "#291 "
       ]
      },
      {
       "output_type": "stream",
       "stream": "stdout",
       "text": [
        "#292 "
       ]
      },
      {
       "output_type": "stream",
       "stream": "stdout",
       "text": [
        "#293 "
       ]
      },
      {
       "output_type": "stream",
       "stream": "stdout",
       "text": [
        "#294\n",
        "MAE ="
       ]
      },
      {
       "output_type": "stream",
       "stream": "stdout",
       "text": [
        " 0.016834470674\n",
        "MAX = 0.158045287207\n",
        "MIN = 0.00185861982535\n"
       ]
      },
      {
       "metadata": {},
       "output_type": "display_data",
       "png": "[encoded data removed]",
       "text": [
        "<matplotlib.figure.Figure at 0x10cefe910>"
       ]
      }
     ],
     "prompt_number": 11
    },
    {
     "cell_type": "markdown",
     "metadata": {},
     "source": [
      "## if put 2 s shell"
     ]
    },
    {
     "cell_type": "code",
     "collapsed": false,
     "input": [
      "shell_data_s2 = fb.optimize_bf(Z=1, shell='s', alist=np.logspace(-1, 1, 10), \n",
      "               blist=np.linspace(0.3,0.6,10), Nn=2, kfold=10, doadd=False, showerr=True)"
     ],
     "language": "python",
     "metadata": {},
     "outputs": [
      {
       "output_type": "stream",
       "stream": "stdout",
       "text": [
        "optimize basis function with even-tempered method             with 10-fold cross validation\n",
        "add to basis data: False\n",
        "atomic index: 1\n",
        "shell: s\n",
        "list of a: [  0.1          0.16681005   0.27825594   0.46415888   0.77426368\n",
        "   1.29154967   2.15443469   3.59381366   5.9948425   10.        ]\n",
        "list of b: [ 0.3         0.33333333  0.36666667  0.4         0.43333333  0.46666667\n",
        "  0.5         0.53333333  0.56666667  0.6       ]\n",
        "number of new basis: 2\n",
        "\n",
        "\tvalidation set: [ 91  51 240   9  92  77 275 226 126 251  96 119 272 162 264  73 138 178\n",
        " 271  42 263 117   7 103 293 116 211  30 270 184]"
       ]
      },
      {
       "output_type": "stream",
       "stream": "stdout",
       "text": [
        "\n",
        "\toptimized a=3.593814\tb=0.300000\n",
        "\texpn:[3.5938136638046259, 1.0781440991413878]\n",
        "\n",
        "\tvalidation set: [289 294  33 164 129 132 161 148   8 215  34 120  52 258  54 190 233  76\n",
        " 203 287  44 110 236 245 140 171  70 163 176 134]"
       ]
      },
      {
       "output_type": "stream",
       "stream": "stdout",
       "text": [
        "\n",
        "\toptimized a=3.593814\tb=0.300000\n",
        "\texpn:[3.5938136638046259, 1.0781440991413878]\n",
        "\n",
        "\tvalidation set: [ 10 273  43 187 207  63 284 166  66  83 181 122 180  19 267 130 230 238\n",
        "   1 109 144 185  21 242  38  47 121 260 149  17]"
       ]
      },
      {
       "output_type": "stream",
       "stream": "stdout",
       "text": [
        "\n",
        "\toptimized a=0.774264\tb=0.600000\n",
        "\texpn:[0.774263682681127, 0.46455820960867616]\n",
        "\n",
        "\tvalidation set: [ 31  89 101 150 243  85 288 165 169  37  24 142 123 175 278 283  16 259\n",
        "  55 285 127  48  18 252 289 161 232  88  28 249]"
       ]
      },
      {
       "output_type": "stream",
       "stream": "stdout",
       "text": [
        "\n",
        "\toptimized a=0.774264\tb=0.600000\n",
        "\texpn:[0.774263682681127, 0.46455820960867616]\n",
        "\n",
        "\tvalidation set: [154 208 153 291  59  41  61 219 280 234 204  20  56 106 218 135 188  53\n",
        "  60  64  94 125   2 282 201 152 213  12 225 266]"
       ]
      },
      {
       "output_type": "stream",
       "stream": "stdout",
       "text": [
        "\n",
        "\toptimized a=0.278256\tb=0.400000\n",
        "\texpn:[0.27825594022071243, 0.11130237608828497]\n",
        "\n",
        "\tvalidation set: [146 279 197  67 212  90 183 168 143 216  27 262   5  62 113 158 228  40\n",
        " 237 261  93  11 108 195   0 179  36  99 105 235]"
       ]
      },
      {
       "output_type": "stream",
       "stream": "stdout",
       "text": [
        "\n",
        "\toptimized a=3.593814\tb=0.300000\n",
        "\texpn:[3.5938136638046259, 1.0781440991413878]\n",
        "\n",
        "\tvalidation set: [147 277  75  45 118 193 222 220  72 151  46   3  35 239 182 224 172  57\n",
        " 253  97 241 133  13 292 136 290 100 265 198 189]"
       ]
      },
      {
       "output_type": "stream",
       "stream": "stdout",
       "text": [
        "\n",
        "\toptimized a=3.593814\tb=0.300000\n",
        "\texpn:[3.5938136638046259, 1.0781440991413878]\n",
        "\n",
        "\tvalidation set: [229  26 217  79 107  80 156 174 269 102 160 157 115  23  29 206  22 155\n",
        "  82 186 167 246 170 256  25 205  49  39 145   6]"
       ]
      },
      {
       "output_type": "stream",
       "stream": "stdout",
       "text": [
        "\n",
        "\toptimized a=0.464159\tb=0.366667\n",
        "\texpn:[0.46415888336127786, 0.17019159056580188]\n",
        "\n",
        "\tvalidation set: [199 209 202 196  84 274 281 254 104 250 257 137  68  14 158  87 124  65\n",
        "  58 200  81  69  71  95 128 194 248   4 223 247]"
       ]
      },
      {
       "output_type": "stream",
       "stream": "stdout",
       "text": [
        "\n",
        "\toptimized a=0.166810\tb=0.500000\n",
        "\texpn:[0.16681005372000587, 0.083405026860002937]\n",
        "\n",
        "\tvalidation set: [131  15 210 236 114 177  78 192 245 159  98  86 111 221 191 139 268 276\n",
        " 286 244 112 214 173 141  32  74  50 227 255 231]"
       ]
      },
      {
       "output_type": "stream",
       "stream": "stdout",
       "text": [
        "\n",
        "\toptimized a=3.593814\tb=0.300000\n",
        "\texpn:[3.5938136638046259, 1.0781440991413878]\n",
        "\n",
        "from cross validation:\n",
        "optimized a=2.184039\tb=0.333333\n",
        "optimized new shell: [('s', [(2.1840386732428763, 1.0)]), ('s', [(0.72801289108095868, 1.0)])]\n",
        "fitting density for #0 #1 #2 #3 #4 #5 #6 #7 #8 #9 #10 #11 #12 #13 #14 #15 #16 "
       ]
      },
      {
       "output_type": "stream",
       "stream": "stdout",
       "text": [
        "#17 #18 #19 #20 #21 #22 #23 #24 #25 #26 #27 #28 #29 #30 #31 #32 #33 "
       ]
      },
      {
       "output_type": "stream",
       "stream": "stdout",
       "text": [
        "#34 #35 #36 #37 #38 #39 #40 #41 #42 #43 #44 #45 #46 #47 #48 #49 #50 "
       ]
      },
      {
       "output_type": "stream",
       "stream": "stdout",
       "text": [
        "#51 #52 #53 #54 #55 #56 #57 #58 #59 #60 #61 #62 #63 #64 #65 "
       ]
      },
      {
       "output_type": "stream",
       "stream": "stdout",
       "text": [
        "#66 #67 #68 #69 #70 #71 #72 #73 #74 #75 #76 #77 #78 #79 #80 #81 #82 "
       ]
      },
      {
       "output_type": "stream",
       "stream": "stdout",
       "text": [
        "#83 #84 #85 #86 #87 #88 #89 #90 #91 #92 #93 #94 #95 #96 #97 #98 "
       ]
      },
      {
       "output_type": "stream",
       "stream": "stdout",
       "text": [
        "#99 #100 #101 #102 #103 "
       ]
      },
      {
       "output_type": "stream",
       "stream": "stdout",
       "text": [
        "#104 #105 #106 #107 "
       ]
      },
      {
       "output_type": "stream",
       "stream": "stdout",
       "text": [
        "#108 #109 #110 #111 "
       ]
      },
      {
       "output_type": "stream",
       "stream": "stdout",
       "text": [
        "#112 #113 #114 #115 #116 "
       ]
      },
      {
       "output_type": "stream",
       "stream": "stdout",
       "text": [
        "#117 #118 #119 #120 "
       ]
      },
      {
       "output_type": "stream",
       "stream": "stdout",
       "text": [
        "#121 #122 #123 "
       ]
      },
      {
       "output_type": "stream",
       "stream": "stdout",
       "text": [
        "#124 #125 #126 #127 "
       ]
      },
      {
       "output_type": "stream",
       "stream": "stdout",
       "text": [
        "#128 #129 #130 #131 "
       ]
      },
      {
       "output_type": "stream",
       "stream": "stdout",
       "text": [
        "#132 #133 #134 #135 "
       ]
      },
      {
       "output_type": "stream",
       "stream": "stdout",
       "text": [
        "#136 #137 #138 #139 "
       ]
      },
      {
       "output_type": "stream",
       "stream": "stdout",
       "text": [
        "#140 #141 #142 #143 "
       ]
      },
      {
       "output_type": "stream",
       "stream": "stdout",
       "text": [
        "#144 #145 #146 #147 "
       ]
      },
      {
       "output_type": "stream",
       "stream": "stdout",
       "text": [
        "#148 #149 #150 #151 "
       ]
      },
      {
       "output_type": "stream",
       "stream": "stdout",
       "text": [
        "#152 #153 #154 #155 "
       ]
      },
      {
       "output_type": "stream",
       "stream": "stdout",
       "text": [
        "#156 #157 #158 #159 "
       ]
      },
      {
       "output_type": "stream",
       "stream": "stdout",
       "text": [
        "#160 #161 #162 #163 "
       ]
      },
      {
       "output_type": "stream",
       "stream": "stdout",
       "text": [
        "#164 #165 #166 #167 "
       ]
      },
      {
       "output_type": "stream",
       "stream": "stdout",
       "text": [
        "#168 #169 #170 #171 #172 "
       ]
      },
      {
       "output_type": "stream",
       "stream": "stdout",
       "text": [
        "#173 #174 #175 #176 #177 "
       ]
      },
      {
       "output_type": "stream",
       "stream": "stdout",
       "text": [
        "#178 #179 #180 #181 "
       ]
      },
      {
       "output_type": "stream",
       "stream": "stdout",
       "text": [
        "#182 #183 #184 #185 #186 "
       ]
      },
      {
       "output_type": "stream",
       "stream": "stdout",
       "text": [
        "#187 #188 #189 #190 #191 "
       ]
      },
      {
       "output_type": "stream",
       "stream": "stdout",
       "text": [
        "#192 #193 #194 #195 "
       ]
      },
      {
       "output_type": "stream",
       "stream": "stdout",
       "text": [
        "#196 #197 #198 #199 "
       ]
      },
      {
       "output_type": "stream",
       "stream": "stdout",
       "text": [
        "#200 "
       ]
      },
      {
       "output_type": "stream",
       "stream": "stdout",
       "text": [
        "#201 "
       ]
      },
      {
       "output_type": "stream",
       "stream": "stdout",
       "text": [
        "#202 "
       ]
      },
      {
       "output_type": "stream",
       "stream": "stdout",
       "text": [
        "#203 "
       ]
      },
      {
       "output_type": "stream",
       "stream": "stdout",
       "text": [
        "#204 "
       ]
      },
      {
       "output_type": "stream",
       "stream": "stdout",
       "text": [
        "#205 "
       ]
      },
      {
       "output_type": "stream",
       "stream": "stdout",
       "text": [
        "#206 "
       ]
      },
      {
       "output_type": "stream",
       "stream": "stdout",
       "text": [
        "#207 "
       ]
      },
      {
       "output_type": "stream",
       "stream": "stdout",
       "text": [
        "#208 "
       ]
      },
      {
       "output_type": "stream",
       "stream": "stdout",
       "text": [
        "#209 "
       ]
      },
      {
       "output_type": "stream",
       "stream": "stdout",
       "text": [
        "#210 "
       ]
      },
      {
       "output_type": "stream",
       "stream": "stdout",
       "text": [
        "#211 "
       ]
      },
      {
       "output_type": "stream",
       "stream": "stdout",
       "text": [
        "#212 "
       ]
      },
      {
       "output_type": "stream",
       "stream": "stdout",
       "text": [
        "#213 "
       ]
      },
      {
       "output_type": "stream",
       "stream": "stdout",
       "text": [
        "#214 "
       ]
      },
      {
       "output_type": "stream",
       "stream": "stdout",
       "text": [
        "#215 "
       ]
      },
      {
       "output_type": "stream",
       "stream": "stdout",
       "text": [
        "#216 "
       ]
      },
      {
       "output_type": "stream",
       "stream": "stdout",
       "text": [
        "#217 "
       ]
      },
      {
       "output_type": "stream",
       "stream": "stdout",
       "text": [
        "#218 "
       ]
      },
      {
       "output_type": "stream",
       "stream": "stdout",
       "text": [
        "#219 "
       ]
      },
      {
       "output_type": "stream",
       "stream": "stdout",
       "text": [
        "#220 "
       ]
      },
      {
       "output_type": "stream",
       "stream": "stdout",
       "text": [
        "#221 "
       ]
      },
      {
       "output_type": "stream",
       "stream": "stdout",
       "text": [
        "#222 "
       ]
      },
      {
       "output_type": "stream",
       "stream": "stdout",
       "text": [
        "#223 "
       ]
      },
      {
       "output_type": "stream",
       "stream": "stdout",
       "text": [
        "#224 "
       ]
      },
      {
       "output_type": "stream",
       "stream": "stdout",
       "text": [
        "#225 "
       ]
      },
      {
       "output_type": "stream",
       "stream": "stdout",
       "text": [
        "#226 "
       ]
      },
      {
       "output_type": "stream",
       "stream": "stdout",
       "text": [
        "#227 "
       ]
      },
      {
       "output_type": "stream",
       "stream": "stdout",
       "text": [
        "#228 "
       ]
      },
      {
       "output_type": "stream",
       "stream": "stdout",
       "text": [
        "#229 "
       ]
      },
      {
       "output_type": "stream",
       "stream": "stdout",
       "text": [
        "#230 "
       ]
      },
      {
       "output_type": "stream",
       "stream": "stdout",
       "text": [
        "#231 "
       ]
      },
      {
       "output_type": "stream",
       "stream": "stdout",
       "text": [
        "#232 "
       ]
      },
      {
       "output_type": "stream",
       "stream": "stdout",
       "text": [
        "#233 "
       ]
      },
      {
       "output_type": "stream",
       "stream": "stdout",
       "text": [
        "#234 "
       ]
      },
      {
       "output_type": "stream",
       "stream": "stdout",
       "text": [
        "#235 "
       ]
      },
      {
       "output_type": "stream",
       "stream": "stdout",
       "text": [
        "#236 "
       ]
      },
      {
       "output_type": "stream",
       "stream": "stdout",
       "text": [
        "#237 "
       ]
      },
      {
       "output_type": "stream",
       "stream": "stdout",
       "text": [
        "#238 "
       ]
      },
      {
       "output_type": "stream",
       "stream": "stdout",
       "text": [
        "#239 "
       ]
      },
      {
       "output_type": "stream",
       "stream": "stdout",
       "text": [
        "#240 "
       ]
      },
      {
       "output_type": "stream",
       "stream": "stdout",
       "text": [
        "#241 "
       ]
      },
      {
       "output_type": "stream",
       "stream": "stdout",
       "text": [
        "#242 "
       ]
      },
      {
       "output_type": "stream",
       "stream": "stdout",
       "text": [
        "#243 "
       ]
      },
      {
       "output_type": "stream",
       "stream": "stdout",
       "text": [
        "#244 "
       ]
      },
      {
       "output_type": "stream",
       "stream": "stdout",
       "text": [
        "#245 "
       ]
      },
      {
       "output_type": "stream",
       "stream": "stdout",
       "text": [
        "#246 "
       ]
      },
      {
       "output_type": "stream",
       "stream": "stdout",
       "text": [
        "#247 "
       ]
      },
      {
       "output_type": "stream",
       "stream": "stdout",
       "text": [
        "#248 "
       ]
      },
      {
       "output_type": "stream",
       "stream": "stdout",
       "text": [
        "#249 "
       ]
      },
      {
       "output_type": "stream",
       "stream": "stdout",
       "text": [
        "#250 "
       ]
      },
      {
       "output_type": "stream",
       "stream": "stdout",
       "text": [
        "#251 "
       ]
      },
      {
       "output_type": "stream",
       "stream": "stdout",
       "text": [
        "#252 "
       ]
      },
      {
       "output_type": "stream",
       "stream": "stdout",
       "text": [
        "#253 "
       ]
      },
      {
       "output_type": "stream",
       "stream": "stdout",
       "text": [
        "#254 "
       ]
      },
      {
       "output_type": "stream",
       "stream": "stdout",
       "text": [
        "#255 "
       ]
      },
      {
       "output_type": "stream",
       "stream": "stdout",
       "text": [
        "#256 "
       ]
      },
      {
       "output_type": "stream",
       "stream": "stdout",
       "text": [
        "#257 "
       ]
      },
      {
       "output_type": "stream",
       "stream": "stdout",
       "text": [
        "#258 "
       ]
      },
      {
       "output_type": "stream",
       "stream": "stdout",
       "text": [
        "#259 "
       ]
      },
      {
       "output_type": "stream",
       "stream": "stdout",
       "text": [
        "#260 "
       ]
      },
      {
       "output_type": "stream",
       "stream": "stdout",
       "text": [
        "#261 "
       ]
      },
      {
       "output_type": "stream",
       "stream": "stdout",
       "text": [
        "#262 "
       ]
      },
      {
       "output_type": "stream",
       "stream": "stdout",
       "text": [
        "#263 "
       ]
      },
      {
       "output_type": "stream",
       "stream": "stdout",
       "text": [
        "#264 "
       ]
      },
      {
       "output_type": "stream",
       "stream": "stdout",
       "text": [
        "#265 "
       ]
      },
      {
       "output_type": "stream",
       "stream": "stdout",
       "text": [
        "#266 "
       ]
      },
      {
       "output_type": "stream",
       "stream": "stdout",
       "text": [
        "#267 "
       ]
      },
      {
       "output_type": "stream",
       "stream": "stdout",
       "text": [
        "#268 "
       ]
      },
      {
       "output_type": "stream",
       "stream": "stdout",
       "text": [
        "#269 "
       ]
      },
      {
       "output_type": "stream",
       "stream": "stdout",
       "text": [
        "#270 "
       ]
      },
      {
       "output_type": "stream",
       "stream": "stdout",
       "text": [
        "#271 "
       ]
      },
      {
       "output_type": "stream",
       "stream": "stdout",
       "text": [
        "#272 "
       ]
      },
      {
       "output_type": "stream",
       "stream": "stdout",
       "text": [
        "#273 "
       ]
      },
      {
       "output_type": "stream",
       "stream": "stdout",
       "text": [
        "#274 "
       ]
      },
      {
       "output_type": "stream",
       "stream": "stdout",
       "text": [
        "#275 "
       ]
      },
      {
       "output_type": "stream",
       "stream": "stdout",
       "text": [
        "#276 "
       ]
      },
      {
       "output_type": "stream",
       "stream": "stdout",
       "text": [
        "#277 "
       ]
      },
      {
       "output_type": "stream",
       "stream": "stdout",
       "text": [
        "#278 "
       ]
      },
      {
       "output_type": "stream",
       "stream": "stdout",
       "text": [
        "#279 "
       ]
      },
      {
       "output_type": "stream",
       "stream": "stdout",
       "text": [
        "#280 "
       ]
      },
      {
       "output_type": "stream",
       "stream": "stdout",
       "text": [
        "#281 "
       ]
      },
      {
       "output_type": "stream",
       "stream": "stdout",
       "text": [
        "#282 "
       ]
      },
      {
       "output_type": "stream",
       "stream": "stdout",
       "text": [
        "#283 "
       ]
      },
      {
       "output_type": "stream",
       "stream": "stdout",
       "text": [
        "#284 "
       ]
      },
      {
       "output_type": "stream",
       "stream": "stdout",
       "text": [
        "#285 "
       ]
      },
      {
       "output_type": "stream",
       "stream": "stdout",
       "text": [
        "#286 "
       ]
      },
      {
       "output_type": "stream",
       "stream": "stdout",
       "text": [
        "#287 "
       ]
      },
      {
       "output_type": "stream",
       "stream": "stdout",
       "text": [
        "#288 "
       ]
      },
      {
       "output_type": "stream",
       "stream": "stdout",
       "text": [
        "#289 "
       ]
      },
      {
       "output_type": "stream",
       "stream": "stdout",
       "text": [
        "#290 "
       ]
      },
      {
       "output_type": "stream",
       "stream": "stdout",
       "text": [
        "#291 "
       ]
      },
      {
       "output_type": "stream",
       "stream": "stdout",
       "text": [
        "#292 "
       ]
      },
      {
       "output_type": "stream",
       "stream": "stdout",
       "text": [
        "#293 "
       ]
      },
      {
       "output_type": "stream",
       "stream": "stdout",
       "text": [
        "#294\n",
        "MAE ="
       ]
      },
      {
       "output_type": "stream",
       "stream": "stdout",
       "text": [
        " 0.0154269446864\n",
        "MAX = 0.134197780453\n",
        "MIN = 0.00150211787457\n"
       ]
      },
      {
       "metadata": {},
       "output_type": "display_data",
       "png": "[encoded data removed]",
       "text": [
        "<matplotlib.figure.Figure at 0x10ce90390>"
       ]
      }
     ],
     "prompt_number": 12
    },
    {
     "cell_type": "markdown",
     "metadata": {},
     "source": [
      "## if put 3 s shell"
     ]
    },
    {
     "cell_type": "code",
     "collapsed": false,
     "input": [
      "shell_data_s3 = fb.optimize_bf(Z=1, shell='s', alist=np.logspace(-1, 1, 10), \n",
      "               blist=np.linspace(0.3,0.6,10), Nn=3, kfold=10, doadd=False, showerr=True)"
     ],
     "language": "python",
     "metadata": {},
     "outputs": [
      {
       "output_type": "stream",
       "stream": "stdout",
       "text": [
        "optimize basis function with even-tempered method             with 10-fold cross validation\n",
        "add to basis data: False\n",
        "atomic index: 1\n",
        "shell: s\n",
        "list of a: [  0.1          0.16681005   0.27825594   0.46415888   0.77426368\n",
        "   1.29154967   2.15443469   3.59381366   5.9948425   10.        ]\n",
        "list of b: [ 0.3         0.33333333  0.36666667  0.4         0.43333333  0.46666667\n",
        "  0.5         0.53333333  0.56666667  0.6       ]\n",
        "number of new basis: 3\n",
        "\n",
        "\tvalidation set: [253   8  50 170 113 224  42 229 177 269 199 283 258 176 130  16 290  61\n",
        "  62  49   2 121  25 101  32 198 111 182 117  28]"
       ]
      },
      {
       "output_type": "stream",
       "stream": "stdout",
       "text": [
        "\n",
        "\toptimized a=5.994843\tb=0.333333\n",
        "\texpn:[5.9948425031894086, 1.9982808343964695, 0.66609361146548984]\n",
        "\n",
        "\tvalidation set: [278 284  67 219 248  26 145 157  99 109 211   4  68 156 186 275 131 194\n",
        " 213 100 172   5  17 263 216 189  38 209   7 223]"
       ]
      },
      {
       "output_type": "stream",
       "stream": "stdout",
       "text": [
        "\n",
        "\toptimized a=5.994843\tb=0.333333\n",
        "\texpn:[5.9948425031894086, 1.9982808343964695, 0.66609361146548984]\n",
        "\n",
        "\tvalidation set: [207 228 197 161  21  90 181 106 272 277 255  40 159 230 195 142 293  98\n",
        " 133  18  72 104 155 292  41 171 254  55 110  30]"
       ]
      },
      {
       "output_type": "stream",
       "stream": "stdout",
       "text": [
        "\n",
        "\toptimized a=5.994843\tb=0.333333\n",
        "\texpn:[5.9948425031894086, 1.9982808343964695, 0.66609361146548984]\n",
        "\n",
        "\tvalidation set: [ 20 129 178 259 122  19  24 150 233 140 267  54 200  43 167   3 138 247\n",
        "  35 175 187  95 270 158 173 288 238 227 261  13]"
       ]
      },
      {
       "output_type": "stream",
       "stream": "stdout",
       "text": [
        "\n",
        "\toptimized a=5.994843\tb=0.333333\n",
        "\texpn:[5.9948425031894086, 1.9982808343964695, 0.66609361146548984]\n",
        "\n",
        "\tvalidation set: [ 65 124 246  21 151 252 103 203 206 265 112 204  77 174 249  69 115  14\n",
        "  29   6   9  84 162  64 183 273   1   0  22 149]"
       ]
      },
      {
       "output_type": "stream",
       "stream": "stdout",
       "text": [
        "\n",
        "\toptimized a=5.994843\tb=0.333333\n",
        "\texpn:[5.9948425031894086, 1.9982808343964695, 0.66609361146548984]\n",
        "\n",
        "\tvalidation set: [ 10 152  75 166  73  88  46 192 144  23 148 147 282  11 287 180 266 196\n",
        " 241 237 135  81 245 185  27 136 236 260  92 108]"
       ]
      },
      {
       "output_type": "stream",
       "stream": "stdout",
       "text": [
        "\n",
        "\toptimized a=5.994843\tb=0.333333\n",
        "\texpn:[5.9948425031894086, 1.9982808343964695, 0.66609361146548984]\n",
        "\n",
        "\tvalidation set: [ 71 231 289  79 190 256  45  33 274 263 234 294  94  59  85  36 164  80\n",
        " 286 222 134  37 141  56 281 132  53  96 264 107]"
       ]
      },
      {
       "output_type": "stream",
       "stream": "stdout",
       "text": [
        "\n",
        "\toptimized a=3.593814\tb=0.500000\n",
        "\texpn:[3.5938136638046259, 1.7969068319023129, 0.89845341595115646]\n",
        "\n",
        "\tvalidation set: [169  76  15 179 243 235 105 285  74 221 208 217 226 116 125  83 291 153\n",
        " 232 250 191  70 279 202  87 215  82  12 119 220]"
       ]
      },
      {
       "output_type": "stream",
       "stream": "stdout",
       "text": [
        "\n",
        "\toptimized a=5.994843\tb=0.333333\n",
        "\texpn:[5.9948425031894086, 1.9982808343964695, 0.66609361146548984]\n",
        "\n",
        "\tvalidation set: [205  58 262  57 244 210 239  89 160 139 154  39 201 242 218  47 127 271\n",
        "   4  66 212  97  93 143 257 214 165 268 202 188]"
       ]
      },
      {
       "output_type": "stream",
       "stream": "stdout",
       "text": [
        "\n",
        "\toptimized a=0.464159\tb=0.466667\n",
        "\texpn:[0.46415888336127786, 0.21660747890192966, 0.10108349015423385]\n",
        "\n",
        "\tvalidation set: [ 63 126  86  56  51 251 146 240 128 114 102 184  78 163 120 168  31  34\n",
        " 225 123  52  44 280  60  91 193 276 137 118  48]"
       ]
      },
      {
       "output_type": "stream",
       "stream": "stdout",
       "text": [
        "\n",
        "\toptimized a=5.994843\tb=0.333333\n",
        "\texpn:[5.9948425031894086, 1.9982808343964695, 0.66609361146548984]\n",
        "\n",
        "from cross validation:\n",
        "optimized a=5.994843\tb=0.333333\n",
        "optimized new shell: [('s', [(5.9948425031894086, 1.0)]), ('s', [(1.9982808343964695, 1.0)]), ('s', [(0.66609361146548984, 1.0)])]\n",
        "fitting density for #0 #1 #2 #3 #4 #5 #6 #7 #8 "
       ]
      },
      {
       "output_type": "stream",
       "stream": "stdout",
       "text": [
        "#9 #10 #11 #12 #13 #14 #15 #16 #17 #18 #19 #20 #21 "
       ]
      },
      {
       "output_type": "stream",
       "stream": "stdout",
       "text": [
        "#22 #23 #24 #25 #26 #27 #28 #29 #30 #31 #32 #33 "
       ]
      },
      {
       "output_type": "stream",
       "stream": "stdout",
       "text": [
        "#34 #35 #36 #37 #38 #39 #40 #41 #42 #43 #44 "
       ]
      },
      {
       "output_type": "stream",
       "stream": "stdout",
       "text": [
        "#45 #46 #47 #48 #49 #50 #51 #52 #53 #54 #55 #56 #57 "
       ]
      },
      {
       "output_type": "stream",
       "stream": "stdout",
       "text": [
        "#58 #59 #60 #61 #62 #63 #64 #65 #66 #67 #68 #69 "
       ]
      },
      {
       "output_type": "stream",
       "stream": "stdout",
       "text": [
        "#70 #71 #72 #73 #74 #75 #76 #77 #78 #79 #80 #81 #82 #83 "
       ]
      },
      {
       "output_type": "stream",
       "stream": "stdout",
       "text": [
        "#84 #85 #86 #87 #88 #89 #90 #91 #92 #93 #94 #95 "
       ]
      },
      {
       "output_type": "stream",
       "stream": "stdout",
       "text": [
        "#96 #97 #98 #99 #100 #101 #102 "
       ]
      },
      {
       "output_type": "stream",
       "stream": "stdout",
       "text": [
        "#103 #104 #105 "
       ]
      },
      {
       "output_type": "stream",
       "stream": "stdout",
       "text": [
        "#106 #107 #108 #109 "
       ]
      },
      {
       "output_type": "stream",
       "stream": "stdout",
       "text": [
        "#110 #111 #112 "
       ]
      },
      {
       "output_type": "stream",
       "stream": "stdout",
       "text": [
        "#113 #114 #115 #116 "
       ]
      },
      {
       "output_type": "stream",
       "stream": "stdout",
       "text": [
        "#117 #118 #119 #120 "
       ]
      },
      {
       "output_type": "stream",
       "stream": "stdout",
       "text": [
        "#121 #122 #123 "
       ]
      },
      {
       "output_type": "stream",
       "stream": "stdout",
       "text": [
        "#124 #125 #126 "
       ]
      },
      {
       "output_type": "stream",
       "stream": "stdout",
       "text": [
        "#127 #128 #129 #130 "
       ]
      },
      {
       "output_type": "stream",
       "stream": "stdout",
       "text": [
        "#131 #132 #133 #134 "
       ]
      },
      {
       "output_type": "stream",
       "stream": "stdout",
       "text": [
        "#135 #136 #137 #138 "
       ]
      },
      {
       "output_type": "stream",
       "stream": "stdout",
       "text": [
        "#139 #140 #141 "
       ]
      },
      {
       "output_type": "stream",
       "stream": "stdout",
       "text": [
        "#142 #143 #144 "
       ]
      },
      {
       "output_type": "stream",
       "stream": "stdout",
       "text": [
        "#145 #146 #147 "
       ]
      },
      {
       "output_type": "stream",
       "stream": "stdout",
       "text": [
        "#148 #149 #150 #151 "
       ]
      },
      {
       "output_type": "stream",
       "stream": "stdout",
       "text": [
        "#152 #153 #154 "
       ]
      },
      {
       "output_type": "stream",
       "stream": "stdout",
       "text": [
        "#155 #156 #157 #158 "
       ]
      },
      {
       "output_type": "stream",
       "stream": "stdout",
       "text": [
        "#159 #160 #161 "
       ]
      },
      {
       "output_type": "stream",
       "stream": "stdout",
       "text": [
        "#162 #163 #164 "
       ]
      },
      {
       "output_type": "stream",
       "stream": "stdout",
       "text": [
        "#165 #166 #167 #168 "
       ]
      },
      {
       "output_type": "stream",
       "stream": "stdout",
       "text": [
        "#169 #170 #171 #172 "
       ]
      },
      {
       "output_type": "stream",
       "stream": "stdout",
       "text": [
        "#173 #174 #175 "
       ]
      },
      {
       "output_type": "stream",
       "stream": "stdout",
       "text": [
        "#176 #177 #178 #179 "
       ]
      },
      {
       "output_type": "stream",
       "stream": "stdout",
       "text": [
        "#180 #181 #182 "
       ]
      },
      {
       "output_type": "stream",
       "stream": "stdout",
       "text": [
        "#183 #184 #185 #186 "
       ]
      },
      {
       "output_type": "stream",
       "stream": "stdout",
       "text": [
        "#187 #188 #189 "
       ]
      },
      {
       "output_type": "stream",
       "stream": "stdout",
       "text": [
        "#190 #191 #192 "
       ]
      },
      {
       "output_type": "stream",
       "stream": "stdout",
       "text": [
        "#193 #194 #195 "
       ]
      },
      {
       "output_type": "stream",
       "stream": "stdout",
       "text": [
        "#196 #197 #198 "
       ]
      },
      {
       "output_type": "stream",
       "stream": "stdout",
       "text": [
        "#199 #200 "
       ]
      },
      {
       "output_type": "stream",
       "stream": "stdout",
       "text": [
        "#201 "
       ]
      },
      {
       "output_type": "stream",
       "stream": "stdout",
       "text": [
        "#202 "
       ]
      },
      {
       "output_type": "stream",
       "stream": "stdout",
       "text": [
        "#203 "
       ]
      },
      {
       "output_type": "stream",
       "stream": "stdout",
       "text": [
        "#204 "
       ]
      },
      {
       "output_type": "stream",
       "stream": "stdout",
       "text": [
        "#205 "
       ]
      },
      {
       "output_type": "stream",
       "stream": "stdout",
       "text": [
        "#206 "
       ]
      },
      {
       "output_type": "stream",
       "stream": "stdout",
       "text": [
        "#207 "
       ]
      },
      {
       "output_type": "stream",
       "stream": "stdout",
       "text": [
        "#208 "
       ]
      },
      {
       "output_type": "stream",
       "stream": "stdout",
       "text": [
        "#209 "
       ]
      },
      {
       "output_type": "stream",
       "stream": "stdout",
       "text": [
        "#210 "
       ]
      },
      {
       "output_type": "stream",
       "stream": "stdout",
       "text": [
        "#211 "
       ]
      },
      {
       "output_type": "stream",
       "stream": "stdout",
       "text": [
        "#212 "
       ]
      },
      {
       "output_type": "stream",
       "stream": "stdout",
       "text": [
        "#213 "
       ]
      },
      {
       "output_type": "stream",
       "stream": "stdout",
       "text": [
        "#214 "
       ]
      },
      {
       "output_type": "stream",
       "stream": "stdout",
       "text": [
        "#215 "
       ]
      },
      {
       "output_type": "stream",
       "stream": "stdout",
       "text": [
        "#216 "
       ]
      },
      {
       "output_type": "stream",
       "stream": "stdout",
       "text": [
        "#217 "
       ]
      },
      {
       "output_type": "stream",
       "stream": "stdout",
       "text": [
        "#218 "
       ]
      },
      {
       "output_type": "stream",
       "stream": "stdout",
       "text": [
        "#219 "
       ]
      },
      {
       "output_type": "stream",
       "stream": "stdout",
       "text": [
        "#220 "
       ]
      },
      {
       "output_type": "stream",
       "stream": "stdout",
       "text": [
        "#221 "
       ]
      },
      {
       "output_type": "stream",
       "stream": "stdout",
       "text": [
        "#222 "
       ]
      },
      {
       "output_type": "stream",
       "stream": "stdout",
       "text": [
        "#223 "
       ]
      },
      {
       "output_type": "stream",
       "stream": "stdout",
       "text": [
        "#224 "
       ]
      },
      {
       "output_type": "stream",
       "stream": "stdout",
       "text": [
        "#225 "
       ]
      },
      {
       "output_type": "stream",
       "stream": "stdout",
       "text": [
        "#226 "
       ]
      },
      {
       "output_type": "stream",
       "stream": "stdout",
       "text": [
        "#227 "
       ]
      },
      {
       "output_type": "stream",
       "stream": "stdout",
       "text": [
        "#228 "
       ]
      },
      {
       "output_type": "stream",
       "stream": "stdout",
       "text": [
        "#229 "
       ]
      },
      {
       "output_type": "stream",
       "stream": "stdout",
       "text": [
        "#230 "
       ]
      },
      {
       "output_type": "stream",
       "stream": "stdout",
       "text": [
        "#231 "
       ]
      },
      {
       "output_type": "stream",
       "stream": "stdout",
       "text": [
        "#232 "
       ]
      },
      {
       "output_type": "stream",
       "stream": "stdout",
       "text": [
        "#233 "
       ]
      },
      {
       "output_type": "stream",
       "stream": "stdout",
       "text": [
        "#234 "
       ]
      },
      {
       "output_type": "stream",
       "stream": "stdout",
       "text": [
        "#235 "
       ]
      },
      {
       "output_type": "stream",
       "stream": "stdout",
       "text": [
        "#236 "
       ]
      },
      {
       "output_type": "stream",
       "stream": "stdout",
       "text": [
        "#237 "
       ]
      },
      {
       "output_type": "stream",
       "stream": "stdout",
       "text": [
        "#238 "
       ]
      },
      {
       "output_type": "stream",
       "stream": "stdout",
       "text": [
        "#239 "
       ]
      },
      {
       "output_type": "stream",
       "stream": "stdout",
       "text": [
        "#240 "
       ]
      },
      {
       "output_type": "stream",
       "stream": "stdout",
       "text": [
        "#241 "
       ]
      },
      {
       "output_type": "stream",
       "stream": "stdout",
       "text": [
        "#242 "
       ]
      },
      {
       "output_type": "stream",
       "stream": "stdout",
       "text": [
        "#243 "
       ]
      },
      {
       "output_type": "stream",
       "stream": "stdout",
       "text": [
        "#244 "
       ]
      },
      {
       "output_type": "stream",
       "stream": "stdout",
       "text": [
        "#245 "
       ]
      },
      {
       "output_type": "stream",
       "stream": "stdout",
       "text": [
        "#246 "
       ]
      },
      {
       "output_type": "stream",
       "stream": "stdout",
       "text": [
        "#247 "
       ]
      },
      {
       "output_type": "stream",
       "stream": "stdout",
       "text": [
        "#248 "
       ]
      },
      {
       "output_type": "stream",
       "stream": "stdout",
       "text": [
        "#249 "
       ]
      },
      {
       "output_type": "stream",
       "stream": "stdout",
       "text": [
        "#250 "
       ]
      },
      {
       "output_type": "stream",
       "stream": "stdout",
       "text": [
        "#251 "
       ]
      },
      {
       "output_type": "stream",
       "stream": "stdout",
       "text": [
        "#252 "
       ]
      },
      {
       "output_type": "stream",
       "stream": "stdout",
       "text": [
        "#253 "
       ]
      },
      {
       "output_type": "stream",
       "stream": "stdout",
       "text": [
        "#254 "
       ]
      },
      {
       "output_type": "stream",
       "stream": "stdout",
       "text": [
        "#255 "
       ]
      },
      {
       "output_type": "stream",
       "stream": "stdout",
       "text": [
        "#256 "
       ]
      },
      {
       "output_type": "stream",
       "stream": "stdout",
       "text": [
        "#257 "
       ]
      },
      {
       "output_type": "stream",
       "stream": "stdout",
       "text": [
        "#258 "
       ]
      },
      {
       "output_type": "stream",
       "stream": "stdout",
       "text": [
        "#259 "
       ]
      },
      {
       "output_type": "stream",
       "stream": "stdout",
       "text": [
        "#260 "
       ]
      },
      {
       "output_type": "stream",
       "stream": "stdout",
       "text": [
        "#261 "
       ]
      },
      {
       "output_type": "stream",
       "stream": "stdout",
       "text": [
        "#262 "
       ]
      },
      {
       "output_type": "stream",
       "stream": "stdout",
       "text": [
        "#263 "
       ]
      },
      {
       "output_type": "stream",
       "stream": "stdout",
       "text": [
        "#264 "
       ]
      },
      {
       "output_type": "stream",
       "stream": "stdout",
       "text": [
        "#265 "
       ]
      },
      {
       "output_type": "stream",
       "stream": "stdout",
       "text": [
        "#266 "
       ]
      },
      {
       "output_type": "stream",
       "stream": "stdout",
       "text": [
        "#267 "
       ]
      },
      {
       "output_type": "stream",
       "stream": "stdout",
       "text": [
        "#268 "
       ]
      },
      {
       "output_type": "stream",
       "stream": "stdout",
       "text": [
        "#269 "
       ]
      },
      {
       "output_type": "stream",
       "stream": "stdout",
       "text": [
        "#270 "
       ]
      },
      {
       "output_type": "stream",
       "stream": "stdout",
       "text": [
        "#271 "
       ]
      },
      {
       "output_type": "stream",
       "stream": "stdout",
       "text": [
        "#272 "
       ]
      },
      {
       "output_type": "stream",
       "stream": "stdout",
       "text": [
        "#273 "
       ]
      },
      {
       "output_type": "stream",
       "stream": "stdout",
       "text": [
        "#274 "
       ]
      },
      {
       "output_type": "stream",
       "stream": "stdout",
       "text": [
        "#275 "
       ]
      },
      {
       "output_type": "stream",
       "stream": "stdout",
       "text": [
        "#276 "
       ]
      },
      {
       "output_type": "stream",
       "stream": "stdout",
       "text": [
        "#277 "
       ]
      },
      {
       "output_type": "stream",
       "stream": "stdout",
       "text": [
        "#278 "
       ]
      },
      {
       "output_type": "stream",
       "stream": "stdout",
       "text": [
        "#279 "
       ]
      },
      {
       "output_type": "stream",
       "stream": "stdout",
       "text": [
        "#280 "
       ]
      },
      {
       "output_type": "stream",
       "stream": "stdout",
       "text": [
        "#281 "
       ]
      },
      {
       "output_type": "stream",
       "stream": "stdout",
       "text": [
        "#282 "
       ]
      },
      {
       "output_type": "stream",
       "stream": "stdout",
       "text": [
        "#283 "
       ]
      },
      {
       "output_type": "stream",
       "stream": "stdout",
       "text": [
        "#284 "
       ]
      },
      {
       "output_type": "stream",
       "stream": "stdout",
       "text": [
        "#285 "
       ]
      },
      {
       "output_type": "stream",
       "stream": "stdout",
       "text": [
        "#286 "
       ]
      },
      {
       "output_type": "stream",
       "stream": "stdout",
       "text": [
        "#287 "
       ]
      },
      {
       "output_type": "stream",
       "stream": "stdout",
       "text": [
        "#288 "
       ]
      },
      {
       "output_type": "stream",
       "stream": "stdout",
       "text": [
        "#289 "
       ]
      },
      {
       "output_type": "stream",
       "stream": "stdout",
       "text": [
        "#290 "
       ]
      },
      {
       "output_type": "stream",
       "stream": "stdout",
       "text": [
        "#291 "
       ]
      },
      {
       "output_type": "stream",
       "stream": "stdout",
       "text": [
        "#292 "
       ]
      },
      {
       "output_type": "stream",
       "stream": "stdout",
       "text": [
        "#293 "
       ]
      },
      {
       "output_type": "stream",
       "stream": "stdout",
       "text": [
        "#294\n",
        "MAE ="
       ]
      },
      {
       "output_type": "stream",
       "stream": "stdout",
       "text": [
        " 0.00857342642295\n",
        "MAX = 0.129318948565\n",
        "MIN = 0.00109517528415\n"
       ]
      },
      {
       "metadata": {},
       "output_type": "display_data",
       "png": "[encoded data removed]",
       "text": [
        "<matplotlib.figure.Figure at 0x10ce97b50>"
       ]
      }
     ],
     "prompt_number": 13
    },
    {
     "cell_type": "markdown",
     "metadata": {},
     "source": [
      "## why maximum error occurs at very close b?"
     ]
    },
    {
     "cell_type": "code",
     "collapsed": false,
     "input": [
      "fb.add_basis_data(1, shell_data_s3)\n",
      "fb.fit_density()"
     ],
     "language": "python",
     "metadata": {},
     "outputs": [
      {
       "output_type": "stream",
       "stream": "stdout",
       "text": [
        "fitting density for #0 #1 #2 #3 #4 #5 "
       ]
      },
      {
       "output_type": "stream",
       "stream": "stdout",
       "text": [
        "#6 #7 #8 #9 #10 #11 "
       ]
      },
      {
       "output_type": "stream",
       "stream": "stdout",
       "text": [
        "#12 #13 #14 #15 #16 #17 #18 "
       ]
      },
      {
       "output_type": "stream",
       "stream": "stdout",
       "text": [
        "#19 #20 #21 #22 #23 #24 #25 #26 #27 #28 "
       ]
      },
      {
       "output_type": "stream",
       "stream": "stdout",
       "text": [
        "#29 #30 #31 #32 #33 #34 #35 #36 "
       ]
      },
      {
       "output_type": "stream",
       "stream": "stdout",
       "text": [
        "#37 #38 #39 #40 #41 #42 #43 #44 #45 "
       ]
      },
      {
       "output_type": "stream",
       "stream": "stdout",
       "text": [
        "#46 #47 #48 #49 #50 #51 #52 #53 "
       ]
      },
      {
       "output_type": "stream",
       "stream": "stdout",
       "text": [
        "#54 #55 #56 #57 #58 #59 #60 #61 #62 "
       ]
      },
      {
       "output_type": "stream",
       "stream": "stdout",
       "text": [
        "#63 #64 #65 #66 #67 #68 #69 #70 #71 "
       ]
      },
      {
       "output_type": "stream",
       "stream": "stdout",
       "text": [
        "#72 #73 #74 #75 #76 #77 #78 #79 #80 "
       ]
      },
      {
       "output_type": "stream",
       "stream": "stdout",
       "text": [
        "#81 #82 #83 #84 #85 #86 #87 #88 #89 #90 "
       ]
      },
      {
       "output_type": "stream",
       "stream": "stdout",
       "text": [
        "#91 #92 #93 #94 #95 #96 #97 #98 #99 "
       ]
      },
      {
       "output_type": "stream",
       "stream": "stdout",
       "text": [
        "#100 #101 #102 "
       ]
      },
      {
       "output_type": "stream",
       "stream": "stdout",
       "text": [
        "#103 #104 "
       ]
      },
      {
       "output_type": "stream",
       "stream": "stdout",
       "text": [
        "#105 #106 "
       ]
      },
      {
       "output_type": "stream",
       "stream": "stdout",
       "text": [
        "#107 #108 "
       ]
      },
      {
       "output_type": "stream",
       "stream": "stdout",
       "text": [
        "#109 #110 "
       ]
      },
      {
       "output_type": "stream",
       "stream": "stdout",
       "text": [
        "#111 #112 "
       ]
      },
      {
       "output_type": "stream",
       "stream": "stdout",
       "text": [
        "#113 #114 "
       ]
      },
      {
       "output_type": "stream",
       "stream": "stdout",
       "text": [
        "#115 #116 "
       ]
      },
      {
       "output_type": "stream",
       "stream": "stdout",
       "text": [
        "#117 #118 "
       ]
      },
      {
       "output_type": "stream",
       "stream": "stdout",
       "text": [
        "#119 #120 "
       ]
      },
      {
       "output_type": "stream",
       "stream": "stdout",
       "text": [
        "#121 #122 "
       ]
      },
      {
       "output_type": "stream",
       "stream": "stdout",
       "text": [
        "#123 #124 "
       ]
      },
      {
       "output_type": "stream",
       "stream": "stdout",
       "text": [
        "#125 #126 "
       ]
      },
      {
       "output_type": "stream",
       "stream": "stdout",
       "text": [
        "#127 #128 "
       ]
      },
      {
       "output_type": "stream",
       "stream": "stdout",
       "text": [
        "#129 #130 "
       ]
      },
      {
       "output_type": "stream",
       "stream": "stdout",
       "text": [
        "#131 #132 "
       ]
      },
      {
       "output_type": "stream",
       "stream": "stdout",
       "text": [
        "#133 #134 "
       ]
      },
      {
       "output_type": "stream",
       "stream": "stdout",
       "text": [
        "#135 #136 "
       ]
      },
      {
       "output_type": "stream",
       "stream": "stdout",
       "text": [
        "#137 #138 "
       ]
      },
      {
       "output_type": "stream",
       "stream": "stdout",
       "text": [
        "#139 #140 "
       ]
      },
      {
       "output_type": "stream",
       "stream": "stdout",
       "text": [
        "#141 #142 "
       ]
      },
      {
       "output_type": "stream",
       "stream": "stdout",
       "text": [
        "#143 #144 "
       ]
      },
      {
       "output_type": "stream",
       "stream": "stdout",
       "text": [
        "#145 #146 "
       ]
      },
      {
       "output_type": "stream",
       "stream": "stdout",
       "text": [
        "#147 #148 "
       ]
      },
      {
       "output_type": "stream",
       "stream": "stdout",
       "text": [
        "#149 #150 "
       ]
      },
      {
       "output_type": "stream",
       "stream": "stdout",
       "text": [
        "#151 #152 #153 "
       ]
      },
      {
       "output_type": "stream",
       "stream": "stdout",
       "text": [
        "#154 #155 "
       ]
      },
      {
       "output_type": "stream",
       "stream": "stdout",
       "text": [
        "#156 #157 "
       ]
      },
      {
       "output_type": "stream",
       "stream": "stdout",
       "text": [
        "#158 #159 "
       ]
      },
      {
       "output_type": "stream",
       "stream": "stdout",
       "text": [
        "#160 #161 "
       ]
      },
      {
       "output_type": "stream",
       "stream": "stdout",
       "text": [
        "#162 #163 "
       ]
      },
      {
       "output_type": "stream",
       "stream": "stdout",
       "text": [
        "#164 #165 "
       ]
      },
      {
       "output_type": "stream",
       "stream": "stdout",
       "text": [
        "#166 #167 "
       ]
      },
      {
       "output_type": "stream",
       "stream": "stdout",
       "text": [
        "#168 #169 "
       ]
      },
      {
       "output_type": "stream",
       "stream": "stdout",
       "text": [
        "#170 #171 "
       ]
      },
      {
       "output_type": "stream",
       "stream": "stdout",
       "text": [
        "#172 #173 "
       ]
      },
      {
       "output_type": "stream",
       "stream": "stdout",
       "text": [
        "#174 #175 "
       ]
      },
      {
       "output_type": "stream",
       "stream": "stdout",
       "text": [
        "#176 #177 "
       ]
      },
      {
       "output_type": "stream",
       "stream": "stdout",
       "text": [
        "#178 #179 "
       ]
      },
      {
       "output_type": "stream",
       "stream": "stdout",
       "text": [
        "#180 #181 "
       ]
      },
      {
       "output_type": "stream",
       "stream": "stdout",
       "text": [
        "#182 #183 "
       ]
      },
      {
       "output_type": "stream",
       "stream": "stdout",
       "text": [
        "#184 #185 "
       ]
      },
      {
       "output_type": "stream",
       "stream": "stdout",
       "text": [
        "#186 #187 "
       ]
      },
      {
       "output_type": "stream",
       "stream": "stdout",
       "text": [
        "#188 #189 "
       ]
      },
      {
       "output_type": "stream",
       "stream": "stdout",
       "text": [
        "#190 #191 "
       ]
      },
      {
       "output_type": "stream",
       "stream": "stdout",
       "text": [
        "#192 #193 "
       ]
      },
      {
       "output_type": "stream",
       "stream": "stdout",
       "text": [
        "#194 #195 "
       ]
      },
      {
       "output_type": "stream",
       "stream": "stdout",
       "text": [
        "#196 #197 "
       ]
      },
      {
       "output_type": "stream",
       "stream": "stdout",
       "text": [
        "#198 #199 #200 "
       ]
      },
      {
       "output_type": "stream",
       "stream": "stdout",
       "text": [
        "#201 "
       ]
      },
      {
       "output_type": "stream",
       "stream": "stdout",
       "text": [
        "#202 "
       ]
      },
      {
       "output_type": "stream",
       "stream": "stdout",
       "text": [
        "#203 "
       ]
      },
      {
       "output_type": "stream",
       "stream": "stdout",
       "text": [
        "#204 "
       ]
      },
      {
       "output_type": "stream",
       "stream": "stdout",
       "text": [
        "#205 "
       ]
      },
      {
       "output_type": "stream",
       "stream": "stdout",
       "text": [
        "#206 "
       ]
      },
      {
       "output_type": "stream",
       "stream": "stdout",
       "text": [
        "#207 "
       ]
      },
      {
       "output_type": "stream",
       "stream": "stdout",
       "text": [
        "#208 "
       ]
      },
      {
       "output_type": "stream",
       "stream": "stdout",
       "text": [
        "#209 "
       ]
      },
      {
       "output_type": "stream",
       "stream": "stdout",
       "text": [
        "#210 "
       ]
      },
      {
       "output_type": "stream",
       "stream": "stdout",
       "text": [
        "#211 "
       ]
      },
      {
       "output_type": "stream",
       "stream": "stdout",
       "text": [
        "#212 "
       ]
      },
      {
       "output_type": "stream",
       "stream": "stdout",
       "text": [
        "#213 "
       ]
      },
      {
       "output_type": "stream",
       "stream": "stdout",
       "text": [
        "#214 "
       ]
      },
      {
       "output_type": "stream",
       "stream": "stdout",
       "text": [
        "#215 "
       ]
      },
      {
       "output_type": "stream",
       "stream": "stdout",
       "text": [
        "#216 "
       ]
      },
      {
       "output_type": "stream",
       "stream": "stdout",
       "text": [
        "#217 "
       ]
      },
      {
       "output_type": "stream",
       "stream": "stdout",
       "text": [
        "#218 "
       ]
      },
      {
       "output_type": "stream",
       "stream": "stdout",
       "text": [
        "#219 "
       ]
      },
      {
       "output_type": "stream",
       "stream": "stdout",
       "text": [
        "#220 "
       ]
      },
      {
       "output_type": "stream",
       "stream": "stdout",
       "text": [
        "#221 "
       ]
      },
      {
       "output_type": "stream",
       "stream": "stdout",
       "text": [
        "#222 "
       ]
      },
      {
       "output_type": "stream",
       "stream": "stdout",
       "text": [
        "#223 "
       ]
      },
      {
       "output_type": "stream",
       "stream": "stdout",
       "text": [
        "#224 "
       ]
      },
      {
       "output_type": "stream",
       "stream": "stdout",
       "text": [
        "#225 "
       ]
      },
      {
       "output_type": "stream",
       "stream": "stdout",
       "text": [
        "#226 "
       ]
      },
      {
       "output_type": "stream",
       "stream": "stdout",
       "text": [
        "#227 "
       ]
      },
      {
       "output_type": "stream",
       "stream": "stdout",
       "text": [
        "#228 "
       ]
      },
      {
       "output_type": "stream",
       "stream": "stdout",
       "text": [
        "#229 "
       ]
      },
      {
       "output_type": "stream",
       "stream": "stdout",
       "text": [
        "#230 "
       ]
      },
      {
       "output_type": "stream",
       "stream": "stdout",
       "text": [
        "#231 "
       ]
      },
      {
       "output_type": "stream",
       "stream": "stdout",
       "text": [
        "#232 "
       ]
      },
      {
       "output_type": "stream",
       "stream": "stdout",
       "text": [
        "#233 "
       ]
      },
      {
       "output_type": "stream",
       "stream": "stdout",
       "text": [
        "#234 "
       ]
      },
      {
       "output_type": "stream",
       "stream": "stdout",
       "text": [
        "#235 "
       ]
      },
      {
       "output_type": "stream",
       "stream": "stdout",
       "text": [
        "#236 "
       ]
      },
      {
       "output_type": "stream",
       "stream": "stdout",
       "text": [
        "#237 "
       ]
      },
      {
       "output_type": "stream",
       "stream": "stdout",
       "text": [
        "#238 "
       ]
      },
      {
       "output_type": "stream",
       "stream": "stdout",
       "text": [
        "#239 "
       ]
      },
      {
       "output_type": "stream",
       "stream": "stdout",
       "text": [
        "#240 "
       ]
      },
      {
       "output_type": "stream",
       "stream": "stdout",
       "text": [
        "#241 "
       ]
      },
      {
       "output_type": "stream",
       "stream": "stdout",
       "text": [
        "#242 "
       ]
      },
      {
       "output_type": "stream",
       "stream": "stdout",
       "text": [
        "#243 "
       ]
      },
      {
       "output_type": "stream",
       "stream": "stdout",
       "text": [
        "#244 "
       ]
      },
      {
       "output_type": "stream",
       "stream": "stdout",
       "text": [
        "#245 "
       ]
      },
      {
       "output_type": "stream",
       "stream": "stdout",
       "text": [
        "#246 "
       ]
      },
      {
       "output_type": "stream",
       "stream": "stdout",
       "text": [
        "#247 "
       ]
      },
      {
       "output_type": "stream",
       "stream": "stdout",
       "text": [
        "#248 "
       ]
      },
      {
       "output_type": "stream",
       "stream": "stdout",
       "text": [
        "#249 "
       ]
      },
      {
       "output_type": "stream",
       "stream": "stdout",
       "text": [
        "#250 "
       ]
      },
      {
       "output_type": "stream",
       "stream": "stdout",
       "text": [
        "#251 "
       ]
      },
      {
       "output_type": "stream",
       "stream": "stdout",
       "text": [
        "#252 "
       ]
      },
      {
       "output_type": "stream",
       "stream": "stdout",
       "text": [
        "#253 "
       ]
      },
      {
       "output_type": "stream",
       "stream": "stdout",
       "text": [
        "#254 "
       ]
      },
      {
       "output_type": "stream",
       "stream": "stdout",
       "text": [
        "#255 "
       ]
      },
      {
       "output_type": "stream",
       "stream": "stdout",
       "text": [
        "#256 "
       ]
      },
      {
       "output_type": "stream",
       "stream": "stdout",
       "text": [
        "#257 "
       ]
      },
      {
       "output_type": "stream",
       "stream": "stdout",
       "text": [
        "#258 "
       ]
      },
      {
       "output_type": "stream",
       "stream": "stdout",
       "text": [
        "#259 "
       ]
      },
      {
       "output_type": "stream",
       "stream": "stdout",
       "text": [
        "#260 "
       ]
      },
      {
       "output_type": "stream",
       "stream": "stdout",
       "text": [
        "#261 "
       ]
      },
      {
       "output_type": "stream",
       "stream": "stdout",
       "text": [
        "#262 "
       ]
      },
      {
       "output_type": "stream",
       "stream": "stdout",
       "text": [
        "#263 "
       ]
      },
      {
       "output_type": "stream",
       "stream": "stdout",
       "text": [
        "#264 "
       ]
      },
      {
       "output_type": "stream",
       "stream": "stdout",
       "text": [
        "#265 "
       ]
      },
      {
       "output_type": "stream",
       "stream": "stdout",
       "text": [
        "#266 "
       ]
      },
      {
       "output_type": "stream",
       "stream": "stdout",
       "text": [
        "#267 "
       ]
      },
      {
       "output_type": "stream",
       "stream": "stdout",
       "text": [
        "#268 "
       ]
      },
      {
       "output_type": "stream",
       "stream": "stdout",
       "text": [
        "#269 "
       ]
      },
      {
       "output_type": "stream",
       "stream": "stdout",
       "text": [
        "#270 "
       ]
      },
      {
       "output_type": "stream",
       "stream": "stdout",
       "text": [
        "#271 "
       ]
      },
      {
       "output_type": "stream",
       "stream": "stdout",
       "text": [
        "#272 "
       ]
      },
      {
       "output_type": "stream",
       "stream": "stdout",
       "text": [
        "#273 "
       ]
      },
      {
       "output_type": "stream",
       "stream": "stdout",
       "text": [
        "#274 "
       ]
      },
      {
       "output_type": "stream",
       "stream": "stdout",
       "text": [
        "#275 "
       ]
      },
      {
       "output_type": "stream",
       "stream": "stdout",
       "text": [
        "#276 "
       ]
      },
      {
       "output_type": "stream",
       "stream": "stdout",
       "text": [
        "#277 "
       ]
      },
      {
       "output_type": "stream",
       "stream": "stdout",
       "text": [
        "#278 "
       ]
      },
      {
       "output_type": "stream",
       "stream": "stdout",
       "text": [
        "#279 "
       ]
      },
      {
       "output_type": "stream",
       "stream": "stdout",
       "text": [
        "#280 "
       ]
      },
      {
       "output_type": "stream",
       "stream": "stdout",
       "text": [
        "#281 "
       ]
      },
      {
       "output_type": "stream",
       "stream": "stdout",
       "text": [
        "#282 "
       ]
      },
      {
       "output_type": "stream",
       "stream": "stdout",
       "text": [
        "#283 "
       ]
      },
      {
       "output_type": "stream",
       "stream": "stdout",
       "text": [
        "#284 "
       ]
      },
      {
       "output_type": "stream",
       "stream": "stdout",
       "text": [
        "#285 "
       ]
      },
      {
       "output_type": "stream",
       "stream": "stdout",
       "text": [
        "#286 "
       ]
      },
      {
       "output_type": "stream",
       "stream": "stdout",
       "text": [
        "#287 "
       ]
      },
      {
       "output_type": "stream",
       "stream": "stdout",
       "text": [
        "#288 "
       ]
      },
      {
       "output_type": "stream",
       "stream": "stdout",
       "text": [
        "#289 "
       ]
      },
      {
       "output_type": "stream",
       "stream": "stdout",
       "text": [
        "#290 "
       ]
      },
      {
       "output_type": "stream",
       "stream": "stdout",
       "text": [
        "#291 "
       ]
      },
      {
       "output_type": "stream",
       "stream": "stdout",
       "text": [
        "#292 "
       ]
      },
      {
       "output_type": "stream",
       "stream": "stdout",
       "text": [
        "#293 "
       ]
      },
      {
       "output_type": "stream",
       "stream": "stdout",
       "text": [
        "#294\n"
       ]
      }
     ],
     "prompt_number": 16
    },
    {
     "cell_type": "markdown",
     "metadata": {},
     "source": [
      "### for very large b, the fitting is good with just minix"
     ]
    },
    {
     "cell_type": "code",
     "collapsed": false,
     "input": [
      "fb[199].show()\n",
      "plt.ylim((-0.01,0.01))"
     ],
     "language": "python",
     "metadata": {},
     "outputs": [
      {
       "metadata": {},
       "output_type": "pyout",
       "prompt_number": 23,
       "text": [
        "(-0.01, 0.01)"
       ]
      },
      {
       "metadata": {},
       "output_type": "display_data",
       "png": "[encoded data removed]",
       "text": [
        "<matplotlib.figure.Figure at 0x10c74bfd0>"
       ]
      }
     ],
     "prompt_number": 23
    },
    {
     "cell_type": "markdown",
     "metadata": {},
     "source": [
      "### but for very small b, the width can not be fit well, especially when more H atoms stay close\n",
      "* H2\n",
      "* H4\n",
      "* H8\n",
      "This problem can be solved by adding more p orbitals"
     ]
    },
    {
     "cell_type": "code",
     "collapsed": false,
     "input": [
      "print \"H2\"\n",
      "fb[0].show()\n",
      "plt.ylim((-0.01,0.01))\n",
      "plt.xlim((-20,20))\n",
      "plt.show()"
     ],
     "language": "python",
     "metadata": {},
     "outputs": [
      {
       "output_type": "stream",
       "stream": "stdout",
       "text": [
        "H2\n"
       ]
      },
      {
       "metadata": {},
       "output_type": "display_data",
       "png": "[encoded data removed]",
       "text": [
        "<matplotlib.figure.Figure at 0x10ce99510>"
       ]
      }
     ],
     "prompt_number": 29
    },
    {
     "cell_type": "code",
     "collapsed": false,
     "input": [
      "print \"H4\"\n",
      "fb[100].show()\n",
      "plt.ylim((-0.01,0.01))\n",
      "plt.xlim((-20,20))\n",
      "plt.show()"
     ],
     "language": "python",
     "metadata": {},
     "outputs": [
      {
       "output_type": "stream",
       "stream": "stdout",
       "text": [
        "H4\n"
       ]
      },
      {
       "metadata": {},
       "output_type": "display_data",
       "png": "[encoded data removed]",
       "text": [
        "<matplotlib.figure.Figure at 0x10d06c990>"
       ]
      }
     ],
     "prompt_number": 30
    },
    {
     "cell_type": "code",
     "collapsed": false,
     "input": [
      "print \"H8\"\n",
      "fb[200].show()\n",
      "plt.ylim((-0.01,0.01))\n",
      "plt.xlim((-20,20))\n",
      "plt.show()\n",
      "print \"H8\"\n",
      "fb[200].show()\n",
      "plt.ylim((1,1.4))\n",
      "plt.xlim((-20,20))\n",
      "plt.show()"
     ],
     "language": "python",
     "metadata": {},
     "outputs": [
      {
       "output_type": "stream",
       "stream": "stdout",
       "text": [
        "H8\n"
       ]
      },
      {
       "metadata": {},
       "output_type": "display_data",
       "png": "[encoded data removed]",
       "text": [
        "<matplotlib.figure.Figure at 0x10ceab090>"
       ]
      },
      {
       "output_type": "stream",
       "stream": "stdout",
       "text": [
        "H8\n"
       ]
      },
      {
       "metadata": {},
       "output_type": "display_data",
       "png": "[encoded data removed]",
       "text": [
        "<matplotlib.figure.Figure at 0x10ce99e50>"
       ]
      }
     ],
     "prompt_number": 36
    },
    {
     "cell_type": "markdown",
     "metadata": {},
     "source": [
      "# p shell"
     ]
    },
    {
     "cell_type": "markdown",
     "metadata": {},
     "source": [
      "## if put 1 p shell"
     ]
    },
    {
     "cell_type": "code",
     "collapsed": false,
     "input": [
      "shell_data_p1 = fb.optimize_bf(Z=1, shell='p', alist=np.logspace(-1, 1, 10), \n",
      "               blist=1, Nn=1, kfold=10, doadd=False, showerr=True)"
     ],
     "language": "python",
     "metadata": {},
     "outputs": [
      {
       "output_type": "stream",
       "stream": "stdout",
       "text": [
        "optimize basis function with even-tempered method             with 10-fold cross validation\n",
        "add to basis data: False\n",
        "atomic index: 1\n",
        "shell: p\n",
        "list of a: [  0.1          0.16681005   0.27825594   0.46415888   0.77426368\n",
        "   1.29154967   2.15443469   3.59381366   5.9948425   10.        ]\n",
        "list of b: [1]\n",
        "number of new basis: 1\n",
        "\n",
        "\tvalidation set: [ 56 165 284 154 262   6 265 205 258  67 178  98 288  41  47  72 247 261\n",
        " 246  90  62 129 199 175 177 121 242  91 190  12]"
       ]
      },
      {
       "output_type": "stream",
       "stream": "stdout",
       "text": [
        "\n",
        "\toptimized a=0.464159\tb=1.000000\n",
        "\texpn:[0.46415888336127786]\n",
        "\n",
        "\tvalidation set: [235  79 202  24 183 150 237 135 249 197  39  20 260 200 270 116 251 214\n",
        "  53 201 274 118 104  16 268 144 186 117 280 174]"
       ]
      },
      {
       "output_type": "stream",
       "stream": "stdout",
       "text": [
        "\n",
        "\toptimized a=0.100000\tb=1.000000\n",
        "\texpn:[0.10000000000000001]\n",
        "\n",
        "\tvalidation set: [182 211 210 225 248  42  76 127 208 139   9  65  26  28 191 209  50  70\n",
        " 146 145 151 218 239 108 112 111 136 157 196 185]"
       ]
      },
      {
       "output_type": "stream",
       "stream": "stdout",
       "text": [
        "\n",
        "\toptimized a=0.464159\tb=1.000000\n",
        "\texpn:[0.46415888336127786]\n",
        "\n",
        "\tvalidation set: [ 40 160 254 207 100 220 131 177  61 164  38 188  44  57 106  85 167 187\n",
        " 206 271 230 243  94 102  92  46 159  96 156 282]"
       ]
      },
      {
       "output_type": "stream",
       "stream": "stdout",
       "text": [
        "\n",
        "\toptimized a=0.278256\tb=1.000000\n",
        "\texpn:[0.27825594022071243]\n",
        "\n",
        "\tvalidation set: [290 256 122   3 215 159  35  29  86  22 278  37 263 232  73 275 137 266\n",
        " 173 172 113 223  78  45 115 168  15 128 153 169]"
       ]
      },
      {
       "output_type": "stream",
       "stream": "stdout",
       "text": [
        "\n",
        "\toptimized a=0.464159\tb=1.000000\n",
        "\texpn:[0.46415888336127786]\n",
        "\n",
        "\tvalidation set: [229  18 257  66  55 212  99  11  27 120 291  60 152 244 170   8 259 276\n",
        "  59 203  58 130 138  89 198 195   1 222 283  68]"
       ]
      },
      {
       "output_type": "stream",
       "stream": "stdout",
       "text": [
        "\n",
        "\toptimized a=0.464159\tb=1.000000\n",
        "\texpn:[0.46415888336127786]\n",
        "\n",
        "\tvalidation set: [ 30  54 272  48  93 253  49 162 107 227 213 241  64 163 179  95  51  83\n",
        " 285 204  77   0 292 105 281   5 240 123 140 132]"
       ]
      },
      {
       "output_type": "stream",
       "stream": "stdout",
       "text": [
        "\n",
        "\toptimized a=0.464159\tb=1.000000\n",
        "\texpn:[0.46415888336127786]\n",
        "\n",
        "\tvalidation set: [ 33  21 252 103 143 194 287   7 219 176   2 125  97 245  81 189 234  32\n",
        " 193  36 147 226 149  69 224 217 186 141 273 286]"
       ]
      },
      {
       "output_type": "stream",
       "stream": "stdout",
       "text": [
        "\n",
        "\toptimized a=0.464159\tb=1.000000\n",
        "\texpn:[0.46415888336127786]\n",
        "\n",
        "\tvalidation set: [101 233  17 180  75 277 228 171 158 119  74 142  88 184  84  23 264 192\n",
        " 159 269 124 294 133 289 114 255  63 238 293 236]"
       ]
      },
      {
       "output_type": "stream",
       "stream": "stdout",
       "text": [
        "\n",
        "\toptimized a=0.278256\tb=1.000000\n",
        "\texpn:[0.27825594022071243]\n",
        "\n",
        "\tvalidation set: [155  43 166 216  19  14  10 231 279  87 267 250  25 148  52 109 221 110\n",
        " 134 126  82 181  80  71 161   4  31  13 127  34]"
       ]
      },
      {
       "output_type": "stream",
       "stream": "stdout",
       "text": [
        "\n",
        "\toptimized a=0.464159\tb=1.000000\n",
        "\texpn:[0.46415888336127786]\n",
        "\n",
        "from cross validation:\n",
        "optimized a=0.464159\tb=1.000000\n",
        "optimized new shell: [('p', [(0.46415888336127786, 1.0)])]\n",
        "fitting density for #0 #1 #2 #3 #4 #5 #6 #7 #8 #9 #10 #11 #12 #13 #14 #15 "
       ]
      },
      {
       "output_type": "stream",
       "stream": "stdout",
       "text": [
        "#16 #17 #18 #19 #20 #21 #22 #23 #24 #25 #26 #27 #28 #29 #30 #31 "
       ]
      },
      {
       "output_type": "stream",
       "stream": "stdout",
       "text": [
        "#32 #33 #34 #35 #36 #37 #38 #39 #40 #41 #42 #43 #44 #45 #46 #47 #48 "
       ]
      },
      {
       "output_type": "stream",
       "stream": "stdout",
       "text": [
        "#49 #50 #51 #52 #53 #54 #55 #56 #57 #58 #59 #60 #61 #62 #63 #64 #65 #66 "
       ]
      },
      {
       "output_type": "stream",
       "stream": "stdout",
       "text": [
        "#67 #68 #69 #70 #71 #72 #73 #74 #75 #76 #77 #78 #79 #80 #81 "
       ]
      },
      {
       "output_type": "stream",
       "stream": "stdout",
       "text": [
        "#82 #83 #84 #85 #86 #87 #88 #89 #90 #91 #92 #93 #94 #95 #96 "
       ]
      },
      {
       "output_type": "stream",
       "stream": "stdout",
       "text": [
        "#97 #98 #99 #100 #101 #102 #103 "
       ]
      },
      {
       "output_type": "stream",
       "stream": "stdout",
       "text": [
        "#104 #105 #106 #107 #108 "
       ]
      },
      {
       "output_type": "stream",
       "stream": "stdout",
       "text": [
        "#109 #110 #111 #112 #113 "
       ]
      },
      {
       "output_type": "stream",
       "stream": "stdout",
       "text": [
        "#114 #115 #116 #117 #118 #119 "
       ]
      },
      {
       "output_type": "stream",
       "stream": "stdout",
       "text": [
        "#120 #121 #122 #123 #124 "
       ]
      },
      {
       "output_type": "stream",
       "stream": "stdout",
       "text": [
        "#125 #126 #127 #128 #129 #130 "
       ]
      },
      {
       "output_type": "stream",
       "stream": "stdout",
       "text": [
        "#131 #132 #133 #134 #135 "
       ]
      },
      {
       "output_type": "stream",
       "stream": "stdout",
       "text": [
        "#136 #137 #138 #139 #140 "
       ]
      },
      {
       "output_type": "stream",
       "stream": "stdout",
       "text": [
        "#141 #142 #143 #144 #145 "
       ]
      },
      {
       "output_type": "stream",
       "stream": "stdout",
       "text": [
        "#146 #147 #148 #149 #150 "
       ]
      },
      {
       "output_type": "stream",
       "stream": "stdout",
       "text": [
        "#151 #152 #153 #154 "
       ]
      },
      {
       "output_type": "stream",
       "stream": "stdout",
       "text": [
        "#155 #156 #157 #158 "
       ]
      },
      {
       "output_type": "stream",
       "stream": "stdout",
       "text": [
        "#159 #160 #161 #162 "
       ]
      },
      {
       "output_type": "stream",
       "stream": "stdout",
       "text": [
        "#163 #164 #165 #166 "
       ]
      },
      {
       "output_type": "stream",
       "stream": "stdout",
       "text": [
        "#167 #168 #169 #170 "
       ]
      },
      {
       "output_type": "stream",
       "stream": "stdout",
       "text": [
        "#171 #172 #173 #174 #175 "
       ]
      },
      {
       "output_type": "stream",
       "stream": "stdout",
       "text": [
        "#176 #177 #178 #179 #180 #181 "
       ]
      },
      {
       "output_type": "stream",
       "stream": "stdout",
       "text": [
        "#182 #183 #184 #185 #186 "
       ]
      },
      {
       "output_type": "stream",
       "stream": "stdout",
       "text": [
        "#187 #188 #189 #190 #191 #192 "
       ]
      },
      {
       "output_type": "stream",
       "stream": "stdout",
       "text": [
        "#193 #194 #195 #196 #197 "
       ]
      },
      {
       "output_type": "stream",
       "stream": "stdout",
       "text": [
        "#198 #199 #200 "
       ]
      },
      {
       "output_type": "stream",
       "stream": "stdout",
       "text": [
        "#201 "
       ]
      },
      {
       "output_type": "stream",
       "stream": "stdout",
       "text": [
        "#202 "
       ]
      },
      {
       "output_type": "stream",
       "stream": "stdout",
       "text": [
        "#203 "
       ]
      },
      {
       "output_type": "stream",
       "stream": "stdout",
       "text": [
        "#204 "
       ]
      },
      {
       "output_type": "stream",
       "stream": "stdout",
       "text": [
        "#205 "
       ]
      },
      {
       "output_type": "stream",
       "stream": "stdout",
       "text": [
        "#206 "
       ]
      },
      {
       "output_type": "stream",
       "stream": "stdout",
       "text": [
        "#207 "
       ]
      },
      {
       "output_type": "stream",
       "stream": "stdout",
       "text": [
        "#208 "
       ]
      },
      {
       "output_type": "stream",
       "stream": "stdout",
       "text": [
        "#209 "
       ]
      },
      {
       "output_type": "stream",
       "stream": "stdout",
       "text": [
        "#210 "
       ]
      },
      {
       "output_type": "stream",
       "stream": "stdout",
       "text": [
        "#211 "
       ]
      },
      {
       "output_type": "stream",
       "stream": "stdout",
       "text": [
        "#212 "
       ]
      },
      {
       "output_type": "stream",
       "stream": "stdout",
       "text": [
        "#213 "
       ]
      },
      {
       "output_type": "stream",
       "stream": "stdout",
       "text": [
        "#214 "
       ]
      },
      {
       "output_type": "stream",
       "stream": "stdout",
       "text": [
        "#215 "
       ]
      },
      {
       "output_type": "stream",
       "stream": "stdout",
       "text": [
        "#216 "
       ]
      },
      {
       "output_type": "stream",
       "stream": "stdout",
       "text": [
        "#217 "
       ]
      },
      {
       "output_type": "stream",
       "stream": "stdout",
       "text": [
        "#218 "
       ]
      },
      {
       "output_type": "stream",
       "stream": "stdout",
       "text": [
        "#219 "
       ]
      },
      {
       "output_type": "stream",
       "stream": "stdout",
       "text": [
        "#220 "
       ]
      },
      {
       "output_type": "stream",
       "stream": "stdout",
       "text": [
        "#221 "
       ]
      },
      {
       "output_type": "stream",
       "stream": "stdout",
       "text": [
        "#222 "
       ]
      },
      {
       "output_type": "stream",
       "stream": "stdout",
       "text": [
        "#223 "
       ]
      },
      {
       "output_type": "stream",
       "stream": "stdout",
       "text": [
        "#224 "
       ]
      },
      {
       "output_type": "stream",
       "stream": "stdout",
       "text": [
        "#225 "
       ]
      },
      {
       "output_type": "stream",
       "stream": "stdout",
       "text": [
        "#226 "
       ]
      },
      {
       "output_type": "stream",
       "stream": "stdout",
       "text": [
        "#227 "
       ]
      },
      {
       "output_type": "stream",
       "stream": "stdout",
       "text": [
        "#228 "
       ]
      },
      {
       "output_type": "stream",
       "stream": "stdout",
       "text": [
        "#229 "
       ]
      },
      {
       "output_type": "stream",
       "stream": "stdout",
       "text": [
        "#230 "
       ]
      },
      {
       "output_type": "stream",
       "stream": "stdout",
       "text": [
        "#231 "
       ]
      },
      {
       "output_type": "stream",
       "stream": "stdout",
       "text": [
        "#232 "
       ]
      },
      {
       "output_type": "stream",
       "stream": "stdout",
       "text": [
        "#233 "
       ]
      },
      {
       "output_type": "stream",
       "stream": "stdout",
       "text": [
        "#234 "
       ]
      },
      {
       "output_type": "stream",
       "stream": "stdout",
       "text": [
        "#235 "
       ]
      },
      {
       "output_type": "stream",
       "stream": "stdout",
       "text": [
        "#236 "
       ]
      },
      {
       "output_type": "stream",
       "stream": "stdout",
       "text": [
        "#237 "
       ]
      },
      {
       "output_type": "stream",
       "stream": "stdout",
       "text": [
        "#238 "
       ]
      },
      {
       "output_type": "stream",
       "stream": "stdout",
       "text": [
        "#239 "
       ]
      },
      {
       "output_type": "stream",
       "stream": "stdout",
       "text": [
        "#240 "
       ]
      },
      {
       "output_type": "stream",
       "stream": "stdout",
       "text": [
        "#241 "
       ]
      },
      {
       "output_type": "stream",
       "stream": "stdout",
       "text": [
        "#242 "
       ]
      },
      {
       "output_type": "stream",
       "stream": "stdout",
       "text": [
        "#243 "
       ]
      },
      {
       "output_type": "stream",
       "stream": "stdout",
       "text": [
        "#244 "
       ]
      },
      {
       "output_type": "stream",
       "stream": "stdout",
       "text": [
        "#245 "
       ]
      },
      {
       "output_type": "stream",
       "stream": "stdout",
       "text": [
        "#246 "
       ]
      },
      {
       "output_type": "stream",
       "stream": "stdout",
       "text": [
        "#247 "
       ]
      },
      {
       "output_type": "stream",
       "stream": "stdout",
       "text": [
        "#248 "
       ]
      },
      {
       "output_type": "stream",
       "stream": "stdout",
       "text": [
        "#249 "
       ]
      },
      {
       "output_type": "stream",
       "stream": "stdout",
       "text": [
        "#250 "
       ]
      },
      {
       "output_type": "stream",
       "stream": "stdout",
       "text": [
        "#251 "
       ]
      },
      {
       "output_type": "stream",
       "stream": "stdout",
       "text": [
        "#252 "
       ]
      },
      {
       "output_type": "stream",
       "stream": "stdout",
       "text": [
        "#253 "
       ]
      },
      {
       "output_type": "stream",
       "stream": "stdout",
       "text": [
        "#254 "
       ]
      },
      {
       "output_type": "stream",
       "stream": "stdout",
       "text": [
        "#255 "
       ]
      },
      {
       "output_type": "stream",
       "stream": "stdout",
       "text": [
        "#256 "
       ]
      },
      {
       "output_type": "stream",
       "stream": "stdout",
       "text": [
        "#257 "
       ]
      },
      {
       "output_type": "stream",
       "stream": "stdout",
       "text": [
        "#258 "
       ]
      },
      {
       "output_type": "stream",
       "stream": "stdout",
       "text": [
        "#259 "
       ]
      },
      {
       "output_type": "stream",
       "stream": "stdout",
       "text": [
        "#260 "
       ]
      },
      {
       "output_type": "stream",
       "stream": "stdout",
       "text": [
        "#261 "
       ]
      },
      {
       "output_type": "stream",
       "stream": "stdout",
       "text": [
        "#262 "
       ]
      },
      {
       "output_type": "stream",
       "stream": "stdout",
       "text": [
        "#263 "
       ]
      },
      {
       "output_type": "stream",
       "stream": "stdout",
       "text": [
        "#264 "
       ]
      },
      {
       "output_type": "stream",
       "stream": "stdout",
       "text": [
        "#265 "
       ]
      },
      {
       "output_type": "stream",
       "stream": "stdout",
       "text": [
        "#266 "
       ]
      },
      {
       "output_type": "stream",
       "stream": "stdout",
       "text": [
        "#267 "
       ]
      },
      {
       "output_type": "stream",
       "stream": "stdout",
       "text": [
        "#268 "
       ]
      },
      {
       "output_type": "stream",
       "stream": "stdout",
       "text": [
        "#269 "
       ]
      },
      {
       "output_type": "stream",
       "stream": "stdout",
       "text": [
        "#270 "
       ]
      },
      {
       "output_type": "stream",
       "stream": "stdout",
       "text": [
        "#271 "
       ]
      },
      {
       "output_type": "stream",
       "stream": "stdout",
       "text": [
        "#272 "
       ]
      },
      {
       "output_type": "stream",
       "stream": "stdout",
       "text": [
        "#273 "
       ]
      },
      {
       "output_type": "stream",
       "stream": "stdout",
       "text": [
        "#274 "
       ]
      },
      {
       "output_type": "stream",
       "stream": "stdout",
       "text": [
        "#275 "
       ]
      },
      {
       "output_type": "stream",
       "stream": "stdout",
       "text": [
        "#276 "
       ]
      },
      {
       "output_type": "stream",
       "stream": "stdout",
       "text": [
        "#277 "
       ]
      },
      {
       "output_type": "stream",
       "stream": "stdout",
       "text": [
        "#278 "
       ]
      },
      {
       "output_type": "stream",
       "stream": "stdout",
       "text": [
        "#279 "
       ]
      },
      {
       "output_type": "stream",
       "stream": "stdout",
       "text": [
        "#280 "
       ]
      },
      {
       "output_type": "stream",
       "stream": "stdout",
       "text": [
        "#281 "
       ]
      },
      {
       "output_type": "stream",
       "stream": "stdout",
       "text": [
        "#282 "
       ]
      },
      {
       "output_type": "stream",
       "stream": "stdout",
       "text": [
        "#283 "
       ]
      },
      {
       "output_type": "stream",
       "stream": "stdout",
       "text": [
        "#284 "
       ]
      },
      {
       "output_type": "stream",
       "stream": "stdout",
       "text": [
        "#285 "
       ]
      },
      {
       "output_type": "stream",
       "stream": "stdout",
       "text": [
        "#286 "
       ]
      },
      {
       "output_type": "stream",
       "stream": "stdout",
       "text": [
        "#287 "
       ]
      },
      {
       "output_type": "stream",
       "stream": "stdout",
       "text": [
        "#288 "
       ]
      },
      {
       "output_type": "stream",
       "stream": "stdout",
       "text": [
        "#289 "
       ]
      },
      {
       "output_type": "stream",
       "stream": "stdout",
       "text": [
        "#290 "
       ]
      },
      {
       "output_type": "stream",
       "stream": "stdout",
       "text": [
        "#291 "
       ]
      },
      {
       "output_type": "stream",
       "stream": "stdout",
       "text": [
        "#292 "
       ]
      },
      {
       "output_type": "stream",
       "stream": "stdout",
       "text": [
        "#293 "
       ]
      },
      {
       "output_type": "stream",
       "stream": "stdout",
       "text": [
        "#294\n",
        "MAE ="
       ]
      },
      {
       "output_type": "stream",
       "stream": "stdout",
       "text": [
        " 0.0599447204174\n",
        "MAX = 0.394223612745\n",
        "MIN = 0.00212578787389\n"
       ]
      },
      {
       "metadata": {},
       "output_type": "display_data",
       "png": "[encoded data removed]",
       "text": [
        "<matplotlib.figure.Figure at 0x10ce9e690>"
       ]
      }
     ],
     "prompt_number": 14
    },
    {
     "cell_type": "markdown",
     "metadata": {},
     "source": [
      "## if put 2 p shell"
     ]
    },
    {
     "cell_type": "code",
     "collapsed": false,
     "input": [
      "shell_data_p2 = fb.optimize_bf(Z=1, shell='p', alist=np.logspace(-1, 1, 10), \n",
      "               blist=np.linspace(0.3,0.6,10), Nn=2, kfold=10, doadd=False, showerr=True)"
     ],
     "language": "python",
     "metadata": {},
     "outputs": [
      {
       "output_type": "stream",
       "stream": "stdout",
       "text": [
        "optimize basis function with even-tempered method             with 10-fold cross validation\n",
        "add to basis data: False\n",
        "atomic index: 1\n",
        "shell: p\n",
        "list of a: [  0.1          0.16681005   0.27825594   0.46415888   0.77426368\n",
        "   1.29154967   2.15443469   3.59381366   5.9948425   10.        ]\n",
        "list of b: [ 0.3         0.33333333  0.36666667  0.4         0.43333333  0.46666667\n",
        "  0.5         0.53333333  0.56666667  0.6       ]\n",
        "number of new basis: 2\n",
        "\n",
        "\tvalidation set: [293 103   7  23 231 142  25  55 230  43 241  20 108 220 175 292 113  99\n",
        "  59 201  63  37 256 196 136 148 154 197  85  75]"
       ]
      },
      {
       "output_type": "stream",
       "stream": "stdout",
       "text": [
        "\n",
        "\toptimized a=0.278256\tb=0.333333\n",
        "\texpn:[0.27825594022071243, 0.0927519800735708]\n",
        "\n",
        "\tvalidation set: [ 51 223 101   3 267 127 189  32 221  42 252 173 261 141 294  17   6 119\n",
        " 272  40  45 209 110  92  10 134   5  49 178 240]"
       ]
      },
      {
       "output_type": "stream",
       "stream": "stdout",
       "text": [
        "\n",
        "\toptimized a=0.464159\tb=0.600000\n",
        "\texpn:[0.46415888336127786, 0.27849533001676668]\n",
        "\n",
        "\tvalidation set: [ 13  31  93 112  78 253 274 191 218 289 160 106  44  52  57 170 246 205\n",
        " 206 122 258 222 216 225 162 193 165 291 251 137]"
       ]
      },
      {
       "output_type": "stream",
       "stream": "stdout",
       "text": [
        "\n",
        "\toptimized a=1.291550\tb=0.300000\n",
        "\texpn:[1.2915496650148841, 0.38746489950446522]\n",
        "\n",
        "\tvalidation set: [238 269  33 245 131  64  47 267 128  34 276 180 120  77  82 250  58  88\n",
        " 164 121  74 199 277 124  30 129 215 236  97  38]"
       ]
      },
      {
       "output_type": "stream",
       "stream": "stdout",
       "text": [
        "\n",
        "\toptimized a=0.774264\tb=0.533333\n",
        "\texpn:[0.774263682681127, 0.4129406307632677]\n",
        "\n"
       ]
      },
      {
       "ename": "KeyboardInterrupt",
       "evalue": "",
       "output_type": "pyerr",
       "traceback": [
        "\u001b[0;31m---------------------------------------------------------------------------\u001b[0m\n\u001b[0;31mKeyboardInterrupt\u001b[0m                         Traceback (most recent call last)",
        "\u001b[0;32m<ipython-input-15-61129009d157>\u001b[0m in \u001b[0;36m<module>\u001b[0;34m()\u001b[0m\n\u001b[1;32m      1\u001b[0m shell_data_p2 = fb.optimize_bf(Z=1, shell='p', alist=np.logspace(-1, 1, 10), \n\u001b[0;32m----> 2\u001b[0;31m                blist=np.linspace(0.3,0.6,10), Nn=2, kfold=10, doadd=False, showerr=True)\n\u001b[0m",
        "\u001b[0;32m/Library/Python/2.7/site-packages/basis1d/findbasis.pyc\u001b[0m in \u001b[0;36moptimize_bf\u001b[0;34m(self, Z, shell, alist, blist, Nn, kfold, doadd, showerr)\u001b[0m\n\u001b[1;32m    164\u001b[0m                     \u001b[0merr\u001b[0m \u001b[0;34m=\u001b[0m \u001b[0;36m0.\u001b[0m\u001b[0;34m\u001b[0m\u001b[0m\n\u001b[1;32m    165\u001b[0m                     \u001b[0;32mfor\u001b[0m \u001b[0midx\u001b[0m \u001b[0;32min\u001b[0m \u001b[0mS\u001b[0m\u001b[0;34m:\u001b[0m\u001b[0;34m\u001b[0m\u001b[0m\n\u001b[0;32m--> 166\u001b[0;31m                         \u001b[0mself\u001b[0m\u001b[0;34m.\u001b[0m\u001b[0mdensities\u001b[0m\u001b[0;34m[\u001b[0m\u001b[0midx\u001b[0m\u001b[0;34m]\u001b[0m\u001b[0;34m.\u001b[0m\u001b[0mmake_bfs\u001b[0m\u001b[0;34m(\u001b[0m\u001b[0mself\u001b[0m\u001b[0;34m.\u001b[0m\u001b[0mbasis_data\u001b[0m\u001b[0;34m)\u001b[0m\u001b[0;34m\u001b[0m\u001b[0m\n\u001b[0m\u001b[1;32m    167\u001b[0m                         \u001b[0mself\u001b[0m\u001b[0;34m.\u001b[0m\u001b[0mdensities\u001b[0m\u001b[0;34m[\u001b[0m\u001b[0midx\u001b[0m\u001b[0;34m]\u001b[0m\u001b[0;34m.\u001b[0m\u001b[0mcompute_c\u001b[0m\u001b[0;34m(\u001b[0m\u001b[0;34m)\u001b[0m\u001b[0;34m\u001b[0m\u001b[0m\n\u001b[1;32m    168\u001b[0m                         \u001b[0merr\u001b[0m \u001b[0;34m+=\u001b[0m \u001b[0mself\u001b[0m\u001b[0;34m.\u001b[0m\u001b[0mdensities\u001b[0m\u001b[0;34m[\u001b[0m\u001b[0midx\u001b[0m\u001b[0;34m]\u001b[0m\u001b[0;34m.\u001b[0m\u001b[0mget_error\u001b[0m\u001b[0;34m(\u001b[0m\u001b[0;34m)\u001b[0m\u001b[0;34m\u001b[0m\u001b[0m\n",
        "\u001b[0;32m/Library/Python/2.7/site-packages/basis1d/grid.pyc\u001b[0m in \u001b[0;36mmake_bfs\u001b[0;34m(self, basis_data)\u001b[0m\n\u001b[1;32m     53\u001b[0m             \u001b[0mself\u001b[0m\u001b[0;34m.\u001b[0m\u001b[0mSmat\u001b[0m \u001b[0;34m=\u001b[0m \u001b[0mnp\u001b[0m\u001b[0;34m.\u001b[0m\u001b[0mempty\u001b[0m\u001b[0;34m(\u001b[0m\u001b[0;34m(\u001b[0m\u001b[0mNbf\u001b[0m\u001b[0;34m,\u001b[0m \u001b[0mNbf\u001b[0m\u001b[0;34m)\u001b[0m\u001b[0;34m)\u001b[0m\u001b[0;34m\u001b[0m\u001b[0m\n\u001b[1;32m     54\u001b[0m             \u001b[0;32mfor\u001b[0m \u001b[0mi\u001b[0m\u001b[0;34m,\u001b[0m \u001b[0mj\u001b[0m \u001b[0;32min\u001b[0m \u001b[0mcombinations_with_replacement\u001b[0m\u001b[0;34m(\u001b[0m\u001b[0mrange\u001b[0m\u001b[0;34m(\u001b[0m\u001b[0mNbf\u001b[0m\u001b[0;34m)\u001b[0m\u001b[0;34m,\u001b[0m \u001b[0;36m2\u001b[0m\u001b[0;34m)\u001b[0m\u001b[0;34m:\u001b[0m\u001b[0;34m\u001b[0m\u001b[0m\n\u001b[0;32m---> 55\u001b[0;31m                 \u001b[0mself\u001b[0m\u001b[0;34m.\u001b[0m\u001b[0mSmat\u001b[0m\u001b[0;34m[\u001b[0m\u001b[0mi\u001b[0m\u001b[0;34m,\u001b[0m \u001b[0mj\u001b[0m\u001b[0;34m]\u001b[0m \u001b[0;34m=\u001b[0m \u001b[0mself\u001b[0m\u001b[0;34m.\u001b[0m\u001b[0mSmat\u001b[0m\u001b[0;34m[\u001b[0m\u001b[0mj\u001b[0m\u001b[0;34m,\u001b[0m \u001b[0mi\u001b[0m\u001b[0;34m]\u001b[0m \u001b[0;34m=\u001b[0m \u001b[0mS\u001b[0m\u001b[0;34m(\u001b[0m\u001b[0mself\u001b[0m\u001b[0;34m.\u001b[0m\u001b[0mbfs\u001b[0m\u001b[0;34m[\u001b[0m\u001b[0mi\u001b[0m\u001b[0;34m]\u001b[0m\u001b[0;34m,\u001b[0m \u001b[0mself\u001b[0m\u001b[0;34m.\u001b[0m\u001b[0mbfs\u001b[0m\u001b[0;34m[\u001b[0m\u001b[0mj\u001b[0m\u001b[0;34m]\u001b[0m\u001b[0;34m)\u001b[0m\u001b[0;34m\u001b[0m\u001b[0m\n\u001b[0m\u001b[1;32m     56\u001b[0m \u001b[0;34m\u001b[0m\u001b[0m\n\u001b[1;32m     57\u001b[0m     \u001b[0;32mdef\u001b[0m \u001b[0mcompute_c\u001b[0m\u001b[0;34m(\u001b[0m\u001b[0mself\u001b[0m\u001b[0;34m)\u001b[0m\u001b[0;34m:\u001b[0m\u001b[0;34m\u001b[0m\u001b[0m\n",
        "\u001b[0;32m/Library/Python/2.7/site-packages/basis1d/tools.pyc\u001b[0m in \u001b[0;36mS\u001b[0;34m(a, b)\u001b[0m\n\u001b[1;32m      5\u001b[0m \u001b[0;32mdef\u001b[0m \u001b[0mS\u001b[0m\u001b[0;34m(\u001b[0m\u001b[0ma\u001b[0m\u001b[0;34m,\u001b[0m \u001b[0mb\u001b[0m\u001b[0;34m)\u001b[0m\u001b[0;34m:\u001b[0m\u001b[0;34m\u001b[0m\u001b[0m\n\u001b[1;32m      6\u001b[0m     \u001b[0;32mif\u001b[0m \u001b[0mb\u001b[0m\u001b[0;34m.\u001b[0m\u001b[0mcontracted\u001b[0m\u001b[0;34m:\u001b[0m\u001b[0;34m\u001b[0m\u001b[0m\n\u001b[0;32m----> 7\u001b[0;31m         \u001b[0;32mreturn\u001b[0m \u001b[0msum\u001b[0m\u001b[0;34m(\u001b[0m\u001b[0mcb\u001b[0m \u001b[0;34m*\u001b[0m \u001b[0mS\u001b[0m\u001b[0;34m(\u001b[0m\u001b[0mpb\u001b[0m\u001b[0;34m,\u001b[0m \u001b[0ma\u001b[0m\u001b[0;34m)\u001b[0m \u001b[0;32mfor\u001b[0m \u001b[0;34m(\u001b[0m\u001b[0mcb\u001b[0m\u001b[0;34m,\u001b[0m \u001b[0mpb\u001b[0m\u001b[0;34m)\u001b[0m \u001b[0;32min\u001b[0m \u001b[0mb\u001b[0m\u001b[0;34m)\u001b[0m\u001b[0;34m\u001b[0m\u001b[0m\n\u001b[0m\u001b[1;32m      8\u001b[0m     \u001b[0;32melif\u001b[0m \u001b[0ma\u001b[0m\u001b[0;34m.\u001b[0m\u001b[0mcontracted\u001b[0m\u001b[0;34m:\u001b[0m\u001b[0;34m\u001b[0m\u001b[0m\n\u001b[1;32m      9\u001b[0m         \u001b[0;32mreturn\u001b[0m \u001b[0msum\u001b[0m\u001b[0;34m(\u001b[0m\u001b[0mca\u001b[0m \u001b[0;34m*\u001b[0m \u001b[0mS\u001b[0m\u001b[0;34m(\u001b[0m\u001b[0mb\u001b[0m\u001b[0;34m,\u001b[0m \u001b[0mpa\u001b[0m\u001b[0;34m)\u001b[0m \u001b[0;32mfor\u001b[0m \u001b[0;34m(\u001b[0m\u001b[0mca\u001b[0m\u001b[0;34m,\u001b[0m \u001b[0mpa\u001b[0m\u001b[0;34m)\u001b[0m \u001b[0;32min\u001b[0m \u001b[0ma\u001b[0m\u001b[0;34m)\u001b[0m\u001b[0;34m\u001b[0m\u001b[0m\n",
        "\u001b[0;31mKeyboardInterrupt\u001b[0m: "
       ]
      }
     ],
     "prompt_number": 15
    },
    {
     "cell_type": "markdown",
     "metadata": {},
     "source": [
      "## if put 3 p shell"
     ]
    },
    {
     "cell_type": "code",
     "collapsed": false,
     "input": [
      "shell_data_p3 = fb.optimize_bf(Z=1, shell='p', alist=np.logspace(-1, 1, 10), \n",
      "               blist=np.linspace(0.3,0.6,10), Nn=3, kfold=10, doadd=False, showerr=True)"
     ],
     "language": "python",
     "metadata": {},
     "outputs": []
    },
    {
     "cell_type": "markdown",
     "metadata": {},
     "source": [
      "# i am a line"
     ]
    },
    {
     "cell_type": "code",
     "collapsed": false,
     "input": [
      "fb = findbasis(n_lib,dx,atom_x_lib,atoms_Z,basis_data)\n",
      "print fb.name\n",
      "print fb.basis_data\n",
      "minerr = []\n",
      "maxerr = []\n",
      "maeerr = []"
     ],
     "language": "python",
     "metadata": {},
     "outputs": [
      {
       "output_type": "stream",
       "stream": "stdout",
       "text": [
        "H2\n",
        "{1: [('s', [(2.0, 0.06462908245839719), (0.8, 0.4066825517248162), (0.32, 0.5468171685012185)])]}\n"
       ]
      }
     ],
     "prompt_number": 7
    },
    {
     "cell_type": "markdown",
     "metadata": {},
     "source": [
      "#show current basis data and fitting mean absolute error"
     ]
    },
    {
     "cell_type": "code",
     "collapsed": false,
     "input": [
      "show_err()"
     ],
     "language": "python",
     "metadata": {},
     "outputs": [
      {
       "output_type": "stream",
       "stream": "stdout",
       "text": [
        "\n",
        "=================\n",
        "current basis data:\n",
        "{1: [('s', [(2.0, 0.06462908245839719), (0.8, 0.4066825517248162), (0.32, 0.5468171685012185)])]}\n",
        "min=0.000009"
       ]
      },
      {
       "output_type": "stream",
       "stream": "stdout",
       "text": [
        "\n",
        "max=0.011529\n",
        "mae=0.003040\n"
       ]
      },
      {
       "metadata": {},
       "output_type": "display_data",
       "png": "[encoded data removed]",
       "text": [
        "<matplotlib.figure.Figure at 0x10b1eac50>"
       ]
      }
     ],
     "prompt_number": 8
    },
    {
     "cell_type": "markdown",
     "metadata": {},
     "source": [
      "#add two p orbitals "
     ]
    },
    {
     "cell_type": "code",
     "collapsed": false,
     "input": [
      "fb.optimize_bf(Z=1,shell='p',alist=np.logspace(-1,1,10),blist=np.linspace(0.3,0.6,10),Nn=2,kfold=10,doadd=True)\n",
      "show_err()"
     ],
     "language": "python",
     "metadata": {},
     "outputs": [
      {
       "output_type": "stream",
       "stream": "stdout",
       "text": [
        "optimize basis function with even-tempered method with 10-fold cross validation\n",
        "add to basis data: True\n",
        "atomic index: 1\n",
        "shell: p\n",
        "list of a: [  0.1          0.16681005   0.27825594   0.46415888   0.77426368\n",
        "   1.29154967   2.15443469   3.59381366   5.9948425   10.        ]\n",
        "list of b: [ 0.3         0.33333333  0.36666667  0.4         0.43333333  0.46666667\n",
        "  0.5         0.53333333  0.56666667  0.6       ]\n",
        "number of new basis: 2\n",
        "\n",
        "\tvalidation set: [15 73 72 28 13 49 20 84 11 45]"
       ]
      },
      {
       "output_type": "stream",
       "stream": "stdout",
       "text": [
        "\n",
        "\toptimized a=1.291550\tb=0.366667\n",
        "\texpn:[1.2915496650148841, 0.4735682105054575]\n",
        "\n",
        "\tvalidation set: [99 25 91  6 71 41 24  5 30 42]"
       ]
      },
      {
       "output_type": "stream",
       "stream": "stdout",
       "text": [
        "\n",
        "\toptimized a=1.291550\tb=0.433333\n",
        "\texpn:[1.2915496650148841, 0.55967152150644983]\n",
        "\n",
        "\tvalidation set: [93 36 59 52 19 62 50 26 82 23]"
       ]
      },
      {
       "output_type": "stream",
       "stream": "stdout",
       "text": [
        "\n",
        "\toptimized a=0.774264\tb=0.600000\n",
        "\texpn:[0.774263682681127, 0.46455820960867616]\n",
        "\n",
        "\tvalidation set: [74 98 27 97 12  3  4 33 38 92]"
       ]
      },
      {
       "output_type": "stream",
       "stream": "stdout",
       "text": [
        "\n",
        "\toptimized a=1.291550\tb=0.366667\n",
        "\texpn:[1.2915496650148841, 0.4735682105054575]\n",
        "\n",
        "\tvalidation set: [56 76 63 43 40  8 47 81  1 55]"
       ]
      },
      {
       "output_type": "stream",
       "stream": "stdout",
       "text": [
        "\n",
        "\toptimized a=1.291550\tb=0.333333\n",
        "\texpn:[1.2915496650148841, 0.43051655500496133]\n",
        "\n",
        "\tvalidation set: [22 31 66 78 65 39 17  0 21 53]"
       ]
      },
      {
       "output_type": "stream",
       "stream": "stdout",
       "text": [
        "\n",
        "\toptimized a=1.291550\tb=0.366667\n",
        "\texpn:[1.2915496650148841, 0.4735682105054575]\n",
        "\n",
        "\tvalidation set: [94 37 64 89 75 70 14 96 51 80]"
       ]
      },
      {
       "output_type": "stream",
       "stream": "stdout",
       "text": [
        "\n",
        "\toptimized a=0.774264\tb=0.466667\n",
        "\texpn:[0.774263682681127, 0.36132305191785929]\n",
        "\n",
        "\tvalidation set: [68 60 58  9 83 35 32 54 57 90]"
       ]
      },
      {
       "output_type": "stream",
       "stream": "stdout",
       "text": [
        "\n",
        "\toptimized a=1.291550\tb=0.366667\n",
        "\texpn:[1.2915496650148841, 0.4735682105054575]\n",
        "\n",
        "\tvalidation set: [10 46 86 79 48 67 88 16 95 77]"
       ]
      },
      {
       "output_type": "stream",
       "stream": "stdout",
       "text": [
        "\n",
        "\toptimized a=0.774264\tb=0.400000\n",
        "\texpn:[0.774263682681127, 0.30970547307245083]\n",
        "\n",
        "\tvalidation set: [85 61 29 87  7 69  2 34 18 44]"
       ]
      },
      {
       "output_type": "stream",
       "stream": "stdout",
       "text": [
        "\n",
        "\toptimized a=1.291550\tb=0.366667\n",
        "\texpn:[1.2915496650148841, 0.4735682105054575]\n",
        "\n",
        "from cross validation:\n",
        "optimized a=1.291550\tb=0.366667\n",
        "optimized new shell: [('p', [(1.2915496650148841, 1.0)]), ('p', [(0.4735682105054575, 1.0)])]\n",
        "\n",
        "=================\n",
        "current basis data:\n",
        "{1: [('s', [(2.0, 0.06462908245839719), (0.8, 0.4066825517248162), (0.32, 0.5468171685012185)]), ('p', [(1.2915496650148841, 1.0)]), ('p', [(0.4735682105054575, 1.0)])]}\n",
        "min=0.000005"
       ]
      },
      {
       "output_type": "stream",
       "stream": "stdout",
       "text": [
        "\n",
        "max=0.000717\n",
        "mae=0.000124\n"
       ]
      },
      {
       "metadata": {},
       "output_type": "display_data",
       "png": "[encoded data removed]",
       "text": [
        "<matplotlib.figure.Figure at 0x10b354b10>"
       ]
      }
     ],
     "prompt_number": 9
    },
    {
     "cell_type": "markdown",
     "metadata": {},
     "source": [
      "#add two d orbitals"
     ]
    },
    {
     "cell_type": "code",
     "collapsed": false,
     "input": [
      "fb.optimize_bf(Z=1,shell='d',alist=np.logspace(-1,1,10),blist=np.linspace(0.1,0.4,10),Nn=2,kfold=10,doadd=True)\n",
      "show_err()"
     ],
     "language": "python",
     "metadata": {},
     "outputs": [
      {
       "output_type": "stream",
       "stream": "stdout",
       "text": [
        "optimize basis function with even-tempered method with 10-fold cross validation\n",
        "add to basis data: True\n",
        "atomic index: 1\n",
        "shell: d\n",
        "list of a: [  0.1          0.16681005   0.27825594   0.46415888   0.77426368\n",
        "   1.29154967   2.15443469   3.59381366   5.9948425   10.        ]\n",
        "list of b: [ 0.1         0.13333333  0.16666667  0.2         0.23333333  0.26666667\n",
        "  0.3         0.33333333  0.36666667  0.4       ]\n",
        "number of new basis: 2\n",
        "\n",
        "\tvalidation set: [90 53 14 12 41 19 31 86 22 73]"
       ]
      },
      {
       "output_type": "stream",
       "stream": "stdout",
       "text": [
        "\n",
        "\toptimized a=3.593814\tb=0.166667\n",
        "\texpn:[3.5938136638046259, 0.59896894396743772]\n",
        "\n",
        "\tvalidation set: [82 46 54  8 83 44 56 75 74 87]"
       ]
      },
      {
       "output_type": "stream",
       "stream": "stdout",
       "text": [
        "\n",
        "\toptimized a=3.593814\tb=0.133333\n",
        "\texpn:[3.5938136638046259, 0.47917515517395021]\n",
        "\n",
        "\tvalidation set: [49 79 28 98 15 76 88 26 66 62]"
       ]
      },
      {
       "output_type": "stream",
       "stream": "stdout",
       "text": [
        "\n",
        "\toptimized a=3.593814\tb=0.166667\n",
        "\texpn:[3.5938136638046259, 0.59896894396743772]\n",
        "\n",
        "\tvalidation set: [59 36  2  0 61 52 93  9 97 27]"
       ]
      },
      {
       "output_type": "stream",
       "stream": "stdout",
       "text": [
        "\n",
        "\toptimized a=3.593814\tb=0.166667\n",
        "\texpn:[3.5938136638046259, 0.59896894396743772]\n",
        "\n",
        "\tvalidation set: [38 81 47 50 42  4 16 32 60 99]"
       ]
      },
      {
       "output_type": "stream",
       "stream": "stdout",
       "text": [
        "\n",
        "\toptimized a=3.593814\tb=0.133333\n",
        "\texpn:[3.5938136638046259, 0.47917515517395021]\n",
        "\n",
        "\tvalidation set: [67 94 77 34 80  1 21 58 85 89]"
       ]
      },
      {
       "output_type": "stream",
       "stream": "stdout",
       "text": [
        "\n",
        "\toptimized a=3.593814\tb=0.166667\n",
        "\texpn:[3.5938136638046259, 0.59896894396743772]\n",
        "\n",
        "\tvalidation set: [30 24 37 45  5 10 78 69 18 43]"
       ]
      },
      {
       "output_type": "stream",
       "stream": "stdout",
       "text": [
        "\n",
        "\toptimized a=3.593814\tb=0.166667\n",
        "\texpn:[3.5938136638046259, 0.59896894396743772]\n",
        "\n",
        "\tvalidation set: [95 65 70 96 39  7 33 48 17 20]"
       ]
      },
      {
       "output_type": "stream",
       "stream": "stdout",
       "text": [
        "\n",
        "\toptimized a=3.593814\tb=0.166667\n",
        "\texpn:[3.5938136638046259, 0.59896894396743772]\n",
        "\n",
        "\tvalidation set: [91 71 68 84 55  6 57 51 29 35]"
       ]
      },
      {
       "output_type": "stream",
       "stream": "stdout",
       "text": [
        "\n",
        "\toptimized a=3.593814\tb=0.166667\n",
        "\texpn:[3.5938136638046259, 0.59896894396743772]\n",
        "\n",
        "\tvalidation set: [63 40 64 23 72 25 11  3 13 92]"
       ]
      },
      {
       "output_type": "stream",
       "stream": "stdout",
       "text": [
        "\n",
        "\toptimized a=3.593814\tb=0.166667\n",
        "\texpn:[3.5938136638046259, 0.59896894396743772]\n",
        "\n",
        "from cross validation:\n",
        "optimized a=3.593814\tb=0.166667\n",
        "optimized new shell: [('d', [(3.5938136638046259, 1.0)]), ('d', [(0.59896894396743772, 1.0)])]\n",
        "\n",
        "=================\n",
        "current basis data:\n",
        "{1: [('s', [(2.0, 0.06462908245839719), (0.8, 0.4066825517248162), (0.32, 0.5468171685012185)]), ('p', [(1.2915496650148841, 1.0)]), ('p', [(0.4735682105054575, 1.0)]), ('d', [(3.5938136638046259, 1.0)]), ('d', [(0.59896894396743772, 1.0)])]}\n",
        "min=0.000000"
       ]
      },
      {
       "output_type": "stream",
       "stream": "stdout",
       "text": [
        "\n",
        "max=0.000010\n",
        "mae=0.000003\n"
       ]
      },
      {
       "metadata": {},
       "output_type": "display_data",
       "png": "[encoded data removed]",
       "text": [
        "<matplotlib.figure.Figure at 0x10b40a490>"
       ]
      }
     ],
     "prompt_number": 10
    },
    {
     "cell_type": "markdown",
     "metadata": {},
     "source": [
      "#add two f orbitals"
     ]
    },
    {
     "cell_type": "code",
     "collapsed": false,
     "input": [
      "fb.optimize_bf(Z=1,shell='f',alist=np.logspace(-1,1,10),blist=np.linspace(0.3,0.6,10),Nn=2,kfold=10,doadd=True)\n",
      "show_err()"
     ],
     "language": "python",
     "metadata": {},
     "outputs": [
      {
       "output_type": "stream",
       "stream": "stdout",
       "text": [
        "optimize basis function with even-tempered method with 10-fold cross validation\n",
        "add to basis data: True\n",
        "atomic index: 1\n",
        "shell: f\n",
        "list of a: [  0.1          0.16681005   0.27825594   0.46415888   0.77426368\n",
        "   1.29154967   2.15443469   3.59381366   5.9948425   10.        ]\n",
        "list of b: [ 0.3         0.33333333  0.36666667  0.4         0.43333333  0.46666667\n",
        "  0.5         0.53333333  0.56666667  0.6       ]\n",
        "number of new basis: 2\n",
        "\n",
        "\tvalidation set: [80 26 37 28 67 69 90 17 86 58]"
       ]
      },
      {
       "output_type": "stream",
       "stream": "stdout",
       "text": [
        "\n",
        "\toptimized a=0.464159\tb=0.566667\n",
        "\texpn:[0.46415888336127786, 0.26302336723805747]\n",
        "\n",
        "\tvalidation set: [25 75  1 66 61 33  8 13 21 98]"
       ]
      },
      {
       "output_type": "stream",
       "stream": "stdout",
       "text": [
        "\n",
        "\toptimized a=0.464159\tb=0.366667\n",
        "\texpn:[0.46415888336127786, 0.17019159056580188]\n",
        "\n",
        "\tvalidation set: [40 89 91  2 34 81 47 54 49 84]"
       ]
      },
      {
       "output_type": "stream",
       "stream": "stdout",
       "text": [
        "\n",
        "\toptimized a=0.464159\tb=0.533333\n",
        "\texpn:[0.46415888336127786, 0.2475514044593482]\n",
        "\n",
        "\tvalidation set: [14 97 52 42 76 32 93 51 39 11]"
       ]
      },
      {
       "output_type": "stream",
       "stream": "stdout",
       "text": [
        "\n",
        "\toptimized a=0.464159\tb=0.600000\n",
        "\texpn:[0.46415888336127786, 0.27849533001676668]\n",
        "\n",
        "\tvalidation set: [46 71  0 27 30 96 31 43  9 18]"
       ]
      },
      {
       "output_type": "stream",
       "stream": "stdout",
       "text": [
        "\n",
        "\toptimized a=0.464159\tb=0.533333\n",
        "\texpn:[0.46415888336127786, 0.2475514044593482]\n",
        "\n",
        "\tvalidation set: [ 7 72 23 48 99 19 62 57 22 36]"
       ]
      },
      {
       "output_type": "stream",
       "stream": "stdout",
       "text": [
        "\n",
        "\toptimized a=0.464159\tb=0.433333\n",
        "\texpn:[0.46415888336127786, 0.20113551612322042]\n",
        "\n",
        "\tvalidation set: [16 41 38 74  5 82  3 94 29 24]"
       ]
      },
      {
       "output_type": "stream",
       "stream": "stdout",
       "text": [
        "\n",
        "\toptimized a=0.464159\tb=0.600000\n",
        "\texpn:[0.46415888336127786, 0.27849533001676668]\n",
        "\n",
        "\tvalidation set: [95 92 15 44 59 63 65 88 12 68]"
       ]
      },
      {
       "output_type": "stream",
       "stream": "stdout",
       "text": [
        "\n",
        "\toptimized a=0.464159\tb=0.433333\n",
        "\texpn:[0.46415888336127786, 0.20113551612322042]\n",
        "\n",
        "\tvalidation set: [10 64  4 50 35 77 55 85 79 73]"
       ]
      },
      {
       "output_type": "stream",
       "stream": "stdout",
       "text": [
        "\n",
        "\toptimized a=0.464159\tb=0.400000\n",
        "\texpn:[0.46415888336127786, 0.18566355334451115]\n",
        "\n",
        "\tvalidation set: [53 45 83 70 78 60 87 20  6 56]"
       ]
      },
      {
       "output_type": "stream",
       "stream": "stdout",
       "text": [
        "\n",
        "\toptimized a=0.464159\tb=0.400000\n",
        "\texpn:[0.46415888336127786, 0.18566355334451115]\n",
        "\n",
        "from cross validation:\n",
        "optimized a=0.464159\tb=0.483333\n",
        "optimized new shell: [('f', [(0.46415888336127786, 1.0)]), ('f', [(0.2243434602912843, 1.0)])]\n",
        "\n",
        "=================\n",
        "current basis data:\n",
        "{1: [('s', [(2.0, 0.06462908245839719), (0.8, 0.4066825517248162), (0.32, 0.5468171685012185)]), ('p', [(1.2915496650148841, 1.0)]), ('p', [(0.4735682105054575, 1.0)]), ('d', [(3.5938136638046259, 1.0)]), ('d', [(0.59896894396743772, 1.0)]), ('f', [(0.46415888336127786, 1.0)]), ('f', [(0.2243434602912843, 1.0)])]}\n",
        "min=0.000000"
       ]
      },
      {
       "output_type": "stream",
       "stream": "stdout",
       "text": [
        "\n",
        "max=0.000004\n",
        "mae=0.000002\n"
       ]
      },
      {
       "metadata": {},
       "output_type": "display_data",
       "png": "[encoded data removed]",
       "text": [
        "<matplotlib.figure.Figure at 0x10b385050>"
       ]
      }
     ],
     "prompt_number": 11
    },
    {
     "cell_type": "markdown",
     "metadata": {},
     "source": [
      "#Plot the fitting error with more basis"
     ]
    },
    {
     "cell_type": "code",
     "collapsed": false,
     "input": [
      "plt.plot(np.log10(maxerr),'go-',label='max')\n",
      "plt.plot(np.log10(minerr),'ro-',label='min')\n",
      "plt.plot(np.log10(maeerr),'bo-',label='mae')\n",
      "plt.legend(loc=1)\n",
      "plt.title(fb.name)\n",
      "plt.show()"
     ],
     "language": "python",
     "metadata": {},
     "outputs": [
      {
       "metadata": {},
       "output_type": "display_data",
       "png": "[encoded data removed]",
       "text": [
        "<matplotlib.figure.Figure at 0x10b36da50>"
       ]
      }
     ],
     "prompt_number": 12
    },
    {
     "cell_type": "code",
     "collapsed": false,
     "input": [
      "fb.basis_data"
     ],
     "language": "python",
     "metadata": {},
     "outputs": [
      {
       "metadata": {},
       "output_type": "pyout",
       "prompt_number": 13,
       "text": [
        "{1: [('s',\n",
        "   [(2.0, 0.06462908245839719),\n",
        "    (0.8, 0.4066825517248162),\n",
        "    (0.32, 0.5468171685012185)]),\n",
        "  ('p', [(1.2915496650148841, 1.0)]),\n",
        "  ('p', [(0.4735682105054575, 1.0)]),\n",
        "  ('d', [(3.5938136638046259, 1.0)]),\n",
        "  ('d', [(0.59896894396743772, 1.0)]),\n",
        "  ('f', [(0.46415888336127786, 1.0)]),\n",
        "  ('f', [(0.2243434602912843, 1.0)])]}"
       ]
      }
     ],
     "prompt_number": 13
    },
    {
     "cell_type": "markdown",
     "metadata": {},
     "source": [
      "#You can output it to a .py file"
     ]
    },
    {
     "cell_type": "code",
     "collapsed": false,
     "input": [
      "fb.output(fobj=open('dens_dict.py','w'))"
     ],
     "language": "python",
     "metadata": {},
     "outputs": [],
     "prompt_number": 15
    },
    {
     "cell_type": "markdown",
     "metadata": {},
     "source": [
      "#You can also plot the 30th density"
     ]
    },
    {
     "cell_type": "code",
     "collapsed": false,
     "input": [
      "fb.show_density([fb.n_lib[30],fb.fit_density(30)[1]],True,['exact','fitting'])"
     ],
     "language": "python",
     "metadata": {},
     "outputs": [
      {
       "metadata": {},
       "output_type": "display_data",
       "png": "[encoded data removed]",
       "text": [
        "<matplotlib.figure.Figure at 0x10b361150>"
       ]
      }
     ],
     "prompt_number": 14
    },
    {
     "cell_type": "code",
     "collapsed": false,
     "input": [],
     "language": "python",
     "metadata": {},
     "outputs": [],
     "prompt_number": 14
    }
   ],
   "metadata": {}
  }
 ]
}